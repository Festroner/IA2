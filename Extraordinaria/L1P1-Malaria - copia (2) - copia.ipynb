{
 "metadata": {
  "language_info": {
   "codemirror_mode": {
    "name": "ipython",
    "version": 3
   },
   "file_extension": ".py",
   "mimetype": "text/x-python",
   "name": "python",
   "nbconvert_exporter": "python",
   "pygments_lexer": "ipython3",
   "version": "3.8.5"
  },
  "orig_nbformat": 2,
  "kernelspec": {
   "name": "python3",
   "display_name": "Python 3.8.5 64-bit ('base': conda)"
  },
  "interpreter": {
   "hash": "bf08d5b11cafca2389f2905eb9ec8f2b4c0813376260f0cf76d5bcecc16af807"
  }
 },
 "nbformat": 4,
 "nbformat_minor": 2,
 "cells": [
  {
   "cell_type": "code",
   "execution_count": 2,
   "metadata": {},
   "outputs": [],
   "source": [
    "import numpy as np\n",
    "import pandas as pd\n",
    "import math\n",
    "from matplotlib import pyplot as plt\n",
    "from matplotlib import patches as patches\n",
    "from tensorflow.keras.preprocessing import image_dataset_from_directory#,image\n",
    "from sklearn.model_selection import train_test_split\n",
    "import glob\n",
    "import cv2 as cv\n"
   ]
  },
  {
   "source": [
    "## Declaración de variables"
   ],
   "cell_type": "markdown",
   "metadata": {}
  },
  {
   "cell_type": "code",
   "execution_count": 3,
   "metadata": {},
   "outputs": [],
   "source": [
    "lado_mapa = 5\n",
    "periodo = 3000\n",
    "learning_rate = 0.0015\n",
    "\n",
    "num_entradas = 1\n",
    "num_datos = 100\n",
    "dimensiones=[130,130]\n",
    "\n",
    "# Calcula el vecindario inicial. Debe ser la mitad del lado del mapa de Kohonen\n",
    "vecindario = lado_mapa/2\n",
    "\n",
    "\n",
    "matriz_pesos = np.random.random((lado_mapa,lado_mapa,dimensiones[0],dimensiones[1]))"
   ]
  },
  {
   "source": [
    "## Obtención y procesamiento de las imagenes"
   ],
   "cell_type": "markdown",
   "metadata": {}
  },
  {
   "cell_type": "code",
   "execution_count": 4,
   "metadata": {},
   "outputs": [],
   "source": [
    "\n",
    "image_list = []#array que contendrá todas las imagenes\n",
    "\n",
    "#obtenemos las parasitadas\n",
    "for filename in glob.glob('cell_images\\cell_images\\Parasitized\\*.png'): #obtenemos los nombres de todas las imagenes \n",
    "    im=cv.imread(filename, cv.IMREAD_UNCHANGED)/255\n",
    "    im=cv.resize(im,dimensiones,interpolation=cv.INTER_AREA)\n",
    "    image_list.append(im)\n",
    "#obtenemos las no infectadas\n",
    "for filename in glob.glob(r'cell_images\\cell_images\\Uninfected\\*.png'): #obtenemos los nombres de todas las imagenes\n",
    "    im=cv.imread(filename, cv.IMREAD_UNCHANGED)/255\n",
    "    im=cv.resize(im,dimensiones,interpolation=cv.INTER_AREA)\n",
    "    image_list.append(im)\n",
    "\n"
   ]
  },
  {
   "cell_type": "code",
   "execution_count": 5,
   "metadata": {
    "tags": []
   },
   "outputs": [
    {
     "output_type": "stream",
     "name": "stdout",
     "text": [
      "19290 8268\n"
     ]
    }
   ],
   "source": [
    "\n",
    "#utilizaremos esta funcion para mezclar los valores de la lista de imagenes y asi no estén juntas por la clase a la que pertenecen\n",
    "def mezclar_lista(lista_original):\n",
    "    lista = lista_original[:]\n",
    "    longitud_lista = len(lista)\n",
    "\n",
    "    for i in range(longitud_lista):\n",
    "        aleatorio = np.random.randint(0, longitud_lista - 1)\n",
    "        # Intercambiar\n",
    "        aux = lista[i]\n",
    "        lista[i] = lista[aleatorio]\n",
    "        lista[aleatorio] = aux\n",
    "    # Regresarla\n",
    "    return lista\n",
    "\n",
    "\n",
    "lista=np.array(mezclar_lista(image_list))\n",
    "#dividimos en 2 el dataset para valores de entrenamiento y valores de clasificación\n",
    "x_train, x_resto= train_test_split(lista, test_size=0.3, shuffle=True)\n",
    "\n",
    "print(len(x_train), len(x_resto))"
   ]
  },
  {
   "cell_type": "code",
   "execution_count": 25,
   "metadata": {},
   "outputs": [],
   "source": [
    "lado_mapa = 5\n",
    "periodo = 1000\n",
    "learning_rate = 0.1\n",
    "\n",
    "matriz_pesos = np.random.random((lado_mapa,lado_mapa,dimensiones[0],dimensiones[1],3))"
   ]
  },
  {
   "source": [
    "## Definicion de funciones"
   ],
   "cell_type": "markdown",
   "metadata": {}
  },
  {
   "cell_type": "code",
   "execution_count": 26,
   "metadata": {},
   "outputs": [],
   "source": [
    "#93.39152381238563\n",
    "#Función para calcular la distancia euclidea\n",
    "def distancia(patron, peso):\n",
    "    #distancia=0\n",
    "    #comp=0\n",
    "    #peso=peso.flatten()\n",
    "    #\n",
    "    #for i in range(patron.shape[0]):\n",
    "    #    #for j in range(patron.shape[1]):\n",
    "    #        #for k in range(patron.shape[2]):\n",
    "    #    comp+=(peso[i]-patron[i])**2\n",
    "    #    #print(i)\n",
    "    #distancia=(comp)**0.5\n",
    "    a=np.square(np.subtract(patron,peso))\n",
    "    b=np.sum(a)\n",
    "    distancia=np.sqrt(b)\n",
    "    return distancia\n",
    "\n",
    "# Función para encontrar la BMU\n",
    "\"\"\"\n",
    "   Encuentra la BMU para un patrón de entrada.\n",
    "   Entradas: (patrón_de_entrada, matriz_de_pesos, número_de_entradas)\n",
    "   Salidas:  (bmu, bmu_idx) tupla donde\n",
    "               bmu: vector de pesos de la neurona ganadora\n",
    "               bum_idx: coordenadas de la neurona ganadora\n",
    "\"\"\"\n",
    "def calcular_bmu(patron_entrada, m_pesos, m):\n",
    "    MenorDist=0\n",
    "    MejorVector=[]\n",
    "    a=[]\n",
    "    Resultado=0\n",
    "    idx=[]\n",
    "    b=0\n",
    "    \n",
    "    for i in range(m):\n",
    "        for j in range(m):\n",
    "            #print(b)\n",
    "            a=m_pesos[i][j]\n",
    "            Resultado=distancia(patron_entrada, a)#distancia euclidea\n",
    "            #print(\"Neurona: \", Resultado)\n",
    "            if i == 0 and j==0 :#salvamos la primera iteracion\n",
    "                MenorDist=Resultado\n",
    "                MejorVector=m_pesos[i][j]\n",
    "                idx=[i,j]\n",
    "            else:\n",
    "                #si encuentra una distancia euclidea menor cambiamos\n",
    "                if MenorDist>Resultado:\n",
    "                    #print(m_pesos[i][j])\n",
    "                    MenorDist=Resultado\n",
    "                    MejorVector=m_pesos[i][j]\n",
    "                    idx=[i,j]\n",
    "            b+=1        \n",
    " \n",
    "    return MejorVector,idx\n",
    "\n",
    "\n",
    "\n",
    "# Función para calcular el descenso del coeficiente de aprendizaje (eta)\n",
    "\"\"\"\n",
    "   Calcula el Learning Rate (eta) que corresponde a la i-ésima presentación.\n",
    "   Entradas: (learning_rate_inicial, iteracion, período)\n",
    "   Salidas:  learning_rate para la iteración i\n",
    "\n",
    "\"\"\"\n",
    "def variacion_learning_rate(lr_inicial, i, n_iteraciones):\n",
    "    \n",
    "    #lr_final = lr_inicial * (1 - i/n_iteraciones) \n",
    "    learning_rate = lr_inicial + (-lr_inicial/n_iteraciones)*i\n",
    "    return learning_rate\n",
    "\n",
    "#función para ajustar los pesos durante el entrenamiento\n",
    "def ajuste_Pesos(i,j,pesos):\n",
    "    total=0\n",
    "    for a in range(dimensiones[0]):\n",
    "        #for b in range(dimensiones[1]):\n",
    "        total+=pesos[i][j][a]**2\n",
    "    return (total)**0.5\n",
    "\n",
    "\n",
    "# Función para calcular el descenso del vecindario (v)\n",
    "\"\"\"\n",
    "   Calcula el vecindario  (v) que corresponde a la i-ésima presentación.\n",
    "   Entradas: (vecindario_inicial, iteracion, período)\n",
    "   Salidas:  lvecindario para la iteración i\n",
    "\n",
    "\"\"\"\n",
    "def variacion_vecindario(vecindario_inicial, i, n_iteraciones):\n",
    "    \n",
    "    vecindario_i = 1 + vecindario_inicial * (1 - i/n_iteraciones)\n",
    "    return vecindario_i\n",
    "\n",
    "# Función para calcular el descenso del coeficiente de aprendizaje (eta) en función de la distancia a la BMU\n",
    "\"\"\"\n",
    "   Calcula la amortiguación de eta en función de la distancia en el mapa entre una neurona y la BMU.\n",
    "   Entradas: (distancia_BMU, vecindario_actual)\n",
    "   Salidas:  amortiguación para la iteración\n",
    "\n",
    "\"\"\"\n",
    "def decay(distancia_BMU, vecindario_actual):\n",
    "    return np.exp(-distancia_BMU**2 / (2*vecindario_actual**2))"
   ]
  },
  {
   "cell_type": "code",
   "execution_count": 27,
   "metadata": {},
   "outputs": [
    {
     "output_type": "execute_result",
     "data": {
      "text/plain": [
       "(130, 130, 3)"
      ]
     },
     "metadata": {},
     "execution_count": 27
    }
   ],
   "source": [
    "x_train[5].shape"
   ]
  },
  {
   "source": [
    "## Entrenamiento"
   ],
   "cell_type": "markdown",
   "metadata": {}
  },
  {
   "cell_type": "code",
   "execution_count": 17,
   "metadata": {},
   "outputs": [
    {
     "output_type": "stream",
     "name": "stdout",
     "text": [
      "Vuelta nº:  0\n",
      "Vuelta nº:  100\n",
      "Vuelta nº:  200\n",
      "Vuelta nº:  300\n",
      "Vuelta nº:  400\n",
      "Vuelta nº:  500\n",
      "Vuelta nº:  600\n",
      "Vuelta nº:  700\n",
      "Vuelta nº:  800\n",
      "Vuelta nº:  900\n",
      "Vuelta nº:  1000\n",
      "Vuelta nº:  1100\n",
      "Vuelta nº:  1200\n",
      "Vuelta nº:  1300\n",
      "Vuelta nº:  1400\n",
      "Vuelta nº:  1500\n",
      "Vuelta nº:  1600\n",
      "Vuelta nº:  1700\n",
      "Vuelta nº:  1800\n",
      "Vuelta nº:  1900\n",
      "Vuelta nº:  2000\n",
      "Vuelta nº:  2100\n",
      "Vuelta nº:  2200\n",
      "Vuelta nº:  2300\n",
      "Vuelta nº:  2400\n",
      "Vuelta nº:  2500\n",
      "Vuelta nº:  2600\n",
      "Vuelta nº:  2700\n",
      "Vuelta nº:  2800\n",
      "Vuelta nº:  2900\n"
     ]
    }
   ],
   "source": [
    "# Entrena la red con el dataset de entrenamiento\n",
    "\n",
    "for i in range(periodo):\n",
    "    azar=np.random.randint(0, len(x_train)) \n",
    "    patron=x_train[azar]#patron al azar\n",
    "    #patron=np.reshape(patron,(dimensiones[0],dimensiones[1]))\n",
    "    BMU, coordenadas = calcular_bmu(patron, matriz_pesos, lado_mapa)#encontramos la bmu y sus coordenadas\n",
    "    eta=variacion_learning_rate(learning_rate, i+1, periodo)#calculamos eta\n",
    "    v=variacion_vecindario(vecindario, i+1, periodo)#calculamos el vecindario\n",
    "    \n",
    "    #comprobamos cuales son las neuronas del vecindario de la BMU y les aplicamos el aprendizaje que les corresponde\n",
    "    for w in range(len(matriz_pesos)):\n",
    "        for j in range(len(matriz_pesos)):\n",
    "            deu= ((w-coordenadas[0])**2 + (j-coordenadas[1])**2 )**0.5 #calculamos la distancia del peso a la BMU\n",
    "            \n",
    "            if deu <= v :\n",
    "                amortiguacion= decay(deu, v) #calculamos la amortiguacion\n",
    "                matriz_pesos[w][j]= matriz_pesos[w][j]/ajuste_Pesos(w,j,matriz_pesos)#ajustamos el peso\n",
    "                matriz_pesos[w][j]= matriz_pesos[w][j] + eta*amortiguacion*(patron-matriz_pesos[w][j]) #aplicamos aprendizaje\n",
    "    if i%100==0:\n",
    "        print(\"Vuelta nº: \", i)"
   ]
  },
  {
   "cell_type": "code",
   "execution_count": 18,
   "metadata": {},
   "outputs": [],
   "source": [
    "#Función para calcular la distancia euclidea\n",
    "\n",
    "#Funcion para calcular el error de cuantificacion aplicando su formula\n",
    "def errorCuantificacion(dis):\n",
    "    contador = 0\n",
    "    error_cuantificacion = 0\n",
    "    \n",
    "    for j in range(dis.shape[0]):\n",
    "        for k in range(dis.shape[1]):\n",
    "            if dis[j][k] != 0:\n",
    "                contador+=1\n",
    "                error_cuantificacion += dis[j][k]\n",
    "                \n",
    "    error_cuantificacion = error_cuantificacion / contador\n",
    "    return error_cuantificacion\n",
    "\n",
    "\n",
    "#Funcion para calcular el error topológico aplicando su formula\n",
    "def errorTopologico(bmu1, bmu2):\n",
    "    if ((bmu2[0] == bmu1[0] + 1 or bmu2[0] == bmu1[0] - 1) and bmu2[1] == bmu1[1]) or (bmu2[0] == bmu1[0] and (bmu2[1] == bmu1[1] + 1 or bmu2[1] == bmu1[1] - 1)) or ((bmu2[0] == bmu1[0] - 1) and (bmu2[1] == bmu1[1] + 1 or bmu2[1] == bmu1[1] - 1)) or ((bmu2[0] == bmu1[0] + 1) and (bmu2[1] == bmu1[1] + 1 or bmu2[1] == bmu1[1] - 1)):\n",
    "        v = 0\n",
    "    else:\n",
    "        v = 1\n",
    "    return v\n",
    "\n",
    "#Calcular la segunda BMU\n",
    "def calcular2bmu(patron_entrada, m_pesos, m):\n",
    "    MenorDist = 999999\n",
    "    MenorDist2 = 999999\n",
    "    MejorVector  =  [0,0,0]\n",
    "    MejorVector2  =  [0,0,0]\n",
    "    a=[]\n",
    "    Resultado = 0\n",
    "    idx=[]\n",
    "    idx2=[]\n",
    "    \n",
    "    for i in range(len(m_pesos[0])):\n",
    "        for j in range(len(m_pesos[1])):\n",
    "            a = m_pesos[i][j]\n",
    "            Resultado = distancia(patron_entrada,a)\n",
    "            #print(i,j)\n",
    "            if Resultado< MenorDist:\n",
    "                #cambiamos la antigua mejor a la segunda mejor\n",
    "                MenorDist2=MenorDist\n",
    "                MejorVector2 = MejorVector\n",
    "                idx2 = idx\n",
    "                \n",
    "                #actualizamos la mejor\n",
    "                MenorDist=Resultado\n",
    "                MejorVector = m_pesos[i][j]\n",
    "                idx = [i,j]\n",
    "                #print(idx,idx2)\n",
    "                #print(MenorDist, MenorDist2)\n",
    "            elif Resultado<MenorDist2:\n",
    "                MenorDist2=Resultado\n",
    "                MejorVector2 = m_pesos[i][j]\n",
    "                idx2 = [i,j]\n",
    "\n",
    "     \n",
    "\n",
    "\n",
    "    return MejorVector,idx,MejorVector2, idx2\n",
    "\n"
   ]
  },
  {
   "cell_type": "code",
   "execution_count": 19,
   "metadata": {},
   "outputs": [],
   "source": [
    "def error_top(bmu1,bmu2):\n",
    "    v=0\n",
    "    d=((bmu1[0]-bmu2[0])**2+(bmu1[1]-bmu2[1])**2)**0.5\n",
    "    \n",
    "    if d>2**0.5:\n",
    "        v=1\n",
    "    else:\n",
    "        v=0\n",
    "    return v\n",
    "\n"
   ]
  },
  {
   "cell_type": "code",
   "execution_count": 20,
   "metadata": {},
   "outputs": [
    {
     "output_type": "execute_result",
     "data": {
      "text/plain": [
       "8268"
      ]
     },
     "metadata": {},
     "execution_count": 20
    }
   ],
   "source": [
    "len(x_resto)"
   ]
  },
  {
   "cell_type": "code",
   "execution_count": 21,
   "metadata": {
    "tags": []
   },
   "outputs": [
    {
     "output_type": "stream",
     "name": "stdout",
     "text": [
      "Vueltas: 0\n",
      "Vueltas: 100\n",
      "Vueltas: 200\n",
      "Vueltas: 300\n",
      "Vueltas: 400\n",
      "Vueltas: 500\n",
      "Vueltas: 600\n",
      "Vueltas: 700\n",
      "Vueltas: 800\n",
      "Vueltas: 900\n",
      "Vueltas: 1000\n",
      "Vueltas: 1100\n",
      "Vueltas: 1200\n",
      "Vueltas: 1300\n",
      "Vueltas: 1400\n",
      "Vueltas: 1500\n",
      "Vueltas: 1600\n",
      "Vueltas: 1700\n",
      "Vueltas: 1800\n",
      "Vueltas: 1900\n",
      "Vueltas: 2000\n",
      "Mapa Distancias: \n",
      " [[102.79417581 102.55069466  99.01298597 109.54469528 110.62005704]\n",
      " [105.98511657 100.77746086 106.40427137 106.8229184  110.40001313]\n",
      " [108.94586648 108.25613723 110.67756293 109.68829907 106.0955815 ]\n",
      " [107.41275645 103.87085477 109.54909343 107.74176206 110.26297768]\n",
      " [104.82211145 103.97630835 110.2857556  109.51798672 106.87200682]]\n",
      "Mapa Activaciones: \n",
      " [[112.   5.   3.  41. 111.]\n",
      " [ 10.  29.  40. 100.  27.]\n",
      " [147.  32.  82.  27. 234.]\n",
      " [ 69. 147.  30. 136.  36.]\n",
      " [111.  11. 359.   7. 161.]]\n",
      "Clases: 25\n",
      "Error Topologico: 0.12058538945331398\n",
      "Error cuantificacion: 106.91549798502612\n",
      "5\n",
      "3000\n",
      "0.2\n"
     ]
    }
   ],
   "source": [
    "#Clasificacion los datos\n",
    "clasificacion = np.zeros((lado_mapa, lado_mapa, dimensiones[0],dimensiones[1],3))\n",
    "activacion = np.zeros((lado_mapa, lado_mapa))\n",
    "distancias = np.zeros((lado_mapa, lado_mapa))\n",
    "suma = 0\n",
    "clase = 0\n",
    "eTopo = 0\n",
    "\n",
    "\n",
    "#### --------------------   QUITAR EL PARTIDO 10 ------------------------------- #######################\n",
    "\n",
    "for i in range(round(len(x_resto)/4)):\n",
    "    patron=x_resto[i]#patron al azar\n",
    "    #patron=np.reshape(patron,(dimensiones[0],dimensiones[1]))\n",
    "    \n",
    "    #BMU, coor = calcular_bmu(patron, matriz_pesos, lado_mapa) #BMU\n",
    "    BMU, coor, BMU2, coor2 = calcular2bmu(patron, matriz_pesos, lado_mapa) #BMU2\n",
    "    \n",
    "    clasificacion[coor[0]][coor[1]] = x_resto[i]#asignamos el ultimo patron reconocido por la neurona\n",
    "    activacion[coor[0]][coor[1]] += 1 #sumamos uno en la neurona activado\n",
    "    distancias[coor[0]][coor[1]] = distancias[coor[0]][coor[1]] + distancia(patron, BMU) #distancia media \n",
    "    eTopo += error_top(coor, coor2) # sumamos el error topologico\n",
    "    if i%100==0:\n",
    "        print(\"Vueltas:\", i)\n",
    "    #Calculamos el numero de la clases y guardamos la distancia media de las neuronas asociadas\n",
    "for g in range(activacion.shape[0]): \n",
    "    for t in range(activacion.shape[1]):\n",
    "        if  activacion[g][t] > 0:\n",
    "            clase+=1\n",
    "            distancias[g][t]=distancias[g][t]/activacion[g][t] \n",
    "      \n",
    "            \n",
    "nclases = clase\n",
    "mapa_activaciones = activacion\n",
    "mapa_distancia = distancias\n",
    "eCuanti = errorCuantificacion(distancias)\n",
    "eTopo = eTopo/len(x_resto)\n",
    "\n"
   ]
  },
  {
   "cell_type": "code",
   "execution_count": 24,
   "metadata": {},
   "outputs": [
    {
     "output_type": "stream",
     "name": "stdout",
     "text": [
      "Mapa Distancias: \n [[102.79417581 102.55069466  99.01298597 109.54469528 110.62005704]\n [105.98511657 100.77746086 106.40427137 106.8229184  110.40001313]\n [108.94586648 108.25613723 110.67756293 109.68829907 106.0955815 ]\n [107.41275645 103.87085477 109.54909343 107.74176206 110.26297768]\n [104.82211145 103.97630835 110.2857556  109.51798672 106.87200682]]\n\nMapa Activaciones: \n [[112.   5.   3.  41. 111.]\n [ 10.  29.  40. 100.  27.]\n [147.  32.  82.  27. 234.]\n [ 69. 147.  30. 136.  36.]\n [111.  11. 359.   7. 161.]]\n\nClases: 25\nError Topologico: 0.12058538945331398\nError cuantificacion: 106.91549798502612\n\n 5\n3000\n0.2\n"
     ]
    }
   ],
   "source": [
    "print(\"Mapa Distancias: \\n\", mapa_distancia)\n",
    "print(\"\\nMapa Activaciones: \\n\", mapa_activaciones)\n",
    "print(\"\\nClases:\", clase)\n",
    "print(\"Error Topologico:\", eTopo)\n",
    "print(\"Error cuantificacion:\", eCuanti)\n",
    "\n",
    "\n",
    "print(\"\\n\",lado_mapa)\n",
    "print(periodo)\n",
    "print(learning_rate)"
   ]
  },
  {
   "cell_type": "code",
   "execution_count": 22,
   "metadata": {},
   "outputs": [
    {
     "output_type": "display_data",
     "data": {
      "text/plain": "<Figure size 432x288 with 1 Axes>",
      "image/svg+xml": "<?xml version=\"1.0\" encoding=\"utf-8\" standalone=\"no\"?>\r\n<!DOCTYPE svg PUBLIC \"-//W3C//DTD SVG 1.1//EN\"\r\n  \"http://www.w3.org/Graphics/SVG/1.1/DTD/svg11.dtd\">\r\n<!-- Created with matplotlib (https://matplotlib.org/) -->\r\n<svg height=\"237.628099pt\" version=\"1.1\" viewBox=\"0 0 249.632161 237.628099\" width=\"249.632161pt\" xmlns=\"http://www.w3.org/2000/svg\" xmlns:xlink=\"http://www.w3.org/1999/xlink\">\r\n <metadata>\r\n  <rdf:RDF xmlns:cc=\"http://creativecommons.org/ns#\" xmlns:dc=\"http://purl.org/dc/elements/1.1/\" xmlns:rdf=\"http://www.w3.org/1999/02/22-rdf-syntax-ns#\">\r\n   <cc:Work>\r\n    <dc:type rdf:resource=\"http://purl.org/dc/dcmitype/StillImage\"/>\r\n    <dc:date>2021-06-14T21:00:54.860821</dc:date>\r\n    <dc:format>image/svg+xml</dc:format>\r\n    <dc:creator>\r\n     <cc:Agent>\r\n      <dc:title>Matplotlib v3.3.2, https://matplotlib.org/</dc:title>\r\n     </cc:Agent>\r\n    </dc:creator>\r\n   </cc:Work>\r\n  </rdf:RDF>\r\n </metadata>\r\n <defs>\r\n  <style type=\"text/css\">*{stroke-linecap:butt;stroke-linejoin:round;}</style>\r\n </defs>\r\n <g id=\"figure_1\">\r\n  <g id=\"patch_1\">\r\n   <path d=\"M 0 237.628099 \r\nL 249.632161 237.628099 \r\nL 249.632161 0 \r\nL 0 0 \r\nz\r\n\" style=\"fill:none;\"/>\r\n  </g>\r\n  <g id=\"patch_2\">\r\n   <path d=\"M 7.2 224.64 \r\nL 224.64 224.64 \r\nL 224.64 7.2 \r\nL 7.2 7.2 \r\nz\r\n\" style=\"fill:#ffffff;\"/>\r\n  </g>\r\n  <g id=\"pane3d_1\">\r\n   <g id=\"patch_3\">\r\n    <path d=\"M 23.61822 171.026264 \r\nL 95.424009 110.837228 \r\nL 94.42584 24.033878 \r\nL 19.183773 78.942111 \r\n\" style=\"fill:#f2f2f2;opacity:0.5;stroke:#f2f2f2;stroke-linejoin:miter;\"/>\r\n   </g>\r\n  </g>\r\n  <g id=\"pane3d_2\">\r\n   <g id=\"patch_4\">\r\n    <path d=\"M 95.424009 110.837228 \r\nL 210.64668 144.32791 \r\nL 214.758571 54.534718 \r\nL 94.42584 24.033878 \r\n\" style=\"fill:#e6e6e6;opacity:0.5;stroke:#e6e6e6;stroke-linejoin:miter;\"/>\r\n   </g>\r\n  </g>\r\n  <g id=\"pane3d_3\">\r\n   <g id=\"patch_5\">\r\n    <path d=\"M 23.61822 171.026264 \r\nL 145.759879 210.91773 \r\nL 210.64668 144.32791 \r\nL 95.424009 110.837228 \r\n\" style=\"fill:#ececec;opacity:0.5;stroke:#ececec;stroke-linejoin:miter;\"/>\r\n   </g>\r\n  </g>\r\n  <g id=\"axis3d_1\">\r\n   <g id=\"line2d_1\">\r\n    <path d=\"M 23.61822 171.026264 \r\nL 145.759879 210.91773 \r\n\" style=\"fill:none;stroke:#000000;stroke-linecap:square;stroke-width:0.8;\"/>\r\n   </g>\r\n   <g id=\"Line3DCollection_1\">\r\n    <path d=\"M 31.015759 173.442301 \r\nL 102.431499 112.874029 \r\nL 101.729612 25.885171 \r\n\" style=\"fill:none;stroke:#b0b0b0;stroke-width:0.8;\"/>\r\n    <path d=\"M 53.862959 180.904196 \r\nL 124.050349 119.157775 \r\nL 124.274334 31.599601 \r\n\" style=\"fill:none;stroke:#b0b0b0;stroke-width:0.8;\"/>\r\n    <path d=\"M 77.176223 188.518308 \r\nL 146.073387 125.559003 \r\nL 147.258917 37.425523 \r\n\" style=\"fill:none;stroke:#b0b0b0;stroke-width:0.8;\"/>\r\n    <path d=\"M 100.969959 196.289342 \r\nL 168.512056 132.081038 \r\nL 170.696359 43.366231 \r\n\" style=\"fill:none;stroke:#b0b0b0;stroke-width:0.8;\"/>\r\n    <path d=\"M 125.259175 204.2222 \r\nL 191.378233 138.727333 \r\nL 194.600178 49.425152 \r\n\" style=\"fill:none;stroke:#b0b0b0;stroke-width:0.8;\"/>\r\n   </g>\r\n   <g id=\"xtick_1\">\r\n    <g id=\"line2d_2\">\r\n     <path d=\"M 31.637644 172.914876 \r\nL 29.769322 174.499414 \r\n\" style=\"fill:none;stroke:#000000;stroke-linecap:square;stroke-width:0.8;\"/>\r\n    </g>\r\n    <g id=\"text_1\">\r\n     <!-- 0 -->\r\n     <g transform=\"translate(20.29919 196.764533)scale(0.1 -0.1)\">\r\n      <defs>\r\n       <path d=\"M 31.78125 66.40625 \r\nQ 24.171875 66.40625 20.328125 58.90625 \r\nQ 16.5 51.421875 16.5 36.375 \r\nQ 16.5 21.390625 20.328125 13.890625 \r\nQ 24.171875 6.390625 31.78125 6.390625 \r\nQ 39.453125 6.390625 43.28125 13.890625 \r\nQ 47.125 21.390625 47.125 36.375 \r\nQ 47.125 51.421875 43.28125 58.90625 \r\nQ 39.453125 66.40625 31.78125 66.40625 \r\nz\r\nM 31.78125 74.21875 \r\nQ 44.046875 74.21875 50.515625 64.515625 \r\nQ 56.984375 54.828125 56.984375 36.375 \r\nQ 56.984375 17.96875 50.515625 8.265625 \r\nQ 44.046875 -1.421875 31.78125 -1.421875 \r\nQ 19.53125 -1.421875 13.0625 8.265625 \r\nQ 6.59375 17.96875 6.59375 36.375 \r\nQ 6.59375 54.828125 13.0625 64.515625 \r\nQ 19.53125 74.21875 31.78125 74.21875 \r\nz\r\n\" id=\"DejaVuSans-48\"/>\r\n      </defs>\r\n      <use xlink:href=\"#DejaVuSans-48\"/>\r\n     </g>\r\n    </g>\r\n   </g>\r\n   <g id=\"xtick_2\">\r\n    <g id=\"line2d_3\">\r\n     <path d=\"M 54.474649 180.366071 \r\nL 52.63693 181.98278 \r\n\" style=\"fill:none;stroke:#000000;stroke-linecap:square;stroke-width:0.8;\"/>\r\n    </g>\r\n    <g id=\"text_2\">\r\n     <!-- 1 -->\r\n     <g transform=\"translate(43.17504 204.420235)scale(0.1 -0.1)\">\r\n      <defs>\r\n       <path d=\"M 12.40625 8.296875 \r\nL 28.515625 8.296875 \r\nL 28.515625 63.921875 \r\nL 10.984375 60.40625 \r\nL 10.984375 69.390625 \r\nL 28.421875 72.90625 \r\nL 38.28125 72.90625 \r\nL 38.28125 8.296875 \r\nL 54.390625 8.296875 \r\nL 54.390625 0 \r\nL 12.40625 0 \r\nz\r\n\" id=\"DejaVuSans-49\"/>\r\n      </defs>\r\n      <use xlink:href=\"#DejaVuSans-49\"/>\r\n     </g>\r\n    </g>\r\n   </g>\r\n   <g id=\"xtick_3\">\r\n    <g id=\"line2d_4\">\r\n     <path d=\"M 77.77717 187.969154 \r\nL 75.971698 189.619022 \r\n\" style=\"fill:none;stroke:#000000;stroke-linecap:square;stroke-width:0.8;\"/>\r\n    </g>\r\n    <g id=\"text_3\">\r\n     <!-- 2 -->\r\n     <g transform=\"translate(66.519707 212.232833)scale(0.1 -0.1)\">\r\n      <defs>\r\n       <path d=\"M 19.1875 8.296875 \r\nL 53.609375 8.296875 \r\nL 53.609375 0 \r\nL 7.328125 0 \r\nL 7.328125 8.296875 \r\nQ 12.9375 14.109375 22.625 23.890625 \r\nQ 32.328125 33.6875 34.8125 36.53125 \r\nQ 39.546875 41.84375 41.421875 45.53125 \r\nQ 43.3125 49.21875 43.3125 52.78125 \r\nQ 43.3125 58.59375 39.234375 62.25 \r\nQ 35.15625 65.921875 28.609375 65.921875 \r\nQ 23.96875 65.921875 18.8125 64.3125 \r\nQ 13.671875 62.703125 7.8125 59.421875 \r\nL 7.8125 69.390625 \r\nQ 13.765625 71.78125 18.9375 73 \r\nQ 24.125 74.21875 28.421875 74.21875 \r\nQ 39.75 74.21875 46.484375 68.546875 \r\nQ 53.21875 62.890625 53.21875 53.421875 \r\nQ 53.21875 48.921875 51.53125 44.890625 \r\nQ 49.859375 40.875 45.40625 35.40625 \r\nQ 44.1875 33.984375 37.640625 27.21875 \r\nQ 31.109375 20.453125 19.1875 8.296875 \r\nz\r\n\" id=\"DejaVuSans-50\"/>\r\n      </defs>\r\n      <use xlink:href=\"#DejaVuSans-50\"/>\r\n     </g>\r\n    </g>\r\n   </g>\r\n   <g id=\"xtick_4\">\r\n    <g id=\"line2d_5\">\r\n     <path d=\"M 101.559589 195.728816 \r\nL 99.788091 197.412875 \r\n\" style=\"fill:none;stroke:#000000;stroke-linecap:square;stroke-width:0.8;\"/>\r\n    </g>\r\n    <g id=\"text_4\">\r\n     <!-- 3 -->\r\n     <g transform=\"translate(90.347752 220.2072)scale(0.1 -0.1)\">\r\n      <defs>\r\n       <path d=\"M 40.578125 39.3125 \r\nQ 47.65625 37.796875 51.625 33 \r\nQ 55.609375 28.21875 55.609375 21.1875 \r\nQ 55.609375 10.40625 48.1875 4.484375 \r\nQ 40.765625 -1.421875 27.09375 -1.421875 \r\nQ 22.515625 -1.421875 17.65625 -0.515625 \r\nQ 12.796875 0.390625 7.625 2.203125 \r\nL 7.625 11.71875 \r\nQ 11.71875 9.328125 16.59375 8.109375 \r\nQ 21.484375 6.890625 26.8125 6.890625 \r\nQ 36.078125 6.890625 40.9375 10.546875 \r\nQ 45.796875 14.203125 45.796875 21.1875 \r\nQ 45.796875 27.640625 41.28125 31.265625 \r\nQ 36.765625 34.90625 28.71875 34.90625 \r\nL 20.21875 34.90625 \r\nL 20.21875 43.015625 \r\nL 29.109375 43.015625 \r\nQ 36.375 43.015625 40.234375 45.921875 \r\nQ 44.09375 48.828125 44.09375 54.296875 \r\nQ 44.09375 59.90625 40.109375 62.90625 \r\nQ 36.140625 65.921875 28.71875 65.921875 \r\nQ 24.65625 65.921875 20.015625 65.03125 \r\nQ 15.375 64.15625 9.8125 62.3125 \r\nL 9.8125 71.09375 \r\nQ 15.4375 72.65625 20.34375 73.4375 \r\nQ 25.25 74.21875 29.59375 74.21875 \r\nQ 40.828125 74.21875 47.359375 69.109375 \r\nQ 53.90625 64.015625 53.90625 55.328125 \r\nQ 53.90625 49.265625 50.4375 45.09375 \r\nQ 46.96875 40.921875 40.578125 39.3125 \r\nz\r\n\" id=\"DejaVuSans-51\"/>\r\n      </defs>\r\n      <use xlink:href=\"#DejaVuSans-51\"/>\r\n     </g>\r\n    </g>\r\n   </g>\r\n   <g id=\"xtick_5\">\r\n    <g id=\"line2d_6\">\r\n     <path d=\"M 125.836884 203.649945 \r\nL 124.101174 205.369269 \r\n\" style=\"fill:none;stroke:#000000;stroke-linecap:square;stroke-width:0.8;\"/>\r\n    </g>\r\n    <g id=\"text_5\">\r\n     <!-- 4 -->\r\n     <g transform=\"translate(114.674344 228.348411)scale(0.1 -0.1)\">\r\n      <defs>\r\n       <path d=\"M 37.796875 64.3125 \r\nL 12.890625 25.390625 \r\nL 37.796875 25.390625 \r\nz\r\nM 35.203125 72.90625 \r\nL 47.609375 72.90625 \r\nL 47.609375 25.390625 \r\nL 58.015625 25.390625 \r\nL 58.015625 17.1875 \r\nL 47.609375 17.1875 \r\nL 47.609375 0 \r\nL 37.796875 0 \r\nL 37.796875 17.1875 \r\nL 4.890625 17.1875 \r\nL 4.890625 26.703125 \r\nz\r\n\" id=\"DejaVuSans-52\"/>\r\n      </defs>\r\n      <use xlink:href=\"#DejaVuSans-52\"/>\r\n     </g>\r\n    </g>\r\n   </g>\r\n  </g>\r\n  <g id=\"axis3d_2\">\r\n   <g id=\"line2d_7\">\r\n    <path d=\"M 210.64668 144.32791 \r\nL 145.759879 210.91773 \r\n\" style=\"fill:none;stroke:#000000;stroke-linecap:square;stroke-width:0.8;\"/>\r\n   </g>\r\n   <g id=\"Line3DCollection_2\">\r\n    <path d=\"M 24.386948 75.145071 \r\nL 28.566245 166.878731 \r\nL 150.249543 206.31023 \r\n\" style=\"fill:none;stroke:#b0b0b0;stroke-width:0.8;\"/>\r\n    <path d=\"M 39.872804 63.844199 \r\nL 43.308079 154.521834 \r\nL 163.609555 192.599572 \r\n\" style=\"fill:none;stroke:#b0b0b0;stroke-width:0.8;\"/>\r\n    <path d=\"M 54.821882 52.935042 \r\nL 57.560781 142.574936 \r\nL 176.503253 179.367466 \r\n\" style=\"fill:none;stroke:#b0b0b0;stroke-width:0.8;\"/>\r\n    <path d=\"M 69.261618 42.397581 \r\nL 71.348298 131.017966 \r\nL 188.954633 166.589287 \r\n\" style=\"fill:none;stroke:#b0b0b0;stroke-width:0.8;\"/>\r\n    <path d=\"M 83.217605 32.213137 \r\nL 84.693038 119.83214 \r\nL 200.986072 154.242071 \r\n\" style=\"fill:none;stroke:#b0b0b0;stroke-width:0.8;\"/>\r\n   </g>\r\n   <g id=\"xtick_6\">\r\n    <g id=\"line2d_8\">\r\n     <path d=\"M 149.224115 205.977939 \r\nL 152.303053 206.97567 \r\n\" style=\"fill:none;stroke:#000000;stroke-linecap:square;stroke-width:0.8;\"/>\r\n    </g>\r\n    <g id=\"text_6\">\r\n     <!-- 0 -->\r\n     <g transform=\"translate(159.950654 227.333759)scale(0.1 -0.1)\">\r\n      <use xlink:href=\"#DejaVuSans-48\"/>\r\n     </g>\r\n    </g>\r\n   </g>\r\n   <g id=\"xtick_7\">\r\n    <g id=\"line2d_9\">\r\n     <path d=\"M 162.596683 192.278978 \r\nL 165.637872 193.241573 \r\n\" style=\"fill:none;stroke:#000000;stroke-linecap:square;stroke-width:0.8;\"/>\r\n    </g>\r\n    <g id=\"text_7\">\r\n     <!-- 1 -->\r\n     <g transform=\"translate(173.091304 213.374605)scale(0.1 -0.1)\">\r\n      <use xlink:href=\"#DejaVuSans-49\"/>\r\n     </g>\r\n    </g>\r\n   </g>\r\n   <g id=\"xtick_8\">\r\n    <g id=\"line2d_10\">\r\n     <path d=\"M 175.502693 179.057962 \r\nL 178.506869 179.987245 \r\n\" style=\"fill:none;stroke:#000000;stroke-linecap:square;stroke-width:0.8;\"/>\r\n    </g>\r\n    <g id=\"text_8\">\r\n     <!-- 2 -->\r\n     <g transform=\"translate(185.772973 199.903022)scale(0.1 -0.1)\">\r\n      <use xlink:href=\"#DejaVuSans-50\"/>\r\n     </g>\r\n    </g>\r\n   </g>\r\n   <g id=\"xtick_9\">\r\n    <g id=\"line2d_11\">\r\n     <path d=\"M 187.966144 166.290307 \r\nL 190.934035 167.187978 \r\n\" style=\"fill:none;stroke:#000000;stroke-linecap:square;stroke-width:0.8;\"/>\r\n    </g>\r\n    <g id=\"text_9\">\r\n     <!-- 3 -->\r\n     <g transform=\"translate(198.019295 186.893902)scale(0.1 -0.1)\">\r\n      <use xlink:href=\"#DejaVuSans-51\"/>\r\n     </g>\r\n    </g>\r\n   </g>\r\n   <g id=\"xtick_10\">\r\n    <g id=\"line2d_12\">\r\n     <path d=\"M 200.009415 153.953088 \r\nL 202.94174 154.820733 \r\n\" style=\"fill:none;stroke:#000000;stroke-linecap:square;stroke-width:0.8;\"/>\r\n    </g>\r\n    <g id=\"text_10\">\r\n     <!-- 4 -->\r\n     <g transform=\"translate(209.85231 174.323834)scale(0.1 -0.1)\">\r\n      <use xlink:href=\"#DejaVuSans-52\"/>\r\n     </g>\r\n    </g>\r\n   </g>\r\n  </g>\r\n  <g id=\"axis3d_3\">\r\n   <g id=\"line2d_13\">\r\n    <path d=\"M 210.64668 144.32791 \r\nL 214.758571 54.534718 \r\n\" style=\"fill:none;stroke:#000000;stroke-linecap:square;stroke-width:0.8;\"/>\r\n   </g>\r\n   <g id=\"Line3DCollection_3\">\r\n    <path d=\"M 210.725459 142.607571 \r\nL 95.404845 109.170725 \r\nL 23.533401 169.264949 \r\n\" style=\"fill:none;stroke:#b0b0b0;stroke-width:0.8;\"/>\r\n    <path d=\"M 211.791918 119.318843 \r\nL 95.145577 86.624048 \r\nL 22.384646 145.410311 \r\n\" style=\"fill:none;stroke:#b0b0b0;stroke-width:0.8;\"/>\r\n    <path d=\"M 212.883428 95.48306 \r\nL 94.880511 63.573311 \r\nL 21.207866 120.973718 \r\n\" style=\"fill:none;stroke:#b0b0b0;stroke-width:0.8;\"/>\r\n    <path d=\"M 214.000882 71.080717 \r\nL 94.609454 40.001419 \r\nL 20.002024 95.933611 \r\n\" style=\"fill:none;stroke:#b0b0b0;stroke-width:0.8;\"/>\r\n   </g>\r\n   <g id=\"xtick_11\">\r\n    <g id=\"line2d_14\">\r\n     <path d=\"M 209.757563 142.326933 \r\nL 212.663556 143.169516 \r\n\" style=\"fill:none;stroke:#000000;stroke-linecap:square;stroke-width:0.8;\"/>\r\n    </g>\r\n    <g id=\"text_11\">\r\n     <!-- 0 -->\r\n     <g transform=\"translate(225.795915 147.606846)scale(0.1 -0.1)\">\r\n      <use xlink:href=\"#DejaVuSans-48\"/>\r\n     </g>\r\n    </g>\r\n   </g>\r\n   <g id=\"xtick_12\">\r\n    <g id=\"line2d_15\">\r\n     <path d=\"M 210.812362 119.044283 \r\nL 213.753388 119.868623 \r\n\" style=\"fill:none;stroke:#000000;stroke-linecap:square;stroke-width:0.8;\"/>\r\n    </g>\r\n    <g id=\"text_12\">\r\n     <!-- 100 -->\r\n     <g transform=\"translate(220.707007 124.374515)scale(0.1 -0.1)\">\r\n      <use xlink:href=\"#DejaVuSans-49\"/>\r\n      <use x=\"63.623047\" xlink:href=\"#DejaVuSans-48\"/>\r\n      <use x=\"127.246094\" xlink:href=\"#DejaVuSans-48\"/>\r\n     </g>\r\n    </g>\r\n   </g>\r\n   <g id=\"xtick_13\">\r\n    <g id=\"line2d_16\">\r\n     <path d=\"M 211.891929 95.214944 \r\nL 214.86884 96.019945 \r\n\" style=\"fill:none;stroke:#000000;stroke-linecap:square;stroke-width:0.8;\"/>\r\n    </g>\r\n    <g id=\"text_13\">\r\n     <!-- 200 -->\r\n     <g transform=\"translate(222.010402 100.598504)scale(0.1 -0.1)\">\r\n      <use xlink:href=\"#DejaVuSans-50\"/>\r\n      <use x=\"63.623047\" xlink:href=\"#DejaVuSans-48\"/>\r\n      <use x=\"127.246094\" xlink:href=\"#DejaVuSans-48\"/>\r\n     </g>\r\n    </g>\r\n   </g>\r\n   <g id=\"xtick_14\">\r\n    <g id=\"line2d_17\">\r\n     <path d=\"M 212.997146 70.81943 \r\nL 216.010828 71.603935 \r\n\" style=\"fill:none;stroke:#000000;stroke-linecap:square;stroke-width:0.8;\"/>\r\n    </g>\r\n    <g id=\"text_14\">\r\n     <!-- 300 -->\r\n     <g transform=\"translate(223.344661 76.259502)scale(0.1 -0.1)\">\r\n      <use xlink:href=\"#DejaVuSans-51\"/>\r\n      <use x=\"63.623047\" xlink:href=\"#DejaVuSans-48\"/>\r\n      <use x=\"127.246094\" xlink:href=\"#DejaVuSans-48\"/>\r\n     </g>\r\n    </g>\r\n   </g>\r\n  </g>\r\n  <g id=\"axes_1\">\r\n   <g id=\"Poly3DCollection_1\">\r\n    <path clip-path=\"url(#pbcae1333e6)\" d=\"M 91.738729 120.238929 \r\nL 98.220438 114.755361 \r\nL 109.026138 117.910552 \r\nL 102.601626 123.445305 \r\nz\r\n\" style=\"fill:#000088;\"/>\r\n    <path clip-path=\"url(#pbcae1333e6)\" d=\"M 98.220438 114.755361 \r\nL 97.964766 89.557315 \r\nL 108.90376 92.633467 \r\nL 109.026138 117.910552 \r\nz\r\n\" style=\"fill:#00006a;\"/>\r\n    <path clip-path=\"url(#pbcae1333e6)\" d=\"M 91.738729 120.238929 \r\nL 91.400017 94.903744 \r\nL 97.964766 89.557315 \r\nL 98.220438 114.755361 \r\nz\r\n\" style=\"fill:#0000e1;\"/>\r\n    <path clip-path=\"url(#pbcae1333e6)\" d=\"M 119.932529 121.095145 \r\nL 119.935765 114.985169 \r\nL 130.977603 118.180619 \r\nL 130.941023 124.309551 \r\nz\r\n\" style=\"fill:#00006a;\"/>\r\n    <path clip-path=\"url(#pbcae1333e6)\" d=\"M 113.566569 126.681803 \r\nL 113.550493 120.53894 \r\nL 119.935765 114.985169 \r\nL 119.932529 121.095145 \r\nz\r\n\" style=\"fill:#0000e1;\"/>\r\n    <path clip-path=\"url(#pbcae1333e6)\" d=\"M 102.601626 123.445305 \r\nL 109.026138 117.910552 \r\nL 108.90376 92.633467 \r\nL 102.397625 98.030426 \r\nz\r\n\" style=\"fill:#00006a;\"/>\r\n    <path clip-path=\"url(#pbcae1333e6)\" d=\"M 113.566569 126.681803 \r\nL 119.932529 121.095145 \r\nL 130.941023 124.309551 \r\nL 124.635003 129.948847 \r\nz\r\n\" style=\"fill:#000088;\"/>\r\n    <path clip-path=\"url(#pbcae1333e6)\" d=\"M 91.738729 120.238929 \r\nL 102.601626 123.445305 \r\nL 102.397625 98.030426 \r\nL 91.400017 94.903744 \r\nz\r\n\" style=\"fill:#0000e1;\"/>\r\n    <path clip-path=\"url(#pbcae1333e6)\" d=\"M 113.550493 120.53894 \r\nL 124.652635 123.786879 \r\nL 130.977603 118.180619 \r\nL 119.935765 114.985169 \r\nz\r\n\" style=\"fill:#0000c3;\"/>\r\n    <path clip-path=\"url(#pbcae1333e6)\" d=\"M 91.400017 94.903744 \r\nL 102.397625 98.030426 \r\nL 108.90376 92.633467 \r\nL 97.964766 89.557315 \r\nz\r\n\" style=\"fill:#0000c3;\"/>\r\n    <path clip-path=\"url(#pbcae1333e6)\" d=\"M 124.635003 129.948847 \r\nL 130.941023 124.309551 \r\nL 130.977603 118.180619 \r\nL 124.652635 123.786879 \r\nz\r\n\" style=\"fill:#00006a;\"/>\r\n    <path clip-path=\"url(#pbcae1333e6)\" d=\"M 85.15169 125.811608 \r\nL 84.996148 116.476622 \r\nL 95.966574 119.706347 \r\nL 96.07222 129.070425 \r\nz\r\n\" style=\"fill:#00006a;\"/>\r\n    <path clip-path=\"url(#pbcae1333e6)\" d=\"M 113.566569 126.681803 \r\nL 124.635003 129.948847 \r\nL 124.652635 123.786879 \r\nL 113.550493 120.53894 \r\nz\r\n\" style=\"fill:#0000e1;\"/>\r\n    <path clip-path=\"url(#pbcae1333e6)\" d=\"M 78.456731 131.475587 \r\nL 78.26876 122.090127 \r\nL 84.996148 116.476622 \r\nL 85.15169 125.811608 \r\nz\r\n\" style=\"fill:#0000e1;\"/>\r\n    <path clip-path=\"url(#pbcae1333e6)\" d=\"M 78.456731 131.475587 \r\nL 85.15169 125.811608 \r\nL 96.07222 129.070425 \r\nL 89.43533 134.788142 \r\nz\r\n\" style=\"fill:#000088;\"/>\r\n    <path clip-path=\"url(#pbcae1333e6)\" d=\"M 135.808401 133.246874 \r\nL 142.053062 127.554191 \r\nL 153.270114 130.829494 \r\nL 147.088263 136.576325 \r\nz\r\n\" style=\"fill:#000088;\"/>\r\n    <path clip-path=\"url(#pbcae1333e6)\" d=\"M 78.26876 122.090127 \r\nL 89.297785 125.373359 \r\nL 95.966574 119.706347 \r\nL 84.996148 116.476622 \r\nz\r\n\" style=\"fill:#0000c3;\"/>\r\n    <path clip-path=\"url(#pbcae1333e6)\" d=\"M 89.43533 134.788142 \r\nL 96.07222 129.070425 \r\nL 95.966574 119.706347 \r\nL 89.297785 125.373359 \r\nz\r\n\" style=\"fill:#00006a;\"/>\r\n    <path clip-path=\"url(#pbcae1333e6)\" d=\"M 78.456731 131.475587 \r\nL 89.43533 134.788142 \r\nL 89.297785 125.373359 \r\nL 78.26876 122.090127 \r\nz\r\n\" style=\"fill:#0000e1;\"/>\r\n    <path clip-path=\"url(#pbcae1333e6)\" d=\"M 100.518769 138.13233 \r\nL 107.09618 132.360107 \r\nL 118.225045 135.681094 \r\nL 111.708556 141.508607 \r\nz\r\n\" style=\"fill:#000088;\"/>\r\n    <path clip-path=\"url(#pbcae1333e6)\" d=\"M 164.593673 134.135897 \r\nL 164.781119 125.879021 \r\nL 176.260685 129.191165 \r\nL 176.025265 137.473844 \r\nz\r\n\" style=\"fill:#00006a;\"/>\r\n    <path clip-path=\"url(#pbcae1333e6)\" d=\"M 107.09618 132.360107 \r\nL 106.961634 109.294988 \r\nL 118.217765 112.543139 \r\nL 118.225045 135.681094 \r\nz\r\n\" style=\"fill:#00006a;\"/>\r\n    <path clip-path=\"url(#pbcae1333e6)\" d=\"M 158.476116 139.937652 \r\nL 158.639841 131.636009 \r\nL 164.781119 125.879021 \r\nL 164.593673 134.135897 \r\nz\r\n\" style=\"fill:#0000e1;\"/>\r\n    <path clip-path=\"url(#pbcae1333e6)\" d=\"M 142.053062 127.554191 \r\nL 142.679117 72.999532 \r\nL 154.203438 76.098897 \r\nL 153.270114 130.829494 \r\nz\r\n\" style=\"fill:#00006a;\"/>\r\n    <path clip-path=\"url(#pbcae1333e6)\" d=\"M 158.476116 139.937652 \r\nL 164.593673 134.135897 \r\nL 176.025265 137.473844 \r\nL 169.973521 143.331315 \r\nz\r\n\" style=\"fill:#000088;\"/>\r\n    <path clip-path=\"url(#pbcae1333e6)\" d=\"M 71.651178 137.23313 \r\nL 71.635044 136.545656 \r\nL 82.67586 139.91115 \r\nL 82.688281 140.600763 \r\nz\r\n\" style=\"fill:#00006a;\"/>\r\n    <path clip-path=\"url(#pbcae1333e6)\" d=\"M 100.518769 138.13233 \r\nL 100.307231 114.940842 \r\nL 106.961634 109.294988 \r\nL 107.09618 132.360107 \r\nz\r\n\" style=\"fill:#0000e1;\"/>\r\n    <path clip-path=\"url(#pbcae1333e6)\" d=\"M 135.808401 133.246874 \r\nL 136.269764 78.386931 \r\nL 142.679117 72.999532 \r\nL 142.053062 127.554191 \r\nz\r\n\" style=\"fill:#0000e1;\"/>\r\n    <path clip-path=\"url(#pbcae1333e6)\" d=\"M 64.732268 143.086573 \r\nL 64.713615 142.395388 \r\nL 71.635044 136.545656 \r\nL 71.651178 137.23313 \r\nz\r\n\" style=\"fill:#0000e1;\"/>\r\n    <path clip-path=\"url(#pbcae1333e6)\" d=\"M 158.639841 131.636009 \r\nL 170.18578 135.003668 \r\nL 176.260685 129.191165 \r\nL 164.781119 125.879021 \r\nz\r\n\" style=\"fill:#0000c3;\"/>\r\n    <path clip-path=\"url(#pbcae1333e6)\" d=\"M 129.460321 139.033835 \r\nL 129.493105 132.819226 \r\nL 140.871728 136.18475 \r\nL 140.80354 142.418788 \r\nz\r\n\" style=\"fill:#00006a;\"/>\r\n    <path clip-path=\"url(#pbcae1333e6)\" d=\"M 64.732268 143.086573 \r\nL 71.651178 137.23313 \r\nL 82.688281 140.600763 \r\nL 75.828306 146.510669 \r\nz\r\n\" style=\"fill:#000088;\"/>\r\n    <path clip-path=\"url(#pbcae1333e6)\" d=\"M 169.973521 143.331315 \r\nL 176.025265 137.473844 \r\nL 176.260685 129.191165 \r\nL 170.18578 135.003668 \r\nz\r\n\" style=\"fill:#00006a;\"/>\r\n    <path clip-path=\"url(#pbcae1333e6)\" d=\"M 64.713615 142.395388 \r\nL 75.813406 145.81733 \r\nL 82.67586 139.91115 \r\nL 71.635044 136.545656 \r\nz\r\n\" style=\"fill:#0000c3;\"/>\r\n    <path clip-path=\"url(#pbcae1333e6)\" d=\"M 111.708556 141.508607 \r\nL 118.225045 135.681094 \r\nL 118.217765 112.543139 \r\nL 111.625686 118.243698 \r\nz\r\n\" style=\"fill:#00006a;\"/>\r\n    <path clip-path=\"url(#pbcae1333e6)\" d=\"M 123.00623 144.917435 \r\nL 123.019164 138.669121 \r\nL 129.493105 132.819226 \r\nL 129.460321 139.033835 \r\nz\r\n\" style=\"fill:#0000e1;\"/>\r\n    <path clip-path=\"url(#pbcae1333e6)\" d=\"M 158.476116 139.937652 \r\nL 169.973521 143.331315 \r\nL 170.18578 135.003668 \r\nL 158.639841 131.636009 \r\nz\r\n\" style=\"fill:#0000e1;\"/>\r\n    <path clip-path=\"url(#pbcae1333e6)\" d=\"M 147.088263 136.576325 \r\nL 153.270114 130.829494 \r\nL 154.203438 76.098897 \r\nL 147.860412 81.53894 \r\nz\r\n\" style=\"fill:#00006a;\"/>\r\n    <path clip-path=\"url(#pbcae1333e6)\" d=\"M 75.828306 146.510669 \r\nL 82.688281 140.600763 \r\nL 82.67586 139.91115 \r\nL 75.813406 145.81733 \r\nz\r\n\" style=\"fill:#00006a;\"/>\r\n    <path clip-path=\"url(#pbcae1333e6)\" d=\"M 123.00623 144.917435 \r\nL 129.460321 139.033835 \r\nL 140.80354 142.418788 \r\nL 134.413357 148.359289 \r\nz\r\n\" style=\"fill:#000088;\"/>\r\n    <path clip-path=\"url(#pbcae1333e6)\" d=\"M 100.518769 138.13233 \r\nL 111.708556 141.508607 \r\nL 111.625686 118.243698 \r\nL 100.307231 114.940842 \r\nz\r\n\" style=\"fill:#0000e1;\"/>\r\n    <path clip-path=\"url(#pbcae1333e6)\" d=\"M 135.808401 133.246874 \r\nL 147.088263 136.576325 \r\nL 147.860412 81.53894 \r\nL 136.269764 78.386931 \r\nz\r\n\" style=\"fill:#0000e1;\"/>\r\n    <path clip-path=\"url(#pbcae1333e6)\" d=\"M 64.732268 143.086573 \r\nL 75.828306 146.510669 \r\nL 75.813406 145.81733 \r\nL 64.713615 142.395388 \r\nz\r\n\" style=\"fill:#0000e1;\"/>\r\n    <path clip-path=\"url(#pbcae1333e6)\" d=\"M 100.307231 114.940842 \r\nL 111.625686 118.243698 \r\nL 118.217765 112.543139 \r\nL 106.961634 109.294988 \r\nz\r\n\" style=\"fill:#0000c3;\"/>\r\n    <path clip-path=\"url(#pbcae1333e6)\" d=\"M 181.582065 146.757782 \r\nL 187.566443 140.84379 \r\nL 199.218789 144.246197 \r\nL 193.303367 150.217532 \r\nz\r\n\" style=\"fill:#000088;\"/>\r\n    <path clip-path=\"url(#pbcae1333e6)\" d=\"M 123.019164 138.669121 \r\nL 134.462096 142.091397 \r\nL 140.871728 136.18475 \r\nL 129.493105 132.819226 \r\nz\r\n\" style=\"fill:#0000c3;\"/>\r\n    <path clip-path=\"url(#pbcae1333e6)\" d=\"M 134.413357 148.359289 \r\nL 140.80354 142.418788 \r\nL 140.871728 136.18475 \r\nL 134.462096 142.091397 \r\nz\r\n\" style=\"fill:#00006a;\"/>\r\n    <path clip-path=\"url(#pbcae1333e6)\" d=\"M 93.831661 144.000823 \r\nL 93.716025 134.737922 \r\nL 105.018901 138.141798 \r\nL 105.08286 147.433781 \r\nz\r\n\" style=\"fill:#00006a;\"/>\r\n    <path clip-path=\"url(#pbcae1333e6)\" d=\"M 123.00623 144.917435 \r\nL 134.413357 148.359289 \r\nL 134.462096 142.091397 \r\nL 123.019164 138.669121 \r\nz\r\n\" style=\"fill:#0000e1;\"/>\r\n    <path clip-path=\"url(#pbcae1333e6)\" d=\"M 87.032087 149.968014 \r\nL 86.883792 140.654661 \r\nL 93.716025 134.737922 \r\nL 93.831661 144.000823 \r\nz\r\n\" style=\"fill:#0000e1;\"/>\r\n    <path clip-path=\"url(#pbcae1333e6)\" d=\"M 87.032087 149.968014 \r\nL 93.831661 144.000823 \r\nL 105.08286 147.433781 \r\nL 98.345187 153.459093 \r\nz\r\n\" style=\"fill:#000088;\"/>\r\n    <path clip-path=\"url(#pbcae1333e6)\" d=\"M 187.566443 140.84379 \r\nL 188.856475 103.144226 \r\nL 200.735005 106.425834 \r\nL 199.218789 144.246197 \r\nz\r\n\" style=\"fill:#00006a;\"/>\r\n    <path clip-path=\"url(#pbcae1333e6)\" d=\"M 181.582065 146.757782 \r\nL 182.769783 108.848629 \r\nL 188.856475 103.144226 \r\nL 187.566443 140.84379 \r\nz\r\n\" style=\"fill:#0000e1;\"/>\r\n    <path clip-path=\"url(#pbcae1333e6)\" d=\"M 145.931537 151.834651 \r\nL 152.256267 145.836419 \r\nL 163.820094 149.287203 \r\nL 157.562399 155.344012 \r\nz\r\n\" style=\"fill:#000088;\"/>\r\n    <path clip-path=\"url(#pbcae1333e6)\" d=\"M 57.697146 149.038333 \r\nL 57.661714 147.87986 \r\nL 68.823436 151.358231 \r\nL 68.852547 152.520325 \r\nz\r\n\" style=\"fill:#00006a;\"/>\r\n    <path clip-path=\"url(#pbcae1333e6)\" d=\"M 136.269764 78.386931 \r\nL 147.860412 81.53894 \r\nL 154.203438 76.098897 \r\nL 142.679117 72.999532 \r\nz\r\n\" style=\"fill:#0000c3;\"/>\r\n    <path clip-path=\"url(#pbcae1333e6)\" d=\"M 86.883792 140.654661 \r\nL 98.249137 144.116437 \r\nL 105.018901 138.141798 \r\nL 93.716025 134.737922 \r\nz\r\n\" style=\"fill:#0000c3;\"/>\r\n    <path clip-path=\"url(#pbcae1333e6)\" d=\"M 98.345187 153.459093 \r\nL 105.08286 147.433781 \r\nL 105.018901 138.141798 \r\nL 98.249137 144.116437 \r\nz\r\n\" style=\"fill:#00006a;\"/>\r\n    <path clip-path=\"url(#pbcae1333e6)\" d=\"M 50.542857 155.090908 \r\nL 50.502945 153.926153 \r\nL 57.661714 147.87986 \r\nL 57.697146 149.038333 \r\nz\r\n\" style=\"fill:#0000e1;\"/>\r\n    <path clip-path=\"url(#pbcae1333e6)\" d=\"M 152.256267 145.836419 \r\nL 152.788213 113.93494 \r\nL 164.539752 117.283747 \r\nL 163.820094 149.287203 \r\nz\r\n\" style=\"fill:#00006a;\"/>\r\n    <path clip-path=\"url(#pbcae1333e6)\" d=\"M 87.032087 149.968014 \r\nL 98.345187 153.459093 \r\nL 98.249137 144.116437 \r\nL 86.883792 140.654661 \r\nz\r\n\" style=\"fill:#0000e1;\"/>\r\n    <path clip-path=\"url(#pbcae1333e6)\" d=\"M 50.542857 155.090908 \r\nL 57.697146 149.038333 \r\nL 68.852547 152.520325 \r\nL 61.758047 158.632276 \r\nz\r\n\" style=\"fill:#000088;\"/>\r\n    <path clip-path=\"url(#pbcae1333e6)\" d=\"M 193.303367 150.217532 \r\nL 199.218789 144.246197 \r\nL 200.735005 106.425834 \r\nL 194.720013 112.186599 \r\nz\r\n\" style=\"fill:#00006a;\"/>\r\n    <path clip-path=\"url(#pbcae1333e6)\" d=\"M 50.502945 153.926153 \r\nL 61.724523 157.463874 \r\nL 68.823436 151.358231 \r\nL 57.661714 147.87986 \r\nz\r\n\" style=\"fill:#0000c3;\"/>\r\n    <path clip-path=\"url(#pbcae1333e6)\" d=\"M 145.931537 151.834651 \r\nL 146.36644 119.756244 \r\nL 152.788213 113.93494 \r\nL 152.256267 145.836419 \r\nz\r\n\" style=\"fill:#0000e1;\"/>\r\n    <path clip-path=\"url(#pbcae1333e6)\" d=\"M 175.496646 152.771627 \r\nL 175.542833 151.143951 \r\nL 187.343655 154.657411 \r\nL 187.287579 156.290182 \r\nz\r\n\" style=\"fill:#00006a;\"/>\r\n    <path clip-path=\"url(#pbcae1333e6)\" d=\"M 181.582065 146.757782 \r\nL 193.303367 150.217532 \r\nL 194.720013 112.186599 \r\nL 182.769783 108.848629 \r\nz\r\n\" style=\"fill:#0000e1;\"/>\r\n    <path clip-path=\"url(#pbcae1333e6)\" d=\"M 109.769216 156.984403 \r\nL 116.443451 150.900117 \r\nL 127.915037 154.400319 \r\nL 121.305811 160.54445 \r\nz\r\n\" style=\"fill:#000088;\"/>\r\n    <path clip-path=\"url(#pbcae1333e6)\" d=\"M 61.758047 158.632276 \r\nL 68.852547 152.520325 \r\nL 68.823436 151.358231 \r\nL 61.724523 157.463874 \r\nz\r\n\" style=\"fill:#00006a;\"/>\r\n    <path clip-path=\"url(#pbcae1333e6)\" d=\"M 116.443451 150.900117 \r\nL 116.42024 131.697601 \r\nL 128.002515 135.1369 \r\nL 127.915037 154.400319 \r\nz\r\n\" style=\"fill:#00006a;\"/>\r\n    <path clip-path=\"url(#pbcae1333e6)\" d=\"M 169.307605 158.887874 \r\nL 169.349096 157.251359 \r\nL 175.542833 151.143951 \r\nL 175.496646 152.771627 \r\nz\r\n\" style=\"fill:#0000e1;\"/>\r\n    <path clip-path=\"url(#pbcae1333e6)\" d=\"M 50.542857 155.090908 \r\nL 61.758047 158.632276 \r\nL 61.724523 157.463874 \r\nL 50.502945 153.926153 \r\nz\r\n\" style=\"fill:#0000e1;\"/>\r\n    <path clip-path=\"url(#pbcae1333e6)\" d=\"M 109.769216 156.984403 \r\nL 109.681105 137.676228 \r\nL 116.42024 131.697601 \r\nL 116.443451 150.900117 \r\nz\r\n\" style=\"fill:#0000e1;\"/>\r\n    <path clip-path=\"url(#pbcae1333e6)\" d=\"M 169.307605 158.887874 \r\nL 175.496646 152.771627 \r\nL 187.287579 156.290182 \r\nL 181.168849 162.466748 \r\nz\r\n\" style=\"fill:#000088;\"/>\r\n    <path clip-path=\"url(#pbcae1333e6)\" d=\"M 157.562399 155.344012 \r\nL 163.820094 149.287203 \r\nL 164.539752 117.283747 \r\nL 158.18723 123.162816 \r\nz\r\n\" style=\"fill:#00006a;\"/>\r\n    <path clip-path=\"url(#pbcae1333e6)\" d=\"M 169.349096 157.251359 \r\nL 181.220348 160.8251 \r\nL 187.343655 154.657411 \r\nL 175.542833 151.143951 \r\nz\r\n\" style=\"fill:#0000c3;\"/>\r\n    <path clip-path=\"url(#pbcae1333e6)\" d=\"M 182.769783 108.848629 \r\nL 194.720013 112.186599 \r\nL 200.735005 106.425834 \r\nL 188.856475 103.144226 \r\nz\r\n\" style=\"fill:#0000c3;\"/>\r\n    <path clip-path=\"url(#pbcae1333e6)\" d=\"M 80.117186 156.036413 \r\nL 79.985368 149.256138 \r\nL 91.399103 152.785493 \r\nL 91.492676 159.587102 \r\nz\r\n\" style=\"fill:#00006a;\"/>\r\n    <path clip-path=\"url(#pbcae1333e6)\" d=\"M 145.931537 151.834651 \r\nL 157.562399 155.344012 \r\nL 158.18723 123.162816 \r\nL 146.36644 119.756244 \r\nz\r\n\" style=\"fill:#0000e1;\"/>\r\n    <path clip-path=\"url(#pbcae1333e6)\" d=\"M 181.168849 162.466748 \r\nL 187.287579 156.290182 \r\nL 187.343655 154.657411 \r\nL 181.220348 160.8251 \r\nz\r\n\" style=\"fill:#00006a;\"/>\r\n    <path clip-path=\"url(#pbcae1333e6)\" d=\"M 73.083999 162.208619 \r\nL 72.926914 155.391335 \r\nL 79.985368 149.256138 \r\nL 80.117186 156.036413 \r\nz\r\n\" style=\"fill:#0000e1;\"/>\r\n    <path clip-path=\"url(#pbcae1333e6)\" d=\"M 73.083999 162.208619 \r\nL 80.117186 156.036413 \r\nL 91.492676 159.587102 \r\nL 84.522363 165.820457 \r\nz\r\n\" style=\"fill:#000088;\"/>\r\n    <path clip-path=\"url(#pbcae1333e6)\" d=\"M 169.307605 158.887874 \r\nL 181.168849 162.466748 \r\nL 181.220348 160.8251 \r\nL 169.349096 157.251359 \r\nz\r\n\" style=\"fill:#0000e1;\"/>\r\n    <path clip-path=\"url(#pbcae1333e6)\" d=\"M 121.305811 160.54445 \r\nL 127.915037 154.400319 \r\nL 128.002515 135.1369 \r\nL 121.329654 141.174904 \r\nz\r\n\" style=\"fill:#00006a;\"/>\r\n    <path clip-path=\"url(#pbcae1333e6)\" d=\"M 139.499253 157.934887 \r\nL 139.572106 150.908167 \r\nL 151.312474 154.455482 \r\nL 151.197765 161.504328 \r\nz\r\n\" style=\"fill:#00006a;\"/>\r\n    <path clip-path=\"url(#pbcae1333e6)\" d=\"M 146.36644 119.756244 \r\nL 158.18723 123.162816 \r\nL 164.539752 117.283747 \r\nL 152.788213 113.93494 \r\nz\r\n\" style=\"fill:#0000c3;\"/>\r\n    <path clip-path=\"url(#pbcae1333e6)\" d=\"M 109.769216 156.984403 \r\nL 121.305811 160.54445 \r\nL 121.329654 141.174904 \r\nL 109.681105 137.676228 \r\nz\r\n\" style=\"fill:#0000e1;\"/>\r\n    <path clip-path=\"url(#pbcae1333e6)\" d=\"M 132.956646 164.13975 \r\nL 133.006835 157.074646 \r\nL 139.572106 150.908167 \r\nL 139.499253 157.934887 \r\nz\r\n\" style=\"fill:#0000e1;\"/>\r\n    <path clip-path=\"url(#pbcae1333e6)\" d=\"M 109.681105 137.676228 \r\nL 121.329654 141.174904 \r\nL 128.002515 135.1369 \r\nL 116.42024 131.697601 \r\nz\r\n\" style=\"fill:#0000c3;\"/>\r\n    <path clip-path=\"url(#pbcae1333e6)\" d=\"M 132.956646 164.13975 \r\nL 139.499253 157.934887 \r\nL 151.197765 161.504328 \r\nL 144.723425 167.770828 \r\nz\r\n\" style=\"fill:#000088;\"/>\r\n    <path clip-path=\"url(#pbcae1333e6)\" d=\"M 72.926914 155.391335 \r\nL 84.403945 158.981682 \r\nL 91.399103 152.785493 \r\nL 79.985368 149.256138 \r\nz\r\n\" style=\"fill:#0000c3;\"/>\r\n    <path clip-path=\"url(#pbcae1333e6)\" d=\"M 84.522363 165.820457 \r\nL 91.492676 159.587102 \r\nL 91.399103 152.785493 \r\nL 84.403945 158.981682 \r\nz\r\n\" style=\"fill:#00006a;\"/>\r\n    <path clip-path=\"url(#pbcae1333e6)\" d=\"M 73.083999 162.208619 \r\nL 84.522363 165.820457 \r\nL 84.403945 158.981682 \r\nL 72.926914 155.391335 \r\nz\r\n\" style=\"fill:#0000e1;\"/>\r\n    <path clip-path=\"url(#pbcae1333e6)\" d=\"M 133.006835 157.074646 \r\nL 144.815962 160.683435 \r\nL 151.312474 154.455482 \r\nL 139.572106 150.908167 \r\nz\r\n\" style=\"fill:#0000c3;\"/>\r\n    <path clip-path=\"url(#pbcae1333e6)\" d=\"M 144.723425 167.770828 \r\nL 151.197765 161.504328 \r\nL 151.312474 154.455482 \r\nL 144.815962 160.683435 \r\nz\r\n\" style=\"fill:#00006a;\"/>\r\n    <path clip-path=\"url(#pbcae1333e6)\" d=\"M 35.864465 167.508925 \r\nL 43.26635 161.246881 \r\nL 54.541749 164.849157 \r\nL 47.200489 171.173694 \r\nz\r\n\" style=\"fill:#000088;\"/>\r\n    <path clip-path=\"url(#pbcae1333e6)\" d=\"M 102.98066 163.172905 \r\nL 102.920434 155.641363 \r\nL 114.566517 159.239039 \r\nL 114.582816 166.794344 \r\nz\r\n\" style=\"fill:#00006a;\"/>\r\n    <path clip-path=\"url(#pbcae1333e6)\" d=\"M 132.956646 164.13975 \r\nL 144.723425 167.770828 \r\nL 144.815962 160.683435 \r\nL 133.006835 157.074646 \r\nz\r\n\" style=\"fill:#0000e1;\"/>\r\n    <path clip-path=\"url(#pbcae1333e6)\" d=\"M 96.074821 169.468323 \r\nL 95.987651 161.895558 \r\nL 102.920434 155.641363 \r\nL 102.98066 163.172905 \r\nz\r\n\" style=\"fill:#0000e1;\"/>\r\n    <path clip-path=\"url(#pbcae1333e6)\" d=\"M 43.26635 161.246881 \r\nL 42.255901 134.679646 \r\nL 53.677701 138.196881 \r\nL 54.541749 164.849157 \r\nz\r\n\" style=\"fill:#00006a;\"/>\r\n    <path clip-path=\"url(#pbcae1333e6)\" d=\"M 96.074821 169.468323 \r\nL 102.98066 163.172905 \r\nL 114.582816 166.794344 \r\nL 107.743088 173.152757 \r\nz\r\n\" style=\"fill:#000088;\"/>\r\n    <path clip-path=\"url(#pbcae1333e6)\" d=\"M 35.864465 167.508925 \r\nL 34.745387 140.794156 \r\nL 42.255901 134.679646 \r\nL 43.26635 161.246881 \r\nz\r\n\" style=\"fill:#0000e1;\"/>\r\n    <path clip-path=\"url(#pbcae1333e6)\" d=\"M 156.607887 171.438222 \r\nL 163.012273 165.109163 \r\nL 174.944511 168.749919 \r\nL 168.611809 175.14248 \r\nz\r\n\" style=\"fill:#000088;\"/>\r\n    <path clip-path=\"url(#pbcae1333e6)\" d=\"M 65.929466 168.487316 \r\nL 65.866433 166.129021 \r\nL 77.381604 169.796182 \r\nL 77.431187 172.161898 \r\nz\r\n\" style=\"fill:#00006a;\"/>\r\n    <path clip-path=\"url(#pbcae1333e6)\" d=\"M 95.987651 161.895558 \r\nL 107.700346 165.556057 \r\nL 114.566517 159.239039 \r\nL 102.920434 155.641363 \r\nz\r\n\" style=\"fill:#0000c3;\"/>\r\n    <path clip-path=\"url(#pbcae1333e6)\" d=\"M 107.743088 173.152757 \r\nL 114.582816 166.794344 \r\nL 114.566517 159.239039 \r\nL 107.700346 165.556057 \r\nz\r\n\" style=\"fill:#00006a;\"/>\r\n    <path clip-path=\"url(#pbcae1333e6)\" d=\"M 58.650417 174.875286 \r\nL 58.57809 172.504119 \r\nL 65.866433 166.129021 \r\nL 65.929466 168.487316 \r\nz\r\n\" style=\"fill:#0000e1;\"/>\r\n    <path clip-path=\"url(#pbcae1333e6)\" d=\"M 96.074821 169.468323 \r\nL 107.743088 173.152757 \r\nL 107.700346 165.556057 \r\nL 95.987651 161.895558 \r\nz\r\n\" style=\"fill:#0000e1;\"/>\r\n    <path clip-path=\"url(#pbcae1333e6)\" d=\"M 47.200489 171.173694 \r\nL 54.541749 164.849157 \r\nL 53.677701 138.196881 \r\nL 46.229368 144.373237 \r\nz\r\n\" style=\"fill:#00006a;\"/>\r\n    <path clip-path=\"url(#pbcae1333e6)\" d=\"M 58.650417 174.875286 \r\nL 65.929466 168.487316 \r\nL 77.431187 172.161898 \r\nL 70.215975 178.61426 \r\nz\r\n\" style=\"fill:#000088;\"/>\r\n    <path clip-path=\"url(#pbcae1333e6)\" d=\"M 35.864465 167.508925 \r\nL 47.200489 171.173694 \r\nL 46.229368 144.373237 \r\nL 34.745387 140.794156 \r\nz\r\n\" style=\"fill:#0000e1;\"/>\r\n    <path clip-path=\"url(#pbcae1333e6)\" d=\"M 58.57809 172.504119 \r\nL 70.157246 176.235619 \r\nL 77.381604 169.796182 \r\nL 65.866433 166.129021 \r\nz\r\n\" style=\"fill:#0000c3;\"/>\r\n    <path clip-path=\"url(#pbcae1333e6)\" d=\"M 119.528913 176.874312 \r\nL 126.300853 170.451955 \r\nL 138.136518 174.14628 \r\nL 131.434084 180.633552 \r\nz\r\n\" style=\"fill:#000088;\"/>\r\n    <path clip-path=\"url(#pbcae1333e6)\" d=\"M 70.215975 178.61426 \r\nL 77.431187 172.161898 \r\nL 77.381604 169.796182 \r\nL 70.157246 176.235619 \r\nz\r\n\" style=\"fill:#00006a;\"/>\r\n    <path clip-path=\"url(#pbcae1333e6)\" d=\"M 34.745387 140.794156 \r\nL 46.229368 144.373237 \r\nL 53.677701 138.196881 \r\nL 42.255901 134.679646 \r\nz\r\n\" style=\"fill:#0000c3;\"/>\r\n    <path clip-path=\"url(#pbcae1333e6)\" d=\"M 58.650417 174.875286 \r\nL 70.215975 178.61426 \r\nL 70.157246 176.235619 \r\nL 58.57809 172.504119 \r\nz\r\n\" style=\"fill:#0000e1;\"/>\r\n    <path clip-path=\"url(#pbcae1333e6)\" d=\"M 126.300853 170.451955 \r\nL 126.433665 135.149093 \r\nL 138.482296 138.729316 \r\nL 138.136518 174.14628 \r\nz\r\n\" style=\"fill:#00006a;\"/>\r\n    <path clip-path=\"url(#pbcae1333e6)\" d=\"M 150.09159 177.877877 \r\nL 150.133034 175.262672 \r\nL 162.225646 179.023858 \r\nL 162.167885 181.647312 \r\nz\r\n\" style=\"fill:#00006a;\"/>\r\n    <path clip-path=\"url(#pbcae1333e6)\" d=\"M 119.528913 176.874312 \r\nL 119.540985 141.373501 \r\nL 126.433665 135.149093 \r\nL 126.300853 170.451955 \r\nz\r\n\" style=\"fill:#0000e1;\"/>\r\n    <path clip-path=\"url(#pbcae1333e6)\" d=\"M 81.898923 182.391184 \r\nL 89.048633 175.873451 \r\nL 100.78356 179.622538 \r\nL 93.701058 186.20664 \r\nz\r\n\" style=\"fill:#000088;\"/>\r\n    <path clip-path=\"url(#pbcae1333e6)\" d=\"M 143.460422 184.431052 \r\nL 143.493355 181.801538 \r\nL 150.133034 175.262672 \r\nL 150.09159 177.877877 \r\nz\r\n\" style=\"fill:#0000e1;\"/>\r\n    <path clip-path=\"url(#pbcae1333e6)\" d=\"M 143.460422 184.431052 \r\nL 150.09159 177.877877 \r\nL 162.167885 181.647312 \r\nL 155.609786 188.2674 \r\nz\r\n\" style=\"fill:#000088;\"/>\r\n    <path clip-path=\"url(#pbcae1333e6)\" d=\"M 163.012273 165.109163 \r\nL 164.972393 77.049565 \r\nL 177.447298 80.394455 \r\nL 174.944511 168.749919 \r\nz\r\n\" style=\"fill:#00006a;\"/>\r\n    <path clip-path=\"url(#pbcae1333e6)\" d=\"M 143.493355 181.801538 \r\nL 155.659235 185.62958 \r\nL 162.225646 179.023858 \r\nL 150.133034 175.262672 \r\nz\r\n\" style=\"fill:#0000c3;\"/>\r\n    <path clip-path=\"url(#pbcae1333e6)\" d=\"M 131.434084 180.633552 \r\nL 138.136518 174.14628 \r\nL 138.482296 138.729316 \r\nL 131.661659 145.017774 \r\nz\r\n\" style=\"fill:#00006a;\"/>\r\n    <path clip-path=\"url(#pbcae1333e6)\" d=\"M 89.048633 175.873451 \r\nL 88.512688 140.403362 \r\nL 100.456922 144.037614 \r\nL 100.78356 179.622538 \r\nz\r\n\" style=\"fill:#00006a;\"/>\r\n    <path clip-path=\"url(#pbcae1333e6)\" d=\"M 156.607887 171.438222 \r\nL 158.298863 82.865244 \r\nL 164.972393 77.049565 \r\nL 163.012273 165.109163 \r\nz\r\n\" style=\"fill:#0000e1;\"/>\r\n    <path clip-path=\"url(#pbcae1333e6)\" d=\"M 155.609786 188.2674 \r\nL 162.167885 181.647312 \r\nL 162.225646 179.023858 \r\nL 155.659235 185.62958 \r\nz\r\n\" style=\"fill:#00006a;\"/>\r\n    <path clip-path=\"url(#pbcae1333e6)\" d=\"M 119.528913 176.874312 \r\nL 131.434084 180.633552 \r\nL 131.661659 145.017774 \r\nL 119.540985 141.373501 \r\nz\r\n\" style=\"fill:#0000e1;\"/>\r\n    <path clip-path=\"url(#pbcae1333e6)\" d=\"M 81.898923 182.391184 \r\nL 81.228487 146.721882 \r\nL 88.512688 140.403362 \r\nL 89.048633 175.873451 \r\nz\r\n\" style=\"fill:#0000e1;\"/>\r\n    <path clip-path=\"url(#pbcae1333e6)\" d=\"M 143.460422 184.431052 \r\nL 155.609786 188.2674 \r\nL 155.659235 185.62958 \r\nL 143.493355 181.801538 \r\nz\r\n\" style=\"fill:#0000e1;\"/>\r\n    <path clip-path=\"url(#pbcae1333e6)\" d=\"M 168.611809 175.14248 \r\nL 174.944511 168.749919 \r\nL 177.447298 80.394455 \r\nL 170.852201 86.271107 \r\nz\r\n\" style=\"fill:#00006a;\"/>\r\n    <path clip-path=\"url(#pbcae1333e6)\" d=\"M 112.637759 183.409729 \r\nL 112.585226 166.812441 \r\nL 124.661905 170.585301 \r\nL 124.613056 187.23561 \r\nz\r\n\" style=\"fill:#00006a;\"/>\r\n    <path clip-path=\"url(#pbcae1333e6)\" d=\"M 105.624213 190.06122 \r\nL 112.637759 183.409729 \r\nL 124.613056 187.23561 \r\nL 117.670259 193.955528 \r\nz\r\n\" style=\"fill:#000088;\"/>\r\n    <path clip-path=\"url(#pbcae1333e6)\" d=\"M 119.540985 141.373501 \r\nL 131.661659 145.017774 \r\nL 138.482296 138.729316 \r\nL 126.433665 135.149093 \r\nz\r\n\" style=\"fill:#0000c3;\"/>\r\n    <path clip-path=\"url(#pbcae1333e6)\" d=\"M 93.701058 186.20664 \r\nL 100.78356 179.622538 \r\nL 100.456922 144.037614 \r\nL 93.24234 150.421646 \r\nz\r\n\" style=\"fill:#00006a;\"/>\r\n    <path clip-path=\"url(#pbcae1333e6)\" d=\"M 156.607887 171.438222 \r\nL 168.611809 175.14248 \r\nL 170.852201 86.271107 \r\nL 158.298863 82.865244 \r\nz\r\n\" style=\"fill:#0000e1;\"/>\r\n    <path clip-path=\"url(#pbcae1333e6)\" d=\"M 105.624213 190.06122 \r\nL 105.51145 173.371962 \r\nL 112.585226 166.812441 \r\nL 112.637759 183.409729 \r\nz\r\n\" style=\"fill:#0000e1;\"/>\r\n    <path clip-path=\"url(#pbcae1333e6)\" d=\"M 81.898923 182.391184 \r\nL 93.701058 186.20664 \r\nL 93.24234 150.421646 \r\nL 81.228487 146.721882 \r\nz\r\n\" style=\"fill:#0000e1;\"/>\r\n    <path clip-path=\"url(#pbcae1333e6)\" d=\"M 117.670259 193.955528 \r\nL 124.613056 187.23561 \r\nL 124.661905 170.585301 \r\nL 117.660083 177.212881 \r\nz\r\n\" style=\"fill:#00006a;\"/>\r\n    <path clip-path=\"url(#pbcae1333e6)\" d=\"M 81.228487 146.721882 \r\nL 93.24234 150.421646 \r\nL 100.456922 144.037614 \r\nL 88.512688 140.403362 \r\nz\r\n\" style=\"fill:#0000c3;\"/>\r\n    <path clip-path=\"url(#pbcae1333e6)\" d=\"M 105.51145 173.371962 \r\nL 117.660083 177.212881 \r\nL 124.661905 170.585301 \r\nL 112.585226 166.812441 \r\nz\r\n\" style=\"fill:#0000c3;\"/>\r\n    <path clip-path=\"url(#pbcae1333e6)\" d=\"M 105.624213 190.06122 \r\nL 117.670259 193.955528 \r\nL 117.660083 177.212881 \r\nL 105.51145 173.371962 \r\nz\r\n\" style=\"fill:#0000e1;\"/>\r\n    <path clip-path=\"url(#pbcae1333e6)\" d=\"M 129.841106 197.890183 \r\nL 136.711319 191.100775 \r\nL 148.934449 195.005833 \r\nL 142.138703 201.865814 \r\nz\r\n\" style=\"fill:#000088;\"/>\r\n    <path clip-path=\"url(#pbcae1333e6)\" d=\"M 136.711319 191.100775 \r\nL 136.95765 164.089571 \r\nL 149.351603 167.907465 \r\nL 148.934449 195.005833 \r\nz\r\n\" style=\"fill:#00006a;\"/>\r\n    <path clip-path=\"url(#pbcae1333e6)\" d=\"M 129.841106 197.890183 \r\nL 129.994021 170.727783 \r\nL 136.95765 164.089571 \r\nL 136.711319 191.100775 \r\nz\r\n\" style=\"fill:#0000e1;\"/>\r\n    <path clip-path=\"url(#pbcae1333e6)\" d=\"M 158.298863 82.865244 \r\nL 170.852201 86.271107 \r\nL 177.447298 80.394455 \r\nL 164.972393 77.049565 \r\nz\r\n\" style=\"fill:#0000c3;\"/>\r\n    <path clip-path=\"url(#pbcae1333e6)\" d=\"M 142.138703 201.865814 \r\nL 148.934449 195.005833 \r\nL 149.351603 167.907465 \r\nL 142.464553 174.615643 \r\nz\r\n\" style=\"fill:#00006a;\"/>\r\n    <path clip-path=\"url(#pbcae1333e6)\" d=\"M 129.841106 197.890183 \r\nL 142.138703 201.865814 \r\nL 142.464553 174.615643 \r\nL 129.994021 170.727783 \r\nz\r\n\" style=\"fill:#0000e1;\"/>\r\n    <path clip-path=\"url(#pbcae1333e6)\" d=\"M 129.994021 170.727783 \r\nL 142.464553 174.615643 \r\nL 149.351603 167.907465 \r\nL 136.95765 164.089571 \r\nz\r\n\" style=\"fill:#0000c3;\"/>\r\n   </g>\r\n  </g>\r\n </g>\r\n <defs>\r\n  <clipPath id=\"pbcae1333e6\">\r\n   <rect height=\"217.44\" width=\"217.44\" x=\"7.2\" y=\"7.2\"/>\r\n  </clipPath>\r\n </defs>\r\n</svg>\r\n",
      "image/png": "[encoded data removed]"
     },
     "metadata": {
      "needs_background": "light"
     }
    }
   ],
   "source": [
    "def histograma (mapa_activaciones):\n",
    "    fig = plt.figure()\n",
    "    ax = fig.add_subplot(111, projection='3d')\n",
    "\n",
    "    xpos = [range(mapa_activaciones.shape[0])]\n",
    "    ypos = [range(mapa_activaciones.shape[1])]\n",
    "    xpos, ypos = np.meshgrid(xpos, ypos)\n",
    "    xpos = xpos.flatten('F')\n",
    "    ypos = ypos.flatten('F')\n",
    "    zpos = np.zeros_like(xpos)\n",
    "\n",
    "    dx = 0.5 * np.ones_like(zpos)\n",
    "    dy = dx.copy()\n",
    "    dz = mapa_activaciones.flatten()\n",
    "\n",
    "    ax.bar3d(xpos, ypos, zpos, dx, dy, dz, color='b',   zsort='average')\n",
    "\n",
    "    plt.show()\n",
    "\n",
    "histograma(mapa_activaciones)"
   ]
  }
 ]
}