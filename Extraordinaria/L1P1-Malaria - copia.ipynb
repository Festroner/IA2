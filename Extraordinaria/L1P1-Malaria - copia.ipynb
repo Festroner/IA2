{
 "metadata": {
  "language_info": {
   "codemirror_mode": {
    "name": "ipython",
    "version": 3
   },
   "file_extension": ".py",
   "mimetype": "text/x-python",
   "name": "python",
   "nbconvert_exporter": "python",
   "pygments_lexer": "ipython3",
   "version": "3.8.5"
  },
  "orig_nbformat": 2,
  "kernelspec": {
   "name": "python385jvsc74a57bd0bf08d5b11cafca2389f2905eb9ec8f2b4c0813376260f0cf76d5bcecc16af807",
   "display_name": "Python 3.8.5 64-bit ('base': conda)"
  }
 },
 "nbformat": 4,
 "nbformat_minor": 2,
 "cells": [
  {
   "cell_type": "code",
   "execution_count": 1,
   "metadata": {},
   "outputs": [],
   "source": [
    "import numpy as np\n",
    "import pandas as pd\n",
    "import math\n",
    "from matplotlib import pyplot as plt\n",
    "from matplotlib import patches as patches\n",
    "from tensorflow.keras.preprocessing import image_dataset_from_directory#,image\n",
    "from sklearn.model_selection import train_test_split\n",
    "import glob\n",
    "import cv2 as cv\n",
    "from statistics import mean"
   ]
  },
  {
   "source": [
    "## Declaración de variables"
   ],
   "cell_type": "markdown",
   "metadata": {}
  },
  {
   "cell_type": "code",
   "execution_count": 2,
   "metadata": {},
   "outputs": [],
   "source": [
    "lado_mapa = 5\n",
    "periodo = 500\n",
    "learning_rate = 0.01\n",
    "\n",
    "num_entradas = 1\n",
    "num_datos = 100\n",
    "dimensiones=[100,100]\n",
    "\n",
    "# Calcula el vecindario inicial. Debe ser la mitad del lado del mapa de Kohonen\n",
    "vecindario = lado_mapa/2\n",
    "\n",
    "\n",
    "matriz_pesos = np.random.random((lado_mapa,lado_mapa,dimensiones[0],dimensiones[1]))"
   ]
  },
  {
   "source": [
    "## Obtenemos las imagenes"
   ],
   "cell_type": "markdown",
   "metadata": {}
  },
  {
   "cell_type": "code",
   "execution_count": 3,
   "metadata": {},
   "outputs": [],
   "source": [
    "\n",
    "image_list = []#array que contendrá todas las imagenes\n",
    "\n",
    "#obtenemos las parasitadas\n",
    "for filename in glob.glob('cell_images\\cell_images\\Parasitized\\*.png'): #obtenemos los nombres de todas las imagenes \n",
    "    im=cv.imread(filename, cv.IMREAD_UNCHANGED)/255\n",
    "    im=cv.resize(im,dimensiones,interpolation=cv.INTER_AREA)\n",
    "    image_list.append(im)\n",
    "#obtenemos las no infectadas\n",
    "for filename in glob.glob(r'cell_images\\cell_images\\Uninfected\\*.png'): #obtenemos los nombres de todas las imagenes\n",
    "    im=cv.imread(filename, cv.IMREAD_UNCHANGED)/255\n",
    "    im=cv.resize(im,dimensiones,interpolation=cv.INTER_AREA)\n",
    "    image_list.append(im)"
   ]
  },
  {
   "cell_type": "code",
   "execution_count": 4,
   "metadata": {
    "tags": []
   },
   "outputs": [
    {
     "output_type": "stream",
     "name": "stdout",
     "text": [
      "27558\n"
     ]
    }
   ],
   "source": [
    "print(len(image_list))\n",
    "\n",
    "#utilizaremos esta funcion para mezclar los valores de la lista de imagenes y asi no estén juntas por la clase a la que pertenecen\n",
    "def mezclar_lista(lista_original):\n",
    "    lista = lista_original[:]\n",
    "    longitud_lista = len(lista)\n",
    "\n",
    "    for i in range(longitud_lista):\n",
    "        aleatorio = np.random.randint(0, longitud_lista - 1)\n",
    "        # Intercambiar\n",
    "        aux = lista[i]\n",
    "        lista[i] = lista[aleatorio]\n",
    "        lista[aleatorio] = aux\n",
    "    # Regresarla\n",
    "    return lista"
   ]
  },
  {
   "cell_type": "code",
   "execution_count": 5,
   "metadata": {
    "tags": []
   },
   "outputs": [
    {
     "output_type": "stream",
     "name": "stdout",
     "text": [
      "19290 8268\n"
     ]
    }
   ],
   "source": [
    "\n",
    "lista=mezclar_lista(image_list)\n",
    "#dividimos en 2 el dataset para valores de entrenamiento y valores de clasificación\n",
    "x_train, x_resto= train_test_split(image_list, test_size=0.3, shuffle=True)\n",
    "\n",
    "print(len(x_train), len(x_resto))\n",
    "    "
   ]
  },
  {
   "cell_type": "code",
   "execution_count": 6,
   "metadata": {},
   "outputs": [],
   "source": [
    "lado_mapa = 5\n",
    "periodo = 5000\n",
    "learning_rate = 0.1\n",
    "\n",
    "matriz_pesos = np.random.random((lado_mapa,lado_mapa,dimensiones[0],dimensiones[1],3))"
   ]
  },
  {
   "cell_type": "code",
   "execution_count": 7,
   "metadata": {},
   "outputs": [
    {
     "output_type": "execute_result",
     "data": {
      "text/plain": [
       "30000"
      ]
     },
     "metadata": {},
     "execution_count": 7
    }
   ],
   "source": [
    "len(x_train[0].flatten())"
   ]
  },
  {
   "source": [
    "## Definicion de funciones"
   ],
   "cell_type": "markdown",
   "metadata": {}
  },
  {
   "cell_type": "code",
   "execution_count": 8,
   "metadata": {},
   "outputs": [],
   "source": [
    "#Función para calcular la distancia euclidea\n",
    "def distancia(patron, peso):\n",
    "    distancia=0\n",
    "    comp=0\n",
    "    patron=patron.flatten()\n",
    "    peso=peso.flatten()\n",
    "    for i in range(patron.shape[0]):\n",
    "        #for j in range(patron.shape[1]):\n",
    "            #for k in range(patron.shape[2]):\n",
    "        comp+=(peso[i]-patron[i])**2\n",
    "            #print(i,j)\n",
    "    distancia=(comp)**0.5\n",
    "    return distancia\n",
    "\n",
    "# Función para encontrar la BMU\n",
    "\"\"\"\n",
    "   Encuentra la BMU para un patrón de entrada.\n",
    "   Entradas: (patrón_de_entrada, matriz_de_pesos, número_de_entradas)\n",
    "   Salidas:  (bmu, bmu_idx) tupla donde\n",
    "               bmu: vector de pesos de la neurona ganadora\n",
    "               bum_idx: coordenadas de la neurona ganadora\n",
    "\"\"\"\n",
    "def calcular_bmu(patron_entrada, m_pesos, m):\n",
    "    MenorDist=0\n",
    "    MejorVector=[]\n",
    "    a=[]\n",
    "    Resultado=0\n",
    "    idx=[]\n",
    "    \n",
    "    for i in range(m):\n",
    "        for j in range(m):\n",
    "            \n",
    "            a=m_pesos[i][j]\n",
    "            Resultado=distancia(patron_entrada, a)#distancia euclidea\n",
    "            if i == 0 and j==0 :#salvamos la primera iteracion\n",
    "                MenorDist=Resultado\n",
    "                MejorVector=m_pesos[i][j]\n",
    "                idx=[i,j]\n",
    "            else:\n",
    "                #si encuentra una distancia euclidea menor cambiamos\n",
    "                if MenorDist>Resultado:\n",
    "                    #print(m_pesos[i][j])\n",
    "                    MenorDist=Resultado\n",
    "                    MejorVector=m_pesos[i][j]\n",
    "                    idx=[i,j]\n",
    "         \n",
    " \n",
    "    return MejorVector,idx\n",
    "\n",
    "\n",
    "\n",
    "# Función para calcular el descenso del coeficiente de aprendizaje (eta)\n",
    "\"\"\"\n",
    "   Calcula el Learning Rate (eta) que corresponde a la i-ésima presentación.\n",
    "   Entradas: (learning_rate_inicial, iteracion, período)\n",
    "   Salidas:  learning_rate para la iteración i\n",
    "\n",
    "\"\"\"\n",
    "def variacion_learning_rate(lr_inicial, i, n_iteraciones):\n",
    "    \n",
    "    #lr_final = lr_inicial * (1 - i/n_iteraciones) \n",
    "    learning_rate = lr_inicial + (-lr_inicial/n_iteraciones)*i\n",
    "    return learning_rate\n",
    "\n",
    "#función para ajustar los pesos durante el entrenamiento\n",
    "def ajuste_Pesos(i,j,pesos):\n",
    "    total=0\n",
    "    for a in range(dimensiones[0]):\n",
    "        for b in range(dimensiones[1]):\n",
    "            total+=pesos[i][j][a][b]**2\n",
    "    return (total)**0.5\n",
    "\n",
    "\n",
    "# Función para calcular el descenso del vecindario (v)\n",
    "\"\"\"\n",
    "   Calcula el vecindario  (v) que corresponde a la i-ésima presentación.\n",
    "   Entradas: (vecindario_inicial, iteracion, período)\n",
    "   Salidas:  lvecindario para la iteración i\n",
    "\n",
    "\"\"\"\n",
    "def variacion_vecindario(vecindario_inicial, i, n_iteraciones):\n",
    "    \n",
    "    vecindario_i = 1 + vecindario_inicial * (1 - i/n_iteraciones)\n",
    "    return vecindario_i\n",
    "\n",
    "# Función para calcular el descenso del coeficiente de aprendizaje (eta) en función de la distancia a la BMU\n",
    "\"\"\"\n",
    "   Calcula la amortiguación de eta en función de la distancia en el mapa entre una neurona y la BMU.\n",
    "   Entradas: (distancia_BMU, vecindario_actual)\n",
    "   Salidas:  amortiguación para la iteración\n",
    "\n",
    "\"\"\"\n",
    "def decay(distancia_BMU, vecindario_actual):\n",
    "    return np.exp(-distancia_BMU**2 / (2*vecindario_actual**2))"
   ]
  },
  {
   "cell_type": "code",
   "execution_count": 9,
   "metadata": {},
   "outputs": [
    {
     "output_type": "execute_result",
     "data": {
      "text/plain": [
       "(100, 100, 3)"
      ]
     },
     "metadata": {},
     "execution_count": 9
    }
   ],
   "source": [
    "x_train[5].shape"
   ]
  },
  {
   "cell_type": "code",
   "execution_count": 10,
   "metadata": {},
   "outputs": [],
   "source": [
    "#a=[]\n",
    "#for filename in glob.glob(r'cell_images\\cell_images\\Parasitized\\*.png'): \n",
    "#    im=cv.imread(filename, cv.IMREAD_GRAYSCALE)\n",
    "#    im=cv.resize(im,dimensiones,interpolation=cv.INTER_AREA)\n",
    "#    a.append(im)\n",
    "#    break    \n",
    "#for i in range(100):\n",
    "#    cv.imshow('imagen',lista[i])\n",
    "#    cv.waitKey(0)\n"
   ]
  },
  {
   "source": [
    "## Entrenamiento"
   ],
   "cell_type": "markdown",
   "metadata": {}
  },
  {
   "cell_type": "code",
   "execution_count": 44,
   "metadata": {},
   "outputs": [
    {
     "output_type": "stream",
     "name": "stdout",
     "text": [
      "Vuelta nº:  0\n"
     ]
    }
   ],
   "source": [
    "# Entrena la red con el dataset de entrenamiento\n",
    "\n",
    "for i in range(len(x_train)):\n",
    "    azar=np.random.randint(0, len(x_train)) \n",
    "    patron=x_train[azar]#patron al azar\n",
    "    #patron=np.reshape(patron,(dimensiones[0],dimensiones[1]))\n",
    "    BMU, coordenadas = calcular_bmu(patron, matriz_pesos, lado_mapa)#encontramos la bmu y sus coordenadas\n",
    "    eta=variacion_learning_rate(learning_rate, i+1, periodo)#calculamos eta\n",
    "    v=variacion_vecindario(vecindario, i+1, periodo)#calculamos el vecindario\n",
    "    \n",
    "    #comprobamos cuales son las neuronas del vecindario de la BMU y les aplicamos el aprendizaje que les corresponde\n",
    "    for w in range(len(matriz_pesos)):\n",
    "        for j in range(len(matriz_pesos)):\n",
    "            deu= ((w-coordenadas[0])**2 + (j-coordenadas[1])**2 )**0.5 #calculamos la distancia del peso a la BMU\n",
    "            \n",
    "            if deu <= v :\n",
    "                amortiguacion= decay(deu, v) #calculamos la amortiguacion\n",
    "                matriz_pesos[w][j]= matriz_pesos[w][j]/ajuste_Pesos(w,j,matriz_pesos)#ajustamos el peso\n",
    "                matriz_pesos[w][j]= matriz_pesos[w][j] + eta*amortiguacion*(patron-matriz_pesos[w][j]) #aplicamos aprendizaje\n",
    "    if i%100==0:\n",
    "        print(\"Vuelta nº: \", i)"
   ]
  },
  {
   "cell_type": "code",
   "execution_count": 21,
   "metadata": {},
   "outputs": [],
   "source": [
    "#Función para calcular la distancia euclidea\n",
    "\n",
    "#Funcion para calcular el error de cuantificacion aplicando su formula\n",
    "def errorCuantificacion(dis):\n",
    "    contador = 0\n",
    "    error_cuantificacion = 0\n",
    "    \n",
    "    for j in range(dis.shape[0]):\n",
    "        for k in range(dis.shape[1]):\n",
    "            if dis[j][k] != 0:\n",
    "                contador+=1\n",
    "                error_cuantificacion += dis[j][k]\n",
    "                \n",
    "    error_cuantificacion = error_cuantificacion / contador\n",
    "    return error_cuantificacion\n",
    "\n",
    "\n",
    "#Funcion para calcular el error topológico aplicando su formula\n",
    "def errorTopologico(bmu1, bmu2):\n",
    "    if ((bmu2[0] == bmu1[0] + 1 or bmu2[0] == bmu1[0] - 1) and bmu2[1] == bmu1[1]) or (bmu2[0] == bmu1[0] and (bmu2[1] == bmu1[1] + 1 or bmu2[1] == bmu1[1] - 1)) or ((bmu2[0] == bmu1[0] - 1) and (bmu2[1] == bmu1[1] + 1 or bmu2[1] == bmu1[1] - 1)) or ((bmu2[0] == bmu1[0] + 1) and (bmu2[1] == bmu1[1] + 1 or bmu2[1] == bmu1[1] - 1)):\n",
    "        v = 0\n",
    "    else:\n",
    "        v = 1\n",
    "    return v\n",
    "\n",
    "#Calcular la segunda BMU\n",
    "def calcular2bmu(patron_entrada, m_pesos, m):\n",
    "    MenorDist = 999999\n",
    "    MenorDist2 = 999999\n",
    "    MejorVector  =  [0,0,0]\n",
    "    MejorVector2  =  [0,0,0]\n",
    "    a=[]\n",
    "    Resultado = 0\n",
    "    idx=[]\n",
    "    idx2=[]\n",
    "    \n",
    "    for i in range(len(m_pesos[0])):\n",
    "        for j in range(len(m_pesos[1])):\n",
    "            a = m_pesos[i][j]\n",
    "            Resultado = distancia(patron_entrada,a)\n",
    "            #print(i,j)\n",
    "            if Resultado< MenorDist:\n",
    "                #cambiamos la antigua mejor a la segunda mejor\n",
    "                MenorDist2=MenorDist\n",
    "                MejorVector2 = MejorVector\n",
    "                idx2 = idx\n",
    "                \n",
    "                #actualizamos la mejor\n",
    "                MenorDist=Resultado\n",
    "                MejorVector = m_pesos[i][j]\n",
    "                idx = [i,j]\n",
    "                #print(idx,idx2)\n",
    "                #print(MenorDist, MenorDist2)\n",
    "            elif Resultado<MenorDist2:\n",
    "                MenorDist2=Resultado\n",
    "                MejorVector2 = m_pesos[i][j]\n",
    "                idx2 = [i,j]\n",
    "\n",
    "     \n",
    "\n",
    "\n",
    "    return MenorDist,idx,MejorVector2, idx2\n",
    "\n"
   ]
  },
  {
   "cell_type": "code",
   "execution_count": 22,
   "metadata": {},
   "outputs": [],
   "source": [
    "def error_top(bmu1,bmu2):\n",
    "    v=0\n",
    "    d=((bmu1[0]-bmu2[0])**2+(bmu1[1]-bmu2[1])**2)**0.5\n",
    "    \n",
    "    if d>2**0.5:\n",
    "        v=1\n",
    "    else:\n",
    "        v=0\n",
    "    return v\n",
    "\n"
   ]
  },
  {
   "cell_type": "code",
   "execution_count": 37,
   "metadata": {
    "tags": []
   },
   "outputs": [
    {
     "output_type": "stream",
     "name": "stdout",
     "text": [
      "Vueltas: 0\n"
     ]
    },
    {
     "output_type": "error",
     "ename": "KeyboardInterrupt",
     "evalue": "",
     "traceback": [
      "\u001b[1;31m---------------------------------------------------------------------------\u001b[0m",
      "\u001b[1;31mKeyboardInterrupt\u001b[0m                         Traceback (most recent call last)",
      "\u001b[1;32m<ipython-input-37-d071c0fc9c21>\u001b[0m in \u001b[0;36m<module>\u001b[1;34m\u001b[0m\n\u001b[0;32m     13\u001b[0m \u001b[1;33m\u001b[0m\u001b[0m\n\u001b[0;32m     14\u001b[0m     \u001b[1;31m#BMU, coor = calcular_bmu(patron, matriz_pesos, lado_mapa) #BMU\u001b[0m\u001b[1;33m\u001b[0m\u001b[1;33m\u001b[0m\u001b[1;33m\u001b[0m\u001b[0m\n\u001b[1;32m---> 15\u001b[1;33m     \u001b[0mBMUdist\u001b[0m\u001b[1;33m,\u001b[0m \u001b[0mcoor\u001b[0m\u001b[1;33m,\u001b[0m \u001b[0mBMU2\u001b[0m\u001b[1;33m,\u001b[0m \u001b[0mcoor2\u001b[0m \u001b[1;33m=\u001b[0m \u001b[0mcalcular2bmu\u001b[0m\u001b[1;33m(\u001b[0m\u001b[0mpatron\u001b[0m\u001b[1;33m,\u001b[0m \u001b[0mmatriz_pesos\u001b[0m\u001b[1;33m,\u001b[0m \u001b[0mlado_mapa\u001b[0m\u001b[1;33m)\u001b[0m \u001b[1;31m#BMU2\u001b[0m\u001b[1;33m\u001b[0m\u001b[1;33m\u001b[0m\u001b[0m\n\u001b[0m\u001b[0;32m     16\u001b[0m \u001b[1;33m\u001b[0m\u001b[0m\n\u001b[0;32m     17\u001b[0m     \u001b[0mclasificacion\u001b[0m\u001b[1;33m[\u001b[0m\u001b[0mcoor\u001b[0m\u001b[1;33m[\u001b[0m\u001b[1;36m0\u001b[0m\u001b[1;33m]\u001b[0m\u001b[1;33m]\u001b[0m\u001b[1;33m[\u001b[0m\u001b[0mcoor\u001b[0m\u001b[1;33m[\u001b[0m\u001b[1;36m1\u001b[0m\u001b[1;33m]\u001b[0m\u001b[1;33m]\u001b[0m \u001b[1;33m=\u001b[0m \u001b[0mpatron\u001b[0m\u001b[1;31m#asignamos el ultimo patron reconocido por la neurona\u001b[0m\u001b[1;33m\u001b[0m\u001b[1;33m\u001b[0m\u001b[0m\n",
      "\u001b[1;32m<ipython-input-21-c0bf3f49b914>\u001b[0m in \u001b[0;36mcalcular2bmu\u001b[1;34m(patron_entrada, m_pesos, m)\u001b[0m\n\u001b[0;32m     40\u001b[0m             \u001b[0mResultado\u001b[0m \u001b[1;33m=\u001b[0m \u001b[0mdistancia\u001b[0m\u001b[1;33m(\u001b[0m\u001b[0mpatron_entrada\u001b[0m\u001b[1;33m,\u001b[0m\u001b[0ma\u001b[0m\u001b[1;33m)\u001b[0m\u001b[1;33m\u001b[0m\u001b[1;33m\u001b[0m\u001b[0m\n\u001b[0;32m     41\u001b[0m             \u001b[1;31m#print(i,j)\u001b[0m\u001b[1;33m\u001b[0m\u001b[1;33m\u001b[0m\u001b[1;33m\u001b[0m\u001b[0m\n\u001b[1;32m---> 42\u001b[1;33m             \u001b[1;32mif\u001b[0m \u001b[0mResultado\u001b[0m\u001b[1;33m<\u001b[0m \u001b[0mMenorDist\u001b[0m\u001b[1;33m:\u001b[0m\u001b[1;33m\u001b[0m\u001b[1;33m\u001b[0m\u001b[0m\n\u001b[0m\u001b[0;32m     43\u001b[0m                 \u001b[1;31m#cambiamos la antigua mejor a la segunda mejor\u001b[0m\u001b[1;33m\u001b[0m\u001b[1;33m\u001b[0m\u001b[1;33m\u001b[0m\u001b[0m\n\u001b[0;32m     44\u001b[0m                 \u001b[0mMenorDist2\u001b[0m\u001b[1;33m=\u001b[0m\u001b[0mMenorDist\u001b[0m\u001b[1;33m\u001b[0m\u001b[1;33m\u001b[0m\u001b[0m\n",
      "\u001b[1;31mKeyboardInterrupt\u001b[0m: "
     ]
    }
   ],
   "source": [
    "#Clasificacion los datos\n",
    "clasificacion = np.zeros((lado_mapa, lado_mapa, dimensiones[0],dimensiones[1],3))\n",
    "activacion = np.zeros((lado_mapa, lado_mapa))\n",
    "distancias = np.zeros((lado_mapa, lado_mapa))\n",
    "suma = 0\n",
    "clase = 0\n",
    "eTopo = 0\n",
    "\n",
    "\n",
    "for i in range(round(len(x_resto))):\n",
    "    patron=x_resto[i]#patron al azar\n",
    "    #patron=np.reshape(patron,(dimensiones[0],dimensiones[1]))\n",
    "    \n",
    "    #BMU, coor = calcular_bmu(patron, matriz_pesos, lado_mapa) #BMU\n",
    "    BMUdist, coor, BMU2, coor2 = calcular2bmu(patron, matriz_pesos, lado_mapa) #BMU2\n",
    "    \n",
    "    clasificacion[coor[0]][coor[1]] = patron#asignamos el ultimo patron reconocido por la neurona\n",
    "    activacion[coor[0]][coor[1]] += 1 #sumamos uno en la neurona activado\n",
    "    distancias[coor[0]][coor[1]] = distancias[coor[0]][coor[1]] + distancia(patron, BMUdist) #distancia media \n",
    "    eTopo += error_top(coor, coor2) # sumamos el error topologico\n",
    "    if i%100==0:\n",
    "        print(\"Vueltas:\", i)\n",
    "    #Calculamos el numero de la clases y guardamos la distancia media de las neuronas asociadas\n",
    "for g in range(activacion.shape[0]): \n",
    "    for t in range(activacion.shape[1]):\n",
    "        if  activacion[g][t] > 0:\n",
    "            clase+=1\n",
    "            distancias[g][t]=distancias[g][t]/activacion[g][t] \n",
    "      \n",
    "            \n",
    "nclases = clase\n",
    "mapa_activaciones = activacion\n",
    "mapa_distancia = distancias\n",
    "eCuanti = errorCuantificacion(distancias)\n",
    "eTopo = eTopo/len(x_resto)\n",
    "\n",
    "print(\"Mapa Distancias: \\n\", mapa_distancia)\n",
    "print(\"Mapa Activaciones: \\n\", mapa_activaciones)\n",
    "print(\"Clases:\", clase)\n",
    "print(\"Error Topologico:\", eTopo)\n",
    "print(\"Error cuantificacion:\", eCuanti)\n",
    "\n",
    "\n"
   ]
  },
  {
   "cell_type": "code",
   "execution_count": 14,
   "metadata": {},
   "outputs": [
    {
     "output_type": "stream",
     "name": "stdout",
     "text": [
      "Mapa Distancias: \n [[ 0.          0.          0.         52.82892575]\n [ 0.          0.          0.          0.        ]\n [ 0.          0.          0.          0.        ]\n [ 0.          0.          0.          0.        ]]\nMapa Activaciones: \n [[   0.    0.    0. 1378.]\n [   0.    0.    0.    0.]\n [   0.    0.    0.    0.]\n [   0.    0.    0.    0.]]\nClases: 1\nError Topologico: 0.04927788663908847\nError cuantificacion: 52.828925749811816\n"
     ]
    },
    {
     "output_type": "execute_result",
     "data": {
      "text/plain": [
       "4"
      ]
     },
     "metadata": {},
     "execution_count": 14
    }
   ],
   "source": [
    "print(\"Mapa Distancias: \\n\", mapa_distancia)\n",
    "print(\"Mapa Activaciones: \\n\", mapa_activaciones)\n",
    "print(\"Clases:\", clase)\n",
    "print(\"Error Topologico:\", eTopo)\n",
    "print(\"Error cuantificacion:\", eCuanti)\n",
    "lado_mapa"
   ]
  }
 ]
}