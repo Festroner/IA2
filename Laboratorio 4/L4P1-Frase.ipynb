{
 "cells": [
  {
   "cell_type": "code",
   "execution_count": 1,
   "metadata": {},
   "outputs": [],
   "source": [
    "import random\n",
    "import string\n",
    "from math import e\n",
    "from statistics import mode\n",
    "import time\n",
    "\n",
    "\n",
    "\n",
    "\n",
    "Frase='primavera verano'.capitalize()\n",
    "epocas=0\n",
    "numPoblacion=100\n",
    "generaciones=10000\n",
    "pMutacion=0.05\n",
    "resumen=generaciones/50\n",
    "muestra=generaciones/20\n",
    "\n",
    "\n",
    "\n",
    "#Genes posibles\n",
    "asci=string.ascii_uppercase + ' '\n",
    "letras=[]\n",
    "for i in range(len(asci)):\n",
    "    letras.append(asci[i])"
   ]
  },
  {
   "cell_type": "code",
   "execution_count": 2,
   "metadata": {},
   "outputs": [
    {
     "output_type": "execute_result",
     "data": {
      "text/plain": [
       "'R'"
      ]
     },
     "metadata": {},
     "execution_count": 2
    }
   ],
   "source": [
    "\n",
    "#(e**(1 - 15) - e**(-15))/ (e**( 1 - 15 ) - e**( -15 ) )\n",
    "random.choice(letras)"
   ]
  },
  {
   "cell_type": "code",
   "execution_count": 3,
   "metadata": {},
   "outputs": [],
   "source": [
    "\n",
    "def coincidencias(cadena,original):\n",
    "    num=0\n",
    "    for i in range(len(original)):\n",
    "        if cadena[i]==original[i]:\n",
    "            num+=1\n",
    "    return num\n",
    "\n",
    "\n",
    "def CalculoFitness(original, coincidencias):\n",
    "    return e**(coincidencias - len(original)) - e**(-len(original))\n",
    "    \n",
    "def CalculoProbSelec (fitness,coincide):\n",
    "    x=fitness / (e**( max(coincide) - len(Frase) ) - e**( -len(Frase) ) )\n",
    "    return x\n",
    "\n",
    "def MonteCarloSimple(lista):#Creamos la ruleta por sectores y elegimos un numero al azar max 100\n",
    "    #print(lista)\n",
    "    ruleta=[]\n",
    "    lista=[int(round(x*100)) for x in lista]\n",
    "    for i in range(len(lista)):\n",
    "        for j in range(lista[i]):\n",
    "            ruleta.append(i)\n",
    "    #print(max(ruleta))\n",
    "    elegido=random.randint(0,len(ruleta)-1)\n",
    "    return ruleta[elegido] # Esta funcion devuelve un 1 si solo son 2 valores (1 positivo, 0 negativo)\n",
    "\n",
    "def Mutacion(padre):#a traves de la frase del padre evaluamos uno a uno si los caracteres cambian\n",
    "    sustituto=''\n",
    "    #print(\"\\n\\n\", padre)\n",
    "    nueva=[]\n",
    "    for j in range(len(Frase)):\n",
    "        if MonteCarloSimple([1-pMutacion,pMutacion]) == 1:\n",
    "        #if random.random()<pMutacion:\n",
    "            sustituto=random.choice(letras)\n",
    "   #         print('Letra al azar:    ',sustituto)\n",
    "            #nueva=nueva.replace(nueva[j],sustituto)\n",
    "            nueva.append(sustituto)\n",
    "        else:\n",
    "            nueva.append(padre[j])\n",
    "                        \n",
    "    #print(nueva)        \n",
    "    return nueva\n",
    "\n",
    "\n",
    "\n"
   ]
  },
  {
   "cell_type": "code",
   "execution_count": 1,
   "metadata": {
    "tags": []
   },
   "outputs": [
    {
     "output_type": "error",
     "ename": "KeyboardInterrupt",
     "evalue": "",
     "traceback": [
      "\u001b[1;31m---------------------------------------------------------------------------\u001b[0m",
      "\u001b[1;31mKeyboardInterrupt\u001b[0m                         Traceback (most recent call last)",
      "\u001b[1;32m<ipython-input-1-dec9c5a2bd1b>\u001b[0m in \u001b[0;36m<module>\u001b[1;34m\u001b[0m\n\u001b[0;32m      1\u001b[0m \u001b[0mbreakpoint\u001b[0m\u001b[1;33m(\u001b[0m\u001b[1;33m)\u001b[0m\u001b[1;33m\u001b[0m\u001b[1;33m\u001b[0m\u001b[0m\n\u001b[0;32m      2\u001b[0m \u001b[0mprimera\u001b[0m\u001b[1;33m=\u001b[0m\u001b[1;32mTrue\u001b[0m\u001b[1;33m\u001b[0m\u001b[1;33m\u001b[0m\u001b[0m\n\u001b[1;32m----> 3\u001b[1;33m \u001b[0mpoblacion\u001b[0m\u001b[1;33m=\u001b[0m\u001b[1;33m[\u001b[0m\u001b[1;33m]\u001b[0m\u001b[1;33m\u001b[0m\u001b[1;33m\u001b[0m\u001b[0m\n\u001b[0m\u001b[0;32m      4\u001b[0m \u001b[0mprobabilidadP\u001b[0m\u001b[1;33m=\u001b[0m\u001b[1;33m[\u001b[0m\u001b[1;33m]\u001b[0m\u001b[1;33m\u001b[0m\u001b[1;33m\u001b[0m\u001b[0m\n\u001b[0;32m      5\u001b[0m \u001b[0mfitnes\u001b[0m\u001b[1;33m=\u001b[0m\u001b[1;33m[\u001b[0m\u001b[1;33m]\u001b[0m\u001b[1;33m\u001b[0m\u001b[1;33m\u001b[0m\u001b[0m\n",
      "\u001b[1;32m<ipython-input-1-dec9c5a2bd1b>\u001b[0m in \u001b[0;36m<module>\u001b[1;34m\u001b[0m\n\u001b[0;32m      1\u001b[0m \u001b[0mbreakpoint\u001b[0m\u001b[1;33m(\u001b[0m\u001b[1;33m)\u001b[0m\u001b[1;33m\u001b[0m\u001b[1;33m\u001b[0m\u001b[0m\n\u001b[0;32m      2\u001b[0m \u001b[0mprimera\u001b[0m\u001b[1;33m=\u001b[0m\u001b[1;32mTrue\u001b[0m\u001b[1;33m\u001b[0m\u001b[1;33m\u001b[0m\u001b[0m\n\u001b[1;32m----> 3\u001b[1;33m \u001b[0mpoblacion\u001b[0m\u001b[1;33m=\u001b[0m\u001b[1;33m[\u001b[0m\u001b[1;33m]\u001b[0m\u001b[1;33m\u001b[0m\u001b[1;33m\u001b[0m\u001b[0m\n\u001b[0m\u001b[0;32m      4\u001b[0m \u001b[0mprobabilidadP\u001b[0m\u001b[1;33m=\u001b[0m\u001b[1;33m[\u001b[0m\u001b[1;33m]\u001b[0m\u001b[1;33m\u001b[0m\u001b[1;33m\u001b[0m\u001b[0m\n\u001b[0;32m      5\u001b[0m \u001b[0mfitnes\u001b[0m\u001b[1;33m=\u001b[0m\u001b[1;33m[\u001b[0m\u001b[1;33m]\u001b[0m\u001b[1;33m\u001b[0m\u001b[1;33m\u001b[0m\u001b[0m\n",
      "\u001b[1;32m_pydevd_bundle/pydevd_cython.pyx\u001b[0m in \u001b[0;36m_pydevd_bundle.pydevd_cython.SafeCallWrapper.__call__\u001b[1;34m()\u001b[0m\n",
      "\u001b[1;32m_pydevd_bundle/pydevd_cython.pyx\u001b[0m in \u001b[0;36m_pydevd_bundle.pydevd_cython.PyDBFrame.trace_dispatch\u001b[1;34m()\u001b[0m\n",
      "\u001b[1;32m_pydevd_bundle/pydevd_cython.pyx\u001b[0m in \u001b[0;36m_pydevd_bundle.pydevd_cython.PyDBFrame.trace_dispatch\u001b[1;34m()\u001b[0m\n",
      "\u001b[1;32m_pydevd_bundle/pydevd_cython.pyx\u001b[0m in \u001b[0;36m_pydevd_bundle.pydevd_cython.PyDBFrame.trace_dispatch\u001b[1;34m()\u001b[0m\n",
      "\u001b[1;32m_pydevd_bundle/pydevd_cython.pyx\u001b[0m in \u001b[0;36m_pydevd_bundle.pydevd_cython.PyDBFrame.do_wait_suspend\u001b[1;34m()\u001b[0m\n",
      "\u001b[1;32mc:\\Users\\Festr\\.vscode\\extensions\\ms-python.python-2021.5.842923320\\pythonFiles\\lib\\python\\debugpy\\_vendored\\pydevd\\pydevd.py\u001b[0m in \u001b[0;36mdo_wait_suspend\u001b[1;34m(self, thread, frame, event, arg, exception_type)\u001b[0m\n\u001b[0;32m   1935\u001b[0m \u001b[1;33m\u001b[0m\u001b[0m\n\u001b[0;32m   1936\u001b[0m             \u001b[1;32mwith\u001b[0m \u001b[0mself\u001b[0m\u001b[1;33m.\u001b[0m\u001b[0m_threads_suspended_single_notification\u001b[0m\u001b[1;33m.\u001b[0m\u001b[0mnotify_thread_suspended\u001b[0m\u001b[1;33m(\u001b[0m\u001b[0mthread_id\u001b[0m\u001b[1;33m,\u001b[0m \u001b[0mstop_reason\u001b[0m\u001b[1;33m)\u001b[0m\u001b[1;33m:\u001b[0m\u001b[1;33m\u001b[0m\u001b[1;33m\u001b[0m\u001b[0m\n\u001b[1;32m-> 1937\u001b[1;33m                 \u001b[0mkeep_suspended\u001b[0m \u001b[1;33m=\u001b[0m \u001b[0mself\u001b[0m\u001b[1;33m.\u001b[0m\u001b[0m_do_wait_suspend\u001b[0m\u001b[1;33m(\u001b[0m\u001b[0mthread\u001b[0m\u001b[1;33m,\u001b[0m \u001b[0mframe\u001b[0m\u001b[1;33m,\u001b[0m \u001b[0mevent\u001b[0m\u001b[1;33m,\u001b[0m \u001b[0marg\u001b[0m\u001b[1;33m,\u001b[0m \u001b[0msuspend_type\u001b[0m\u001b[1;33m,\u001b[0m \u001b[0mfrom_this_thread\u001b[0m\u001b[1;33m,\u001b[0m \u001b[0mframes_tracker\u001b[0m\u001b[1;33m)\u001b[0m\u001b[1;33m\u001b[0m\u001b[1;33m\u001b[0m\u001b[0m\n\u001b[0m\u001b[0;32m   1938\u001b[0m \u001b[1;33m\u001b[0m\u001b[0m\n\u001b[0;32m   1939\u001b[0m         \u001b[0mframes_list\u001b[0m \u001b[1;33m=\u001b[0m \u001b[1;32mNone\u001b[0m\u001b[1;33m\u001b[0m\u001b[1;33m\u001b[0m\u001b[0m\n",
      "\u001b[1;32mc:\\Users\\Festr\\.vscode\\extensions\\ms-python.python-2021.5.842923320\\pythonFiles\\lib\\python\\debugpy\\_vendored\\pydevd\\pydevd.py\u001b[0m in \u001b[0;36m_do_wait_suspend\u001b[1;34m(self, thread, frame, event, arg, suspend_type, from_this_thread, frames_tracker)\u001b[0m\n\u001b[0;32m   1970\u001b[0m \u001b[1;33m\u001b[0m\u001b[0m\n\u001b[0;32m   1971\u001b[0m             \u001b[0mself\u001b[0m\u001b[1;33m.\u001b[0m\u001b[0mprocess_internal_commands\u001b[0m\u001b[1;33m(\u001b[0m\u001b[1;33m)\u001b[0m\u001b[1;33m\u001b[0m\u001b[1;33m\u001b[0m\u001b[0m\n\u001b[1;32m-> 1972\u001b[1;33m             \u001b[0mtime\u001b[0m\u001b[1;33m.\u001b[0m\u001b[0msleep\u001b[0m\u001b[1;33m(\u001b[0m\u001b[1;36m0.01\u001b[0m\u001b[1;33m)\u001b[0m\u001b[1;33m\u001b[0m\u001b[1;33m\u001b[0m\u001b[0m\n\u001b[0m\u001b[0;32m   1973\u001b[0m \u001b[1;33m\u001b[0m\u001b[0m\n\u001b[0;32m   1974\u001b[0m         \u001b[0mself\u001b[0m\u001b[1;33m.\u001b[0m\u001b[0mcancel_async_evaluation\u001b[0m\u001b[1;33m(\u001b[0m\u001b[0mget_current_thread_id\u001b[0m\u001b[1;33m(\u001b[0m\u001b[0mthread\u001b[0m\u001b[1;33m)\u001b[0m\u001b[1;33m,\u001b[0m \u001b[0mstr\u001b[0m\u001b[1;33m(\u001b[0m\u001b[0mid\u001b[0m\u001b[1;33m(\u001b[0m\u001b[0mframe\u001b[0m\u001b[1;33m)\u001b[0m\u001b[1;33m)\u001b[0m\u001b[1;33m)\u001b[0m\u001b[1;33m\u001b[0m\u001b[1;33m\u001b[0m\u001b[0m\n",
      "\u001b[1;31mKeyboardInterrupt\u001b[0m: "
     ]
    }
   ],
   "source": [
    "primera=True\n",
    "poblacion=[]\n",
    "probabilidadP=[]\n",
    "fitnes=[]\n",
    "coincide=[]\n",
    "\n",
    "print(\"Sentencia Target: \", Frase, \". Longitud: \", len(Frase))\n",
    "print(\"Poblacion total: \", numPoblacion, \". Generaciones máximas: \", generaciones, )\n",
    "print(\"Probabilidad de Mutacion: \", pMutacion, \"\\n\\n\")\n",
    "\n",
    "\n",
    "while True:\n",
    "    \n",
    "    while primera and epocas == 0:\n",
    "        poblacion=[]\n",
    "        coincide=[]\n",
    "        #Poblacion aleatoria\n",
    "        for i in range(numPoblacion):\n",
    "            frase=[]\n",
    "            \n",
    "            for j in range(len(Frase)):\n",
    "                frase.append(random.choice(letras))\n",
    "            poblacion.append(frase)\n",
    "            coincide.append(coincidencias(poblacion[i], Frase))\n",
    "        if max(coincide)!=0:\n",
    "            primera=False\n",
    "    #print(poblacion)\n",
    "    #Calculamos el fitness\n",
    "    if epocas==0:\n",
    "        for i in range(numPoblacion):\n",
    "            resul=CalculoFitness(Frase, coincide[i])#calculamos el fitnes de cada individuo\n",
    "            fitnes.append(resul)\n",
    "        \n",
    "\n",
    "    \n",
    "        \n",
    "    #Seleccion del padre\n",
    "    aleatorio=random.randint(0,numPoblacion-1)\n",
    "    Padre=empieza=aleatorio\n",
    "    Flag=False#False = aleatorioa --> final, True --> 0 --> aleatorio\n",
    "    numero=0\n",
    "    #print(\"Padre\",Padre, \"Probs: \", len(probabilidadP))\n",
    "    while Flag==False or Padre<=(empieza-1):\n",
    "        \n",
    "        #if Padre!=empieza:\n",
    "        #    \n",
    "        #    probabilidadP[aleatorio]=CalculoProbSelec(fitnes[aleatorio],coincide)\n",
    "            #[CalculoProbSelec(x,coincide) for x in fitnes]#Probabilidad de ser padre\n",
    "            #if max(probabilidadP)==0:\n",
    "            #    Padre=random.randrange(numPoblacion-1)\n",
    "            #else:\n",
    "            #Padre=MonteCarloSimple(1-probabilidadP[aleatorio])#Elegimos al padre\n",
    "        #coincide[Padre]=coincidencias(poblacion[Padre],Frase)\n",
    "        #fitnes[Padre]=CalculoFitness(Frase,coincide[Padre])\n",
    "        if fitnes[Padre]!=0:\n",
    "            #numero=random.random()\n",
    "\n",
    "            prb=CalculoProbSelec(fitnes[Padre],coincide)\n",
    "            #print(prb)\n",
    "            if   MonteCarloSimple([1-prb,prb]):#si es menor, se replica\n",
    "            #if MonteCarloSimple([1-probabilidadP[Padre], probabilidadP[Padre]])==1:\n",
    "                #Sustituimos uno aleatorio\n",
    "                aleatorio=random.randint(0,numPoblacion-1)\n",
    "                #Mutamos al cromosoma del padre\n",
    "                poblacion[aleatorio]=Mutacion(poblacion[Padre])\n",
    "                #calculamos su fitnes\n",
    "                coincide[aleatorio]=coincidencias(poblacion[aleatorio],Frase)\n",
    "                fitnes[aleatorio]=CalculoFitness(Frase,coincide[aleatorio])\n",
    "                #probabilidadP[aleatorio]=CalculoProbSelec(fitnes[aleatorio],coincide)\n",
    "\n",
    "        \n",
    "\n",
    "        if Padre==numPoblacion-1:\n",
    "            Padre=0\n",
    "            Flag=True\n",
    "        Padre+=1\n",
    "\n",
    "        \n",
    "    if epocas%resumen == 0 or epocas%muestra==0:\n",
    "        mejor=''\n",
    "        aparece=0\n",
    "        for i in range(numPoblacion):\n",
    "            if max(coincide)==coincide[i]:\n",
    "                mejor=poblacion[i]\n",
    "                aparece+=1\n",
    "        #individuo de consenso\n",
    "        consenso='prueba'\n",
    "        #for i in range(len(Frase)):\n",
    "        #    posicion=[]\n",
    "        #    for j in range(numPoblacion):\n",
    "        #        posicion.append(poblacion[j][i])\n",
    "        #    consenso.append(mode(posicion))\n",
    "        \n",
    "        print(\"Generacion nº: \", epocas)\n",
    "        b=''\n",
    "        for i in range(len(Frase)):\n",
    "                    b+=mejor[i]\n",
    "        \n",
    "        print(\"Mejor individuo: \", b, \". Coincidencias: \", max(coincide), \"NTAR: \", aparece, \" %NTAR (\",(aparece/numPoblacion)*100, \"%)\")\n",
    "        if epocas%muestra==0:\n",
    "            print('Individuo de consenso: ', consenso, '. Coincidencias de media: ', sum(coincide)/numPoblacion) \n",
    "            print(\"Muestreo de la poblacion: \")\n",
    "            mostrados=[]\n",
    "            \n",
    "            for i in range(int(round(numPoblacion/5))):\n",
    "                a=''\n",
    "                for j in range(len(Frase)):\n",
    "                    a+=poblacion[i][j]\n",
    "                mostrados.append(a)\n",
    "            print(mostrados)\n",
    "        else:\n",
    "            print('Individuo de consenso: ', consenso, '. Coincidencias de media: ', sum(coincide)/numPoblacion, \"\\n\\n\") \n",
    "\n",
    "    if max(coincide)==len(Frase):\n",
    "        print(\"solucion encontrada: \", poblacion)\n",
    "        print(coincide)\n",
    "        break\n",
    "    if epocas == generaciones:\n",
    "        break\n",
    "    epocas+=1\n",
    "    \n",
    "\n",
    "\n",
    "\n"
   ]
  },
  {
   "cell_type": "code",
   "execution_count": 5,
   "metadata": {},
   "outputs": [
    {
     "output_type": "stream",
     "name": "stdout",
     "text": [
      "PEZHBOACP DLIMDG\nPPZHBOACK DBIOPG\nPCZ MGAPP NLFTPG\nPPZABPACP DLIMPG\nPPZRBOACP DBIOPG\nPCZ MGAPP NLITPG\nFPZABOACP DLCGPS\nPQL BGAMP NLITPG\nPQL BGAMP NLITPG\nPPZABOACP DLIMPG\n"
     ]
    }
   ],
   "source": [
    "for i in range(int(round(numPoblacion))):\n",
    "                a=''\n",
    "                for j in range(len(Frase)):\n",
    "                    a+=poblacion[i][j]\n",
    "                print(a)"
   ]
  },
  {
   "cell_type": "code",
   "execution_count": 37,
   "metadata": {},
   "outputs": [
    {
     "output_type": "stream",
     "name": "stdout",
     "text": [
      "\n\n ['P', 'P', 'Z', 'R', 'B', 'O', 'A', 'C', 'P', ' ', 'D', 'B', 'I', 'O', 'P', 'G']\n['P', 'P', 'Z', 'R', 'B', 'O', 'A', 'C', 'P', ' ', 'D', 'B', 'I', 'O', 'P', 'G']\n"
     ]
    }
   ],
   "source": [
    "sustituto=''\n",
    "print(\"\\n\\n\",poblacion[4])\n",
    "nueva=[]\n",
    "for j in range(len(Frase)):\n",
    "    #if MonteCarloSimple([1-pMutacion,pMutacion]) == 1:\n",
    "    if random.random()<pMutacion:\n",
    "        sustituto=random.choice(letras)\n",
    "        print('Letra al azar:    ',sustituto)\n",
    "        #nueva=nueva.replace(nueva[j],sustituto)\n",
    "        nueva.append(sustituto)\n",
    "    else:\n",
    "        nueva.append(poblacion[4][j])\n",
    "print(nueva)"
   ]
  },
  {
   "cell_type": "code",
   "execution_count": 7,
   "metadata": {},
   "outputs": [
    {
     "output_type": "stream",
     "name": "stdout",
     "text": [
      "26\n"
     ]
    }
   ],
   "source": [
    "num=0\n",
    "for i in range(100):\n",
    "    if random.random()<0.26894142136999516:\n",
    "        num+=1\n",
    "print(num)\n",
    "\n"
   ]
  }
 ],
 "metadata": {
  "kernelspec": {
   "name": "python385jvsc74a57bd0bf08d5b11cafca2389f2905eb9ec8f2b4c0813376260f0cf76d5bcecc16af807",
   "display_name": "Python 3.8.5 64-bit ('base': conda)"
  },
  "language_info": {
   "codemirror_mode": {
    "name": "ipython",
    "version": 3
   },
   "file_extension": ".py",
   "mimetype": "text/x-python",
   "name": "python",
   "nbconvert_exporter": "python",
   "pygments_lexer": "ipython3",
   "version": "3.8.5"
  },
  "metadata": {
   "interpreter": {
    "hash": "57baa5815c940fdaff4d14510622de9616cae602444507ba5d0b6727c008cbd6"
   }
  }
 },
 "nbformat": 4,
 "nbformat_minor": 4
}