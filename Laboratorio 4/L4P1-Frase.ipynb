{
 "metadata": {
  "language_info": {
   "codemirror_mode": {
    "name": "ipython",
    "version": 3
   },
   "file_extension": ".py",
   "mimetype": "text/x-python",
   "name": "python",
   "nbconvert_exporter": "python",
   "pygments_lexer": "ipython3",
   "version": "3.7.8"
  },
  "orig_nbformat": 2,
  "kernelspec": {
   "name": "python378jvsc74a57bd057baa5815c940fdaff4d14510622de9616cae602444507ba5d0b6727c008cbd6",
   "display_name": "Python 3.7.8 64-bit"
  },
  "metadata": {
   "interpreter": {
    "hash": "57baa5815c940fdaff4d14510622de9616cae602444507ba5d0b6727c008cbd6"
   }
  }
 },
 "nbformat": 4,
 "nbformat_minor": 2,
 "cells": [
  {
   "cell_type": "code",
   "execution_count": 21,
   "metadata": {},
   "outputs": [],
   "source": [
    "import random\n",
    "import string\n",
    "import math\n",
    "\n",
    "Frase='Me llamo Imanol'.lower\n",
    "numPoblacion=5\n",
    "generaciones=10\n",
    "pMutacion=0.3\n",
    "resumen=2\n",
    "muestra=5"
   ]
  },
  {
   "cell_type": "code",
   "execution_count": 25,
   "metadata": {},
   "outputs": [],
   "source": [
    "def binario (cadena):\n",
    "#La funcion recibe la cadena y devuelve un array.\n",
    "#Cada posicion del array representa una letra de la cadena\n",
    "\n",
    "    bits=[]\n",
    "\n",
    "    for letra in bytearray(cadena, \"utf8\"):\n",
    "        binario=bin(letra)\n",
    "        bits.append(binario)\n",
    "        \n",
    "    return bits\n",
    "\n",
    "\n",
    "def natural (binario):\n",
    "    #La funcion recibe el array con todos los caracteres en binario\n",
    "    #devuelve la cadena en lengueje natural\n",
    "    texto=''\n",
    "\n",
    "    for i in range(len(binario)):\n",
    "        texto+=chr(int(binario[i],2))\n",
    "\n",
    "    return texto\n",
    "\n",
    "\n",
    "def coincidencias(cadena,original):\n",
    "    num=0\n",
    "    for i in range(len(original)):\n",
    "        if cadena[i]==original[0]:\n",
    "            num+=1\n",
    "    return num\n",
    "\n",
    "\n",
    "def fitness(cadena, original, coincidencias):\n",
    "    return math.exp(coincidencias - len(original)) - math.exp(-len(original))\n"
   ]
  },
  {
   "cell_type": "code",
   "execution_count": 17,
   "metadata": {},
   "outputs": [
    {
     "output_type": "stream",
     "name": "stdout",
     "text": [
      "Me llamo imanol\n"
     ]
    }
   ],
   "source": [
    "poblacion=[]\n",
    "fitnes=[]\n",
    "letras=string.ascii_lowercase\n",
    "\n",
    "#Poblacion aleatoria\n",
    "for i in range(numPoblacion):\n",
    "    poblacion.append(''.join(random.choice(letras) for j in range(len(Frase))))\n",
    "\n",
    "#Calculamos el fitness\n",
    "for i in range(numPoblacion):\n",
    "    coincide=coincidencias(poblacion[i], Frase)\n",
    "    fitnes= fitness(poblacion[i], Frase, coincide)\n",
    "    "
   ]
  }
 ]
}