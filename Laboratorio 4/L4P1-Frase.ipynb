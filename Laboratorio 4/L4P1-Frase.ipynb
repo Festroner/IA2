{
 "cells": [
  {
   "cell_type": "code",
   "execution_count": 1,
   "metadata": {},
   "outputs": [],
   "source": [
    "import random\n",
    "import string\n",
    "from math import e\n",
    "from statistics import mode\n",
    "import time\n",
    "\n",
    "\n",
    "\n",
    "\n",
    "Frase='ANIMULA  VAGULA  BLANDULA'.upper()\n",
    "epocas=0\n",
    "numPoblacion=500\n",
    "generaciones=100000\n",
    "pMutacion=0.0065\n",
    "resumen=generaciones/50\n",
    "muestra=generaciones/20\n",
    "\n",
    "\n",
    "\n",
    "#Genes posibles\n",
    "asci=string.ascii_uppercase + ' '\n",
    "letras=[]\n",
    "for i in range(len(asci)):\n",
    "    letras.append(asci[i])"
   ]
  },
  {
   "cell_type": "code",
   "execution_count": 2,
   "metadata": {},
   "outputs": [
    {
     "output_type": "execute_result",
     "data": {
      "text/plain": [
       "'Z'"
      ]
     },
     "metadata": {},
     "execution_count": 2
    }
   ],
   "source": [
    "\n",
    "#(e**(1 - 15) - e**(-15))/ (e**( 1 - 15 ) - e**( -15 ) )\n",
    "random.choice(letras)"
   ]
  },
  {
   "cell_type": "code",
   "execution_count": 3,
   "metadata": {},
   "outputs": [],
   "source": [
    "\n",
    "def coincidencias(cadena,original):\n",
    "    num=0\n",
    "    for i in range(len(original)):\n",
    "        if cadena[i]==original[i]:\n",
    "            num+=1\n",
    "    return num\n",
    "\n",
    "\n",
    "def CalculoFitness(original, coincidencias):\n",
    "    return e**(coincidencias - len(original)) - e**(-len(original))\n",
    "    \n",
    "def CalculoProbSelec (fitness,coincide):\n",
    "    x=fitness / (e**( max(coincide) - len(Frase) ) - e**( -len(Frase) ) )\n",
    "    return x\n",
    "\n",
    "def MonteCarloSimple(lista):#Creamos la ruleta por sectores y elegimos un numero al azar max 100\n",
    "    #print(lista)\n",
    "    ruleta=[]\n",
    "    lista=[int(round(x*100)) for x in lista]\n",
    "    for i in range(len(lista)):\n",
    "        for j in range(lista[i]):\n",
    "            ruleta.append(i)\n",
    "    #print(max(ruleta))\n",
    "    elegido=random.randint(0,len(ruleta)-1)\n",
    "    return ruleta[elegido] # Esta funcion devuelve un 1 si solo son 2 valores (1 positivo, 0 negativo)\n",
    "\n",
    "def Mutacion(padre):#a traves de la frase del padre evaluamos uno a uno si los caracteres cambian\n",
    "    sustituto=''\n",
    "    #print(\"\\n\\n\", padre)\n",
    "    nueva=[]\n",
    "    for j in range(len(Frase)):\n",
    "        if MonteCarloSimple([1-pMutacion,pMutacion]) == 1:\n",
    "        #if random.random()<pMutacion:\n",
    "            sustituto=random.choice(letras)\n",
    "   #         print('Letra al azar:    ',sustituto)\n",
    "            #nueva=nueva.replace(nueva[j],sustituto)\n",
    "            nueva.append(sustituto)\n",
    "        else:\n",
    "            nueva.append(padre[j])\n",
    "                        \n",
    "    #print(nueva)        \n",
    "    return nueva\n",
    "\n",
    "\n",
    "\n"
   ]
  },
  {
   "cell_type": "code",
   "execution_count": 4,
   "metadata": {
    "tags": [
     "outputPrepend"
    ]
   },
   "outputs": [
    {
     "output_type": "stream",
     "name": "stdout",
     "text": [
      "'V', 'A', 'G', 'U', 'L', 'A', 'K', ' ', 'B', 'L', 'A', 'N', 'D', 'U', 'L', 'A'], ['C', 'N', 'I', 'M', 'B', 'L', 'A', ' ', ' ', 'V', 'A', 'G', 'U', 'L', 'A', ' ', ' ', 'B', 'L', 'A', 'N', 'D', 'U', 'L', 'A'], ['C', 'N', 'I', 'M', 'U', 'L', 'A', ' ', ' ', 'V', 'A', 'G', 'U', 'L', 'A', ' ', ' ', 'B', 'L', 'A', 'N', 'D', 'U', 'L', 'A'], ['W', 'N', 'I', 'M', 'U', 'L', 'A', ' ', ' ', 'V', 'A', 'G', 'U', 'L', 'A', ' ', ' ', 'B', 'L', 'A', 'N', 'D', 'U', 'L', 'A'], ['C', 'N', 'I', 'M', 'U', 'L', 'A', ' ', ' ', 'V', 'A', 'G', 'U', 'L', 'A', ' ', ' ', 'B', 'L', 'A', 'N', 'D', 'U', 'L', 'A'], ['C', 'N', 'I', 'M', 'U', 'L', 'A', ' ', ' ', 'V', 'A', 'G', 'U', 'L', 'A', ' ', ' ', 'B', 'L', 'A', 'N', 'D', 'U', 'L', 'A'], ['C', 'N', 'I', 'M', 'U', 'L', 'A', ' ', ' ', 'V', 'A', 'G', 'U', 'C', 'A', ' ', ' ', 'B', 'L', 'A', 'N', 'D', 'U', 'L', 'A'], ['C', 'N', 'I', 'M', 'U', 'L', 'A', ' ', ' ', 'V', 'A', 'G', 'U', 'L', 'A', ' ', ' ', 'B', 'L', 'A', 'N', 'D', 'U', 'L', 'A'], ['C', 'N', 'I', 'M', 'U', 'L', 'A', ' ', ' ', 'V', 'A', 'G', 'F', 'L', 'A', ' ', ' ', 'B', 'L', 'A', 'N', 'D', 'U', 'L', 'A'], ['F', 'N', 'I', 'M', 'U', ' ', 'A', ' ', ' ', 'V', 'A', 'G', 'U', 'L', 'A', ' ', ' ', 'B', 'L', 'A', 'N', 'D', 'U', 'L', 'A'], ['C', 'N', 'I', 'M', 'U', 'L', 'A', ' ', ' ', 'X', 'A', 'G', 'U', 'L', 'A', ' ', ' ', 'B', 'L', 'A', 'N', 'D', 'U', 'L', 'A'], ['C', 'N', 'I', 'M', 'U', 'L', 'A', ' ', ' ', 'V', 'A', 'G', 'U', 'L', 'A', ' ', ' ', 'B', 'L', 'A', 'N', 'D', 'U', 'L', 'A'], ['C', 'N', 'I', 'M', 'U', 'L', 'A', ' ', ' ', 'V', 'A', 'G', 'U', 'L', 'A', ' ', ' ', 'B', 'L', 'A', 'N', 'D', 'U', 'L', 'A'], ['C', 'N', 'I', 'M', 'U', 'L', 'A', ' ', ' ', 'V', 'A', 'G', 'U', 'L', 'A', ' ', ' ', 'B', 'L', 'A', 'N', 'D', 'U', 'L', 'A'], ['C', 'N', 'I', 'M', 'U', 'L', 'A', ' ', ' ', 'F', 'A', 'G', 'U', 'L', 'A', ' ', ' ', 'B', 'L', 'A', 'N', 'D', 'U', 'L', 'A'], ['X', 'N', 'I', 'M', 'U', 'L', 'A', ' ', ' ', 'V', 'A', 'G', 'U', 'L', 'A', ' ', ' ', 'B', 'L', 'A', 'N', 'D', 'U', 'L', 'A'], ['C', 'N', 'I', 'M', 'U', 'L', 'A', ' ', ' ', 'V', 'A', 'G', 'U', 'L', 'A', ' ', ' ', 'B', 'L', 'A', 'N', 'D', 'U', 'L', 'A'], ['C', 'N', 'I', 'M', 'U', 'L', 'A', ' ', ' ', 'V', 'A', 'G', 'U', 'L', 'A', ' ', ' ', 'B', 'L', 'A', 'N', 'D', 'U', 'L', 'A'], ['C', 'N', 'I', 'M', 'U', 'L', 'A', ' ', ' ', 'V', 'A', 'G', 'U', 'L', 'A', ' ', ' ', 'B', 'L', 'A', 'N', 'D', 'U', 'L', 'A'], ['C', 'N', 'I', 'M', 'U', ' ', 'A', ' ', ' ', 'V', 'A', 'G', 'U', 'L', 'A', ' ', ' ', 'B', 'L', 'A', 'N', 'D', 'U', 'L', 'A'], ['C', 'N', 'I', 'M', 'U', 'L', 'A', ' ', ' ', 'V', 'A', 'G', 'U', 'L', 'A', ' ', ' ', 'B', 'L', 'A', 'N', 'D', 'U', 'L', 'A'], ['C', 'N', 'I', 'M', 'U', 'L', 'A', ' ', ' ', 'V', 'A', 'G', 'U', 'L', 'A', ' ', ' ', 'B', 'L', 'A', 'N', 'D', 'U', 'L', 'A'], ['C', 'O', 'I', 'M', 'U', 'F', 'A', ' ', ' ', 'V', 'A', 'G', 'U', 'L', 'A', ' ', ' ', 'B', 'L', 'A', 'N', 'D', 'U', 'L', 'A'], ['X', 'N', 'I', 'M', 'U', 'L', 'A', ' ', ' ', 'V', 'A', 'G', 'U', 'L', 'A', ' ', ' ', 'B', 'L', 'A', 'N', 'D', 'U', 'L', 'A'], ['C', 'E', 'I', 'M', 'U', 'L', 'A', ' ', ' ', 'V', 'A', 'G', 'U', 'E', 'A', ' ', ' ', 'B', 'L', 'A', 'N', 'D', 'U', 'L', 'A'], ['C', 'N', 'I', 'M', 'U', 'L', 'A', 'K', ' ', 'V', 'A', 'G', 'U', 'L', 'A', ' ', ' ', 'B', 'L', 'A', 'N', 'D', 'U', 'L', 'A'], ['W', 'N', 'I', 'M', 'U', 'L', 'A', ' ', ' ', 'V', 'A', 'G', 'U', 'L', 'A', ' ', ' ', 'B', 'L', 'A', 'N', 'D', 'U', 'L', 'A'], ['W', 'N', 'I', 'M', 'U', 'L', 'A', ' ', ' ', 'V', 'A', 'G', 'U', 'L', 'A', ' ', ' ', 'B', 'L', 'A', 'N', 'D', 'U', 'L', 'A'], ['C', 'N', 'I', 'M', 'U', 'L', 'A', ' ', ' ', 'V', 'A', 'G', 'U', 'L', 'A', ' ', ' ', 'B', 'L', 'A', 'N', 'D', 'U', 'L', 'A'], ['C', 'N', 'I', 'M', 'U', 'L', 'A', ' ', ' ', 'V', 'A', 'G', 'U', 'L', 'A', ' ', ' ', 'B', 'L', 'A', 'N', 'D', 'U', 'L', 'A'], ['W', 'N', 'I', 'M', 'U', 'L', 'A', ' ', ' ', 'V', 'A', 'G', 'U', 'L', 'A', ' ', ' ', 'B', 'L', 'A', 'N', 'D', 'U', 'L', 'A'], ['C', 'N', 'I', 'M', 'U', 'L', 'A', ' ', ' ', 'V', 'A', 'G', 'U', 'L', 'A', ' ', ' ', 'B', 'L', 'A', 'N', 'D', 'U', 'L', 'A'], ['C', 'N', 'I', 'M', 'U', 'L', 'A', ' ', ' ', 'V', 'A', 'G', 'U', 'L', 'A', ' ', ' ', 'B', 'L', 'A', 'N', 'D', 'U', 'L', 'A'], ['C', 'N', 'I', 'M', 'U', 'L', 'A', 'Q', ' ', 'V', 'A', 'G', 'U', 'L', 'A', ' ', ' ', 'B', 'L', 'A', 'N', 'D', 'U', 'L', 'A'], ['C', 'N', 'I', 'M', 'U', 'L', 'A', ' ', ' ', 'V', 'A', 'G', 'U', 'L', 'A', ' ', ' ', 'B', 'L', 'A', 'N', 'D', 'U', 'L', 'A'], ['C', 'N', 'I', 'M', 'U', 'L', 'A', ' ', ' ', 'V', 'A', 'G', 'U', 'L', 'A', ' ', ' ', 'B', 'L', 'A', 'N', 'D', 'U', 'L', 'A'], ['C', 'N', 'I', 'M', 'U', 'L', 'A', ' ', ' ', 'V', 'A', 'G', 'U', 'L', 'A', ' ', ' ', 'B', 'L', 'A', 'N', 'D', 'U', 'L', 'A'], ['A', 'N', 'I', 'M', 'U', 'L', 'A', ' ', ' ', 'V', 'A', 'G', 'U', 'L', 'A', ' ', ' ', 'B', 'L', 'A', 'N', 'D', 'U', 'L', 'A'], ['W', 'N', 'I', 'M', 'U', 'L', 'A', ' ', ' ', 'V', 'A', 'G', 'U', 'L', 'A', ' ', ' ', 'B', 'L', 'A', 'N', 'D', 'U', 'L', 'A'], ['C', ' ', 'I', 'M', 'U', 'L', 'A', ' ', ' ', 'V', 'A', 'G', 'U', 'L', 'A', ' ', ' ', 'B', 'L', 'A', 'N', 'D', 'U', 'L', 'A'], ['C', 'N', 'I', 'M', 'U', 'L', 'A', ' ', ' ', 'V', 'A', 'G', 'U', 'L', 'A', ' ', ' ', 'B', 'L', 'A', 'N', 'D', 'U', 'L', 'A'], ['C', 'E', 'I', 'M', 'U', 'L', 'A', 'X', ' ', 'V', 'A', 'G', 'U', 'L', 'A', ' ', ' ', 'B', 'L', 'A', 'N', 'D', 'U', 'L', 'A'], ['C', 'N', 'I', 'M', 'U', 'L', 'A', ' ', ' ', 'V', 'A', 'G', 'U', 'L', 'A', ' ', ' ', 'B', 'L', 'A', 'N', 'D', 'U', 'L', 'A'], ['W', 'N', 'I', 'M', 'U', 'L', 'A', ' ', ' ', 'V', 'A', 'G', 'U', 'L', 'A', ' ', ' ', 'B', 'L', 'A', 'N', 'W', 'U', 'L', 'A'], ['C', 'N', 'I', 'M', 'U', 'L', 'A', ' ', ' ', 'V', 'A', 'G', 'U', 'L', 'A', ' ', ' ', 'B', 'L', 'A', 'N', 'D', 'U', 'L', 'A'], ['C', 'N', 'I', 'M', 'U', 'L', 'A', ' ', ' ', 'V', 'A', 'G', 'U', 'L', 'A', ' ', ' ', 'B', 'L', 'A', 'N', 'D', 'U', 'L', 'A'], ['W', 'N', 'I', 'M', 'U', 'L', 'A', ' ', ' ', 'V', 'A', 'G', 'U', 'L', 'A', ' ', ' ', 'B', 'L', 'A', 'N', 'D', 'U', 'L', 'A'], ['C', 'N', 'I', 'M', 'U', 'L', 'A', ' ', ' ', 'V', 'A', 'G', 'U', 'L', 'A', ' ', ' ', 'B', 'L', 'A', 'N', 'D', 'U', 'L', 'A'], ['W', 'N', 'I', 'M', 'U', 'L', 'A', ' ', ' ', 'V', 'A', 'G', 'U', 'L', 'A', ' ', ' ', 'B', 'L', 'A', 'N', 'D', 'U', 'L', 'A'], ['C', 'N', 'I', 'M', 'U', 'L', 'A', ' ', ' ', 'V', 'A', 'G', 'U', 'L', 'A', ' ', ' ', 'B', 'L', 'A', 'N', 'D', 'U', 'L', 'A'], ['C', 'N', 'I', 'M', 'U', 'L', 'A', ' ', ' ', 'V', 'A', 'G', 'U', 'L', 'A', ' ', ' ', 'B', 'L', 'A', 'N', 'D', 'U', 'L', 'A'], ['W', 'N', 'I', 'M', 'U', 'L', 'A', ' ', ' ', 'V', 'A', 'G', 'U', 'L', 'A', ' ', ' ', 'B', 'L', 'A', 'N', 'D', 'U', 'L', 'A'], ['C', 'N', 'I', 'M', 'U', 'L', 'A', ' ', ' ', 'V', 'A', 'G', 'U', 'L', 'A', ' ', ' ', 'B', 'L', 'A', 'N', 'D', 'U', 'L', 'A'], ['C', 'N', 'I', 'M', 'U', 'L', 'A', ' ', ' ', 'V', 'A', 'G', 'U', 'L', 'A', ' ', ' ', 'B', 'L', 'A', 'N', 'D', 'U', 'L', 'A'], ['W', 'N', 'I', 'M', 'U', 'L', 'A', ' ', ' ', 'V', 'Z', 'G', 'U', 'L', 'A', ' ', ' ', 'B', 'L', 'A', 'N', 'D', 'U', 'L', 'A'], ['C', 'N', 'I', 'M', 'U', 'L', 'A', ' ', ' ', 'V', 'A', 'G', 'U', 'L', 'A', ' ', ' ', 'B', 'L', 'A', 'N', 'D', 'U', 'L', 'A'], ['B', 'N', 'I', 'M', 'U', 'L', 'A', ' ', ' ', 'V', 'Y', 'G', 'U', 'L', 'A', ' ', ' ', 'B', 'L', 'A', 'N', 'D', 'U', 'L', 'A'], ['C', 'N', 'I', 'M', 'U', 'L', 'A', ' ', ' ', 'V', 'A', 'G', 'U', 'L', 'A', ' ', ' ', 'B', 'L', 'R', 'N', 'D', 'U', 'L', 'A'], ['C', 'N', 'I', 'M', 'U', 'L', 'A', ' ', ' ', 'V', 'A', 'G', 'U', 'L', 'A', ' ', ' ', 'B', 'L', 'A', 'N', 'D', 'U', 'L', 'A'], ['C', 'N', 'I', 'M', 'U', 'L', 'A', ' ', ' ', 'V', 'A', 'G', 'U', 'L', 'A', ' ', 'O', 'B', 'L', 'A', 'N', 'D', 'U', 'L', 'A'], ['C', 'N', 'I', 'M', 'U', 'L', 'A', ' ', ' ', 'X', 'A', 'G', 'U', 'L', 'A', ' ', ' ', 'B', 'L', 'A', 'N', 'D', 'U', 'L', 'A'], ['C', 'N', 'I', 'M', 'U', 'Y', 'A', ' ', ' ', 'V', 'A', 'G', 'U', 'L', 'A', ' ', ' ', 'B', 'L', 'A', 'N', 'D', 'U', 'L', 'A'], ['C', 'N', 'I', 'M', 'U', 'L', 'A', ' ', ' ', 'V', 'A', 'G', 'U', 'L', 'A', ' ', ' ', 'B', 'L', 'A', 'N', 'D', 'U', 'L', 'A'], ['C', 'N', 'R', 'M', 'U', 'L', 'A', ' ', ' ', 'V', 'A', 'G', 'U', 'L', 'A', ' ', ' ', 'B', 'L', 'A', 'N', 'D', 'U', 'L', 'N'], ['C', 'N', 'I', 'M', 'U', 'L', 'A', ' ', ' ', 'V', 'A', 'G', 'U', 'L', 'A', ' ', ' ', 'B', 'L', 'A', 'N', 'D', 'U', 'L', 'A'], ['C', 'N', 'I', 'M', 'U', 'L', 'A', ' ', ' ', 'V', 'A', 'G', 'U', 'L', 'A', ' ', ' ', 'B', 'L', 'A', 'N', 'D', 'U', 'L', 'N'], ['C', 'N', 'I', 'M', 'U', 'L', 'A', ' ', ' ', 'V', 'A', 'G', 'U', 'L', 'A', ' ', ' ', 'B', 'L', 'A', 'N', 'D', 'U', 'L', 'A'], ['C', 'N', 'I', 'M', 'U', 'L', 'A', ' ', ' ', 'V', 'A', 'G', 'U', 'L', 'A', ' ', ' ', 'B', 'L', 'A', 'N', 'D', 'U', 'L', 'A'], ['W', 'N', 'I', 'M', 'U', 'L', 'A', ' ', ' ', 'V', 'A', 'G', 'U', 'L', 'A', ' ', ' ', 'B', 'L', 'A', 'N', 'D', 'U', 'L', 'A'], ['C', 'N', 'I', 'M', 'U', 'L', 'A', ' ', ' ', ' ', 'A', 'G', 'U', 'L', 'A', ' ', ' ', 'B', 'L', 'A', 'N', 'D', 'U', 'L', 'A'], ['C', 'N', 'I', 'M', 'U', 'L', 'A', ' ', ' ', 'V', 'A', 'G', 'U', 'L', 'A', ' ', ' ', 'B', 'L', 'A', 'N', 'D', 'U', 'L', 'A'], ['C', 'N', 'I', 'M', 'U', 'L', 'T', ' ', ' ', 'V', 'A', 'G', 'U', 'Q', 'A', ' ', ' ', 'B', 'L', 'A', 'N', 'D', 'U', 'L', 'A'], ['C', 'N', 'I', 'M', 'U', 'L', 'A', ' ', ' ', 'V', 'A', 'G', 'G', 'L', 'A', ' ', ' ', 'B', 'L', 'A', 'N', 'D', 'U', 'L', 'A'], ['C', 'N', 'I', 'M', 'U', 'L', 'A', ' ', ' ', 'V', 'A', 'G', 'U', 'L', 'A', ' ', ' ', 'B', 'L', 'A', 'N', 'D', 'U', 'L', 'A'], ['C', 'N', 'I', 'M', 'U', 'L', 'A', ' ', ' ', 'V', 'A', 'G', 'U', 'L', 'A', ' ', ' ', 'B', 'L', 'A', 'N', 'D', 'U', 'L', 'A'], ['C', 'N', 'I', 'M', 'U', 'L', 'A', ' ', ' ', 'V', 'A', 'G', 'U', 'L', 'A', ' ', ' ', 'B', 'L', 'A', 'N', 'D', 'U', 'L', 'A'], ['C', 'N', 'I', 'M', 'U', 'L', 'A', ' ', ' ', 'V', 'A', 'G', 'U', 'L', 'A', ' ', ' ', 'B', 'L', 'A', 'N', 'D', 'U', 'L', 'A'], ['U', 'N', 'I', 'M', 'U', 'L', 'A', ' ', ' ', 'V', 'A', 'G', 'U', 'L', 'A', ' ', ' ', 'B', 'L', 'A', 'N', 'D', 'U', 'L', 'A'], ['C', 'N', 'I', 'M', 'U', 'L', 'A', ' ', ' ', 'V', 'A', 'G', 'U', 'L', 'A', ' ', ' ', 'B', 'L', 'A', 'N', 'D', 'U', 'L', 'A'], ['C', 'N', 'I', 'M', 'U', 'L', 'A', ' ', ' ', 'V', 'A', 'G', 'U', 'L', 'A', ' ', ' ', 'B', 'L', 'A', 'N', 'D', 'U', 'L', 'A'], ['C', 'N', 'I', 'M', 'U', 'L', 'A', ' ', ' ', 'V', 'A', 'G', 'U', 'L', 'A', ' ', ' ', 'B', 'K', 'A', 'N', 'D', 'U', 'L', 'A'], ['W', 'N', 'I', 'M', 'U', 'L', 'A', ' ', ' ', 'V', 'A', 'O', 'U', 'L', 'A', ' ', ' ', 'B', 'L', 'A', 'N', 'D', 'U', 'L', 'A'], ['C', 'N', 'I', 'M', 'U', 'L', 'A', ' ', ' ', 'V', 'A', 'G', 'U', 'L', 'A', ' ', ' ', 'B', 'L', 'A', 'N', 'D', 'U', 'L', 'A'], ['W', 'N', 'I', 'M', 'U', 'L', 'A', ' ', ' ', 'V', 'A', 'G', 'U', 'L', 'A', ' ', ' ', 'B', 'L', 'A', 'N', 'D', 'U', 'L', 'A'], ['C', 'N', 'I', 'M', 'U', 'L', 'A', ' ', ' ', 'V', 'A', 'G', 'U', 'L', 'A', ' ', ' ', 'B', 'L', 'A', 'N', 'D', 'U', 'L', 'A'], ['C', 'N', 'I', 'M', 'U', 'L', 'A', ' ', ' ', 'V', 'A', 'G', 'U', 'L', 'A', ' ', ' ', 'B', 'L', 'A', 'N', 'D', 'U', 'L', 'A'], ['C', 'N', 'I', 'M', 'U', 'L', 'A', ' ', ' ', 'V', 'A', 'G', 'U', 'L', 'A', ' ', ' ', 'B', 'L', 'A', 'N', 'D', 'U', 'M', 'A'], ['W', 'N', 'I', 'M', 'U', 'L', 'A', ' ', ' ', 'V', 'A', 'G', 'U', 'L', 'A', ' ', ' ', 'B', 'L', 'A', 'N', 'D', 'U', 'L', 'A'], ['C', 'N', 'I', 'M', 'U', 'L', 'A', ' ', ' ', 'V', 'A', 'G', 'U', 'L', 'A', ' ', ' ', 'B', 'L', 'A', 'N', 'D', 'U', 'L', 'A'], ['C', 'N', 'I', 'M', 'U', 'L', 'A', ' ', ' ', 'V', 'A', 'G', 'U', 'L', 'A', ' ', ' ', 'B', 'L', 'A', 'N', 'D', 'U', 'L', 'A'], ['C', 'N', 'I', 'M', 'U', 'L', 'A', ' ', ' ', 'V', 'A', 'G', 'U', 'L', 'A', ' ', ' ', 'B', 'L', 'A', 'N', 'D', 'U', 'L', 'A'], ['C', 'N', 'I', 'M', 'U', 'L', 'A', ' ', ' ', 'V', 'A', 'G', 'U', 'L', 'A', ' ', ' ', 'B', 'L', 'A', 'N', 'D', 'U', 'L', 'A'], ['W', 'N', 'I', 'M', 'U', 'L', 'A', ' ', ' ', 'V', 'A', 'G', 'U', 'L', 'A', ' ', ' ', 'B', 'L', 'A', 'N', 'D', 'U', 'L', 'A'], ['W', 'N', 'I', 'M', 'U', 'L', 'A', ' ', ' ', 'V', 'A', 'G', 'U', 'L', 'A', ' ', ' ', 'B', 'G', 'A', 'D', 'D', 'U', 'L', 'A'], ['C', 'N', 'I', 'M', 'U', 'L', 'A', ' ', ' ', 'V', 'A', 'G', 'U', 'L', 'A', ' ', ' ', 'B', 'L', 'A', 'N', 'D', 'U', 'L', 'A'], ['C', 'N', 'I', 'M', 'U', 'L', 'A', ' ', ' ', 'V', 'A', 'G', 'U', 'L', 'A', ' ', ' ', 'B', 'L', 'A', 'N', 'D', 'U', 'L', 'A'], ['C', 'N', 'I', 'M', 'U', 'L', 'A', ' ', ' ', 'V', 'A', 'G', 'U', 'L', 'A', ' ', ' ', 'B', 'L', 'A', 'N', 'F', 'U', 'L', 'A'], ['C', 'N', 'I', 'M', 'U', 'L', 'A', ' ', ' ', 'V', 'A', 'G', 'U', 'L', 'A', ' ', ' ', 'B', 'L', 'A', 'N', 'D', 'U', 'L', 'A'], ['C', 'N', 'I', 'G', 'U', 'L', 'A', ' ', ' ', 'V', 'A', 'G', 'U', 'L', 'A', ' ', ' ', 'B', 'L', 'A', 'N', 'D', 'U', 'L', 'A'], ['C', 'N', 'I', 'M', 'U', 'L', 'A', ' ', ' ', 'V', 'A', 'G', 'M', 'L', 'A', ' ', ' ', 'B', 'L', 'A', 'N', 'D', 'U', 'L', 'A'], ['C', 'N', 'I', 'M', 'U', 'L', 'A', ' ', ' ', 'V', 'A', 'G', 'U', 'L', 'A', ' ', ' ', 'B', 'L', 'A', 'N', 'D', 'U', 'L', 'A'], ['C', 'N', 'I', 'M', 'U', ' ', 'A', ' ', ' ', 'V', 'A', 'G', 'U', 'L', 'A', ' ', ' ', 'B', 'L', 'A', 'N', 'D', 'U', 'L', 'A'], ['C', 'N', 'I', 'M', 'U', 'L', 'A', ' ', ' ', 'V', 'A', 'G', 'U', 'L', 'A', ' ', ' ', 'B', 'L', 'A', 'N', 'D', 'U', 'L', 'A'], ['C', 'N', 'I', 'M', 'U', 'L', 'A', ' ', ' ', 'V', 'A', 'G', 'U', 'I', 'A', ' ', ' ', 'B', 'L', 'A', 'N', 'D', 'U', 'L', 'A'], ['X', 'N', 'I', 'M', 'U', 'L', 'A', ' ', ' ', 'V', 'A', 'G', 'U', 'L', 'A', ' ', ' ', 'B', 'L', 'A', 'N', 'D', 'U', 'L', 'A'], ['C', 'N', 'I', 'M', 'U', 'L', 'A', ' ', ' ', 'V', 'A', 'G', 'U', 'L', 'A', ' ', ' ', 'B', 'L', 'A', 'N', 'D', 'U', 'L', 'A'], ['C', 'N', 'I', 'M', 'U', 'V', 'C', ' ', ' ', 'V', 'A', 'G', 'U', 'L', 'A', ' ', ' ', 'B', 'L', 'A', 'N', 'D', 'U', 'L', 'A'], ['Y', 'N', 'I', 'M', 'U', 'L', 'P', ' ', ' ', 'V', 'A', 'G', 'U', 'L', 'A', ' ', ' ', ' ', 'L', 'A', 'N', 'D', 'U', 'L', 'A'], ['C', 'N', 'I', 'M', 'U', 'L', 'A', ' ', ' ', 'V', 'A', 'G', 'U', 'L', 'A', ' ', ' ', 'B', 'L', 'A', 'N', 'D', 'U', 'L', 'A'], ['W', 'N', 'I', 'M', 'U', 'L', 'A', ' ', ' ', 'V', 'A', 'G', 'U', 'L', 'A', ' ', ' ', 'B', 'L', 'A', 'N', 'D', 'U', 'L', 'A'], ['C', 'N', 'I', 'M', 'U', 'L', 'A', ' ', ' ', 'V', 'A', 'G', 'U', 'L', 'A', ' ', ' ', 'B', 'L', 'A', 'N', 'D', 'U', 'L', 'A'], ['C', 'N', 'I', 'M', 'U', 'L', 'A', ' ', ' ', 'V', 'A', 'G', 'U', 'L', 'Z', ' ', ' ', 'B', 'L', 'A', 'A', 'D', 'U', 'L', 'A'], ['C', 'N', 'I', 'M', 'U', 'L', 'A', ' ', ' ', 'V', 'A', 'G', 'U', 'L', 'A', ' ', ' ', 'B', 'L', 'A', 'N', 'D', 'U', 'L', 'A'], ['C', 'N', 'I', 'M', 'U', 'L', 'A', ' ', ' ', 'V', 'A', 'G', 'U', 'L', 'A', ' ', ' ', 'B', 'L', 'A', 'N', 'D', 'U', 'L', 'A'], ['C', 'N', 'I', 'M', 'U', 'L', 'A', ' ', ' ', 'V', 'A', 'G', 'U', 'L', 'A', ' ', ' ', 'B', 'L', 'A', 'N', 'D', 'U', 'L', 'A'], ['C', 'N', 'I', 'M', 'U', 'L', 'A', ' ', ' ', 'V', 'A', 'G', 'U', 'L', 'A', ' ', ' ', 'B', 'L', 'A', 'N', 'D', 'U', 'L', 'A'], ['C', 'N', 'I', 'M', 'U', 'L', 'A', ' ', ' ', 'V', 'A', 'G', 'U', 'L', 'A', ' ', ' ', 'B', 'L', 'A', 'N', 'D', 'U', 'L', 'A'], ['C', 'N', 'I', 'M', 'U', 'L', 'A', ' ', ' ', 'V', 'A', 'G', 'U', 'L', 'A', ' ', ' ', 'B', 'L', 'A', 'N', 'D', 'U', 'L', 'A'], ['C', 'N', 'I', 'M', 'U', 'L', 'A', ' ', ' ', 'V', 'A', 'G', 'U', 'L', 'A', ' ', ' ', 'B', 'L', 'A', 'N', 'D', 'U', 'L', 'A'], ['C', 'N', 'I', 'M', 'U', 'L', 'A', ' ', ' ', 'V', 'A', 'G', 'U', 'L', 'A', ' ', ' ', 'B', 'L', 'A', 'N', 'D', 'U', 'L', 'A'], ['C', 'N', 'I', 'M', 'U', 'L', 'S', ' ', ' ', 'V', 'Z', 'G', 'U', 'S', 'A', ' ', ' ', 'B', 'L', 'A', 'N', 'D', 'U', 'L', 'A'], ['C', 'N', 'I', 'M', 'U', 'L', 'A', 'E', ' ', 'V', 'A', 'G', 'U', 'L', 'A', ' ', ' ', 'B', 'L', 'A', 'N', 'D', 'U', 'L', 'A'], ['C', 'N', 'I', 'M', 'U', 'L', 'A', ' ', ' ', 'V', 'A', 'G', 'U', 'L', 'A', ' ', ' ', 'B', 'L', 'A', 'N', 'D', 'U', 'L', 'A'], ['C', 'N', 'I', 'M', 'U', 'L', 'A', ' ', ' ', 'V', 'A', 'G', 'U', 'L', 'A', ' ', ' ', 'B', 'L', 'A', 'N', 'D', 'U', 'L', 'A'], ['B', 'N', 'I', 'M', 'U', 'L', 'A', ' ', ' ', 'V', 'Y', 'G', 'U', 'L', 'A', ' ', ' ', 'B', 'L', 'A', 'N', 'D', 'U', 'L', 'A'], ['C', ' ', 'I', 'M', 'U', 'L', 'A', ' ', ' ', 'V', 'A', 'G', 'U', 'L', 'A', ' ', ' ', 'B', 'L', 'A', 'N', 'D', 'U', 'L', 'A'], ['C', 'V', 'I', 'M', 'U', 'L', 'A', ' ', ' ', 'V', 'A', 'G', 'U', 'L', 'A', ' ', ' ', 'B', 'L', 'A', 'N', 'D', 'U', 'L', 'A'], ['U', 'N', 'I', 'M', 'U', 'L', 'A', ' ', ' ', 'V', 'A', 'G', 'U', 'L', 'A', ' ', ' ', 'B', 'L', 'A', 'N', 'D', 'U', 'L', 'A'], ['C', 'N', 'I', 'M', 'U', 'L', 'A', ' ', ' ', 'V', 'A', 'G', 'U', 'L', 'A', ' ', ' ', 'B', 'L', 'A', 'N', 'D', 'U', 'L', 'A'], ['C', 'N', 'I', 'M', 'U', 'L', 'A', ' ', ' ', 'V', 'A', 'G', 'U', 'L', 'A', ' ', ' ', 'B', 'L', 'A', 'N', 'D', 'U', 'L', 'A'], ['C', 'N', 'I', 'M', 'U', 'L', 'A', ' ', ' ', 'V', 'A', 'G', 'U', 'L', 'A', ' ', ' ', 'B', 'L', 'A', 'N', 'D', 'U', 'L', 'A'], ['C', 'N', 'I', 'M', 'U', 'L', 'A', ' ', ' ', 'V', 'A', 'G', 'U', 'L', 'A', ' ', ' ', 'B', 'L', 'A', 'N', 'D', 'U', 'L', 'A'], ['C', 'N', 'I', 'M', 'U', 'L', 'A', ' ', ' ', 'V', 'A', 'G', 'U', 'L', 'A', ' ', ' ', 'B', 'L', 'A', 'N', 'D', 'U', 'L', 'A'], ['C', 'N', 'I', 'M', 'U', 'L', 'A', ' ', ' ', 'V', 'A', 'G', 'U', 'L', 'A', ' ', ' ', 'B', 'L', 'A', 'N', 'D', 'U', 'L', 'A'], ['C', 'N', 'I', 'M', 'U', 'L', 'A', ' ', ' ', 'V', 'A', 'G', 'U', 'L', 'A', ' ', ' ', 'B', 'L', 'A', 'N', 'D', 'U', 'L', 'A'], ['C', 'N', 'I', 'M', 'U', 'L', 'A', ' ', ' ', 'V', 'A', 'G', 'U', 'L', 'A', ' ', ' ', 'B', 'L', 'A', 'N', 'D', 'U', 'L', 'A'], ['C', 'N', 'I', 'M', 'U', 'L', 'A', ' ', ' ', 'V', 'A', 'G', 'U', 'L', 'A', ' ', ' ', 'B', 'L', 'A', 'N', 'D', 'U', 'L', 'A'], ['C', 'N', 'I', 'M', 'U', 'L', 'A', ' ', ' ', 'V', 'A', 'G', 'U', 'L', 'A', ' ', ' ', 'B', 'L', 'A', 'N', 'D', 'U', 'L', 'A'], ['W', 'N', 'I', 'M', 'U', 'L', 'A', ' ', ' ', 'V', 'A', 'G', 'U', 'L', 'A', ' ', ' ', 'B', 'L', 'A', 'N', 'D', 'U', 'L', 'A'], ['W', 'N', 'I', 'M', 'U', 'L', 'A', ' ', ' ', 'V', 'A', 'G', 'U', 'L', 'A', ' ', ' ', 'B', 'L', 'A', 'N', 'D', 'U', 'L', 'A'], ['W', 'N', 'I', 'M', 'U', 'L', 'A', ' ', ' ', 'V', 'I', 'G', 'U', 'L', 'A', ' ', ' ', 'B', 'L', 'A', 'N', 'D', 'U', 'L', 'A'], ['W', 'N', 'I', 'M', 'U', 'L', 'A', ' ', ' ', 'V', 'A', 'G', 'U', 'L', 'A', ' ', ' ', 'B', 'L', 'A', 'N', 'D', 'U', 'L', 'A']]\n",
      "[23, 24, 24, 24, 24, 24, 23, 23, 24, 24, 24, 24, 24, 24, 23, 24, 24, 24, 24, 24, 24, 24, 24, 24, 24, 23, 24, 24, 23, 24, 24, 22, 24, 24, 24, 23, 24, 23, 23, 24, 24, 24, 23, 23, 24, 24, 24, 24, 23, 24, 23, 24, 24, 24, 23, 22, 24, 23, 22, 24, 22, 24, 24, 24, 24, 24, 24, 24, 24, 23, 24, 24, 24, 24, 24, 24, 24, 24, 23, 24, 23, 24, 24, 24, 24, 24, 24, 24, 23, 24, 24, 24, 24, 24, 24, 23, 24, 24, 23, 22, 24, 24, 24, 23, 24, 24, 24, 24, 23, 24, 24, 24, 24, 24, 24, 24, 24, 24, 24, 24, 24, 23, 23, 24, 23, 23, 22, 23, 23, 24, 23, 24, 23, 23, 24, 24, 24, 24, 23, 24, 23, 24, 24, 24, 24, 24, 24, 23, 24, 24, 24, 23, 24, 24, 24, 24, 24, 24, 23, 22, 24, 23, 23, 24, 22, 24, 24, 24, 24, 24, 24, 24, 24, 24, 24, 22, 24, 24, 24, 24, 23, 24, 24, 23, 24, 23, 24, 24, 24, 24, 24, 24, 23, 24, 24, 24, 24, 24, 24, 23, 24, 23, 24, 24, 24, 24, 24, 24, 23, 24, 24, 24, 24, 24, 24, 24, 23, 24, 24, 23, 23, 24, 24, 23, 23, 24, 24, 24, 24, 24, 24, 24, 24, 24, 24, 24, 24, 22, 24, 24, 24, 23, 22, 24, 24, 23, 24, 24, 24, 23, 24, 23, 24, 24, 24, 23, 24, 23, 24, 24, 22, 24, 24, 22, 24, 24, 24, 24, 24, 23, 22, 23, 22, 24, 24, 24, 22, 24, 24, 24, 24, 24, 24, 23, 23, 23, 24, 24, 23, 24, 24, 24, 22, 24, 24, 24, 24, 24, 24, 23, 24, 21, 24, 24, 23, 24, 23, 23, 24, 24, 24, 24, 23, 24, 23, 24, 24, 23, 23, 24, 24, 24, 24, 24, 23, 23, 24, 24, 24, 22, 24, 24, 24, 24, 24, 24, 24, 24, 23, 24, 24, 24, 23, 24, 23, 24, 24, 24, 24, 24, 24, 23, 24, 24, 24, 24, 24, 24, 23, 23, 24, 24, 24, 24, 23, 24, 23, 23, 23, 24, 24, 24, 23, 24, 24, 24, 24, 23, 24, 24, 22, 24, 22, 23, 24, 24, 24, 24, 24, 24, 24, 23, 24, 24, 24, 25, 24, 23, 24, 22, 24, 23, 24, 24, 24, 24, 24, 24, 24, 24, 24, 24, 23, 24, 23, 23, 24, 23, 23, 23, 24, 22, 24, 23, 24, 24, 24, 23, 24, 22, 23, 24, 24, 24, 24, 24, 24, 24, 23, 23, 24, 24, 24, 24, 23, 24, 24, 24, 24, 24, 24, 22, 24, 24, 23, 24, 23, 23, 24, 23, 24, 23, 24, 24, 22, 22, 24, 24, 24, 22, 24, 24, 24, 24, 24, 24, 24, 24, 21, 23, 24, 24, 23, 23, 23, 24, 24, 24, 24, 24, 24, 24, 24, 24, 24, 24, 24, 24, 23, 24]\n",
      "epocas 215\n"
     ]
    }
   ],
   "source": [
    "primera=True\n",
    "poblacion=[]\n",
    "probabilidadP=[]\n",
    "fitnes=[]\n",
    "coincide=[]\n",
    "\n",
    "print(\"Sentencia Target: \", Frase, \". Longitud: \", len(Frase))\n",
    "print(\"Poblacion total: \", numPoblacion, \". Generaciones máximas: \", generaciones, )\n",
    "print(\"Probabilidad de Mutacion: \", pMutacion, \"\\n\\n\")\n",
    "\n",
    "\n",
    "while True:\n",
    "    \n",
    "    while primera and epocas == 0:\n",
    "        poblacion=[]\n",
    "        coincide=[]\n",
    "        #Poblacion aleatoria\n",
    "        for i in range(numPoblacion):\n",
    "            frase=[]\n",
    "            \n",
    "            for j in range(len(Frase)):\n",
    "                frase.append(random.choice(letras))\n",
    "            poblacion.append(frase)\n",
    "            coincide.append(coincidencias(poblacion[i], Frase))\n",
    "        if max(coincide)!=0:\n",
    "            primera=False\n",
    "    #print(poblacion)\n",
    "    #Calculamos el fitness\n",
    "    if epocas==0:\n",
    "        for i in range(numPoblacion):\n",
    "            resul=CalculoFitness(Frase, coincide[i])#calculamos el fitnes de cada individuo\n",
    "            fitnes.append(resul)\n",
    "        \n",
    "\n",
    "    \n",
    "        \n",
    "    #Seleccion del padre\n",
    "    aleatorio=random.randint(0,numPoblacion-1)\n",
    "    Padre=empieza=aleatorio\n",
    "    Flag=False#False = aleatorioa --> final, True --> 0 --> aleatorio\n",
    "    numero=0\n",
    "    #print(\"Padre\",Padre, \"Probs: \", len(probabilidadP))\n",
    "    while Flag==False or Padre<=(empieza-1):\n",
    "        \n",
    "        #if Padre!=empieza:\n",
    "        #    \n",
    "        #    probabilidadP[aleatorio]=CalculoProbSelec(fitnes[aleatorio],coincide)\n",
    "            #[CalculoProbSelec(x,coincide) for x in fitnes]#Probabilidad de ser padre\n",
    "            #if max(probabilidadP)==0:\n",
    "            #    Padre=random.randrange(numPoblacion-1)\n",
    "            #else:\n",
    "            #Padre=MonteCarloSimple(1-probabilidadP[aleatorio])#Elegimos al padre\n",
    "        #coincide[Padre]=coincidencias(poblacion[Padre],Frase)\n",
    "        #fitnes[Padre]=CalculoFitness(Frase,coincide[Padre])\n",
    "        if fitnes[Padre]!=0:\n",
    "            #numero=random.random()\n",
    "\n",
    "            prb=CalculoProbSelec(fitnes[Padre],coincide)\n",
    "            #print(prb)\n",
    "            if   MonteCarloSimple([1-prb,prb]):#si es menor, se replica\n",
    "            #if MonteCarloSimple([1-probabilidadP[Padre], probabilidadP[Padre]])==1:\n",
    "                #Sustituimos uno aleatorio\n",
    "                aleatorio=random.randint(0,numPoblacion-1)\n",
    "                #Mutamos al cromosoma del padre\n",
    "                poblacion[aleatorio]=Mutacion(poblacion[Padre])\n",
    "                #calculamos su fitnes\n",
    "                coincide[aleatorio]=coincidencias(poblacion[aleatorio],Frase)\n",
    "                fitnes[aleatorio]=CalculoFitness(Frase,coincide[aleatorio])\n",
    "                #probabilidadP[aleatorio]=CalculoProbSelec(fitnes[aleatorio],coincide)\n",
    "\n",
    "        \n",
    "\n",
    "        if Padre==numPoblacion-1:\n",
    "            Padre=0\n",
    "            Flag=True\n",
    "        Padre+=1\n",
    "\n",
    "        \n",
    "    if epocas%resumen == 0 or epocas%muestra==0:\n",
    "        mejor=''\n",
    "        aparece=0\n",
    "        for i in range(numPoblacion):\n",
    "            if max(coincide)==coincide[i]:\n",
    "                mejor=poblacion[i]\n",
    "                aparece+=1\n",
    "        #individuo de consenso\n",
    "        consenso='prueba'\n",
    "        #for i in range(len(Frase)):\n",
    "        #    posicion=[]\n",
    "        #    for j in range(numPoblacion):\n",
    "        #        posicion.append(poblacion[j][i])\n",
    "        #    consenso.append(mode(posicion))\n",
    "        \n",
    "        print(\"Generacion nº: \", epocas)\n",
    "        b=''\n",
    "        for i in range(len(Frase)):\n",
    "                    b+=mejor[i]\n",
    "        \n",
    "        print(\"Mejor individuo: \", b, \". Coincidencias: \", max(coincide), \"NTAR: \", aparece, \" %NTAR (\",(aparece/numPoblacion)*100, \"%)\")\n",
    "        if epocas%muestra==0:\n",
    "            print('Individuo de consenso: ', consenso, '. Coincidencias de media: ', sum(coincide)/numPoblacion) \n",
    "            print(\"Muestreo de la poblacion: \")\n",
    "            mostrados=[]\n",
    "            \n",
    "            for i in range(int(round(numPoblacion/5))):\n",
    "                a=''\n",
    "                for j in range(len(Frase)):\n",
    "                    a+=poblacion[i][j]\n",
    "                mostrados.append(a)\n",
    "            print(mostrados)\n",
    "        else:\n",
    "            print('Individuo de consenso: ', consenso, '. Coincidencias de media: ', sum(coincide)/numPoblacion, \"\\n\\n\") \n",
    "\n",
    "    if max(coincide)==len(Frase):\n",
    "        print(\"solucion encontrada: \", poblacion)\n",
    "        print(coincide)\n",
    "        print('epocas', epocas)\n",
    "        break\n",
    "    if epocas == generaciones:\n",
    "        break\n",
    "    epocas+=1\n",
    "    \n",
    "\n",
    "\n",
    "\n"
   ]
  },
  {
   "cell_type": "code",
   "execution_count": 5,
   "metadata": {},
   "outputs": [
    {
     "output_type": "stream",
     "name": "stdout",
     "text": [
      "WNIMULAU VAGULA  BLANDULA\nCNIMULA  VAGULA  BLANDULA\nCNIMULA  VAGULA  BLANDULA\nWNIMULA  VAGULA  BLANDULA\nXNIMULA  VAGULA  BLANDULA\nCNIMULA  VAGULA  BLANDULA\nCNIMNLA  VAGULA  BLANDULA\nCNIMULA  VAGULA  BLANDUCA\nCNIMULA  VAGULA  BLANDULA\nCNIMULA  VAGULA  BLANDULA\nCNIMULA  VAGULA  BLANDULA\nCNIMULA  VAGULA  BLANDULA\nWNIMULA  VAGULA  BLANDULA\nCNIMULA  VAGULA  BLANDULA\nCNIMULA  VAIULA  BLANDULA\nCNIMULA  VAGULA  BLANDULA\nCNIMULA  VAGULA  BLANDULA\nWNIMULA  VAGULA  BLANDULA\nENIMULA  VAGULA  BLANDULA\nCNIMULA  VAGULA  BLANDULA\nCNIMULA  VAGULA  BLANDULA\nCNIMULA  VAGULA  BLANDULA\nCNIMULA  VAGULA  BLANDULA\nCNIMULA  VAGULA  BLANDULA\nCNIMULA  VAGULA  BLANDULA\nCNIMULA  VAGULA  BLANDURA\nCNIMULA  VAGULA  BLANDULA\nCNIMULA  VAGULA  BLANDULA\nCNIMULF  VAGULA  BLANDULA\nCNIMULA  VAGULA  BLANDULA\nWNIMULA  VAGULA  BLANDULA\nCNIMULA  VAGULAL BLANDBLA\nWNIMULA  VAGULA  BLANDULA\nCNIMULA  VAGULA  BLANDULA\nCNIMULA  VAGULA  BLANDULA\nCNIMU A  VAGULA  BLANDULA\nCNIMULA  VAGULA  BLANDULA\nCNIMULA  VAGULW  BLANDULA\nCNIMLLA  VAGULA  BLANDULA\nCNIMULA  VAGULA  BLANDULA\nCNIMULA  VAGULA  BLANDULA\nCNIMULA  VAGULA  BLANDULA\nCNIMULA  VAGMLA  BLANDULA\nCGIMULA  VAGULA  BLANDULA\nWNIMULA  VAGULA  BLANDULA\nCNIMULA  VAGULA  BLANDULA\nCNIMULA  VAGULA  BLANDULA\nWNIMULA  VAGULA  BLANDULA\nCNIMULA  VAGUIA  BLANDULA\nWNIMULA  VAGULA  BLANDULA\nCNIMULA  VTGULA  BLANDULA\nCNIMULA  VAGULA  BLANDULA\nKNIMULA  VAGULA  BLANDULA\nCNIMULA  VAGULA  BLANDULA\nCNIMULA  VAGULA  BLANBULA\nWNIVJLA  VAGULA  BLANDULA\nCNIMULA  VAGULA  BLANDULA\nCNIMULA  VAGUOA  BLANDULA\nCNIMULA  VAGULAB BLANJULA\nCNIMULA  VAGULA  BLANDULA\nWNIMULA  VAQULF  BLANDULA\nWNIMULA  VAGULA  BLANDULA\nWNIMULA  VAGULA  BLANDULA\nCNIMULA  VAGULA  BLANDULA\nCNIMULA  VAGULA  BLANDULA\nCNIMULA  VAGULA  BLANDULA\nCNIMULA  VAGULA  BLANDULA\nCNIMULA  VAGULA  BLANDULA\nCNIMULA  VAGULA  BLANDULA\nCNIMULA  VAGULH  BLANDULA\nCNIMULA  VAGULA  BLANDULA\nCNIMULA  VAGULA  BLANDULA\nWNIMULA  VAGULA  BLANDULA\nCNIMULA  VAGULA  BLANDULA\nCNIMULA  VAGULA  BLANDULA\nCNIMULA  VAGULA  BLANDULA\nCNIMULA  VAGULA  BLANDULA\nCNIMULA  VAGULA  BLANDULA\nCNIMULA  VAGULA  BLANDURA\nCNIMULA  VAGULA  BLANDULA\nRNIMULA  VAGULA  BLANDPLA\nCNIMULA  VAGULA  BLANDULA\nCNIMULA  VAGULA  BLANDULA\nCNIMULA  VAGULA  BLANDULA\nCNIMULA  VAGULA  BLANDULA\nCNIMULA  VAGULA  BLANDULA\nCNIMULA  VAGULA  BLANDULA\nPNIMULA  VAGULA  BLANDULA\nCNIMULA XVAGULA  BLANDULA\nCNIMULA  VAGULA  BLANDULA\nCNIMULA  VAGULA  BLANDULA\nCNIMULA  VAGULA  BLANDULA\nCNIMULA  VAGULA  BLANDULA\nCNIMULA  VAGULA  BLANDULA\nCNIMULA  VAGULA  BLANDULA\nCNIMULA  FAGULA  BLANDULA\nCNIMULA  VAGULA  BLANDULA\nCNIMULA  VAGULA  BLANDULA\nXNIMULA  VAGULA  BLJNDULA\nCNIMU A  VAGULA  BLANDUUA\nWNIMULA  VAGULA  BLANDULA\nCNIMULA  VAGULA  BLANDULA\nCNIMULA  VAGULA  BLANDULA\nCNKMULA  VAGULA  BLANDULA\nCNIMULA  VAGULA  BLANDULA\nCNIMULA  VAGULA  BLANDULA\nCNIMULA  VAGULA  BLANDULA\nCNIMULA  VAGULA  BLANDULA\nWNIMULA  VAGULA YBLANDULA\nWNIMULA  VAGULA  BLANDULA\nWNIMULA  VAGULA  BLANDULA\nCNIMULA  VAGULA  BLANDULA\nWNIMULA  VAGULA  BLANDULA\nWNIMULA  VAGULA  BLANDULA\nENIMULA  VAGULA  BLANDULA\nWNIMULA  VAGULA  BLANDULA\nWNIMULA  VAGULA  BLANDULA\nCNIMULA  VAGULA  BLANDULA\nCNIMULA  VAGULA  BLANDULA\nCNIMULA  VAGULA  BLANDULA\nWNIMULA  VAGULA  BLANDULA\nCNIMULA  FAGULA  BLANDULA\nCNIMULA  VAGULR  BLANDULA\nCNIMULA  VAGULA  BLANDULA\nFNIMU A  VAGULA  BLANDULA\nCNIMULA  VOGULA  BLANDULA\nCEIMULAX VAGULA  BLANDULA\nCNIMULA  VAGULAH BLANDULA\nCNIMULA  VAIULA  BLANDULA\nENIMULA  VAGULA  BLANDULA\nCNIMULV  VAGULA  BLANDULA\nCNIMULA  VAGULA  BLANDULA\nWNIMULA  VZGULA  BLANDULA\nCNIMULA  VOGULA  BLANDULA\nWNIMULA  VAGULA  BLANDULA\nCNIMULA  VAGULA  BLANDULA\nWNIMULA  VAGULA  BLANDULA\nCNIMULA  VAGULA  BLANDULA\nWNIMULA  VZGULA  BLANDULA\nCNIMULA  VAGULA  BLANDULA\nCNIMLLA  VAGULA  BLANDULA\nCNIMULA  VAGULA  BLANDULA\nCNIMULA  VAGULA  BLANDULA\nCNIMULA  VAGULA  BLANDULA\nCNIMULA  VAGULA  BLANDULA\nCNIMULA  VAGULA  BLANDULA\nCNIMULA  VAGULA  BLANDULA\nCNIMULA  VAGULA  BLAODULA\nCNIMULA  VAGULA  BLANDULA\nCNIMULA  VAGULA  BLANDULA\nCNIMULA  VAGULA  BLANDULA\nCNIMU A  VAGULA  BLANDULA\nCNIMULA  VAGULA  BLANDULA\nWNIMULA  VAGULA  BLANDULA\nCNIMULA  VAGULA  BLANDULA\nCNIMULA  VAGULA  BLANDULA\nCNIMULA  VAGULA  BLANDULA\nWNIMULA  VAGULA  BLANDULA\nCNIMULA  VAGULA BBLANDULA\nCNIMULA  NAGULA  RLANDULA\nCNIMULA  VAGULA  BLANDULA\nCNIMULA  VAGULA  BLANDULN\nCNIMULA  VAGULA  BLANDQLA\nCNIMULA  VAGULA  BLANDULA\nCNIMUVA  VCGULA  BLANDULA\nCNIMULA  VAGULA  BLANDULA\nCNIMULA  VAGULA  BLANDULA\nCNIMULA  VAGULA  BLANDULA\nCNIMULA  VAGULA  BLANDULA\nWNIMULA  VAGULA  BLANDULA\nWNIMULA  VAGULA  BLANDULA\nCNIMULA  VAGULA  BLANDULA\nWNIMULA  VAGULA  BLANDULA\nXNIMULA  VAGULA  BLANDULA\nCNIMULA  VAGULA  BLANDULA\nSNIMU A  VAGULA  BLAMDULA\nWNIMULA  VAGULA  BLANDULA\nCNIMULA  VAGULA  BLANDULA\nWNIMULA  VAGULA  BLANDULA\nWNIMULA  VAGULA  BLANDULA\nCNIMULA  VCGULA  BLANDULA\nCNIMULA  VAGULA  BLANDULA\nWNIMULA  VAGULA  BLANDULA\nCNIMULA  VAGULA  RLANDULA\nWNIMULA  VAGULA  BLANDULA\nCNIMNLA  VAGULA  BLANDULA\nCNIMULA  VAGULA  BLANDULA\nWNIMULA  VAGULA  BLANDULA\nWNIMULA  VAGULA  BLANDULA\nCNIMULA  VAGULA  BLANDULA\nCNIMULA  VAGULA  BLANDULA\nCNIMULA  VAGULA  BLANDULA\nCNIMULA  VAGULA  BLANDQLA\nCNIMULA  VAGULA  BLANDULA\nCNIMULA  VAGULA  BLANDULA\nCNIMULA  VAGULA  BLANDULA\nWNIMULA  VAGULA  BLANDULA\nCNIMULA  VAGULA  BLANDULA\nCNIMULA  VAGULA  BLANDULA\nBNIMULA  VYGULA  BLANDULA\nCNIMULA  VAGULA  BLANDULA\nWNIMULA  VAGULA  BLENDULA\nCNIMULA  VAGULA  BLANDULA\nCNIMULA  VAGULA  BLANDULA\nCNIMULA  VAGULA  BLANDULA\nCNIMULA  VAGULA  BLANDULA\nKNIMULA  VAGULA  BLANDULA\nCNIMULA  VAGULA  BLANDULA\nCNIMULA  VAGULA  BLLNDULA\nCNIMULA  VAGULA  BLANDULA\nCNIMULA  VAGULA  BLANDULA\nCNIMULA  VAGULA  BLANDULA\nCNIMULA  VAGULA  BLANDULA\nCNIMULA  VAGULA  BLANDULA\nCNIMULA  VAGULA  BLANDULA\nCNIMULA  VAGULA  BLANDULA\nCNIMULA NVAGULA  BLANDULA\nCNIMULA  VAGULA  BLANDULA\nCNIMULA  VAGULA  BLANDULA\nBNIMULA  VYGULA  BLANDULA\nCNIMULA  VCGULA  BLANDULA\nCNIMULA  VAGULA  BLANDULA\nXNIMULA  VAGULA  BLANDULA\nWNIMULA  VAGULA  BLANDSLA\nWNIMULA  VAGULA  BLANDHLA\nCNIMULA  VAGULA  BLANDULA\nCNIMULA  VAGULA  BLANDULA\nCNIMULA  VAGULA  BLANDULA\nCNIMULA  VAGULA  BLANDULA\nCNIMULA  VAGULA  BLANDULA\nCNIMULA  VAGULA  BLANDULA\nCNIMULA  VAGULA  BLANDULA\nCNIMULA  VAGULA  BLANDULA\nCNIMULA  VAGULA  BLANDULA\nCNIMULA  VAGULA  BLANDULA\nCNIMULA  VAGULA  BLANDULA\nXNIMULA  VAGULA  BLANDULA\nCNIMXLA  VAGULA  BLANDLLA\nCNIMULA  VAGULA  BLANDULA\nWNIMULA  VAGULA  BLANDULA\nUNIMULA  VAGULA  BLANDULA\nCNIMULA  VAGULA OBLANDULA\nBNIMULA  VYGULA  BLANDUCA\nCNIMULA  VAGULA  BLANDULA\nXNIMULA  VAGULA  BLANDULA\nCNIMULA  VAGULA QBLANDULA\nCNIMULA  VAGULA  BLANDULA\nCNIMULA  VAGULA  BLANDULA\nCNIMULA  VAGULA  BLANDULA\nCNIMULA  VAGULA  BLANDULG\nCNIMULA  VAGULA  BLANDULA\nXNIMUXA  VAGULA  BLANDULA\nCNIMULA  VAGULA  BLANDULA\nCNIMULA  VAGULA  BLANDULA\nWNIMULA  VAGULA  BLANDULA\nCNIMULA  VAGULA  CLANDULA\nCNIMULA  VAGULA  BLANDULA\nCNIMULA  VAGULA  BLGNDULA\nCNIMULA  VAGULA  BLANDULA\nCNIMULA  VAGULA  BLANDULA\nCNIDULA  VAGULA  BLANDUAA\nCNIMULA  VAGULA  BLANDULA\nCNIMULA  VAGULA  BLANDULA\nWNIMULA  VAGULL  BLANDUOA\nCNIMULA  VAGULA  BLANDULA\nWNIMULA  VAGULA  BLANDULA\nCNIMULA  VAGULA  BLANDULA\nCNIMULA  VAGULA  BLANDULA\nCNIMULA  VAGULA  BLANDULA\nWNIMULA  VAGULA  OLANDULA\nBNIMULA  VYGULA  BLANDJLA\nCNIMULK  VAGULA  BLANDULA\nCNIMULAI AAGULA  BLANDULA\nCNIMULA  VAGULA  BLANDULA\nCNIMULA  VAGULA  BLANDULA\nCNIMULA  VAGULA  BLANDULA\nCNAMULAE VAGULA  BLANDULA\nCNIMULA  VAGULA  BLANDULA\nWNIMULA  VAGULA  BLANDULA\nCNIMULA  VAGULA  BLANDULA\nCNIMULA  VAGULA  BLANDULA\nWNIMULA  VAGULA  BLANDULA\nCNIMULA  VAGULA  BLANDULA\nCNIMULA  VJGULA  BLANDULA\nCNIMU A  VAGULA  BLANDULA\nCNIMULA  VAGULAB BLANDULA\nCNIMULA  VAGULA  BLANDULA\nWNIMULA  VAGULA  BLANDULA\nWNIMULA  VZGULA  BLANDULA\nCNIMULA  VAGULA  BLANDULA\nCNIMULA  VAGULA  BLANDULA\nCNIMULA  VAGULA  BLANDULA\nCNIMUYA  VAGULA  BLANDULM\nCNIMULA  VAGULA  BLANDULA\nCNIMULA  VAGULA  BLANDULA\nCNIMULA  VAGULA  BLANDULA\nCNIMULA  VAGULA  BLANDULA\nCNIMULA  VAGULA  BLANDULA\nWNIMULA  VAGULA  BLANDULA\nCNIMULA  VAGULA  BLANDULG\nCNIMULA  VAGULA  BLANDULA\nWNIMULA  CAGULA CBUANDULA\nCNIMULA  VAGULA  BLANDULA\nCNIMULA  VAGULA  BLANDULA\nCNIMULA  VAGULA  BLRNDULA\nCNIMULA  VAGULA  BLANDULA\nCNIGULA  VAGULA  BLANDULA\nCNIMULA  VUGULA  BLANDULA\nCNIMULA  VAGULA  BLANDULA\nCNIMULA  VAGULA  BLANDULA\nCNIMULA  VAGULA  BLANDULA\nCNIMULA  VAGULA  BLANDULA\nCNIMULA  VAGMLA  BLANDULA\nCNIMULA  VAGULA  BLANDULA\nCNIMULA  VAGULA  BLQNDULA\nCNIMULA  VAGULA  BLANDULA\nXNIMULA  VAGULA  BLANDULA\nCNIMULA  VAGFLA  BLANDULA\nCNICULA  VAGULA  BLANDULA\nCNIMULA  VAGULA  BLANDULA\nCNIMULA  VAGULA  BLANDULA\nWNIMULA  VAGULA  BLANDULA\nWNIMULA  VAGULA  BLANDULA\nCNIMULA  VAGULA  BLANDULA\nCNIMULA  VAGULA  BLANDUBA\nCNIMULA  VAGULA  BLANBULA\nCNIMULA  VAGULA  BLANDULA\nCNIMULA  VAGULA  BLANDULA\nCNIMULA  VAGULA  BLANDULA\nC IMULA  VAGULA  BLANDUWA\nCNIMULA  VAGULA  BLANDULA\nCNIMULA  VAGULA  BLANDULA\nCNIMULA  VAGULA  BLANDULA\nCNIMULA  VAGULA  BLANDULA\nCNIMULA  VAGULA  BLANDULA\nCNIMULA  VAGULA  BLANDULA\nCNIMULA  VAGULA  BLANDULA\nCNIMULA  VAGULA  BLANDULA\nCNIMULA  VAGULA  BLKNDULA\nXNIMULA  VAGULA  BLANDULA\nWNIMULA  VAGULA  BLANDULA\nCNIMULA  VAGULA  BLANDULA\nCNIMULA  TAGULA  BLANDULA\nCNIMULA  VAGULA  BLANDULA\nCNIMULA  PAGULA  BLANDULA\nCNIMULA  VAGULA  BLANDULA\nXNIMULA  VAGULA  BLANDULA\nCNIMULA  VAGULA  BLANDULA\nCNIMULA  VAGULA  BLANDULA\nCNIMULA  VAGULA  BLANDULA\nCNIMULA  VAGULA  BLANDULA\nCNIMULA  VAGUIA  BLANDULA\nCNIMULA  VAGULA  BLANDULA\nCNIMULA  VAGULA  BLANDULA\nCNIMULA  VAGULA  BLANDULA\nCNIMULA  VAGULA  BLANDULA\nCNIMULA  VAGULA  BLANDULA\nCNIMULA  VAGULA  BLANDULA\nCNIMULA  VAGULAK BLANDULA\nCNIMBLA  VAGULA  BLANDULA\nCNIMULA  VAGULA  BLANDULA\nWNIMULA  VAGULA  BLANDULA\nCNIMULA  VAGULA  BLANDULA\nCNIMULA  VAGULA  BLANDULA\nCNIMULA  VAGUCA  BLANDULA\nCNIMULA  VAGULA  BLANDULA\nCNIMULA  VAGFLA  BLANDULA\nFNIMU A  VAGULA  BLANDULA\nCNIMULA  XAGULA  BLANDULA\nCNIMULA  VAGULA  BLANDULA\nCNIMULA  VAGULA  BLANDULA\nCNIMULA  VAGULA  BLANDULA\nCNIMULA  FAGULA  BLANDULA\nXNIMULA  VAGULA  BLANDULA\nCNIMULA  VAGULA  BLANDULA\nCNIMULA  VAGULA  BLANDULA\nCNIMULA  VAGULA  BLANDULA\nCNIMU A  VAGULA  BLANDULA\nCNIMULA  VAGULA  BLANDULA\nCNIMULA  VAGULA  BLANDULA\nCOIMUFA  VAGULA  BLANDULA\nXNIMULA  VAGULA  BLANDULA\nCEIMULA  VAGUEA  BLANDULA\nCNIMULAK VAGULA  BLANDULA\nWNIMULA  VAGULA  BLANDULA\nWNIMULA  VAGULA  BLANDULA\nCNIMULA  VAGULA  BLANDULA\nCNIMULA  VAGULA  BLANDULA\nWNIMULA  VAGULA  BLANDULA\nCNIMULA  VAGULA  BLANDULA\nCNIMULA  VAGULA  BLANDULA\nCNIMULAQ VAGULA  BLANDULA\nCNIMULA  VAGULA  BLANDULA\nCNIMULA  VAGULA  BLANDULA\nCNIMULA  VAGULA  BLANDULA\nANIMULA  VAGULA  BLANDULA\nWNIMULA  VAGULA  BLANDULA\nC IMULA  VAGULA  BLANDULA\nCNIMULA  VAGULA  BLANDULA\nCEIMULAX VAGULA  BLANDULA\nCNIMULA  VAGULA  BLANDULA\nWNIMULA  VAGULA  BLANWULA\nCNIMULA  VAGULA  BLANDULA\nCNIMULA  VAGULA  BLANDULA\nWNIMULA  VAGULA  BLANDULA\nCNIMULA  VAGULA  BLANDULA\nWNIMULA  VAGULA  BLANDULA\nCNIMULA  VAGULA  BLANDULA\nCNIMULA  VAGULA  BLANDULA\nWNIMULA  VAGULA  BLANDULA\nCNIMULA  VAGULA  BLANDULA\nCNIMULA  VAGULA  BLANDULA\nWNIMULA  VZGULA  BLANDULA\nCNIMULA  VAGULA  BLANDULA\nBNIMULA  VYGULA  BLANDULA\nCNIMULA  VAGULA  BLRNDULA\nCNIMULA  VAGULA  BLANDULA\nCNIMULA  VAGULA OBLANDULA\nCNIMULA  XAGULA  BLANDULA\nCNIMUYA  VAGULA  BLANDULA\nCNIMULA  VAGULA  BLANDULA\nCNRMULA  VAGULA  BLANDULN\nCNIMULA  VAGULA  BLANDULA\nCNIMULA  VAGULA  BLANDULN\nCNIMULA  VAGULA  BLANDULA\nCNIMULA  VAGULA  BLANDULA\nWNIMULA  VAGULA  BLANDULA\nCNIMULA   AGULA  BLANDULA\nCNIMULA  VAGULA  BLANDULA\nCNIMULT  VAGUQA  BLANDULA\nCNIMULA  VAGGLA  BLANDULA\nCNIMULA  VAGULA  BLANDULA\nCNIMULA  VAGULA  BLANDULA\nCNIMULA  VAGULA  BLANDULA\nCNIMULA  VAGULA  BLANDULA\nUNIMULA  VAGULA  BLANDULA\nCNIMULA  VAGULA  BLANDULA\nCNIMULA  VAGULA  BLANDULA\nCNIMULA  VAGULA  BKANDULA\nWNIMULA  VAOULA  BLANDULA\nCNIMULA  VAGULA  BLANDULA\nWNIMULA  VAGULA  BLANDULA\nCNIMULA  VAGULA  BLANDULA\nCNIMULA  VAGULA  BLANDULA\nCNIMULA  VAGULA  BLANDUMA\nWNIMULA  VAGULA  BLANDULA\nCNIMULA  VAGULA  BLANDULA\nCNIMULA  VAGULA  BLANDULA\nCNIMULA  VAGULA  BLANDULA\nCNIMULA  VAGULA  BLANDULA\nWNIMULA  VAGULA  BLANDULA\nWNIMULA  VAGULA  BGADDULA\nCNIMULA  VAGULA  BLANDULA\nCNIMULA  VAGULA  BLANDULA\nCNIMULA  VAGULA  BLANFULA\nCNIMULA  VAGULA  BLANDULA\nCNIGULA  VAGULA  BLANDULA\nCNIMULA  VAGMLA  BLANDULA\nCNIMULA  VAGULA  BLANDULA\nCNIMU A  VAGULA  BLANDULA\nCNIMULA  VAGULA  BLANDULA\nCNIMULA  VAGUIA  BLANDULA\nXNIMULA  VAGULA  BLANDULA\nCNIMULA  VAGULA  BLANDULA\nCNIMUVC  VAGULA  BLANDULA\nYNIMULP  VAGULA   LANDULA\nCNIMULA  VAGULA  BLANDULA\nWNIMULA  VAGULA  BLANDULA\nCNIMULA  VAGULA  BLANDULA\nCNIMULA  VAGULZ  BLAADULA\nCNIMULA  VAGULA  BLANDULA\nCNIMULA  VAGULA  BLANDULA\nCNIMULA  VAGULA  BLANDULA\nCNIMULA  VAGULA  BLANDULA\nCNIMULA  VAGULA  BLANDULA\nCNIMULA  VAGULA  BLANDULA\nCNIMULA  VAGULA  BLANDULA\nCNIMULA  VAGULA  BLANDULA\nCNIMULS  VZGUSA  BLANDULA\nCNIMULAE VAGULA  BLANDULA\nCNIMULA  VAGULA  BLANDULA\nCNIMULA  VAGULA  BLANDULA\nBNIMULA  VYGULA  BLANDULA\nC IMULA  VAGULA  BLANDULA\nCVIMULA  VAGULA  BLANDULA\nUNIMULA  VAGULA  BLANDULA\nCNIMULA  VAGULA  BLANDULA\nCNIMULA  VAGULA  BLANDULA\nCNIMULA  VAGULA  BLANDULA\nCNIMULA  VAGULA  BLANDULA\nCNIMULA  VAGULA  BLANDULA\nCNIMULA  VAGULA  BLANDULA\nCNIMULA  VAGULA  BLANDULA\nCNIMULA  VAGULA  BLANDULA\nCNIMULA  VAGULA  BLANDULA\nCNIMULA  VAGULA  BLANDULA\nWNIMULA  VAGULA  BLANDULA\nWNIMULA  VAGULA  BLANDULA\nWNIMULA  VIGULA  BLANDULA\nWNIMULA  VAGULA  BLANDULA\n"
     ]
    }
   ],
   "source": [
    "for i in range(int(round(numPoblacion))):\n",
    "                a=''\n",
    "                for j in range(len(Frase)):\n",
    "                    a+=poblacion[i][j]\n",
    "                print(a)"
   ]
  },
  {
   "cell_type": "code",
   "execution_count": 6,
   "metadata": {},
   "outputs": [
    {
     "output_type": "stream",
     "name": "stdout",
     "text": [
      "\n\n ['X', 'N', 'I', 'M', 'U', 'L', 'A', ' ', ' ', 'V', 'A', 'G', 'U', 'L', 'A', ' ', ' ', 'B', 'L', 'A', 'N', 'D', 'U', 'L', 'A']\n['X', 'N', 'I', 'M', 'U', 'L', 'A', ' ', ' ', 'V', 'A', 'G', 'U', 'L', 'A', ' ', ' ', 'B', 'L', 'A', 'N', 'D', 'U', 'L', 'A']\n"
     ]
    }
   ],
   "source": [
    "sustituto=''\n",
    "print(\"\\n\\n\",poblacion[4])\n",
    "nueva=[]\n",
    "for j in range(len(Frase)):\n",
    "    #if MonteCarloSimple([1-pMutacion,pMutacion]) == 1:\n",
    "    if random.random()<pMutacion:\n",
    "        sustituto=random.choice(letras)\n",
    "        print('Letra al azar:    ',sustituto)\n",
    "        #nueva=nueva.replace(nueva[j],sustituto)\n",
    "        nueva.append(sustituto)\n",
    "    else:\n",
    "        nueva.append(poblacion[4][j])\n",
    "print(nueva)"
   ]
  },
  {
   "cell_type": "code",
   "execution_count": 7,
   "metadata": {},
   "outputs": [
    {
     "output_type": "stream",
     "name": "stdout",
     "text": [
      "26\n"
     ]
    }
   ],
   "source": [
    "num=0\n",
    "for i in range(100):\n",
    "    if random.random()<0.26894142136999516:\n",
    "        num+=1\n",
    "print(num)\n",
    "\n"
   ]
  }
 ],
 "metadata": {
  "kernelspec": {
   "name": "python385jvsc74a57bd0bf08d5b11cafca2389f2905eb9ec8f2b4c0813376260f0cf76d5bcecc16af807",
   "display_name": "Python 3.8.5 64-bit ('base': conda)"
  },
  "language_info": {
   "codemirror_mode": {
    "name": "ipython",
    "version": 3
   },
   "file_extension": ".py",
   "mimetype": "text/x-python",
   "name": "python",
   "nbconvert_exporter": "python",
   "pygments_lexer": "ipython3",
   "version": "3.8.5"
  },
  "metadata": {
   "interpreter": {
    "hash": "57baa5815c940fdaff4d14510622de9616cae602444507ba5d0b6727c008cbd6"
   }
  }
 },
 "nbformat": 4,
 "nbformat_minor": 4
}