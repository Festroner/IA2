{
 "cells": [
  {
   "cell_type": "code",
   "execution_count": 1,
   "metadata": {},
   "outputs": [],
   "source": [
    "import random\n",
    "import string\n",
    "from math import e\n",
    "from statistics import mode\n",
    "from py_linq import Enumerable\n",
    "\n",
    "\n",
    "\n",
    "\n",
    "Frase='primavera verano'.upper()\n",
    "epocas=0\n",
    "numPoblacion=500\n",
    "generaciones=10000\n",
    "pMutacion=0.0065\n",
    "resumen=generaciones/50\n",
    "muestra=generaciones/20\n",
    "porcentajeSelec=0.2\n",
    "\n",
    "\n",
    "\n",
    "#Genes posibles\n",
    "asci=string.ascii_uppercase + ' '\n",
    "letras=[]\n",
    "for i in range(len(asci)):\n",
    "    letras.append(asci[i])"
   ]
  },
  {
   "cell_type": "code",
   "execution_count": 2,
   "metadata": {},
   "outputs": [
    {
     "output_type": "execute_result",
     "data": {
      "text/plain": [
       "'F'"
      ]
     },
     "metadata": {},
     "execution_count": 2
    }
   ],
   "source": [
    "\n",
    "#(e**(1 - 15) - e**(-15))/ (e**( 1 - 15 ) - e**( -15 ) )\n",
    "random.choice(letras)"
   ]
  },
  {
   "cell_type": "code",
   "execution_count": 3,
   "metadata": {},
   "outputs": [],
   "source": [
    "\n",
    "def coincidencias(cadena,original):\n",
    "    num=0\n",
    "    for i in range(len(original)):\n",
    "        if cadena[i]==original[i]:\n",
    "            num+=1\n",
    "    return num\n",
    "\n",
    "\n",
    "def CalculoFitness(original, coincidencias):\n",
    "    return e**(coincidencias - len(original)) - e**(-len(original))\n",
    "    \n",
    "def CalculoProbSelec (fitness,coincide):\n",
    "    x=fitness / (e**( max(coincide) - len(Frase) ) - e**( -len(Frase) ) )\n",
    "    return x\n",
    "\n",
    "def MonteCarloSimple(lista):#Creamos la ruleta por sectores y elegimos un numero al azar max 100\n",
    "    #print(lista)\n",
    "    ruleta=[]\n",
    "    lista=[int(round(x*100)) for x in lista]\n",
    "    for i in range(len(lista)):\n",
    "        for j in range(lista[i]):\n",
    "            ruleta.append(i)\n",
    "    #print(max(ruleta))\n",
    "    elegido=random.randint(0,len(ruleta)-1)\n",
    "    return ruleta[elegido] # Esta funcion devuelve un 1 si solo son 2 valores (1 positivo, 0 negativo)\n",
    "\n",
    "def Mutacion(padre):#a traves de la frase del padre evaluamos uno a uno si los caracteres cambian\n",
    "    sustituto=''\n",
    "    #print(\"\\n\\n\", padre)\n",
    "    nueva=[]\n",
    "    for j in range(len(Frase)):\n",
    "        if MonteCarloSimple([1-pMutacion,pMutacion]) == 1:\n",
    "        #if random.random()<pMutacion:\n",
    "            sustituto=random.choice(letras)\n",
    "   #         print('Letra al azar:    ',sustituto)\n",
    "            #nueva=nueva.replace(nueva[j],sustituto)\n",
    "            nueva.append(sustituto)\n",
    "        else:\n",
    "            nueva.append(padre[j])\n",
    "                        \n",
    "    #print(nueva)        \n",
    "    return nueva\n",
    "\n",
    "\n",
    "\n"
   ]
  },
  {
   "cell_type": "code",
   "execution_count": 4,
   "metadata": {
    "tags": []
   },
   "outputs": [
    {
     "output_type": "stream",
     "name": "stdout",
     "text": [
      "Sentencia Target:  PRIMAVERA VERANO . Longitud:  16\n",
      "Poblacion total:  500 . Generaciones máximas:  10000\n",
      "Probabilidad de Mutacion:  0.0065 \n",
      "\n",
      "\n",
      "Generacion nº:  0\n"
     ]
    },
    {
     "output_type": "error",
     "ename": "IndexError",
     "evalue": "string index out of range",
     "traceback": [
      "\u001b[1;31m---------------------------------------------------------------------------\u001b[0m",
      "\u001b[1;31mIndexError\u001b[0m                                Traceback (most recent call last)",
      "\u001b[1;32m<ipython-input-4-70fcd11c0857>\u001b[0m in \u001b[0;36m<module>\u001b[1;34m\u001b[0m\n\u001b[0;32m     59\u001b[0m         \u001b[0mb\u001b[0m\u001b[1;33m=\u001b[0m\u001b[1;34m''\u001b[0m\u001b[1;33m\u001b[0m\u001b[1;33m\u001b[0m\u001b[0m\n\u001b[0;32m     60\u001b[0m         \u001b[1;32mfor\u001b[0m \u001b[0mi\u001b[0m \u001b[1;32min\u001b[0m \u001b[0mrange\u001b[0m\u001b[1;33m(\u001b[0m\u001b[0mlen\u001b[0m\u001b[1;33m(\u001b[0m\u001b[0mFrase\u001b[0m\u001b[1;33m)\u001b[0m\u001b[1;33m)\u001b[0m\u001b[1;33m:\u001b[0m\u001b[1;33m\u001b[0m\u001b[1;33m\u001b[0m\u001b[0m\n\u001b[1;32m---> 61\u001b[1;33m                     \u001b[0mb\u001b[0m\u001b[1;33m+=\u001b[0m\u001b[0mmejor\u001b[0m\u001b[1;33m[\u001b[0m\u001b[0mi\u001b[0m\u001b[1;33m]\u001b[0m\u001b[1;33m\u001b[0m\u001b[1;33m\u001b[0m\u001b[0m\n\u001b[0m\u001b[0;32m     62\u001b[0m \u001b[1;33m\u001b[0m\u001b[0m\n\u001b[0;32m     63\u001b[0m         \u001b[0mprint\u001b[0m\u001b[1;33m(\u001b[0m\u001b[1;34m\"Mejor individuo: \"\u001b[0m\u001b[1;33m,\u001b[0m \u001b[0mb\u001b[0m\u001b[1;33m,\u001b[0m \u001b[1;34m\". Coincidencias: \"\u001b[0m\u001b[1;33m,\u001b[0m \u001b[0mcoincidencias\u001b[0m\u001b[1;33m(\u001b[0m\u001b[0mb\u001b[0m\u001b[1;33m,\u001b[0m\u001b[0mFrase\u001b[0m\u001b[1;33m)\u001b[0m\u001b[1;33m,\u001b[0m \u001b[1;34m\"NTAR: \"\u001b[0m\u001b[1;33m,\u001b[0m \u001b[0maparece\u001b[0m\u001b[1;33m,\u001b[0m \u001b[1;34m\" %NTAR (\"\u001b[0m\u001b[1;33m,\u001b[0m\u001b[1;33m(\u001b[0m\u001b[0maparece\u001b[0m\u001b[1;33m/\u001b[0m\u001b[0mnumPoblacion\u001b[0m\u001b[1;33m)\u001b[0m\u001b[1;33m*\u001b[0m\u001b[1;36m100\u001b[0m\u001b[1;33m,\u001b[0m \u001b[1;34m\"%)\"\u001b[0m\u001b[1;33m)\u001b[0m\u001b[1;33m\u001b[0m\u001b[1;33m\u001b[0m\u001b[0m\n",
      "\u001b[1;31mIndexError\u001b[0m: string index out of range"
     ]
    }
   ],
   "source": [
    "primera=True\n",
    "poblacion=[]\n",
    "probabilidadP=[]\n",
    "fitnes=[]\n",
    "coincide=[]\n",
    "\n",
    "print(\"Sentencia Target: \", Frase, \". Longitud: \", len(Frase))\n",
    "print(\"Poblacion total: \", numPoblacion, \". Generaciones máximas: \", generaciones, )\n",
    "print(\"Probabilidad de Mutacion: \", pMutacion, \"\\n\\n\")\n",
    "\n",
    "\n",
    "while True:\n",
    "    \n",
    "    while primera and epocas == 0:\n",
    "        poblacion=[]\n",
    "        coincide=[]\n",
    "        #Poblacion aleatoria\n",
    "        for i in range(numPoblacion):\n",
    "            frase=[]\n",
    "            \n",
    "            for j in range(len(Frase)):\n",
    "                frase.append(random.choice(letras))\n",
    "            poblacion.append(frase)\n",
    "            coincide.append(coincidencias(poblacion[i], Frase))\n",
    "        if max(coincide)!=0:\n",
    "            primera=False\n",
    "  \n",
    "    pob=Enumerable(poblacion)\n",
    "    #print(\"Padre\",Padre, \"Probs: \", len(probabilidadP))\n",
    "    mejorP=pob.order_by_descending(lambda x: CalculoFitness(Frase,coincidencias(x,Frase)))\n",
    "    mejorP=mejorP.take(numPoblacion*porcentajeSelec)\n",
    "    cuantos=mejorP.count()\n",
    "    poblacion=[]\n",
    "    f=0\n",
    "\n",
    "    while cuantos>f:\n",
    "        for i in range(int(round(numPoblacion/cuantos))):\n",
    "            poblacion.append(Mutacion(mejorP[f]))\n",
    "        f+=1\n",
    "\n",
    "    pobN=Enumerable(poblacion)\n",
    "    coincide=pobN.where(lambda x: coincidencias(x,Frase))\n",
    "    if epocas%resumen == 0 or epocas%muestra==0:\n",
    "        mejor=''\n",
    "        aparece=0\n",
    "        for i in range(numPoblacion):\n",
    "            if max(coincide)==coincide[i]:\n",
    "                mejor=poblacion[i]\n",
    "                aparece+=1\n",
    "        #individuo de consenso\n",
    "        consenso=[]\n",
    "        for i in range(len(Frase)):\n",
    "            posicion=[]\n",
    "            for j in range(numPoblacion):\n",
    "                posicion.append(poblacion[j][i])\n",
    "            consenso.append(mode(posicion))\n",
    "        \n",
    "        print(\"Generacion nº: \", epocas)\n",
    "        b=''\n",
    "        for i in range(len(Frase)):\n",
    "                    b+=mejor[i]\n",
    "        \n",
    "        print(\"Mejor individuo: \", b, \". Coincidencias: \", coincidencias(b,Frase), \"NTAR: \", aparece, \" %NTAR (\",(aparece/numPoblacion)*100, \"%)\")\n",
    "        if epocas%muestra==0:\n",
    "            print('Individuo de consenso: ', consenso, '. Coincidencias de media: ', sum(coincide)/numPoblacion) \n",
    "            print(\"Muestreo de la poblacion: \")\n",
    "            mostrados=[]\n",
    "            \n",
    "            for i in range(int(round(numPoblacion/5))):\n",
    "                a=''\n",
    "                for j in range(len(Frase)):\n",
    "                    a+=poblacion[i][j]\n",
    "                mostrados.append(a)\n",
    "            print(mostrados)\n",
    "        else:\n",
    "            print('Individuo de consenso: ', consenso, '. Coincidencias de media: ', sum(coincide)/numPoblacion, \"\\n\\n\") \n",
    "\n",
    "    if max(coincide)==len(Frase):\n",
    "        p=Enumerable(poblacion)\n",
    "        p=p.where(lambda x: coincidencias(x,Frase)==max(coincide))\n",
    "        mejor=p[0]\n",
    "        print(\"solucion encontrada: \", mejor)\n",
    "        \n",
    "        break\n",
    "    if epocas == generaciones:\n",
    "        break\n",
    "    epocas+=1\n",
    "    \n",
    "\n",
    "\n",
    "\n"
   ]
  },
  {
   "cell_type": "code",
   "execution_count": 29,
   "metadata": {},
   "outputs": [
    {
     "output_type": "execute_result",
     "data": {
      "text/plain": [
       "[['P', 'R', 'I', 'M', 'A', 'V', 'E', 'R', 'A', ' ', 'V', 'E', 'R', 'A', 'N', 'O'], ['P', 'R', 'I', 'M', 'A', 'V', 'E', 'R', 'A', ' ', 'V', 'E', 'R', 'A', 'N', 'O'], ['P', 'R', 'I', 'M', 'A', 'V', 'E', 'R', 'A', ' ', 'V', 'E', 'R', 'A', 'N', 'O'], ['P', 'R', 'I', 'M', 'A', 'V', 'E', 'R', 'A', ' ', 'V', 'E', 'R', 'A', 'N', 'N'], ['P', 'R', 'I', 'M', 'A', 'V', 'E', 'R', 'A', ' ', 'O', 'E', 'R', 'A', 'N', 'O'], ['P', 'R', 'I', 'M', 'A', 'V', 'E', 'R', 'A', ' ', 'V', 'E', 'R', 'A', 'N', 'N'], ['P', 'R', 'I', 'M', 'A', 'V', 'E', 'R', 'A', ' ', 'V', 'E', 'R', 'A', 'N', 'N'], ['P', 'R', 'I', 'M', 'A', 'V', 'E', 'R', 'A', ' ', 'V', 'E', 'R', 'A', 'N', 'N'], ['P', 'R', 'I', 'M', 'A', 'V', 'E', 'R', 'A', ' ', 'V', 'E', 'R', 'A', 'N', 'N'], ['P', 'R', 'I', 'M', 'A', 'V', 'E', 'R', 'A', ' ', 'V', 'E', 'R', 'A', 'N', 'N'], ['P', 'R', 'I', 'M', 'A', 'V', 'E', 'R', 'A', ' ', 'V', 'E', 'R', 'A', 'N', 'N'], ['P', 'R', 'I', 'M', 'A', 'V', 'E', 'R', 'A', ' ', 'V', 'E', 'R', 'A', 'N', 'N'], ['P', 'R', 'I', 'M', 'A', 'V', 'E', 'R', 'A', ' ', 'V', 'E', 'R', 'A', 'N', 'N'], ['P', 'R', 'I', 'M', 'A', 'V', 'E', 'R', 'A', ' ', 'V', 'E', 'R', 'A', 'N', 'N'], ['P', 'R', 'I', 'M', 'A', 'V', 'E', 'R', 'A', ' ', 'V', 'E', 'R', 'A', 'N', 'N'], ['P', 'R', 'I', 'M', 'A', 'V', 'E', 'R', 'A', ' ', 'V', 'E', 'R', 'A', 'N', 'N'], ['P', 'R', 'I', 'M', 'A', 'V', 'E', 'R', 'A', ' ', 'V', 'E', 'R', 'A', 'N', 'N'], ['P', 'R', 'I', 'M', 'A', 'V', 'E', 'R', 'A', ' ', 'O', 'E', 'R', 'A', 'N', 'O'], ['P', 'R', 'I', 'M', 'A', 'V', 'E', 'R', 'A', ' ', 'O', 'E', 'R', 'A', 'N', 'O'], ['P', 'R', 'I', 'M', 'A', 'V', 'E', 'R', 'A', ' ', 'V', 'E', 'R', 'A', 'N', 'N'], ['P', 'R', 'I', 'M', 'A', 'V', 'E', 'R', 'A', ' ', 'V', 'E', 'R', 'A', 'N', 'N'], ['P', 'R', 'I', 'M', 'A', 'V', 'E', 'R', 'A', ' ', 'V', 'E', 'R', 'A', 'N', 'I'], ['P', 'R', 'I', 'M', 'A', 'V', 'E', 'R', 'A', ' ', 'V', 'E', 'R', 'A', 'N', 'N'], ['P', 'R', 'I', 'M', 'A', 'V', 'E', 'R', 'A', ' ', 'V', 'E', 'R', 'A', 'N', 'S'], ['P', 'R', 'I', 'M', 'A', 'V', 'E', 'R', 'A', ' ', 'V', 'E', 'R', 'A', 'N', 'W'], ['P', 'R', 'I', 'M', 'A', 'V', 'E', 'R', 'A', ' ', 'V', 'E', 'R', 'A', 'N', 'N'], ['P', 'R', 'I', 'M', 'A', 'V', 'E', 'R', 'A', ' ', 'V', 'E', 'R', 'A', 'N', 'N'], ['P', 'R', 'I', 'M', 'A', 'V', 'E', 'R', 'A', ' ', 'V', 'E', 'R', 'A', 'N', 'N'], ['P', 'R', 'I', 'M', 'A', 'V', 'E', 'R', 'A', ' ', 'O', 'E', 'R', 'A', 'N', 'O'], ['P', 'R', 'I', 'M', 'A', 'V', 'E', 'R', 'A', ' ', 'V', 'E', 'R', 'A', 'N', 'N'], ['P', 'R', 'I', 'M', 'A', 'V', 'E', 'R', 'A', ' ', 'V', 'E', 'R', 'A', 'N', 'N'], ['P', 'R', 'I', 'M', 'A', 'V', 'E', 'R', 'A', ' ', 'V', 'E', 'R', 'A', 'N', 'N'], ['P', 'R', 'I', 'M', 'A', 'V', 'E', 'R', 'A', ' ', 'V', 'E', 'R', 'A', 'N', 'N'], ['P', 'R', 'I', 'M', 'A', 'V', 'E', 'R', 'A', ' ', 'V', 'E', 'R', 'A', 'N', 'N'], ['P', 'R', 'I', 'M', 'A', 'V', 'E', 'R', 'A', ' ', 'O', 'E', 'R', 'A', 'N', 'O'], ['P', 'R', 'I', 'M', 'A', 'V', 'E', 'R', 'A', ' ', 'V', 'E', 'R', 'A', 'N', 'N'], ['P', 'R', 'I', 'M', 'A', 'V', 'E', 'R', 'A', ' ', 'V', 'E', 'R', 'A', 'N', 'N'], ['P', 'R', 'I', 'M', 'A', 'V', 'E', 'R', 'A', ' ', 'V', 'E', 'R', 'A', 'N', 'N'], ['P', 'R', 'I', 'M', 'A', 'V', 'E', 'R', 'A', ' ', 'V', 'E', 'R', 'A', 'N', 'N'], ['P', 'R', 'I', 'M', 'A', 'V', 'E', 'R', 'A', ' ', 'V', 'E', 'R', 'A', 'N', 'N'], ['P', 'R', 'I', 'M', 'A', 'V', 'E', 'R', 'A', ' ', 'V', 'E', 'R', 'A', 'N', 'N'], ['P', 'R', 'I', 'M', 'A', 'V', 'E', 'R', 'A', ' ', 'V', 'E', 'R', 'A', 'N', 'N'], ['P', 'R', 'I', 'M', 'A', 'V', 'E', 'R', 'A', ' ', 'V', 'E', 'R', 'A', 'N', 'N'], ['P', 'R', 'I', 'M', 'A', 'V', 'E', 'R', 'A', ' ', 'V', 'E', 'R', 'A', 'N', 'N'], ['P', 'R', 'I', 'M', 'A', 'V', 'E', 'R', 'A', ' ', 'V', 'E', 'R', 'A', 'N', 'N'], ['P', 'R', 'I', 'M', 'A', 'V', 'E', 'R', 'A', ' ', 'V', 'E', 'R', 'A', 'N', 'N'], ['P', 'R', 'I', 'M', 'A', 'V', 'E', 'R', 'A', ' ', 'V', 'E', 'R', 'A', 'N', 'I'], ['P', 'R', 'I', 'M', 'A', 'V', 'E', 'R', 'A', ' ', 'V', 'E', 'R', 'A', 'N', 'N'], ['P', 'R', 'I', 'M', 'A', 'V', 'E', 'R', 'A', ' ', 'V', 'E', 'R', 'A', 'N', 'N'], ['P', 'R', 'I', 'M', 'A', 'V', 'E', 'R', 'A', ' ', 'V', 'E', 'R', 'A', 'N', 'N'], ['P', 'R', 'I', 'M', 'A', 'V', 'E', 'R', 'A', ' ', 'V', 'E', 'R', 'A', 'N', 'I'], ['P', 'R', 'I', 'M', 'A', 'V', 'E', 'R', 'A', ' ', 'V', 'E', 'R', 'A', 'N', 'N'], ['P', 'R', 'I', 'M', 'A', 'V', 'E', 'R', 'A', ' ', 'V', 'E', 'R', 'A', 'N', 'N'], ['P', 'R', 'I', 'M', 'A', 'V', 'E', 'R', 'A', ' ', 'V', 'E', 'R', 'A', 'N', 'N'], ['P', 'R', 'I', 'M', 'A', 'V', 'E', 'R', 'A', ' ', 'V', 'E', 'R', 'A', 'N', 'N'], ['P', 'R', 'I', 'M', 'A', 'V', 'E', 'R', 'A', ' ', 'V', 'E', 'R', 'A', 'N', 'N'], ['P', 'R', 'I', 'M', 'A', 'V', 'E', 'R', 'A', ' ', 'V', 'E', 'R', 'A', 'N', 'N'], ['P', 'R', 'I', 'M', 'A', 'V', 'E', 'R', 'A', ' ', 'V', 'E', 'R', 'A', 'N', 'N'], ['P', 'R', 'I', 'M', 'A', 'V', 'E', 'R', 'A', ' ', 'V', 'E', 'R', 'A', 'N', 'N'], ['P', 'R', 'I', 'M', 'A', 'V', 'E', 'R', 'A', ' ', 'V', 'E', 'R', 'A', 'N', 'N'], ['P', 'R', 'I', 'M', 'A', 'V', 'E', 'R', 'A', ' ', 'V', 'E', 'R', 'A', 'N', 'N'], ['P', 'R', 'I', 'M', 'A', 'V', 'E', 'R', 'A', ' ', 'O', 'E', 'R', 'A', 'N', 'O'], ['P', 'R', 'I', 'M', 'A', 'V', 'E', 'R', 'A', ' ', 'V', 'E', 'R', 'A', 'N', 'N'], ['P', 'R', 'I', 'M', 'A', 'V', 'E', 'R', 'A', ' ', 'V', 'E', 'R', 'A', 'N', 'N'], ['P', 'R', 'I', 'M', 'A', 'V', 'E', 'R', 'A', ' ', 'V', 'E', 'R', 'A', 'N', 'D'], ['P', 'R', 'I', 'M', 'A', 'V', 'E', 'R', 'A', ' ', 'V', 'E', 'R', 'A', 'N', 'N'], ['P', 'R', 'I', 'M', 'A', 'V', 'E', 'R', 'A', ' ', 'V', 'E', 'R', 'A', 'N', 'N'], ['P', 'R', 'I', 'M', 'A', 'V', 'E', 'R', 'A', ' ', 'V', 'E', 'R', 'A', 'N', 'N'], ['P', 'R', 'I', 'M', 'A', 'V', 'E', 'R', 'A', ' ', 'V', 'E', 'R', 'A', 'N', 'N'], ['P', 'R', 'I', 'M', 'A', 'V', 'E', 'R', 'A', ' ', 'V', 'E', 'R', 'A', 'N', 'Y'], ['P', 'R', 'I', 'M', 'A', 'V', 'E', 'R', 'A', ' ', 'V', 'E', 'R', 'A', 'N', 'N'], ['P', 'R', 'I', 'M', 'A', 'V', 'E', 'R', 'A', ' ', 'O', 'E', 'R', 'A', 'N', 'O'], ['P', 'R', 'I', 'M', 'A', 'V', 'E', 'R', 'A', ' ', 'V', 'E', 'R', 'A', 'N', 'S'], ['P', 'R', 'I', 'M', 'A', 'V', 'E', 'R', 'A', ' ', 'V', 'E', 'R', 'A', 'N', 'N'], ['P', 'R', 'I', 'M', 'A', 'V', 'E', 'R', 'A', ' ', 'O', 'E', 'R', 'A', 'N', 'O'], ['P', 'R', 'I', 'M', 'A', 'V', 'E', 'R', 'A', ' ', 'V', 'E', 'R', 'A', 'N', 'N'], ['P', 'R', 'I', 'M', 'A', 'V', 'E', 'R', 'A', ' ', 'V', 'E', 'R', 'A', 'N', 'P'], ['P', 'R', 'I', 'M', 'A', 'V', 'E', 'R', 'A', ' ', 'V', 'E', 'R', 'A', 'N', 'I'], ['P', 'R', 'I', 'M', 'A', 'V', 'E', 'R', 'A', ' ', 'V', 'E', 'R', 'A', 'N', 'N'], ['P', 'R', 'I', 'M', 'A', 'V', 'E', 'R', 'A', ' ', 'V', 'E', 'R', 'A', 'N', 'Y'], ['P', 'R', 'I', 'M', 'A', 'V', 'E', 'R', 'A', ' ', 'V', 'E', 'R', 'A', 'N', 'Y'], ['P', 'R', 'I', 'M', 'A', 'V', 'E', 'R', 'A', ' ', 'V', 'E', 'R', 'A', 'N', 'N'], ['P', 'R', 'I', 'M', 'A', 'V', 'E', 'R', 'A', ' ', 'O', 'E', 'R', 'A', 'N', 'O'], ['P', 'R', 'I', 'M', 'A', 'V', 'E', 'R', 'A', ' ', 'O', 'E', 'R', 'A', 'N', 'O'], ['P', 'R', 'I', 'M', 'A', 'V', 'E', 'R', 'A', ' ', 'V', 'E', 'R', 'A', 'N', 'N'], ['P', 'R', 'I', 'M', 'A', 'V', 'E', 'R', 'A', ' ', 'O', 'E', 'R', 'A', 'N', 'O'], ['P', 'R', 'I', 'M', 'A', 'V', 'E', 'R', 'A', ' ', 'V', 'E', 'R', 'A', 'N', 'N'], ['P', 'R', 'I', 'M', 'A', 'V', 'E', 'R', 'A', ' ', 'V', 'E', 'R', 'A', 'N', 'N'], ['P', 'R', 'I', 'M', 'A', 'V', 'E', 'R', 'A', ' ', 'V', 'E', 'R', 'A', 'N', 'N'], ['P', 'R', 'I', 'M', 'A', 'V', 'E', 'R', 'A', ' ', 'V', 'E', 'R', 'A', 'N', 'N'], ['P', 'R', 'I', 'M', 'A', 'V', 'E', 'R', 'A', ' ', 'V', 'E', 'R', 'A', 'N', 'N'], ['P', 'R', 'I', 'M', 'A', 'V', 'E', 'R', 'A', ' ', 'V', 'E', 'R', 'A', 'N', 'I'], ['P', 'R', 'I', 'M', 'A', 'V', 'E', 'R', 'A', ' ', 'V', 'E', 'R', 'A', 'N', 'N'], ['P', 'R', 'I', 'M', 'A', 'V', 'E', 'R', 'A', ' ', 'V', 'E', 'R', 'A', 'N', 'N'], ['P', 'R', 'I', 'M', 'A', 'V', 'E', 'R', 'A', ' ', 'V', 'E', 'R', 'A', 'N', 'N'], ['P', 'R', 'I', 'M', 'A', 'V', 'E', 'R', 'A', ' ', 'O', 'E', 'R', 'A', 'N', 'O'], ['P', 'R', 'I', 'M', 'A', 'V', 'E', 'R', 'A', ' ', 'V', 'E', 'R', 'A', 'N', 'N'], ['P', 'R', 'I', 'M', 'A', 'V', 'E', 'R', 'A', ' ', 'O', 'E', 'R', 'A', 'N', 'O'], ['P', 'R', 'I', 'M', 'A', 'V', 'E', 'R', 'A', ' ', 'V', 'E', 'R', 'A', 'N', 'R'], ['P', 'R', 'I', 'M', 'A', 'V', 'E', 'R', 'A', ' ', 'V', 'E', 'R', 'A', 'N', 'N']]"
      ]
     },
     "metadata": {},
     "execution_count": 29
    }
   ],
   "source": [
    "pob=Enumerable(poblacion)\n",
    "mejorP=pob.order_by_descending(lambda x: coincidencias(x,Frase))\n",
    "mejorP=mejorP.take(numPoblacion*porcentajeSelec)"
   ]
  },
  {
   "cell_type": "code",
   "execution_count": 5,
   "metadata": {},
   "outputs": [
    {
     "output_type": "stream",
     "name": "stdout",
     "text": [
      "PRIMAVERQ VERANO\nPRIMAVERQGVERANO\nPRIMAVERQ VERANO\nPRIMAVERQ VERANO\nPRIMAVERQ VERANO\nPRIMAVERQ VERANO\nPRIMAVERQ VERANO\nPRIMAVERQ VERANO\nPRIMAVERQ VERANO\nPRIMAVERQGVERANO\nPRIMAVERQ VERANO\nPRIMAVERQ VERANO\nPRIMAVERQ VERANO\nPRIMAVERQ VERANO\nPRIMAVERQ VERANO\nPRIMAVERQ VERANO\nPRIMAVERQ VERANO\nPRIMAVERQ VERANO\nPRIMAVERQ VETAGO\nPRIMAVERQ VERANO\nPRIMAVERQ VERAZO\nPRIMAVERQHVERANO\nPRIMAVERQ VERANO\nPRIMAVERQ VERANO\nPRIMAVERQ VERANO\nPRIMAVERQGVERANO\nPRIMAVERQ VERANO\nPRIMAVERQ VERANO\nPRIMAVERQ VERANO\nPRIMAVERQ VERANO\nPRIMAVERT VEOANO\nPRIMAVERQ VERANO\nPRIMAVERQ VERANO\nPRIMAVERQ VERANO\nPRIMAVERQ VERPNO\nPRIMAVERQ XERANO\nPRIMAVERQ VERANO\nPVIMAVERQ VERANO\nPRIMAVERQ VERANO\nPRIMAV RQ VERANO\nPRIMAVERQ VERANO\nPRIMAVERQ VERANO\nPRIMAVERQ VERANO\nPRIMAVERQ VERANO\nPRIMAVERQ VERANO\nPRIMAVERQ VERANO\nPRIMAVERQ VEEANO\nPRIMAVERQ VERANO\nPRIMAVERQ VERANO\nPRIMAVERQ VERANO\nPRIMAVERQ VERANO\nPRIMAVERQ VERANO\nPRIMAVERQ VIRANO\nPRIMAVERQ VERANE\nPRIMAVERQ VERANO\nPRIMAVERQ VERANO\nPRIMAVERQ VERANO\nPRIMAVERQ VERANO\nPRIMAFERQ VERANO\nPRIMAVERHCVERANO\nPRIMAVERQ VERANO\nPRIMAVERQ VERANO\nPRIMAVERQ VTRANO\nPRIMAVERQ VERANO\nPRIMAVERQ VERANO\nPREMAVERQGVERANO\nPRIMAVERQ VERANO\nPRIMAVERQ VERANO\nPRIMAVERQ RERANO\nPRIKAVERQ VERANO\nPRIMAVERQ VERANO\nPRIMAVERA VERANO\nPRIMAVERQ VERANO\nPRIMAVERQ VERANO\nPRIMAVERQ VERANH\nPRIMAVERQ VERANO\nPRIMAVERQ BERANO\nPRIMAVERQ VERANO\nPRIMAVERB VERANO\nPRIMAVERQ VERANO\nPRIMAVERQ VERANO\nPRIMAVERQ VERANO\nPRIMAVERQ VERANO\nPRIMAVERQ VERANO\nPRIMAVERQ VERANO\nPRIMAVERQ VERANO\nPRIMAVERBGVERANO\nPRIMAVERQ VFRANO\nPRIMAVERQ VERANO\nPRIDAVERQ VERANO\nPRIMAVERQ VERANO\nPRIMAVERQ VERANO\nPRIMAVERQ VERANO\nPRIMAVERQ VERANO\nPRIMAVERQ VERANO\nPRIMAVERQ VERANO\nPRIMAVLRF VERANO\nPRIMAVERQ VERANO\nPRIMAVERQ VERANO\nPRIMAVERQ VERANO\nPRIMAVERQ VERANO\nPRIMAVERQ VERANO\nPRIMAVERQ VERANO\nPRIMAVERQ VERANO\nPRIMAVERQ VERANO\nPRIMAVERQ VERANO\nPRIMAVERQ VERANO\nPRIMAVERQ VERANO\nPRIMAVERQ VERANO\nPRIMAVERQ VERANO\nPRIMAVERQ VERANO\nPRIMAVERQ VERANO\nPRIMAVERQ VERANO\nPRIMAVERQ VERANO\nPRIMZVERB VERANO\nPRIMAVERQ VERANO\nPRIMAVERQHVERANO\nPRIMAVERQ VERANO\nPRIMAVERQ VERANO\nPRIMAVERQ VERANO\nPRIMAVERQ VERANO\nPRIMAVERQ VERANO\nPRIMAVERQ VERANO\nPRIMAVERQKVERANO\nPRIMAVCRQ VERANO\nPRIMAVERQ VERANO\nPRIMAVERQ VERANO\nPRIMAVERQGVERANO\nPRIMAVERAGVERADO\nPRIMAVERQ VERANO\nPRIMAVERQ VXRANO\nPRIMAVERQ VERANO\nPRIMAVERQ VERANO\nPRIKAVERQ VERANO\nPRIMAVERQ VERANO\nPRIMAVERQ VERANO\nPRIMAVERQ VERFNO\nPRIMAVERQ VERANO\nPRIMAVERQ VERANO\nPRIMAVERQ VERANO\nPRIMAVERQ VERANO\nPRIMAVERQ VERANO\nPRIMAVERQ VCRANO\nPRIMAVERQ VERANO\nPRIMAVERQ VERANO\nPRIMAVERQ VERANO\nPRIMAVERQ VERANO\nPRIMAVERQ VERANO\nPRIMAVERQ VERANO\nPRIMAVERQ VERAZO\nPRIUAVERQ VERANO\nPRIMAVERQ VERANO\nPRIMAVERQ VERANO\nPRIMAVERQ VELANO\nPRIMAVERQ VERANO\nPRIMAVERQ VERANO\nPRIMAVERQ VERANO\nPRIMAVERQ VERANO\nPRIMAVERQ VERANO\nPRIMAVERQ VERANO\nPRIMAVERQ VERANO\nPRIMAVERQ VERANO\nPRIMAVERQ VERANO\nPRIMAVERQ VERANO\nPRIMAVEOQ VGRANO\nPRIMAVERQ VERANO\nPRIMAVERQ VIRANO\nPRIMAVERQ VERANO\nPRIMAVERQ VERANO\nPRIMAVERX VERANO\nPRIMAVERX VERANO\nPRIMAVERQ VERANO\nPRIMAVERQ VERANO\nPRIMAVERQ VERANO\nPRIMAVERQ VERANO\nPRIMAVERQ VWRANO\nPRIMAVERQ VERANO\nPRIMAVERQ VERANO\nPRIMAVERQ VERANO\nPRIMAVERQ VCRANO\nPRIMAVERQ VERANO\nPRIMAVERQ VERANO\nPREMAVERQGVERANO\nPRIMAVERQ VERANO\nPRIMAVERO VERANO\nPRIMAVERQ VERANO\nPRIMAVERQ VERANO\nPRIMAVERAGVERADO\nPRIMAVERQ VERANO\nPRIMAVERQGVERANO\nPRIMAVERQ VERANO\nPRIMAVERQ VERANO\nPRIMAVERQ VERANO\nPRIMAVERQ VERANO\nPRIMAV RQ VERANO\nPRIMAVERQ VERANO\nPRIMAVERQGVERANO\nPRIMAVEVQ VERANO\nPRIMAVERO VERANO\nPRIMAVERQ VERANO\nPRIMAVERQ VERANO\nPRIMAVERQ JERANO\nPRIMAVEGQ VERANO\nPRIMAVERQ VERANO\nPRIMAVERQ VERANO\nPRIMAVERQ VERANO\nPRIMAVERQ VPRANO\nPRIMAVERQ VERANO\nPRIMAVEEQ VERANO\nPRIMAVERQ BERANO\nPRIMAVERQ VERANO\nPRIMAVERQ VERANO\nPRIMAVERQ VERANO\nPRAMAFERQ VERANO\nPRIMAVERM VERANO\nPRIMAVERQ VERANO\nPRIMAVERQ VERANO\nGRIMAVERQ VERANO\nPRIMAVERQGVERANO\nPRIMAVERQ VERANO\nPRIMAVERN VERANO\nORIMAVERQ VERANO\nPRIMAVERQ VERANO\nPRIMAVERQ VERANO\nPRIMAVERQ VERANT\nPRIMAVERQ VERANO\nPRIMAVERQ VERANO\nPRIMAVERQ VERANY\nPRIMAVERQ VERANO\nPRIMAVERQ VERANO\nPRIMAVERQ VERANO\nPRIMAVERQ VERANO\nPRIMAVERQ VERANO\nPRIMAVERQ VERANO\nPRIMAVERQ VPRANO\nPRGMAVEHQ VERANO\nPRIMAVERQ VERANO\nPRIMAVERIHVERANO\nPRIMAVERQ VERANO\nPRIMAVERQ VERANO\nPRIMAVERQ VERANO\nPRDMAVERQ VERANO\nPRIMAVERQ VERANO\nPRIMAVERZGVEEANO\nPRIMAVERQ VERANO\nPRIMAVERQ VERANO\nPRIMAVERQHVERANO\nPRIMAVERQ VERANO\nPRIMAVERQ VERANO\nPRIMAVERQ VERANO\nPRIMAVERQ DERAND\nPRIMAVEHQ VERANO\nPRIMAVERH VERANO\nPRIMAVERQ VERANO\nPRIMAVERQ VERANO\nPRIMAVERQ VERANO\nPRIMAVERQ VERANO\nPRIMAVERQMVERANO\nPRIMAVERQ VERANO\nPRIMAVERQ VERANO\nPRIMAVERQGVERANO\nPRIMAVERQ VWRANO\nPRIMAVERO VERANO\nPRIMAVERQ VERANO\nPRIMAVERQ VERANO\nPRIMAVERQ VERANO\nPRIMAFERQ VERANO\nPRIMAVERQ VERANO\nPRIMAVERQ VERANO\nPRIMAVERQ VERANJ\nPOIMAVERQ VERANO\nPRIMAVERQ VERANO\nPRIMAVERQ VERANO\nPRIMAVERQ VERANO\nPRIMAVERQ VERANO\nPRIMAVERQ VERANO\nPRIMAVERQ VERANO\nPRIMAVERQGVERANO\nPRIMAVERQ VERANO\nPRIMAVERQ VERANO\nPRIMAVERQGVERANO\nPRIMAVERQ VERANO\nPRIMAVERQ VERANO\nPRIMAVERQ VERANO\nPRIMAVERQ VERANO\nPRIMAVERQ VERANO\nPRIMAVERQ VERANO\nPRIMAVERQ VERANO\nPRIMAVERQ VERAQO\nPRIMAVERQ VERANO\nPRIMAVRRQ VERANO\nPRIMAVERQ VERANO\nPRIMAVERQ VERANO\nPRIMAVERQ VERANO\nPRIMAVURQ VERANO\nPRIMAVERQ VERANO\nPRIMAVERQ VERANO\nPRIMAVERQ VERANO\nPJIMAVERQHVERANO\nPRIMAVERQ VURHNO\nPRIMAVERQ VERANO\nPRIMAVERQ VERANO\nPRIMAVERQ VERANO\nPRIMAVERQ VERANO\nPRIMAVERQ VERANO\nPRIMAVERQMVERANO\nPRIMAVERQ VERANO\nPRIMAVERQ VERANO\nPRIMAVERQ VERANO\nPRIMAVERQ VERANO\nPRIMAVERQGVERANO\nPRIMAVERQ VERANO\nPRIMAVERQGVJRANO\nPRIMAVERQ VERANO\nPRIMAVERQ VERANO\nPRIMAVERQ VERANO\nPRIMAVERQ VERANO\nPRIMAVERQ VERANO\nPRIMAVERQ VERANO\nPRIMAVERQ VERANO\nPRIMAVERQ VERANO\nPRIMAVERQ VERANO\nPRIMAVERQ VRRANO\nPRIMAVERQ VERANO\nPRIMAVERQ VERANO\nPRIMAVERQ VERANO\nPRIMAVERQ VERANO\nPRIMAVERQ VERANO\nPRIMAVERQ VERANO\nPRIMAVERQ VERANO\nPRIMAVERQ VERANO\nPRINAVER  VERANO\nPRIMAVERQ VERANO\nPRIMAVERQ VERANO\nPR MAVERQ VERAZO\nPRIMAVERQ VERANO\nPRIMAVERQ VERANO\nPRIMAVERQ VERANO\nPRIMAVERA VERANO\nPRIMAVERQ VERANO\nPRIMAVERQGVERANO\nPRIMAVERQ VERANO\nPVIMAVERH VERANO\nPRIMAVERQ VERANO\nPREMAVERQ VERANO\nPRIMAVERQ VERANO\nPRIMAVERIHVERANO\nPRIMAVERQ VERANO\nPRIMAVERQ VERANO\nPRIMAVERQ VERANO\nPRWMAVERQ VERANO\nPRIMAVERQ VERANO\nPRIMAVERQ VERANO\nPRIMAVERH VERANO\nPRIMAVERQ VERANO\nPRIMAVERQ VERANO\nPRIMAVERQ VERANO\nPRIMAVERQ VERANO\nPRIMAVERQ VERANO\nPRIMAVERQ VERANO\nPRIMAVERQDVERANO\nPRIMAVERQQVERANO\nPRIMAV RQ VERANO\nPRIMAVERQ VERANO\nPRIMAVERQGVERANO\nPRIMAVERQ VERANO\nPRIMAVERQ VERANO\nPRIMAVERQ VERANO\nPRIMAVERQ VERANO\nPRIMPVERN VERANO\nPRIMAVERQ VERANO\nPRIMAVERQ VERANO\nPRIMAVERAGVERADO\nPRIMAVERH VERANO\nPRIMAVERQ VERANO\nPRIMAVERQ VERANO\nPRIMAVERQ VERANO\nPRIMAVERQGVERANO\nPRIMAVERQ VERANO\nMRIMAVERQ VERANO\nPRIMAVERQ VERANO\nPRIMAVERQ VERANO\nPRIMAVERQ VERANO\nPRIMAVERQ VERANO\nPRIMAVERQ VERANO\nPRIMAVFRQ VERANO\nPRIMAVERQ VERANO\nPRIMAVERQ VERANO\nPRIMAVERQ VERANO\nPRIMAVERQGVERANO\nPRIMAVERO VERANO\nPRIMAVERE VERANO\nPRIMAVERQ VERANO\nPRIMAVERQ VERANO\nPRIMAVEGQ VERANO\nPRIMAVERQ VERANO\nPRIMAVERQPVERANO\nPRIMAVERQ VERACO\nPRIMAVERQ VERANO\nPRIMAVERQ VERANO\nPRIMAVERQ VEFANO\nPRIMAVFRQ VERANO\nPRIMAVERQ VERANO\nPRIMAVERQ VERANO\nPRIMAVERQ VERANO\nPRIMAVERQ VERANO\nPRIMAVERQ VERANO\nPRIMAVERQ VERANO\nPRIMAVERQ VERANO\nPRIMAVERQ VERANO\nPRIMAVERQ VERANO\nPRIMAVERQ VERANO\nPRIMAVERQ LERANO\nPRIMAVERQ VERANO\nPRIMGVERQ VERANO\nPRIMAVERQ VERANO\nPRIMAVERQ VERANO\nPRIMAVERQ VERANO\nPRIMAVERH VERANO\nPRIMAVERQ VERANO\nPRIMAVERQGVERANO\nPRIMAVERF VERANO\nPRIMAVERQ VERANO\nPRIMAVERQ VERANO\nPRIMAVEDQ VERANO\nPRIMAVERQ VWRANO\nPRIMAVERQ VERAJO\nPRIMAVERQ VERANO\nPRIMAVERN VERANO\nPRIMAVERQ VERANO\nPRIMAVERQ VERANO\nPGIMAVERQ VERANO\nPRIMAVE Q VERANO\nPRIMAVERQ VERANO\nORIMAVERQ VERANO\nPRUMAVERQ VERSNO\nPRIMJVERQ VERANO\nPRIMAVERO VERANO\nPRIMAVERQ VERANO\nPRIMAVERQ VERANO\nPRIMAVERQ VERANO\nPRIMAVERQ DERAND\nPRIMAVERQ VERANO\nPOIMAVERQ VERANO\nPRIMAVERQ VERANO\nPRIMAVERQ VWRANO\nPRIMAVRRQ VERANO\nPRIMAVERQ VERANO\nPRIMAVERQ VERANO\nPRIMAVERQ VERANO\nPRIMAVERBGVERANO\nPRIMAVERO VERANO\nPRIMAVERQ VERANO\nPRIMAVERQ VERANO\nPRIMNVERQ VERANO\nPRJMAVERQ VERANO\nPRIMAVERQ VERANO\nPRIMAVERQ VERANO\nPRIMAVERQ VERANO\nPRIMAVERQ VERANT\nPRIMAVERQ VERANO\nPRIYAVERQ VERANO\nPRIMAVERQ VERANO\nPRIMAVERQ VERANO\nPRIMAVERQ VERANO\nPRIMAVERQ VERANO\nPRIMAVERQ VERFNO\nPRIMAVHRQ VERANO\nPRIMAVERM VERANO\nPRIMAVERQ VERANO\nPRIMAVERQ VERANO\nPRIMAVERQ VERANO\nPRIMAVERQ VERANO\nPRIMAVERQ VERANO\nPRIMAVERQ VERANO\nPRIMAVERQ VERANO\nPRIMAVERQDVERANO\nPRIMAVERQ VERANO\nPRIMAVERQ VERANO\nPRIMAVERQ VERANO\nPRIMAVERQ VERANO\nPFIMAVSRQ VDRANO\nPRIMAVERO VERANO\nPRIMAVERQ VERANO\nPRIMAVERQ VERANO\nPRIMAVERQ VERANO\nPRIMAVERQ VERANO\nPRIMAVERQ VERANO\nPRIMAVERQ VERANO\nPRIMAVERQ VERANO\nPRIMAVERQ VERANO\nPRIMAVERQ VERANO\nPOIMAVERQ VERANO\nPRIMAVERQ VERANO\nPRIMAVERQ VERANO\nPRIMAVERQ VERANO\nPRIMAVERQ VERANO\nPRIMAVERQGVERANO\nPRIMAVERIHVERANO\nPRIMAVERQ DERAND\n"
     ]
    }
   ],
   "source": [
    "for i in range(int(round(numPoblacion))):\n",
    "                a=''\n",
    "                for j in range(len(Frase)):\n",
    "                    a+=poblacion[i][j]\n",
    "                print(a)"
   ]
  },
  {
   "cell_type": "code",
   "execution_count": 6,
   "metadata": {},
   "outputs": [
    {
     "output_type": "stream",
     "name": "stdout",
     "text": [
      "\n\n ['P', 'R', 'I', 'M', 'A', 'V', 'E', 'R', 'Q', ' ', 'V', 'E', 'R', 'A', 'N', 'O']\n['P', 'R', 'I', 'M', 'A', 'V', 'E', 'R', 'Q', ' ', 'V', 'E', 'R', 'A', 'N', 'O']\n"
     ]
    }
   ],
   "source": [
    "sustituto=''\n",
    "print(\"\\n\\n\",poblacion[4])\n",
    "nueva=[]\n",
    "for j in range(len(Frase)):\n",
    "    #if MonteCarloSimple([1-pMutacion,pMutacion]) == 1:\n",
    "    if random.random()<pMutacion:\n",
    "        sustituto=random.choice(letras)\n",
    "        print('Letra al azar:    ',sustituto)\n",
    "        #nueva=nueva.replace(nueva[j],sustituto)\n",
    "        nueva.append(sustituto)\n",
    "    else:\n",
    "        nueva.append(poblacion[4][j])\n",
    "print(nueva)"
   ]
  },
  {
   "cell_type": "code",
   "execution_count": 7,
   "metadata": {},
   "outputs": [
    {
     "output_type": "stream",
     "name": "stdout",
     "text": [
      "25\n"
     ]
    }
   ],
   "source": [
    "num=0\n",
    "for i in range(100):\n",
    "    if random.random()<0.26894142136999516:\n",
    "        num+=1\n",
    "print(num)\n",
    "\n"
   ]
  }
 ],
 "metadata": {
  "kernelspec": {
   "name": "python385jvsc74a57bd0bf08d5b11cafca2389f2905eb9ec8f2b4c0813376260f0cf76d5bcecc16af807",
   "display_name": "Python 3.8.5 64-bit ('base': conda)"
  },
  "language_info": {
   "codemirror_mode": {
    "name": "ipython",
    "version": 3
   },
   "file_extension": ".py",
   "mimetype": "text/x-python",
   "name": "python",
   "nbconvert_exporter": "python",
   "pygments_lexer": "ipython3",
   "version": "3.8.5"
  },
  "metadata": {
   "interpreter": {
    "hash": "57baa5815c940fdaff4d14510622de9616cae602444507ba5d0b6727c008cbd6"
   }
  }
 },
 "nbformat": 4,
 "nbformat_minor": 4
}