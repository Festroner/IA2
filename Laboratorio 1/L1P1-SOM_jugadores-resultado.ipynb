{
 "cells": [
  {
   "cell_type": "markdown",
   "metadata": {},
   "source": [
    "# Práctica 1 - Self-Organising Maps - COLORES\n",
    "## Preparación de entorno\n",
    "#### Importar librerías de código"
   ]
  },
  {
   "cell_type": "code",
   "execution_count": 1,
   "metadata": {
    "scrolled": true
   },
   "outputs": [],
   "source": [
    "# from __future__ import division\n",
    "\n",
    "import numpy as np\n",
    "import pandas as pd\n",
    "import math\n",
    "from matplotlib import pyplot as plt\n",
    "from matplotlib import patches as patches\n",
    "\n",
    "%matplotlib inline"
   ]
  },
  {
   "cell_type": "markdown",
   "metadata": {},
   "source": [
    "#### Dataset que se va a utilizar para el entrenamiento"
   ]
  },
  {
   "cell_type": "code",
   "execution_count": 2,
   "metadata": {},
   "outputs": [
    {
     "name": "stdout",
     "output_type": "stream",
     "text": [
      "13\n"
     ]
    },
    {
     "name": "stderr",
     "output_type": "stream",
     "text": [
      "C:\\Users\\Festr\\anaconda3\\lib\\site-packages\\IPython\\core\\interactiveshell.py:3146: DtypeWarning: Columns (11,24) have mixed types.Specify dtype option on import or set low_memory=False.\n",
      "  has_raised = await self.run_ast_nodes(code_ast.body, cell_name,\n"
     ]
    },
    {
     "data": {
      "text/plain": [
       "'95'"
      ]
     },
     "execution_count": 2,
     "metadata": {},
     "output_type": "execute_result"
    }
   ],
   "source": [
    "# Código para obtener el Dataset que se va a usar en el entrenamiento\n",
    "file= r'C:\\Users\\Festr\\OneDrive\\Escritorio\\IA 2\\Laboratorio 1\\Jugadores_Característica.csv'\n",
    "datos = pd.read_csv(file)\n",
    "datosNoId=datos.drop(datos.columns[0], axis = 1, inplace = True)\n",
    "\n",
    "\n",
    "s=\"12+1\"\n",
    "\n",
    "f,g=s.split('+')\n",
    "print(int(f)+int(g))\n",
    "datos.head()\n",
    "dt=datos.to_numpy()\n",
    "len(dt[1][3])\n",
    "dt[1][3]"
   ]
  },
  {
   "cell_type": "code",
   "execution_count": 3,
   "metadata": {},
   "outputs": [
    {
     "name": "stdout",
     "output_type": "stream",
     "text": [
      "241219 -5\n"
     ]
    }
   ],
   "source": [
    "dt=datos.to_numpy()\n",
    "nombres=[]\n",
    "aux1 = 0.0\n",
    "aux2=0.0\n",
    "mini=99\n",
    "maxi=0\n",
    "for col in datos.columns: \n",
    "    nombres.append(col)\n",
    "for i in range(dt.shape[0]):\n",
    "    for j in range(dt.shape[1]):\n",
    "        if isinstance(dt[i][j],str):\n",
    "            if len(dt[i][j])>2:\n",
    "                if dt[i][j][2] == '+':\n",
    "                    a,b= dt[i][j].split('+')\n",
    "                    dt[i][j]=int(a)+int(b)\n",
    "                elif dt[i][j][2]=='-':\n",
    "                    a,b= dt[i][j].split('-')\n",
    "                    dt[i][j]=int(a)-int(b)\n",
    "            dt[i][j]=pd.to_numeric(dt[i][j])\n",
    "        if dt[i][j]> maxi:\n",
    "            maxi=dt[i][j]\n",
    "        if dt[i][j]< mini:\n",
    "            mini=dt[i][j]\n",
    "print(maxi,mini) \n"
   ]
  },
  {
   "cell_type": "markdown",
   "metadata": {},
   "source": [
    "## SOM Setup\n",
    "#### Variables definidas por el alumno"
   ]
  },
  {
   "cell_type": "code",
   "execution_count": 4,
   "metadata": {},
   "outputs": [
    {
     "data": {
      "text/plain": [
       "array([[89, 63, 89, ..., 80, 85, 88],\n",
       "       [92, 48, 90, ..., 59, 90, 85],\n",
       "       [94, 56, 96, ..., 53, 80, 83],\n",
       "       ...,\n",
       "       [66, 26, 60, ..., 32, 37, 33],\n",
       "       [57, 46, 58, ..., 46, 51, 25],\n",
       "       [48, 52, 49, ..., 67, 22, 19]], dtype=object)"
      ]
     },
     "execution_count": 4,
     "metadata": {},
     "output_type": "execute_result"
    }
   ],
   "source": [
    "# Inicializa tamaño del mapa de Kohonen, número de iteraciones y learning rate\n",
    "# Inicializa normalizar_datos dependiendo de si tienes que normalizar los datos o no\n",
    "lado_mapa = 15\n",
    "periodo = 500\n",
    "learning_rate = 0.06\n",
    "normalizar_datos = True\n",
    "dt"
   ]
  },
  {
   "cell_type": "markdown",
   "metadata": {},
   "source": [
    "#### A partir de este punto solo hay cálculos. No se introducen más valores \"a mano\""
   ]
  },
  {
   "cell_type": "code",
   "execution_count": 5,
   "metadata": {},
   "outputs": [
    {
     "name": "stdout",
     "output_type": "stream",
     "text": [
      "(15, 15, 35)\n"
     ]
    }
   ],
   "source": [
    "# Establece el numero de entradas del mapa y el número de datos que se van a usar para entrenar. \n",
    "# Utiliza una función que obtenga automáticamente los valores a partir del Dataset.\n",
    "num_entradas = 35\n",
    "num_datos = dt.shape[0]\n",
    "\n",
    "# Calcula el vecindario inicial. Debe ser la mitad del lado del mapa de Kohonen\n",
    "vecindario = lado_mapa/2\n",
    "\n",
    "def minmax_norm(datos_input): \n",
    "    return (datos_input - mini) / ( maxi - mini)\n",
    "## Normaliza los datos si fuese necesario dividiendo cada dato por el máximo en la matriz\n",
    "if normalizar_datos:\n",
    "    dt = minmax_norm(dt)\n",
    "    \n",
    "# Crea una matriz de pesos con valores random entre 0 y 1. Usa la función random.random de la librería NumPy\n",
    "matriz_pesos = np.random.random((lado_mapa,lado_mapa,35))\n",
    "print(matriz_pesos.shape)\n"
   ]
  },
  {
   "cell_type": "markdown",
   "metadata": {},
   "source": [
    "#### Funciones para entrenar/clasificar"
   ]
  },
  {
   "cell_type": "code",
   "execution_count": 6,
   "metadata": {},
   "outputs": [],
   "source": [
    "# Función para encontrar la BMU\n",
    "\"\"\"\n",
    "   Encuentra la BMU para un patrón de entrada.\n",
    "   Entradas: (patrón_de_entrada, matriz_de_pesos, número_de_entradas)\n",
    "   Salidas:  (bmu, bmu_idx) tupla donde\n",
    "               bmu: vector de pesos de la neurona ganadora\n",
    "               bum_idx: coordenadas de la neurona ganadora\n",
    "\"\"\"\n",
    "def calcular_bmu(patron_entrada, m_pesos, m):\n",
    "    MenorDist=0\n",
    "    MejorVector=[0,0,0]\n",
    "    a=[]\n",
    "    Resultado=0\n",
    "    idx=[]\n",
    "    \n",
    "    for i in range(m-1):\n",
    "        for j in range(m-1):\n",
    "            \n",
    "            a=m_pesos[i][j]\n",
    "            Resultado=distancia(patron_entrada, a)\n",
    "            if i == 0 and j==0 :\n",
    "                MenorDist=Resultado\n",
    "                MejorVector=m_pesos[i][j]\n",
    "                idx=[i,j]\n",
    "            else:\n",
    "                #print(MenorDist, Resultado)\n",
    "                if MenorDist>Resultado:\n",
    "                    #print(m_pesos[i][j])\n",
    "                    MenorDist=Resultado\n",
    "                    MejorVector=m_pesos[i][j]\n",
    "                    idx=[i,j]\n",
    "    if len(idx)<2:\n",
    "        print(\"patron: \", patron_entrada)\n",
    "        print(\"coor: \",idx)\n",
    "        print(\"Peso: \",MejorVector,\"i,j: \", i,j)\n",
    "        print(\"Distancia: \",MenorDist)\n",
    "        \n",
    "    #print(\"BMU: \", MejorVector, \"Index: \", idx)\n",
    "    return MejorVector,idx\n",
    "#a,b=calcular_bmu(dt[6], matriz_pesos, lado_mapa)\n"
   ]
  },
  {
   "cell_type": "code",
   "execution_count": 7,
   "metadata": {},
   "outputs": [],
   "source": [
    "# Función para calcular el descenso del coeficiente de aprendizaje (eta)\n",
    "\"\"\"\n",
    "   Calcula el Learning Rate (eta) que corresponde a la i-ésima presentación.\n",
    "   Entradas: (learning_rate_inicial, iteracion, período)\n",
    "   Salidas:  learning_rate para la iteración i\n",
    "\n",
    "\"\"\"\n",
    "def variacion_learning_rate(lr_inicial, i, n_iteraciones):\n",
    "    \n",
    "    #lr_final = lr_inicial * (1 - i/n_iteraciones) \n",
    "    learning_rate = lr_inicial + (-lr_inicial/n_iteraciones)*i\n",
    "    return learning_rate"
   ]
  },
  {
   "cell_type": "code",
   "execution_count": 8,
   "metadata": {},
   "outputs": [],
   "source": [
    "#Función para calcular la distancia euclidea\n",
    "def distancia(patron, peso):\n",
    "    distancia=0\n",
    "    comp=0\n",
    "    for i in range(dt.shape[1]):\n",
    "        comp+=(peso[i]-patron[i])**2\n",
    "    distancia=(comp)**0.5\n",
    "    return distancia\n"
   ]
  },
  {
   "cell_type": "code",
   "execution_count": 9,
   "metadata": {},
   "outputs": [],
   "source": [
    "def ajuste_Pesos(i,j,pesos):\n",
    "    total=0\n",
    "    for a in range(num_entradas):\n",
    "        total+=pesos[i][j][a]**2\n",
    "    return (total)**0.5"
   ]
  },
  {
   "cell_type": "code",
   "execution_count": 10,
   "metadata": {},
   "outputs": [],
   "source": [
    "# Función para calcular el descenso del vecindario (v)\n",
    "\"\"\"\n",
    "   Calcula el vecindario  (v) que corresponde a la i-ésima presentación.\n",
    "   Entradas: (vecindario_inicial, iteracion, período)\n",
    "   Salidas:  lvecindario para la iteración i\n",
    "\n",
    "\"\"\"\n",
    "def variacion_vecindario(vecindario_inicial, i, n_iteraciones):\n",
    "    \n",
    "    vecindario_i = 1 + vecindario_inicial * (1 - i/n_iteraciones)\n",
    "    return vecindario_i\n",
    "\n"
   ]
  },
  {
   "cell_type": "code",
   "execution_count": 11,
   "metadata": {},
   "outputs": [],
   "source": [
    "# Función para calcular el descenso del coeficiente de aprendizaje (eta) en función de la distancia a la BMU\n",
    "\"\"\"\n",
    "   Calcula la amortiguación de eta en función de la distancia en el mapa entre una neurona y la BMU.\n",
    "   Entradas: (distancia_BMU, vecindario_actual)\n",
    "   Salidas:  amortiguación para la iteración\n",
    "\n",
    "\"\"\"\n",
    "def decay(distancia_BMU, vecindario_actual):\n",
    "    return np.exp(-distancia_BMU**2 / (2*vecindario_actual**2))"
   ]
  },
  {
   "cell_type": "markdown",
   "metadata": {},
   "source": [
    "#### Funciones para dibujar la salida de la red"
   ]
  },
  {
   "cell_type": "code",
   "execution_count": 12,
   "metadata": {},
   "outputs": [],
   "source": [
    "# Función para pintar una matriz de valores como colores RGB\n",
    "def pintar_mapa(matriz_valores, iteracion):\n",
    "    fig = plt.figure()\n",
    "    \n",
    "    # Establece ejes\n",
    "    ax = fig.add_subplot(111, aspect='equal')\n",
    "    ax.set_xlim((0, matriz_pesos.shape[0]+1))\n",
    "    ax.set_ylim((0, matriz_pesos.shape[1]+1))\n",
    "    ax.set_title('Self-Organising Map después de %d iteraciones' % iteracion)\n",
    "\n",
    "    # Dibuja los rectángulos de color RGB\n",
    "    for x in range(1, matriz_valores.shape[0] + 1):\n",
    "        for y in range(1, matriz_valores.shape[1] + 1):\n",
    "            #print(matriz_valores[x-1,y-1,:])\n",
    "            ax.add_patch(patches.Rectangle((x-0.5, y-0.5), 1, 1,\n",
    "                         facecolor=matriz_valores[x-1,y-1,:],\n",
    "                         edgecolor='none'))\n",
    "    plt.show()\n"
   ]
  },
  {
   "cell_type": "markdown",
   "metadata": {},
   "source": [
    "## SOM Entrenamiento"
   ]
  },
  {
   "cell_type": "code",
   "execution_count": 13,
   "metadata": {},
   "outputs": [
    {
     "name": "stdout",
     "output_type": "stream",
     "text": [
      "Vuelta nº:  0\n",
      "Vuelta nº:  100\n",
      "Vuelta nº:  200\n",
      "Vuelta nº:  300\n",
      "Vuelta nº:  400\n"
     ]
    },
    {
     "data": {
      "text/plain": [
       "array([[[0.15316958, 0.07268904, 0.20311814, ..., 0.13546165,\n",
       "         0.19848832, 0.00425877],\n",
       "        [0.15682342, 0.18443062, 0.15475325, ..., 0.10773715,\n",
       "         0.23332618, 0.01065518],\n",
       "        [0.00372416, 0.21698143, 0.08340447, ..., 0.15916906,\n",
       "         0.01601571, 0.04832374],\n",
       "        ...,\n",
       "        [0.04019634, 0.07736544, 0.02011472, ..., 0.07764801,\n",
       "         0.0682289 , 0.0679678 ],\n",
       "        [0.10354601, 0.10093931, 0.03387815, ..., 0.19707631,\n",
       "         0.11316788, 0.10901799],\n",
       "        [0.01180787, 0.21472507, 0.12673093, ..., 0.10412608,\n",
       "         0.01304437, 0.05665229]],\n",
       "\n",
       "       [[0.05475199, 0.27406335, 0.22570597, ..., 0.32975008,\n",
       "         0.33131059, 0.12960569],\n",
       "        [0.04478758, 0.15747599, 0.12654771, ..., 0.01317625,\n",
       "         0.13297339, 0.04106854],\n",
       "        [0.14486081, 0.00301316, 0.12846489, ..., 0.09682097,\n",
       "         0.11098494, 0.10401481],\n",
       "        ...,\n",
       "        [0.00882705, 0.00680648, 0.00429589, ..., 0.00964569,\n",
       "         0.001425  , 0.00967413],\n",
       "        [0.04980135, 0.00900336, 0.00353045, ..., 0.05290317,\n",
       "         0.00064314, 0.02959116],\n",
       "        [0.22245251, 0.181897  , 0.03725033, ..., 0.17980524,\n",
       "         0.01512035, 0.14037939]],\n",
       "\n",
       "       [[0.20831022, 0.09597288, 0.21752753, ..., 0.16444831,\n",
       "         0.13960338, 0.16087466],\n",
       "        [0.15152163, 0.02570476, 0.13069033, ..., 0.05940729,\n",
       "         0.15973567, 0.1297289 ],\n",
       "        [0.02555178, 0.00992593, 0.00472825, ..., 0.01453643,\n",
       "         0.01353635, 0.0213479 ],\n",
       "        ...,\n",
       "        [0.00200817, 0.00112963, 0.00066198, ..., 0.00094208,\n",
       "         0.00148692, 0.00048713],\n",
       "        [0.00616528, 0.00329464, 0.01063108, ..., 0.00501308,\n",
       "         0.00957556, 0.00635238],\n",
       "        [0.01304206, 0.03521826, 0.00684698, ..., 0.01192186,\n",
       "         0.01163086, 0.04829364]],\n",
       "\n",
       "       ...,\n",
       "\n",
       "       [[0.13497872, 0.06084162, 0.03408216, ..., 0.02567341,\n",
       "         0.14183733, 0.07321361],\n",
       "        [0.02074876, 0.04971722, 0.07098829, ..., 0.1316726 ,\n",
       "         0.06684417, 0.01886939],\n",
       "        [0.02700131, 0.01638018, 0.02187119, ..., 0.03869234,\n",
       "         0.0102513 , 0.01915157],\n",
       "        ...,\n",
       "        [0.00242312, 0.00298181, 0.00322527, ..., 0.00179885,\n",
       "         0.00258007, 0.00205494],\n",
       "        [0.00822838, 0.00517673, 0.01181111, ..., 0.00198728,\n",
       "         0.01444158, 0.01044412],\n",
       "        [0.01697457, 0.01167246, 0.06239398, ..., 0.07127299,\n",
       "         0.03375182, 0.08063333]],\n",
       "\n",
       "       [[0.10388208, 0.1388386 , 0.20409062, ..., 0.16453498,\n",
       "         0.23256769, 0.00761054],\n",
       "        [0.12010319, 0.11088307, 0.15896867, ..., 0.15157187,\n",
       "         0.12400959, 0.07655503],\n",
       "        [0.09897241, 0.00358084, 0.14757001, ..., 0.04269787,\n",
       "         0.01511972, 0.12672083],\n",
       "        ...,\n",
       "        [0.00547212, 0.0135596 , 0.0081649 , ..., 0.01595629,\n",
       "         0.01644191, 0.0120099 ],\n",
       "        [0.05683388, 0.01894975, 0.07096606, ..., 0.04202773,\n",
       "         0.02567896, 0.06943298],\n",
       "        [0.0906478 , 0.14467116, 0.07514254, ..., 0.30277999,\n",
       "         0.08299966, 0.2363821 ]],\n",
       "\n",
       "       [[0.11143193, 0.10188786, 0.07638451, ..., 0.21720756,\n",
       "         0.18884883, 0.03457805],\n",
       "        [0.26045767, 0.02118461, 0.14456527, ..., 0.0468621 ,\n",
       "         0.20176   , 0.16679663],\n",
       "        [0.04880486, 0.01067768, 0.16961367, ..., 0.18292476,\n",
       "         0.04998473, 0.00478384],\n",
       "        ...,\n",
       "        [0.07120626, 0.08891394, 0.07982922, ..., 0.0517256 ,\n",
       "         0.07960646, 0.1095476 ],\n",
       "        [0.11099938, 0.11579416, 0.01333355, ..., 0.09186511,\n",
       "         0.05538883, 0.22838563],\n",
       "        [0.12013586, 0.09539717, 0.17251861, ..., 0.10286039,\n",
       "         0.24861509, 0.03195891]]])"
      ]
     },
     "execution_count": 13,
     "metadata": {},
     "output_type": "execute_result"
    }
   ],
   "source": [
    "# Entrena la red con el dataset de entrenamiento\n",
    "\n",
    "for i in range(periodo):\n",
    "    azar=np.random.randint(0, len(dt))\n",
    "    patron=dt[azar]\n",
    "    BMU, coordenadas = calcular_bmu(patron, matriz_pesos, lado_mapa)#encontramos la bmu y sus coordenadas\n",
    "    eta=variacion_learning_rate(learning_rate, i+1, periodo)#calculamos eta\n",
    "    v=variacion_vecindario(vecindario, i+1, periodo)#calculamos el vecindario\n",
    "    \n",
    "    #comprobamos cuales son las neuronas del vecindario de la BMU\n",
    "    for w in range(len(matriz_pesos)):\n",
    "        for j in range(len(matriz_pesos)):\n",
    "            deu= ((w-coordenadas[0])**2 + (j-coordenadas[1])**2 )**0.5\n",
    "            \n",
    "            if deu <= v :\n",
    "                amortiguacion= decay(deu, v)\n",
    "                matriz_pesos[w][j]= matriz_pesos[w][j]/ajuste_Pesos(w,j,matriz_pesos)\n",
    "                matriz_pesos[w][j]= matriz_pesos[w][j] + eta*amortiguacion*(patron-matriz_pesos[w][j])\n",
    "    if i%100==0:\n",
    "        print(\"Vuelta nº: \", i)\n",
    "matriz_pesos  "
   ]
  },
  {
   "cell_type": "code",
   "execution_count": 14,
   "metadata": {},
   "outputs": [],
   "source": [
    "#Función para calcular la distancia euclidea\n",
    "\n",
    "def errorCuantificacion(dis):\n",
    "    contador = 0;\n",
    "    error_cuantificacion = 0;\n",
    "    \n",
    "    for j in range(dis.shape[0]):\n",
    "        for k in range(dis.shape[1]):\n",
    "            if dis[j][k] != 0:\n",
    "                contador+=1\n",
    "                error_cuantificacion += dis[j][k]\n",
    "                \n",
    "    error_cuantificacion = error_cuantificacion / contador\n",
    "    return error_cuantificacion\n",
    "\n",
    "def errorTopologico(bmu1, bmu2):\n",
    "    if ((bmu2[0] == bmu1[0] + 1 or bmu2[0] == bmu1[0] - 1) and bmu2[1] == bmu1[1]) or (bmu2[0] == bmu1[0] and (bmu2[1] == bmu1[1] + 1 or bmu2[1] == bmu1[1] - 1)) or ((bmu2[0] == bmu1[0] - 1) and (bmu2[1] == bmu1[1] + 1 or bmu2[1] == bmu1[1] - 1)) or ((bmu2[0] == bmu1[0] + 1) and (bmu2[1] == bmu1[1] + 1 or bmu2[1] == bmu1[1] - 1)):\n",
    "        v = 0\n",
    "    else:\n",
    "        v = 1\n",
    "    return v\n",
    "\n",
    "def calcular2bmu(patron_entrada, m_pesos, m):\n",
    "    MenorDist = 999\n",
    "    MenorDist2 = 999\n",
    "    MejorVector  =  [0,0,0]\n",
    "    MejorVector2  =  [0,0,0]\n",
    "    a=[]\n",
    "    Resultado = 0\n",
    "    idx=[]\n",
    "    idx2=[]\n",
    "    \n",
    "    for i in range(m-1):\n",
    "        for j in range(m-1):\n",
    "            a = m_pesos[i][j]\n",
    "            Resultado = distancia(patron_entrada,a)\n",
    "            \n",
    "            if MenorDist2 > Resultado and Resultado > MenorDist:\n",
    "                MenorDist2 = Resultado\n",
    "                MejorVector2 = m_pesos[i][j]\n",
    "                idx2 = [i,j]\n",
    "\n",
    "            elif MenorDist > Resultado: \n",
    "                MenorDist = Resultado\n",
    "                MejorVector = m_pesos[i][j]\n",
    "                idx = [i,j]\n",
    "     \n",
    "    return MejorVector2, idx2\n",
    "\n"
   ]
  },
  {
   "cell_type": "markdown",
   "metadata": {},
   "source": [
    "## SOM Clasificación"
   ]
  },
  {
   "cell_type": "code",
   "execution_count": null,
   "metadata": {},
   "outputs": [
    {
     "name": "stdout",
     "output_type": "stream",
     "text": [
      "Vueltas: 0\n",
      "Vueltas: 100\n",
      "Vueltas: 200\n",
      "Vueltas: 300\n",
      "Vueltas: 400\n",
      "Vueltas: 500\n",
      "Vueltas: 600\n",
      "Vueltas: 700\n",
      "Vueltas: 800\n",
      "Vueltas: 900\n",
      "Vueltas: 1000\n",
      "Vueltas: 1100\n",
      "Vueltas: 1200\n",
      "Vueltas: 1300\n",
      "Vueltas: 1400\n",
      "Vueltas: 1500\n",
      "Vueltas: 1600\n",
      "Vueltas: 1700\n",
      "Vueltas: 1800\n",
      "Vueltas: 1900\n",
      "Vueltas: 2000\n",
      "Vueltas: 2100\n",
      "Vueltas: 2200\n",
      "Vueltas: 2300\n",
      "Vueltas: 2400\n",
      "Vueltas: 2500\n",
      "Vueltas: 2600\n",
      "Vueltas: 2700\n",
      "Vueltas: 2800\n",
      "Vueltas: 2900\n",
      "Vueltas: 3000\n",
      "Vueltas: 3100\n",
      "Vueltas: 3200\n",
      "Vueltas: 3300\n",
      "Vueltas: 3400\n",
      "Vueltas: 3500\n",
      "Vueltas: 3600\n",
      "Vueltas: 3700\n",
      "Vueltas: 3800\n",
      "Vueltas: 3900\n",
      "Vueltas: 4000\n",
      "Vueltas: 4100\n",
      "Vueltas: 4200\n",
      "Vueltas: 4300\n",
      "Vueltas: 4400\n",
      "Vueltas: 4500\n",
      "Vueltas: 4600\n",
      "Vueltas: 4700\n",
      "Vueltas: 4800\n",
      "Vueltas: 4900\n",
      "Vueltas: 5000\n",
      "Vueltas: 5100\n",
      "Vueltas: 5200\n",
      "Vueltas: 5300\n",
      "Vueltas: 5400\n",
      "Vueltas: 5500\n",
      "Vueltas: 5600\n",
      "Vueltas: 5700\n",
      "Vueltas: 5800\n",
      "Vueltas: 5900\n",
      "Vueltas: 6000\n",
      "Vueltas: 6100\n",
      "Vueltas: 6200\n",
      "Vueltas: 6300\n",
      "Vueltas: 6400\n",
      "Vueltas: 6500\n",
      "Vueltas: 6600\n",
      "Vueltas: 6700\n",
      "Vueltas: 6800\n",
      "Vueltas: 6900\n",
      "Vueltas: 7000\n",
      "Vueltas: 7100\n",
      "Vueltas: 7200\n",
      "Vueltas: 7300\n",
      "Vueltas: 7400\n",
      "Vueltas: 7500\n",
      "Vueltas: 7600\n",
      "Vueltas: 7700\n",
      "Vueltas: 7800\n",
      "Vueltas: 7900\n",
      "Vueltas: 8000\n",
      "Vueltas: 8100\n",
      "Vueltas: 8200\n",
      "Vueltas: 8300\n",
      "Vueltas: 8400\n",
      "Vueltas: 8500\n",
      "Vueltas: 8600\n",
      "Vueltas: 8700\n",
      "Vueltas: 8800\n",
      "Vueltas: 8900\n",
      "Vueltas: 9000\n",
      "Vueltas: 9100\n",
      "Vueltas: 9200\n",
      "Vueltas: 9300\n",
      "Vueltas: 9400\n",
      "Vueltas: 9500\n",
      "Vueltas: 9600\n",
      "Vueltas: 9700\n",
      "Vueltas: 9800\n",
      "Vueltas: 9900\n",
      "Vueltas: 10000\n",
      "Vueltas: 10100\n",
      "Vueltas: 10200\n"
     ]
    }
   ],
   "source": [
    "clasificacion = np.zeros((lado_mapa, lado_mapa, 35))\n",
    "activacion = np.zeros((lado_mapa, lado_mapa))\n",
    "distancias = np.zeros((lado_mapa, lado_mapa))\n",
    "suma = 0\n",
    "clase = 0\n",
    "eTopo = 0\n",
    "\n",
    "\n",
    "for i in range(dt.shape[0]):\n",
    "    BMU, coor = calcular_bmu(dt[i], matriz_pesos, lado_mapa)\n",
    "    BMU2, coor2 = calcular2bmu(dt[i], matriz_pesos, lado_mapa)\n",
    "    clasificacion[coor[0]][coor[1]] = dt[i]\n",
    "    activacion[coor[0]][coor[1]] += 1\n",
    "    distancias[coor[0]][coor[1]] = distancias[coor[0]][coor[1]] + distancia(dt[i], BMU) \n",
    "    eTopo += errorTopologico(coor, coor2)\n",
    "    if i%100==0:\n",
    "        print(\"Vueltas:\", i)\n",
    "    \n",
    "for g in range(activacion.shape[0]): \n",
    "    for t in range(activacion.shape[1]):\n",
    "        if  activacion[g][t] > 0:\n",
    "            clase+=1\n",
    "            distancias[g][t]=distancias[g][t]/activacion[g][t] \n",
    "      \n",
    "            \n",
    "nclases = clase\n",
    "mapa_activaciones = activacion\n",
    "mapa_distancia = distancias\n",
    "eCuanti = errorCuantificacion(distancias)\n",
    "eTopo = eTopo/100\n",
    "\n",
    "mapa_distancia, mapa_activaciones, clase, eTopo, eCuanti"
   ]
  },
  {
   "cell_type": "markdown",
   "metadata": {},
   "source": [
    "## SOM Prueba"
   ]
  },
  {
   "cell_type": "code",
   "execution_count": null,
   "metadata": {},
   "outputs": [],
   "source": [
    "# Clasifica nuevos patrones\n",
    "nclases = clase\n",
    "mapa_activaciones = activacion\n",
    "mapa_distancia = distancias\n",
    "eTopo = eTopo*100/dt.shape[0]\n",
    "\n",
    "mapa_distancia, mapa_activaciones, clase, eTopo, eCuanti"
   ]
  },
  {
   "cell_type": "code",
   "execution_count": null,
   "metadata": {},
   "outputs": [],
   "source": [
    "hola=[]\n",
    "hola.append([coor,1])\n",
    "len(activaciones)"
   ]
  }
 ],
 "metadata": {
  "anaconda-cloud": {},
  "kernelspec": {
   "display_name": "Python 3",
   "language": "python",
   "name": "python3"
  },
  "language_info": {
   "codemirror_mode": {
    "name": "ipython",
    "version": 3
   },
   "file_extension": ".py",
   "mimetype": "text/x-python",
   "name": "python",
   "nbconvert_exporter": "python",
   "pygments_lexer": "ipython3",
   "version": "3.8.5"
  }
 },
 "nbformat": 4,
 "nbformat_minor": 4
}
