{
 "cells": [
  {
   "cell_type": "markdown",
   "metadata": {},
   "source": [
    "## Lectura de los datos"
   ]
  },
  {
   "cell_type": "markdown",
   "metadata": {},
   "source": [
    "#### Librerias"
   ]
  },
  {
   "cell_type": "code",
   "execution_count": 1,
   "metadata": {},
   "outputs": [],
   "source": [
    "import pandas as pd\n",
    "import numpy as np\n",
    "import keras_metrics\n",
    "import tensorflow as tf\n",
    "import shutil, os, sys\n",
    "import matplotlib.pyplot as plt\n",
    "\n",
    "\n",
    "\n",
    "from tensorflow import keras\n",
    "from tensorflow.keras.models import Sequential\n",
    "from tensorflow.keras.layers import Dense\n",
    "from tensorflow.keras import optimizers, layers\n",
    "from tensorflow.keras import utils as k\n",
    "from tensorflow.keras.callbacks import EarlyStopping\n",
    "from tensorflow.keras.preprocessing import image_dataset_from_directory,image\n",
    "\n",
    "\n"
   ]
  },
  {
   "cell_type": "markdown",
   "metadata": {},
   "source": [
    "#### Datos"
   ]
  },
  {
   "cell_type": "code",
   "execution_count": 2,
   "metadata": {},
   "outputs": [
    {
     "data": {
      "text/html": [
       "<div>\n",
       "<style scoped>\n",
       "    .dataframe tbody tr th:only-of-type {\n",
       "        vertical-align: middle;\n",
       "    }\n",
       "\n",
       "    .dataframe tbody tr th {\n",
       "        vertical-align: top;\n",
       "    }\n",
       "\n",
       "    .dataframe thead th {\n",
       "        text-align: right;\n",
       "    }\n",
       "</style>\n",
       "<table border=\"1\" class=\"dataframe\">\n",
       "  <thead>\n",
       "    <tr style=\"text-align: right;\">\n",
       "      <th></th>\n",
       "      <th>patientid</th>\n",
       "      <th>offset</th>\n",
       "      <th>sex</th>\n",
       "      <th>age</th>\n",
       "      <th>finding</th>\n",
       "      <th>survival</th>\n",
       "      <th>intubated</th>\n",
       "      <th>intubation_present</th>\n",
       "      <th>went_icu</th>\n",
       "      <th>in_icu</th>\n",
       "      <th>...</th>\n",
       "      <th>date</th>\n",
       "      <th>location</th>\n",
       "      <th>folder</th>\n",
       "      <th>filename</th>\n",
       "      <th>doi</th>\n",
       "      <th>url</th>\n",
       "      <th>license</th>\n",
       "      <th>clinical_notes</th>\n",
       "      <th>other_notes</th>\n",
       "      <th>Unnamed: 28</th>\n",
       "    </tr>\n",
       "  </thead>\n",
       "  <tbody>\n",
       "    <tr>\n",
       "      <th>0</th>\n",
       "      <td>2</td>\n",
       "      <td>0.0</td>\n",
       "      <td>M</td>\n",
       "      <td>65.0</td>\n",
       "      <td>COVID-19</td>\n",
       "      <td>Y</td>\n",
       "      <td>NaN</td>\n",
       "      <td>NaN</td>\n",
       "      <td>NaN</td>\n",
       "      <td>NaN</td>\n",
       "      <td>...</td>\n",
       "      <td>January 22, 2020</td>\n",
       "      <td>Cho Ray Hospital, Ho Chi Minh City, Vietnam</td>\n",
       "      <td>images</td>\n",
       "      <td>auntminnie-a-2020_01_28_23_51_6665_2020_01_28_...</td>\n",
       "      <td>10.1056/nejmc2001272</td>\n",
       "      <td>https://www.nejm.org/doi/full/10.1056/NEJMc200...</td>\n",
       "      <td>NaN</td>\n",
       "      <td>On January 22, 2020, a 65-year-old man with a ...</td>\n",
       "      <td>NaN</td>\n",
       "      <td>NaN</td>\n",
       "    </tr>\n",
       "  </tbody>\n",
       "</table>\n",
       "<p>1 rows × 29 columns</p>\n",
       "</div>"
      ],
      "text/plain": [
       "   patientid  offset sex   age   finding survival intubated  \\\n",
       "0          2     0.0   M  65.0  COVID-19        Y       NaN   \n",
       "\n",
       "  intubation_present went_icu in_icu  ...              date  \\\n",
       "0                NaN      NaN    NaN  ...  January 22, 2020   \n",
       "\n",
       "                                      location  folder  \\\n",
       "0  Cho Ray Hospital, Ho Chi Minh City, Vietnam  images   \n",
       "\n",
       "                                            filename                   doi  \\\n",
       "0  auntminnie-a-2020_01_28_23_51_6665_2020_01_28_...  10.1056/nejmc2001272   \n",
       "\n",
       "                                                 url  license  \\\n",
       "0  https://www.nejm.org/doi/full/10.1056/NEJMc200...      NaN   \n",
       "\n",
       "                                      clinical_notes other_notes Unnamed: 28  \n",
       "0  On January 22, 2020, a 65-year-old man with a ...         NaN         NaN  \n",
       "\n",
       "[1 rows x 29 columns]"
      ]
     },
     "execution_count": 2,
     "metadata": {},
     "output_type": "execute_result"
    }
   ],
   "source": [
    "\n",
    "file= 'metadata.csv'\n",
    "dt=pd.read_csv(file, sep=\",\")\n",
    "\n",
    "dt.head(1)"
   ]
  },
  {
   "cell_type": "markdown",
   "metadata": {},
   "source": [
    "### Preprocesamiento"
   ]
  },
  {
   "cell_type": "markdown",
   "metadata": {},
   "source": [
    "Vamos a ver en que proporcion encontramos las muestras de covid y las de otras enfermedades para que la red no se sobre entrene con un solo tipo de imagenes."
   ]
  },
  {
   "cell_type": "code",
   "execution_count": 3,
   "metadata": {},
   "outputs": [
    {
     "name": "stdout",
     "output_type": "stream",
     "text": [
      "Co:  296\n",
      "Otro:  76\n",
      "Proporcion de Covid:  79.56989247311827\n"
     ]
    }
   ],
   "source": [
    "covid=[]\n",
    "otro=[]\n",
    "\n",
    "for i,r in dt.iterrows():\n",
    "    if r['finding'] == 'COVID-19':\n",
    "        covid.append(r)\n",
    "    else:\n",
    "        otro.append(r)\n",
    "\n",
    "print(\"Co: \",len(covid) )\n",
    "print(\"Otro: \",len(otro) )\n",
    "print(\"Proporcion de Covid: \", len(covid)/(len(covid)+len(otro))*100)\n",
    "    \n"
   ]
  },
  {
   "cell_type": "markdown",
   "metadata": {},
   "source": [
    "Para que la funcion de keras: <i>image_dataset_from_directory</i> funcione para poder entrenar como queremos, separamos las fotos en dos capetas, una para covid y otra para el resto de enfermedades.\n",
    "\n",
    "Como hemos visto hay muchas más radiografias de covid que de las otras enfermedades así que vamos a igualar el numero de muestras para cada clase."
   ]
  },
  {
   "cell_type": "markdown",
   "metadata": {},
   "source": [
    "##### Creamos los directorios"
   ]
  },
  {
   "cell_type": "code",
   "execution_count": 4,
   "metadata": {},
   "outputs": [],
   "source": [
    "carpeta = os.getcwd()+os.sep+'images'\n",
    "\n",
    "\n",
    "#SEPARACION EN LA CARPETA IMAGES\n",
    "if not os.path.isdir(carpeta+os.sep+'covid') :\n",
    "    os.mkdir(carpeta+os.sep+'covid')\n",
    "if not os.path.isdir(carpeta+os.sep+'covid'+os.sep+'covid'):\n",
    "    os.mkdir(carpeta+os.sep+'covid'+os.sep+'covid')\n",
    "    \n",
    "if not os.path.isdir(carpeta+os.sep+'otro') :\n",
    "    os.mkdir(carpeta+os.sep+'otro')\n",
    "if not os.path.isdir(carpeta+os.sep+'otro'+os.sep+'otro'):\n",
    "    os.mkdir(carpeta+os.sep+'otro'+os.sep+'otro')\n",
    "        \n",
    "    \n",
    "#SEPARACION EN LA CARPETA PARA EL TEST\n",
    "if not os.path.isdir(os.getcwd()+os.sep+'test') :\n",
    "    os.mkdir(os.getcwd()+os.sep+'test')\n",
    "    if not os.path.isdir(os.getcwd()+os.sep+'test'+os.sep+'covid'):\n",
    "        os.mkdir(os.getcwd()+os.sep+'test'+os.sep+'covid')\n",
    "    if not os.path.isdir(os.getcwd()+os.sep+'test'+os.sep+'covid'+os.sep+'covid'):\n",
    "        os.mkdir(os.getcwd()+os.sep+'test'+os.sep+'covid'+os.sep+'covid')\n",
    "    if not os.path.isdir(os.getcwd()+os.sep+'test'+os.sep+'otro'):\n",
    "        os.mkdir(os.getcwd()+os.sep+'test'+os.sep+'otro')\n",
    "    if not os.path.isdir(os.getcwd()+os.sep+'test'+os.sep+'otro'+os.sep+'otro'):\n",
    "        os.mkdir(os.getcwd()+os.sep+'test'+os.sep+'otro'+os.sep+'otro')\n",
    "\n",
    "        \n",
    "#SEPARACION EN LA CARPETA PARA LA VALIDACION\n",
    "if not os.path.isdir(os.getcwd()+os.sep+'val') :\n",
    "    os.mkdir(os.getcwd()+os.sep+'val')\n",
    "    if not os.path.isdir(os.getcwd()+os.sep+'val'+os.sep+'covid'):\n",
    "        os.mkdir(os.getcwd()+os.sep+'val'+os.sep+'covid')\n",
    "    if not os.path.isdir(os.getcwd()+os.sep+'val'+os.sep+'covid'+os.sep+'covid'):\n",
    "        os.mkdir(os.getcwd()+os.sep+'val'+os.sep+'covid'+os.sep+'covid')\n",
    "    if not os.path.isdir(os.getcwd()+os.sep+'val'+os.sep+'otro'):\n",
    "        os.mkdir(os.getcwd()+os.sep+'val'+os.sep+'otro')\n",
    "    if not os.path.isdir(os.getcwd()+os.sep+'val'+os.sep+'otro'+os.sep+'otro'):\n",
    "        os.mkdir(os.getcwd()+os.sep+'val'+os.sep+'otro'+os.sep+'otro')\n",
    "\n",
    "\n",
    "#NUEVAS CARPETAS PARA ENTRENAMIENTO \n",
    "if not os.path.isdir(os.getcwd()+os.sep+'nuevas') :\n",
    "    os.mkdir(os.getcwd()+os.sep+'nuevas')\n",
    "    if not os.path.isdir(os.getcwd()+os.sep+'nuevas'+os.sep+'covid'):\n",
    "        os.mkdir(os.getcwd()+os.sep+'nuevas'+os.sep+'covid')\n",
    "        if not os.path.isdir(os.getcwd()+os.sep+'nuevas'+os.sep+'otro'):\n",
    "            os.mkdir(os.getcwd()+os.sep+'nuevas'+os.sep+'otro')\n",
    "            \n",
    "            \n",
    "#NUEVAS CARPETAS PARA TEST\n",
    "if not os.path.isdir(os.getcwd()+os.sep+'nuevasT') :\n",
    "    os.mkdir(os.getcwd()+os.sep+'nuevasT')\n",
    "    if not os.path.isdir(os.getcwd()+os.sep+'nuevasT'+os.sep+'covid'):\n",
    "        os.mkdir(os.getcwd()+os.sep+'nuevasT'+os.sep+'covid')\n",
    "        if not os.path.isdir(os.getcwd()+os.sep+'nuevasT'+os.sep+'otro'):\n",
    "            os.mkdir(os.getcwd()+os.sep+'nuevasT'+os.sep+'otro')\n",
    "            \n",
    "#NUEVAS CARPETAS PARA VALIDACION            \n",
    "if not os.path.isdir(os.getcwd()+os.sep+'nuevasV') :\n",
    "    os.mkdir(os.getcwd()+os.sep+'nuevasV')\n",
    "    if not os.path.isdir(os.getcwd()+os.sep+'nuevasV'+os.sep+'covid'):\n",
    "        os.mkdir(os.getcwd()+os.sep+'nuevasV'+os.sep+'covid')\n",
    "        if not os.path.isdir(os.getcwd()+os.sep+'nuevasV'+os.sep+'otro'):\n",
    "            os.mkdir(os.getcwd()+os.sep+'nuevasV'+os.sep+'otro')\n",
    "            "
   ]
  },
  {
   "cell_type": "code",
   "execution_count": 5,
   "metadata": {},
   "outputs": [],
   "source": [
    "dimensiones=[500,500]\n"
   ]
  },
  {
   "cell_type": "markdown",
   "metadata": {},
   "source": [
    "##### Movemos las imagenes"
   ]
  },
  {
   "cell_type": "code",
   "execution_count": 6,
   "metadata": {},
   "outputs": [],
   "source": [
    "\n",
    "foto=''\n",
    "destino=''\n",
    "ruta=carpeta+destino\n",
    "noEstanco=[]\n",
    "noEstanot=[]\n",
    "NombresEntrenoCo=[]\n",
    "NombresEntrenoOt=[]\n",
    "NombresValCo=[]\n",
    "NombresValOt=[]\n",
    "NombresTestCo=[]\n",
    "NombresTestOt=[]\n",
    "\n",
    "numcovid=0  #flag para equilibrar las muestras\n",
    "numValco=numTestco=0 #flag para coger muestras diferentes en test y prediccion covid\n",
    "numValotro=numTestotro=0 #flag para coger muestras diferentes en test y `prediccion otra enfermedad\n",
    "flag=0 #flag para no mover a las carpetas de images y que no aparezca en los dos directorios\n",
    "pacienteAnteriorC=0\n",
    "pacienteAnteriorO=0\n",
    "\n",
    "fotosCo=0\n",
    "fotosOt=0\n",
    "\n",
    "for i,r in dt.iterrows():\n",
    "    flag=0\n",
    "    foto=r['filename']\n",
    "    if r['finding'] == 'COVID-19': #si es covid\n",
    "        if numcovid<(len(otro)-10):\n",
    "            destino='covid'\n",
    "            numcovid+=1\n",
    "            \n",
    "        elif numTestco < 6 and r['patientid'] != pacienteAnteriorC: #ejemplos de covid para test\n",
    "            if os.path.exists(ruta+os.sep+foto):\n",
    "                shutil.move(ruta+os.sep+foto,os.getcwd()+os.sep+'test'+os.sep+'covid'+os.sep+'covid')\n",
    "                NombresTestCo.append(r['filename'])\n",
    "                numTestco+=1\n",
    "                flag=1\n",
    "                noEstanco.append(foto)\n",
    "        elif numValco < 8:\n",
    "            if os.path.exists(ruta+os.sep+foto):\n",
    "                shutil.move(ruta+os.sep+foto,os.getcwd()+os.sep+'val'+os.sep+'covid'+os.sep+'covid')\n",
    "                NombresValCo.append(r['filename'])\n",
    "                numValco+=1\n",
    "    else: #Otra enfermedad\n",
    "        if numTestotro < 6 and r['patientid'] != pacienteAnteriorO:#ejemplos de  otra enfermedad para prediccion\n",
    "            if os.path.exists(ruta+os.sep+foto):\n",
    "                shutil.move(ruta+os.sep+foto,os.getcwd()+os.sep+'test'+os.sep+'otro'+os.sep+'otro')\n",
    "                NombresTestOt.append(r['filename'])\n",
    "                numTestotro+=1\n",
    "                flag=1\n",
    "                noEstanot.append(foto)\n",
    "                \n",
    "        elif numValotro < 8: #movemos 8 imagenes de otra enfermedad para validacion\n",
    "            if os.path.exists(ruta+os.sep+foto):\n",
    "                shutil.move(ruta+os.sep+foto,os.getcwd()+os.sep+'val'+os.sep+'otro'+os.sep+'otro')\n",
    "                NombresValOt.append(r['filename'])\n",
    "                numValotro+=1\n",
    "        destino='otro'\n",
    "        \n",
    "    if os.path.exists(ruta+os.sep+foto) and flag!=1:\n",
    "        shutil.move(ruta+os.sep+foto,ruta+os.sep+destino+os.sep+destino)#+os.sep+destino\n",
    "        #para aumentar los datos\n",
    "        if destino=='covid':\n",
    "            NombresEntrenoCo.append(r['filename'])\n",
    "            fotosCo+=1\n",
    "        else:\n",
    "            fotosOt+=1\n",
    "            NombresEntrenoOt.append(r['filename'])\n",
    "    if r['finding'] == 'COVID-19':\n",
    "        pacienteAnteriorC=r['patientid']\n",
    "    else:\n",
    "        pacienteAnteriorO=r['patientid']\n",
    "    #print(ruta+os.sep+foto)\n",
    "    "
   ]
  },
  {
   "cell_type": "markdown",
   "metadata": {},
   "source": [
    "##### Aumentamos la caantidad de muestras que tenemos"
   ]
  },
  {
   "cell_type": "code",
   "execution_count": 7,
   "metadata": {},
   "outputs": [
    {
     "name": "stdout",
     "output_type": "stream",
     "text": [
      "Found 75 images belonging to 1 classes.\n",
      "Found 62 images belonging to 1 classes.\n",
      "Found 8 images belonging to 1 classes.\n",
      "Found 8 images belonging to 1 classes.\n",
      "Found 6 images belonging to 1 classes.\n",
      "Found 6 images belonging to 1 classes.\n"
     ]
    }
   ],
   "source": [
    "\n",
    "aumento = keras.Sequential(\n",
    "  [\n",
    "    layers.experimental.preprocessing.RandomFlip(\"horizontal\", input_shape=(dimensiones[0],dimensiones[1],3)),\n",
    "    layers.experimental.preprocessing.RandomRotation(0.1),\n",
    "    layers.experimental.preprocessing.RandomZoom(0.1),\n",
    "  ]\n",
    ")\n",
    "\n",
    "\n",
    "nuevo=os.getcwd()+os.sep+'nuevas'\n",
    "df=image.ImageDataGenerator(rotation_range=10, width_shift_range=0.08, height_shift_range=0.12,shear_range=0.12, zoom_range=0.08,channel_shift_range = 8, horizontal_flip=True)\n",
    "#resul=image.DirectoryIterator(directory=carpeta, image_data_generator=df,target_size=(dimensiones[0],dimensiones[1]), color_mode='rgb', subset='training'\n",
    "#                        class_mode='binary',batch_size=5)\n",
    "#print(len(resul))\n",
    "#imagen=df.flow_from_directory(carpeta, target_size=(dimensiones[0],dimensiones[1]), save_to_dir=nuevo, save_prefix='Nuevas', classes=['covid', 'otro'],class_mode=\"binary\",batch_size=1, seed=1234)\n",
    "#save_prefix='Nuevas',save_format='jpeg',\n",
    "\n",
    "\n",
    "#ENTRENAMIENTO\n",
    "cov=image.DirectoryIterator(directory=carpeta+os.sep+'covid',image_data_generator=df,target_size=(dimensiones[0],dimensiones[1]), color_mode='rgb',\n",
    "                        class_mode=None,save_to_dir=nuevo+os.sep+'covid', save_prefix='Nuevas', batch_size=13,save_format='jpeg')\n",
    "otr=image.DirectoryIterator(directory=carpeta+os.sep+'otro',image_data_generator=df,target_size=(dimensiones[0],dimensiones[1]), color_mode='rgb',\n",
    "                        class_mode=None,save_to_dir=nuevo+os.sep+'otro', save_prefix='Nuevas', batch_size=20,save_format='jpeg')\n",
    "\n",
    "#VALIDACION\n",
    "covVal=image.DirectoryIterator(directory='val'+os.sep+'covid',image_data_generator=df,target_size=(dimensiones[0],dimensiones[1]), color_mode='rgb',\n",
    "                        class_mode=None,save_to_dir='nuevasV'+os.sep+'covid', save_prefix='Nuevas', batch_size=17,save_format='jpeg')\n",
    "otrVal=image.DirectoryIterator(directory='val'+os.sep+'otro',image_data_generator=df,target_size=(dimensiones[0],dimensiones[1]), color_mode='rgb',\n",
    "                        class_mode=None,save_to_dir='nuevasV'+os.sep+'otro', save_prefix='Nuevas', batch_size=17,save_format='jpeg')\n",
    "\n",
    "#TEST\n",
    "Tco=image.DirectoryIterator(directory='test'+os.sep+'covid',image_data_generator=df,target_size=(dimensiones[0],dimensiones[1]), color_mode='rgb',\n",
    "                        class_mode=None,save_to_dir='nuevasT'+os.sep+'covid', save_prefix='Nuevas', batch_size=10,save_format='jpeg')\n",
    "Tot=image.DirectoryIterator(directory='test'+os.sep+'otro',image_data_generator=df,target_size=(dimensiones[0],dimensiones[1]), color_mode='rgb',\n",
    "                        class_mode=None,save_to_dir='nuevasT'+os.sep+'otro', save_prefix='Nuevas', batch_size=10,save_format='jpeg')\n",
    "\n",
    "\n",
    "#imagen.next()\n",
    "#entreno=df.fit(imagen, rounds=4)\n",
    "\n",
    "\n",
    "#l=[]\n",
    "#for j in range(len(NombresEntrenoCo)):\n",
    "#    for i in range(9):\n",
    "#        #carpeta+os.sep+'covid'+os.sep+NombresEntrenoCo[j]\n",
    "#        imagen=image.load_img(carpeta+os.sep+'covid'+os.sep+NombresEntrenoCo[j], grayscale=False, color_mode='rgb', target_size=(dimensiones[0],dimensiones[1]))\n",
    "#        imagen=image.img_to_array(imagen)\n",
    "#        imagen=np.array([imagen])\n",
    "#        df.flow(imagen,batch_size=5, save_to_dir=os.getcwd()+os.sep+\"jk\", save_format='jpg',shuffle=True,save_prefix='Nuevas')\n",
    "        #nueva = aumento(imagen)\n",
    "        #cv2.imwrite(carpeta+os.sep+\"covid\",nueva[0].numpy().astype(\"uint8\"))\n",
    "\n",
    "#for j in range(len(NombresEntrenoOt)):\n",
    "#    \n",
    "#    imagen=image.load_img(carpeta+os.sep+'otro'+os.sep+'otro'+os.sep+NombresEntrenoCo[j], grayscale=False, color_mode='rgb', target_size=(dimensiones[0],dimensiones[1]))\n",
    "#    imagen=image.img_to_array(imagen)\n",
    "#    imagen=np.array(imagen)\n",
    "#    imagen.next()\n",
    "#    #image = np.expand_dims(ndimage.imread(carpeta+os.sep+'otro'+os.sep+'otro'+os.sep+NombresEntrenoCo[j]), 0)\n",
    "#    df.fit(imagen)\n",
    "#    for x, val in zip(df.flow(imagen,save_to_dir=os.getcwd()+os.sep+\"nuevas\"+os.sep+\"covid\",save_prefix='Nueva',save_format='jpeg'),range(5)):\n",
    "#        pass\n",
    "    #df.flow(imagen,batch_size=3, save_to_dir=carpeta+os.sep+'otro', save_format='jpg',shuffle=True)\n",
    "\n",
    "\n",
    "#df.fit(image)\n",
    "\n",
    "pd= layers.ZeroPadding2D(padding=2)"
   ]
  },
  {
   "cell_type": "code",
   "execution_count": 8,
   "metadata": {},
   "outputs": [
    {
     "name": "stdout",
     "output_type": "stream",
     "text": [
      "6\n",
      "4\n",
      "1\n",
      "1\n"
     ]
    }
   ],
   "source": [
    "print(len(cov))\n",
    "print(len(otr))\n",
    "print(len(covVal))\n",
    "print(len(otrVal))\n",
    "\n",
    "for j in range(40):\n",
    "    for i in range(len(cov)):\n",
    "        cov.next()\n",
    "    for i in range(len(otr)):\n",
    "        otr.next()\n",
    "        \n"
   ]
  },
  {
   "cell_type": "code",
   "execution_count": 9,
   "metadata": {},
   "outputs": [],
   "source": [
    "for g in range(50):\n",
    "    for i in range(len(covVal)):\n",
    "        covVal.next()\n",
    "    for i in range(len(otrVal)):\n",
    "        otrVal.next()"
   ]
  },
  {
   "cell_type": "markdown",
   "metadata": {},
   "source": [
    "##### Movemos las imagenes originales"
   ]
  },
  {
   "cell_type": "code",
   "execution_count": 8,
   "metadata": {},
   "outputs": [],
   "source": [
    "#ENTRENAMIENTO\n",
    "for i in range(len(NombresEntrenoCo)):\n",
    "    if os.path.exists(ruta+os.sep+'covid'+os.sep+'covid'+os.sep+NombresEntrenoCo[i]):\n",
    "        shutil.move(ruta+os.sep+'covid'+os.sep+'covid'+os.sep+NombresEntrenoCo[i],'nuevas'+os.sep+'covid')\n",
    "for i in range(len(NombresEntrenoOt)):\n",
    "    if os.path.exists(ruta+os.sep+'otro'+os.sep+'otro'+os.sep+NombresEntrenoOt[i]):\n",
    "        shutil.move(ruta+os.sep+'otro'+os.sep+'otro'+os.sep+NombresEntrenoOt[i],'nuevas'+os.sep+'otro')\n",
    "#VALIDACION       \n",
    "for i in range(len(NombresValCo)):\n",
    "    if os.path.exists('val'+os.sep+'covid'+os.sep+'covid'+os.sep+NombresValCo[i]):\n",
    "        shutil.move('val'+os.sep+'covid'+os.sep+'covid'+os.sep+NombresValCo[i],'nuevasV'+os.sep+'covid')\n",
    "for i in range(len(NombresValOt)):\n",
    "    if os.path.exists('val'+os.sep+'otro'+os.sep+'otro'+os.sep+NombresValOt[i]):\n",
    "        shutil.move('val'+os.sep+'otro'+os.sep+'otro'+os.sep+NombresValOt[i],'nuevasV'+os.sep+'otro')\n"
   ]
  },
  {
   "cell_type": "markdown",
   "metadata": {},
   "source": [
    "##### Guardamos las imagenes en memoria"
   ]
  },
  {
   "cell_type": "code",
   "execution_count": 9,
   "metadata": {},
   "outputs": [
    {
     "name": "stdout",
     "output_type": "stream",
     "text": [
      "Found 5617 files belonging to 2 classes.\n",
      "Found 816 files belonging to 2 classes.\n"
     ]
    }
   ],
   "source": [
    "\n",
    "#entreno, val, test=image_dataset_from_directory(directory=\"images\", image_size=(dimensiones[0],dimensiones[1]), subset=\"training\", validation_split=0.2, seed=1234,\n",
    "#                                      labels='inferred')\n",
    "\n",
    "\n",
    "\n",
    "#entrenamiento\n",
    "img_fit= image_dataset_from_directory(directory=nuevo, image_size=(dimensiones[0],dimensiones[1]), seed=764,\n",
    "                                      labels='inferred',shuffle=True)\n",
    "\n",
    "\n",
    "clases=img_fit.class_names\n",
    "\n",
    "#validadcion\n",
    "img_val=image_dataset_from_directory(directory='nuevasV', image_size=(dimensiones[0],dimensiones[1]), seed=9876,\n",
    "                                      labels='inferred',shuffle=True)\n",
    "#clases=img_val.class_names\n",
    "\n",
    "\n",
    "\n",
    "\n",
    "#PARA MEJORAR EL RENDIMIENTO\n",
    "AUTOTUNE = tf.data.AUTOTUNE\n",
    "img_fit=img_fit.cache().prefetch(buffer_size=AUTOTUNE)\n",
    "img_val=img_val.cache().prefetch(buffer_size=AUTOTUNE)\n",
    "\n",
    "Normalizar= layers.experimental.preprocessing.Rescaling(1./255, input_shape=(dimensiones[0],dimensiones[1], 3))\n"
   ]
  },
  {
   "cell_type": "markdown",
   "metadata": {},
   "source": [
    "### CREACION DEL MODELO"
   ]
  },
  {
   "cell_type": "code",
   "execution_count": 10,
   "metadata": {},
   "outputs": [
    {
     "name": "stdout",
     "output_type": "stream",
     "text": [
      "Model: \"sequential_1\"\n",
      "_________________________________________________________________\n",
      "Layer (type)                 Output Shape              Param #   \n",
      "=================================================================\n",
      "rescaling (Rescaling)        (None, 500, 500, 3)       0         \n",
      "_________________________________________________________________\n",
      "zero_padding2d_1 (ZeroPaddin multiple                  0         \n",
      "_________________________________________________________________\n",
      "conv2d (Conv2D)              (None, 504, 504, 16)      448       \n",
      "_________________________________________________________________\n",
      "max_pooling2d (MaxPooling2D) (None, 100, 100, 16)      0         \n",
      "_________________________________________________________________\n",
      "conv2d_1 (Conv2D)            (None, 100, 100, 32)      4640      \n",
      "_________________________________________________________________\n",
      "max_pooling2d_1 (MaxPooling2 (None, 20, 20, 32)        0         \n",
      "_________________________________________________________________\n",
      "conv2d_2 (Conv2D)            (None, 24, 24, 64)        18496     \n",
      "_________________________________________________________________\n",
      "max_pooling2d_2 (MaxPooling2 (None, 4, 4, 64)          0         \n",
      "_________________________________________________________________\n",
      "conv2d_3 (Conv2D)            (None, 8, 8, 128)         73856     \n",
      "_________________________________________________________________\n",
      "dropout (Dropout)            (None, 8, 8, 128)         0         \n",
      "_________________________________________________________________\n",
      "flatten (Flatten)            (None, 8192)              0         \n",
      "_________________________________________________________________\n",
      "dense (Dense)                (None, 100)               819300    \n",
      "_________________________________________________________________\n",
      "dense_1 (Dense)              (None, 1)                 101       \n",
      "=================================================================\n",
      "Total params: 916,841\n",
      "Trainable params: 916,841\n",
      "Non-trainable params: 0\n",
      "_________________________________________________________________\n"
     ]
    }
   ],
   "source": [
    "pool= 5 #CON UN POOL MÁS GRANDE SE REDUCEN LOS PESOS\n",
    "pd= layers.ZeroPadding2D(padding=2) #PADDING\n",
    "model= Sequential([\n",
    "    #aumento,\n",
    "    Normalizar,\n",
    "    pd,\n",
    "    layers.Conv2D(filters=16,kernel_size=3,padding='same',activation='relu', strides=1),\n",
    "    layers.MaxPooling2D(pool_size=pool),\n",
    "    #layers.Dropout(0.05),\n",
    "    layers.Conv2D(filters=32,kernel_size=3,padding='same',activation='relu', strides=1),\n",
    "    layers.MaxPooling2D(pool_size=pool),\n",
    "    pd,\n",
    "    #layers.Dropout(0.05),\n",
    "    layers.Conv2D(filters=64,kernel_size=3,padding='same',activation='relu', strides=1),\n",
    "    layers.MaxPooling2D(pool_size=pool),\n",
    "    pd,\n",
    "    layers.Conv2D(filters=128,kernel_size=3,padding='same',activation='relu', strides=1),\n",
    "    #pd,\n",
    "    #layers.Conv2D(filters=256,kernel_size=5,padding='same',activation='relu', strides=1),\n",
    "    #layers.MaxPooling2D(pool_size=pool),\n",
    "    ##pd,\n",
    "    #layers.Conv2D(filters=512,kernel_size=5,padding='same',activation='relu', strides=1),\n",
    "    #layers.MaxPooling2D(pool_size=pool),\n",
    "    layers.Dropout(0.5),\n",
    "    layers.Flatten(),\n",
    "    Dense(100,'relu'),\n",
    "    #Dense(1000,'relu'),\n",
    "    Dense(1,'sigmoid')\n",
    "\n",
    "])\n",
    "\n",
    "model.summary()"
   ]
  },
  {
   "cell_type": "markdown",
   "metadata": {},
   "source": [
    "### ENTRENAMIENTO"
   ]
  },
  {
   "cell_type": "code",
   "execution_count": null,
   "metadata": {},
   "outputs": [
    {
     "name": "stdout",
     "output_type": "stream",
     "text": [
      "Epoch 1/15\n",
      "176/176 [==============================] - 325s 2s/step - loss: 8.6746 - accuracy: 0.5045 - val_loss: 0.7070 - val_accuracy: 0.5000\n",
      "Epoch 2/15\n",
      "176/176 [==============================] - 322s 2s/step - loss: 0.6958 - accuracy: 0.5338 - val_loss: 0.6936 - val_accuracy: 0.5000\n",
      "Epoch 3/15\n",
      "176/176 [==============================] - 322s 2s/step - loss: 0.6892 - accuracy: 0.5572 - val_loss: 0.6932 - val_accuracy: 0.5000\n",
      "Epoch 4/15\n",
      "176/176 [==============================] - 322s 2s/step - loss: 0.6902 - accuracy: 0.5428 - val_loss: 0.6932 - val_accuracy: 0.5000\n",
      "Epoch 5/15\n",
      "176/176 [==============================] - 324s 2s/step - loss: 0.6908 - accuracy: 0.5324 - val_loss: 0.6934 - val_accuracy: 0.5000\n",
      "Epoch 6/15\n",
      "176/176 [==============================] - 324s 2s/step - loss: 0.6913 - accuracy: 0.5272 - val_loss: 0.6935 - val_accuracy: 0.5000\n",
      "Epoch 7/15\n",
      "176/176 [==============================] - 323s 2s/step - loss: 0.6916 - accuracy: 0.5289 - val_loss: 0.6936 - val_accuracy: 0.5000\n",
      "Epoch 8/15\n",
      "176/176 [==============================] - 320s 2s/step - loss: 0.6918 - accuracy: 0.5306 - val_loss: 0.6937 - val_accuracy: 0.5000\n",
      "Epoch 9/15\n",
      "176/176 [==============================] - 318s 2s/step - loss: 0.6920 - accuracy: 0.5303 - val_loss: 0.6938 - val_accuracy: 0.5000\n",
      "Epoch 10/15\n",
      "176/176 [==============================] - 321s 2s/step - loss: 0.6921 - accuracy: 0.5303 - val_loss: 0.6938 - val_accuracy: 0.5000\n",
      "Epoch 11/15\n",
      "176/176 [==============================] - 315s 2s/step - loss: 0.6922 - accuracy: 0.5308 - val_loss: 0.6939 - val_accuracy: 0.5000\n",
      "Epoch 12/15\n",
      "176/176 [==============================] - 324s 2s/step - loss: 0.6923 - accuracy: 0.5308 - val_loss: 0.6940 - val_accuracy: 0.5000\n",
      "Epoch 13/15\n",
      "176/176 [==============================] - 318s 2s/step - loss: 0.6924 - accuracy: 0.5308 - val_loss: 0.6940 - val_accuracy: 0.5000\n",
      "Epoch 14/15\n",
      "158/176 [=========================>....] - ETA: 33s - loss: 0.6925 - accuracy: 0.5301"
     ]
    }
   ],
   "source": [
    "opti= optimizers.Adam(learning_rate=0.3)#learning_rate=0.05,epsilon=0.8\n",
    "vueltas=15\n",
    "\n",
    "model.compile(optimizer=opti, loss='binary_crossentropy', metrics=['accuracy'])\n",
    "historico=model.fit(img_fit, validation_data= img_val,batch_size=64 ,epochs= vueltas,shuffle=True)"
   ]
  },
  {
   "cell_type": "markdown",
   "metadata": {},
   "source": [
    "##### RESULTADOS DEL ENTRENAMIENTO SIN DATA AUGMENTATION"
   ]
  },
  {
   "cell_type": "code",
   "execution_count": 16,
   "metadata": {},
   "outputs": [
    {
     "data": {
      "image/png": "[encoded data removed]",
      "text/plain": [
       "<Figure size 576x576 with 2 Axes>"
      ]
     },
     "metadata": {
      "needs_background": "light"
     },
     "output_type": "display_data"
    }
   ],
   "source": [
    "\n",
    "\n",
    "acc = historico.history['accuracy']\n",
    "val_acc = historico.history['val_accuracy']\n",
    "\n",
    "loss = historico.history['loss']\n",
    "val_loss = historico.history['val_loss']\n",
    "\n",
    "epochs_range = range(vueltas)\n",
    "\n",
    "plt.figure(figsize=(8, 8))\n",
    "plt.subplot(1, 2, 1)\n",
    "plt.plot(epochs_range, acc, label='Training Accuracy')\n",
    "plt.plot(epochs_range, val_acc, label='Validation Accuracy')\n",
    "plt.legend(loc='lower right')\n",
    "plt.title('Training and Validation Accuracy')\n",
    "\n",
    "plt.subplot(1, 2, 2)\n",
    "plt.plot(epochs_range, loss, label='Training Loss')\n",
    "plt.plot(epochs_range, val_loss, label='Validation Loss')\n",
    "plt.legend(loc='upper right')\n",
    "plt.title('Training and Validation Loss')\n",
    "plt.show()"
   ]
  },
  {
   "cell_type": "code",
   "execution_count": 13,
   "metadata": {},
   "outputs": [],
   "source": [
    "#Con los datos aumentados\n",
    "\n",
    "#historicoNu=model.fit(resul, validation_data= img_val, epochs=vueltas)"
   ]
  },
  {
   "cell_type": "markdown",
   "metadata": {},
   "source": [
    "##### RESULTADOS DEL ENTRENAMIENTO CON LAS NUEVAS IMAGENES"
   ]
  },
  {
   "cell_type": "code",
   "execution_count": 16,
   "metadata": {},
   "outputs": [],
   "source": [
    "\n",
    "for j in range(10):\n",
    "    for i in range(len(Tco)):\n",
    "        Tco.next()\n",
    "    for i in range(len(Tot)):\n",
    "        Tot.next()\n",
    "        \n"
   ]
  },
  {
   "cell_type": "code",
   "execution_count": 17,
   "metadata": {},
   "outputs": [
    {
     "ename": "Error",
     "evalue": "Destination path 'nuevasT\\covid\\7AF6C1AF-D249-4BD2-8C26-449304105D03.jpeg' already exists",
     "output_type": "error",
     "traceback": [
      "\u001b[1;31m---------------------------------------------------------------------------\u001b[0m",
      "\u001b[1;31mError\u001b[0m                                     Traceback (most recent call last)",
      "\u001b[1;32m<ipython-input-17-44712e193e92>\u001b[0m in \u001b[0;36m<module>\u001b[1;34m\u001b[0m\n\u001b[0;32m      2\u001b[0m \u001b[1;32mfor\u001b[0m \u001b[0mi\u001b[0m \u001b[1;32min\u001b[0m \u001b[0mrange\u001b[0m\u001b[1;33m(\u001b[0m\u001b[0mlen\u001b[0m\u001b[1;33m(\u001b[0m\u001b[0mNombresTestCo\u001b[0m\u001b[1;33m)\u001b[0m\u001b[1;33m)\u001b[0m\u001b[1;33m:\u001b[0m\u001b[1;33m\u001b[0m\u001b[1;33m\u001b[0m\u001b[0m\n\u001b[0;32m      3\u001b[0m     \u001b[1;32mif\u001b[0m \u001b[0mos\u001b[0m\u001b[1;33m.\u001b[0m\u001b[0mpath\u001b[0m\u001b[1;33m.\u001b[0m\u001b[0mexists\u001b[0m\u001b[1;33m(\u001b[0m\u001b[1;34m'test'\u001b[0m\u001b[1;33m+\u001b[0m\u001b[0mos\u001b[0m\u001b[1;33m.\u001b[0m\u001b[0msep\u001b[0m\u001b[1;33m+\u001b[0m\u001b[1;34m'covid'\u001b[0m\u001b[1;33m+\u001b[0m\u001b[0mos\u001b[0m\u001b[1;33m.\u001b[0m\u001b[0msep\u001b[0m\u001b[1;33m+\u001b[0m\u001b[1;34m'covid'\u001b[0m\u001b[1;33m+\u001b[0m\u001b[0mos\u001b[0m\u001b[1;33m.\u001b[0m\u001b[0msep\u001b[0m\u001b[1;33m+\u001b[0m\u001b[0mNombresTestCo\u001b[0m\u001b[1;33m[\u001b[0m\u001b[0mi\u001b[0m\u001b[1;33m]\u001b[0m\u001b[1;33m)\u001b[0m\u001b[1;33m:\u001b[0m\u001b[1;33m\u001b[0m\u001b[1;33m\u001b[0m\u001b[0m\n\u001b[1;32m----> 4\u001b[1;33m         \u001b[0mshutil\u001b[0m\u001b[1;33m.\u001b[0m\u001b[0mmove\u001b[0m\u001b[1;33m(\u001b[0m\u001b[1;34m'test'\u001b[0m\u001b[1;33m+\u001b[0m\u001b[0mos\u001b[0m\u001b[1;33m.\u001b[0m\u001b[0msep\u001b[0m\u001b[1;33m+\u001b[0m\u001b[1;34m'covid'\u001b[0m\u001b[1;33m+\u001b[0m\u001b[0mos\u001b[0m\u001b[1;33m.\u001b[0m\u001b[0msep\u001b[0m\u001b[1;33m+\u001b[0m\u001b[1;34m'covid'\u001b[0m\u001b[1;33m+\u001b[0m\u001b[0mos\u001b[0m\u001b[1;33m.\u001b[0m\u001b[0msep\u001b[0m\u001b[1;33m+\u001b[0m\u001b[0mNombresTestCo\u001b[0m\u001b[1;33m[\u001b[0m\u001b[0mi\u001b[0m\u001b[1;33m]\u001b[0m\u001b[1;33m,\u001b[0m\u001b[1;34m'nuevasT'\u001b[0m\u001b[1;33m+\u001b[0m\u001b[0mos\u001b[0m\u001b[1;33m.\u001b[0m\u001b[0msep\u001b[0m\u001b[1;33m+\u001b[0m\u001b[1;34m'covid'\u001b[0m\u001b[1;33m)\u001b[0m\u001b[1;33m\u001b[0m\u001b[1;33m\u001b[0m\u001b[0m\n\u001b[0m\u001b[0;32m      5\u001b[0m \u001b[1;32mfor\u001b[0m \u001b[0mi\u001b[0m \u001b[1;32min\u001b[0m \u001b[0mrange\u001b[0m\u001b[1;33m(\u001b[0m\u001b[0mlen\u001b[0m\u001b[1;33m(\u001b[0m\u001b[0mNombresTestOt\u001b[0m\u001b[1;33m)\u001b[0m\u001b[1;33m)\u001b[0m\u001b[1;33m:\u001b[0m\u001b[1;33m\u001b[0m\u001b[1;33m\u001b[0m\u001b[0m\n\u001b[0;32m      6\u001b[0m     \u001b[1;32mif\u001b[0m \u001b[0mos\u001b[0m\u001b[1;33m.\u001b[0m\u001b[0mpath\u001b[0m\u001b[1;33m.\u001b[0m\u001b[0mexists\u001b[0m\u001b[1;33m(\u001b[0m\u001b[1;34m'test'\u001b[0m\u001b[1;33m+\u001b[0m\u001b[0mos\u001b[0m\u001b[1;33m.\u001b[0m\u001b[0msep\u001b[0m\u001b[1;33m+\u001b[0m\u001b[1;34m'otro'\u001b[0m\u001b[1;33m+\u001b[0m\u001b[0mos\u001b[0m\u001b[1;33m.\u001b[0m\u001b[0msep\u001b[0m\u001b[1;33m+\u001b[0m\u001b[1;34m'otro'\u001b[0m\u001b[1;33m+\u001b[0m\u001b[0mos\u001b[0m\u001b[1;33m.\u001b[0m\u001b[0msep\u001b[0m\u001b[1;33m+\u001b[0m\u001b[0mNombresTestOt\u001b[0m\u001b[1;33m[\u001b[0m\u001b[0mi\u001b[0m\u001b[1;33m]\u001b[0m\u001b[1;33m)\u001b[0m\u001b[1;33m:\u001b[0m\u001b[1;33m\u001b[0m\u001b[1;33m\u001b[0m\u001b[0m\n",
      "\u001b[1;32m~\\anaconda3\\lib\\shutil.py\u001b[0m in \u001b[0;36mmove\u001b[1;34m(src, dst, copy_function)\u001b[0m\n\u001b[0;32m    784\u001b[0m         \u001b[0mreal_dst\u001b[0m \u001b[1;33m=\u001b[0m \u001b[0mos\u001b[0m\u001b[1;33m.\u001b[0m\u001b[0mpath\u001b[0m\u001b[1;33m.\u001b[0m\u001b[0mjoin\u001b[0m\u001b[1;33m(\u001b[0m\u001b[0mdst\u001b[0m\u001b[1;33m,\u001b[0m \u001b[0m_basename\u001b[0m\u001b[1;33m(\u001b[0m\u001b[0msrc\u001b[0m\u001b[1;33m)\u001b[0m\u001b[1;33m)\u001b[0m\u001b[1;33m\u001b[0m\u001b[1;33m\u001b[0m\u001b[0m\n\u001b[0;32m    785\u001b[0m         \u001b[1;32mif\u001b[0m \u001b[0mos\u001b[0m\u001b[1;33m.\u001b[0m\u001b[0mpath\u001b[0m\u001b[1;33m.\u001b[0m\u001b[0mexists\u001b[0m\u001b[1;33m(\u001b[0m\u001b[0mreal_dst\u001b[0m\u001b[1;33m)\u001b[0m\u001b[1;33m:\u001b[0m\u001b[1;33m\u001b[0m\u001b[1;33m\u001b[0m\u001b[0m\n\u001b[1;32m--> 786\u001b[1;33m             \u001b[1;32mraise\u001b[0m \u001b[0mError\u001b[0m\u001b[1;33m(\u001b[0m\u001b[1;34m\"Destination path '%s' already exists\"\u001b[0m \u001b[1;33m%\u001b[0m \u001b[0mreal_dst\u001b[0m\u001b[1;33m)\u001b[0m\u001b[1;33m\u001b[0m\u001b[1;33m\u001b[0m\u001b[0m\n\u001b[0m\u001b[0;32m    787\u001b[0m     \u001b[1;32mtry\u001b[0m\u001b[1;33m:\u001b[0m\u001b[1;33m\u001b[0m\u001b[1;33m\u001b[0m\u001b[0m\n\u001b[0;32m    788\u001b[0m         \u001b[0mos\u001b[0m\u001b[1;33m.\u001b[0m\u001b[0mrename\u001b[0m\u001b[1;33m(\u001b[0m\u001b[0msrc\u001b[0m\u001b[1;33m,\u001b[0m \u001b[0mreal_dst\u001b[0m\u001b[1;33m)\u001b[0m\u001b[1;33m\u001b[0m\u001b[1;33m\u001b[0m\u001b[0m\n",
      "\u001b[1;31mError\u001b[0m: Destination path 'nuevasT\\covid\\7AF6C1AF-D249-4BD2-8C26-449304105D03.jpeg' already exists"
     ]
    }
   ],
   "source": [
    "#TEST\n",
    "for i in range(len(NombresTestCo)):\n",
    "    if os.path.exists('test'+os.sep+'covid'+os.sep+'covid'+os.sep+NombresTestCo[i]):\n",
    "        shutil.move('test'+os.sep+'covid'+os.sep+'covid'+os.sep+NombresTestCo[i],'nuevasT'+os.sep+'covid')\n",
    "for i in range(len(NombresTestOt)):\n",
    "    if os.path.exists('test'+os.sep+'otro'+os.sep+'otro'+os.sep+NombresTestOt[i]):\n",
    "        shutil.move('test'+os.sep+'otro'+os.sep+'otro'+os.sep+NombresTestOt[i],'nuevasT'+os.sep+'otro')"
   ]
  },
  {
   "cell_type": "code",
   "execution_count": 18,
   "metadata": {},
   "outputs": [
    {
     "name": "stdout",
     "output_type": "stream",
     "text": [
      "Found 132 files belonging to 2 classes.\n"
     ]
    },
    {
     "data": {
      "text/plain": [
       "<tf.Tensor: shape=(132, 1), dtype=float32, numpy=\n",
       "array([[0.6331676],\n",
       "       [0.6331676],\n",
       "       [0.6331676],\n",
       "       [0.6331676],\n",
       "       [0.6331676],\n",
       "       [0.6331676],\n",
       "       [0.6331676],\n",
       "       [0.6331676],\n",
       "       [0.6331676],\n",
       "       [0.6331676],\n",
       "       [0.6331676],\n",
       "       [0.6331676],\n",
       "       [0.6331676],\n",
       "       [0.6331676],\n",
       "       [0.6331676],\n",
       "       [0.6331676],\n",
       "       [0.6331676],\n",
       "       [0.6331676],\n",
       "       [0.6331676],\n",
       "       [0.6331676],\n",
       "       [0.6331676],\n",
       "       [0.6331676],\n",
       "       [0.6331676],\n",
       "       [0.6331676],\n",
       "       [0.6331676],\n",
       "       [0.6331676],\n",
       "       [0.6331676],\n",
       "       [0.6331676],\n",
       "       [0.6331676],\n",
       "       [0.6331676],\n",
       "       [0.6331676],\n",
       "       [0.6331676],\n",
       "       [0.6331676],\n",
       "       [0.6331676],\n",
       "       [0.6331676],\n",
       "       [0.6331676],\n",
       "       [0.6331676],\n",
       "       [0.6331676],\n",
       "       [0.6331676],\n",
       "       [0.6331676],\n",
       "       [0.6331676],\n",
       "       [0.6331676],\n",
       "       [0.6331676],\n",
       "       [0.6331676],\n",
       "       [0.6331676],\n",
       "       [0.6331676],\n",
       "       [0.6331676],\n",
       "       [0.6331676],\n",
       "       [0.6331676],\n",
       "       [0.6331676],\n",
       "       [0.6331676],\n",
       "       [0.6331676],\n",
       "       [0.6331676],\n",
       "       [0.6331676],\n",
       "       [0.6331676],\n",
       "       [0.6331676],\n",
       "       [0.6331676],\n",
       "       [0.6331676],\n",
       "       [0.6331676],\n",
       "       [0.6331676],\n",
       "       [0.6331676],\n",
       "       [0.6331676],\n",
       "       [0.6331676],\n",
       "       [0.6331676],\n",
       "       [0.6331676],\n",
       "       [0.6331676],\n",
       "       [0.6331676],\n",
       "       [0.6331676],\n",
       "       [0.6331676],\n",
       "       [0.6331676],\n",
       "       [0.6331676],\n",
       "       [0.6331676],\n",
       "       [0.6331676],\n",
       "       [0.6331676],\n",
       "       [0.6331676],\n",
       "       [0.6331676],\n",
       "       [0.6331676],\n",
       "       [0.6331676],\n",
       "       [0.6331676],\n",
       "       [0.6331676],\n",
       "       [0.6331676],\n",
       "       [0.6331676],\n",
       "       [0.6331676],\n",
       "       [0.6331676],\n",
       "       [0.6331676],\n",
       "       [0.6331676],\n",
       "       [0.6331676],\n",
       "       [0.6331676],\n",
       "       [0.6331676],\n",
       "       [0.6331676],\n",
       "       [0.6331676],\n",
       "       [0.6331676],\n",
       "       [0.6331676],\n",
       "       [0.6331676],\n",
       "       [0.6331676],\n",
       "       [0.6331676],\n",
       "       [0.6331676],\n",
       "       [0.6331676],\n",
       "       [0.6331676],\n",
       "       [0.6331676],\n",
       "       [0.6331676],\n",
       "       [0.6331676],\n",
       "       [0.6331676],\n",
       "       [0.6331676],\n",
       "       [0.6331676],\n",
       "       [0.6331676],\n",
       "       [0.6331676],\n",
       "       [0.6331676],\n",
       "       [0.6331676],\n",
       "       [0.6331676],\n",
       "       [0.6331676],\n",
       "       [0.6331676],\n",
       "       [0.6331676],\n",
       "       [0.6331676],\n",
       "       [0.6331676],\n",
       "       [0.6331676],\n",
       "       [0.6331676],\n",
       "       [0.6331676],\n",
       "       [0.6331676],\n",
       "       [0.6331676],\n",
       "       [0.6331676],\n",
       "       [0.6331676],\n",
       "       [0.6331676],\n",
       "       [0.6331676],\n",
       "       [0.6331676],\n",
       "       [0.6331676],\n",
       "       [0.6331676],\n",
       "       [0.6331676],\n",
       "       [0.6331676],\n",
       "       [0.6331676],\n",
       "       [0.6331676],\n",
       "       [0.6331676]], dtype=float32)>"
      ]
     },
     "execution_count": 18,
     "metadata": {},
     "output_type": "execute_result"
    }
   ],
   "source": [
    "\n",
    "\n",
    "img=image_dataset_from_directory(directory=\"nuevasT\", image_size=(dimensiones[0],dimensiones[1]), \n",
    "                                      labels='inferred')\n",
    "\n",
    "\n",
    "tf.nn.sigmoid(model.predict(img))"
   ]
  },
  {
   "cell_type": "code",
   "execution_count": 19,
   "metadata": {},
   "outputs": [
    {
     "name": "stdout",
     "output_type": "stream",
     "text": [
      "5/5 [==============================] - 2s 352ms/step - loss: 0.6974 - accuracy: 0.5000\n"
     ]
    }
   ],
   "source": [
    "test_loss, test_acc = model.evaluate(img)\n"
   ]
  },
  {
   "cell_type": "code",
   "execution_count": null,
   "metadata": {},
   "outputs": [],
   "source": []
  }
 ],
 "metadata": {
  "kernelspec": {
   "display_name": "Python 3",
   "language": "python",
   "name": "python3"
  },
  "language_info": {
   "codemirror_mode": {
    "name": "ipython",
    "version": 3
   },
   "file_extension": ".py",
   "mimetype": "text/x-python",
   "name": "python",
   "nbconvert_exporter": "python",
   "pygments_lexer": "ipython3",
   "version": "3.8.5"
  }
 },
 "nbformat": 4,
 "nbformat_minor": 4
}
