{
 "cells": [
  {
   "cell_type": "markdown",
   "metadata": {},
   "source": [
    "## Lectura de los datos"
   ]
  },
  {
   "cell_type": "markdown",
   "metadata": {},
   "source": [
    "#### Librerias"
   ]
  },
  {
   "cell_type": "code",
   "execution_count": 1,
   "metadata": {},
   "outputs": [],
   "source": [
    "import pandas as pd\n",
    "import numpy as np\n",
    "import keras_metrics\n",
    "import tensorflow as tf\n",
    "import shutil, os, sys\n",
    "import matplotlib.pyplot as plt\n",
    "import cv2\n",
    "\n",
    "\n",
    "from tensorflow import keras\n",
    "from tensorflow.keras.models import Sequential\n",
    "from tensorflow.keras.layers import Dense\n",
    "from tensorflow.keras import optimizers, layers\n",
    "from tensorflow.keras import utils as k\n",
    "from tensorflow.keras.callbacks import EarlyStopping\n",
    "from tensorflow.keras.preprocessing import image_dataset_from_directory,image\n",
    "\n",
    "\n"
   ]
  },
  {
   "cell_type": "markdown",
   "metadata": {},
   "source": [
    "#### Datos"
   ]
  },
  {
   "cell_type": "code",
   "execution_count": 2,
   "metadata": {},
   "outputs": [
    {
     "data": {
      "text/html": [
       "<div>\n",
       "<style scoped>\n",
       "    .dataframe tbody tr th:only-of-type {\n",
       "        vertical-align: middle;\n",
       "    }\n",
       "\n",
       "    .dataframe tbody tr th {\n",
       "        vertical-align: top;\n",
       "    }\n",
       "\n",
       "    .dataframe thead th {\n",
       "        text-align: right;\n",
       "    }\n",
       "</style>\n",
       "<table border=\"1\" class=\"dataframe\">\n",
       "  <thead>\n",
       "    <tr style=\"text-align: right;\">\n",
       "      <th></th>\n",
       "      <th>patientid</th>\n",
       "      <th>offset</th>\n",
       "      <th>sex</th>\n",
       "      <th>age</th>\n",
       "      <th>finding</th>\n",
       "      <th>survival</th>\n",
       "      <th>intubated</th>\n",
       "      <th>intubation_present</th>\n",
       "      <th>went_icu</th>\n",
       "      <th>in_icu</th>\n",
       "      <th>...</th>\n",
       "      <th>date</th>\n",
       "      <th>location</th>\n",
       "      <th>folder</th>\n",
       "      <th>filename</th>\n",
       "      <th>doi</th>\n",
       "      <th>url</th>\n",
       "      <th>license</th>\n",
       "      <th>clinical_notes</th>\n",
       "      <th>other_notes</th>\n",
       "      <th>Unnamed: 28</th>\n",
       "    </tr>\n",
       "  </thead>\n",
       "  <tbody>\n",
       "    <tr>\n",
       "      <th>0</th>\n",
       "      <td>2</td>\n",
       "      <td>0.0</td>\n",
       "      <td>M</td>\n",
       "      <td>65.0</td>\n",
       "      <td>COVID-19</td>\n",
       "      <td>Y</td>\n",
       "      <td>NaN</td>\n",
       "      <td>NaN</td>\n",
       "      <td>NaN</td>\n",
       "      <td>NaN</td>\n",
       "      <td>...</td>\n",
       "      <td>January 22, 2020</td>\n",
       "      <td>Cho Ray Hospital, Ho Chi Minh City, Vietnam</td>\n",
       "      <td>images</td>\n",
       "      <td>auntminnie-a-2020_01_28_23_51_6665_2020_01_28_...</td>\n",
       "      <td>10.1056/nejmc2001272</td>\n",
       "      <td>https://www.nejm.org/doi/full/10.1056/NEJMc200...</td>\n",
       "      <td>NaN</td>\n",
       "      <td>On January 22, 2020, a 65-year-old man with a ...</td>\n",
       "      <td>NaN</td>\n",
       "      <td>NaN</td>\n",
       "    </tr>\n",
       "  </tbody>\n",
       "</table>\n",
       "<p>1 rows × 29 columns</p>\n",
       "</div>"
      ],
      "text/plain": [
       "   patientid  offset sex   age   finding survival intubated  \\\n",
       "0          2     0.0   M  65.0  COVID-19        Y       NaN   \n",
       "\n",
       "  intubation_present went_icu in_icu  ...              date  \\\n",
       "0                NaN      NaN    NaN  ...  January 22, 2020   \n",
       "\n",
       "                                      location  folder  \\\n",
       "0  Cho Ray Hospital, Ho Chi Minh City, Vietnam  images   \n",
       "\n",
       "                                            filename                   doi  \\\n",
       "0  auntminnie-a-2020_01_28_23_51_6665_2020_01_28_...  10.1056/nejmc2001272   \n",
       "\n",
       "                                                 url  license  \\\n",
       "0  https://www.nejm.org/doi/full/10.1056/NEJMc200...      NaN   \n",
       "\n",
       "                                      clinical_notes other_notes Unnamed: 28  \n",
       "0  On January 22, 2020, a 65-year-old man with a ...         NaN         NaN  \n",
       "\n",
       "[1 rows x 29 columns]"
      ]
     },
     "execution_count": 2,
     "metadata": {},
     "output_type": "execute_result"
    }
   ],
   "source": [
    "\n",
    "file= 'metadata.csv'\n",
    "dt=pd.read_csv(file, sep=\",\")\n",
    "\n",
    "dt.head(1)"
   ]
  },
  {
   "cell_type": "markdown",
   "metadata": {},
   "source": [
    "### Preprocesamiento"
   ]
  },
  {
   "cell_type": "markdown",
   "metadata": {},
   "source": [
    "Vamos a ver en que proporcion encontramos las muestras de covid y las de otras enfermedades para que la red no se sobre entrene con un solo tipo de imagenes."
   ]
  },
  {
   "cell_type": "code",
   "execution_count": 3,
   "metadata": {},
   "outputs": [
    {
     "name": "stdout",
     "output_type": "stream",
     "text": [
      "Co:  296\n",
      "Otro:  76\n",
      "Proporcion de Covid:  79.56989247311827\n"
     ]
    }
   ],
   "source": [
    "covid=[]\n",
    "otro=[]\n",
    "\n",
    "for i,r in dt.iterrows():\n",
    "    if r['finding'] == 'COVID-19':\n",
    "        covid.append(r)\n",
    "    else:\n",
    "        otro.append(r)\n",
    "\n",
    "print(\"Co: \",len(covid) )\n",
    "print(\"Otro: \",len(otro) )\n",
    "print(\"Proporcion de Covid: \", len(covid)/(len(covid)+len(otro))*100)\n",
    "    \n"
   ]
  },
  {
   "cell_type": "markdown",
   "metadata": {},
   "source": [
    "Para que la funcion de keras: <i>image_dataset_from_directory</i> funcione para poder entrenar como queremos, separamos las fotos en dos capetas, una para covid y otra para el resto de enfermedades.\n",
    "\n",
    "Como hemos visto hay muchas más radiografias de covid que de las otras enfermedades así que vamos a igualar el numero de muestras para cada clase."
   ]
  },
  {
   "cell_type": "markdown",
   "metadata": {},
   "source": [
    "##### Creamos los directorios"
   ]
  },
  {
   "cell_type": "code",
   "execution_count": 4,
   "metadata": {},
   "outputs": [],
   "source": [
    "carpeta = os.getcwd()+os.sep+'images'\n",
    "\n",
    "if not os.path.isdir(carpeta+os.sep+'covid') :\n",
    "    os.mkdir(carpeta+os.sep+'covid')\n",
    "#if not os.path.isdir(carpeta+os.sep+'covid'+os.sep+'covid'):\n",
    "#    os.mkdir(carpeta+os.sep+'covid'+os.sep+'covid')\n",
    "    \n",
    "if not os.path.isdir(carpeta+os.sep+'otro') :\n",
    "    os.mkdir(carpeta+os.sep+'otro')\n",
    "#if not os.path.isdir(carpeta+os.sep+'otro'+os.sep+'otro'):\n",
    "#    os.mkdir(carpeta+os.sep+'otro'+os.sep+'otro')\n",
    "        \n",
    "    \n",
    "\n",
    "if not os.path.isdir(os.getcwd()+os.sep+'perdidos') :\n",
    "    os.mkdir(os.getcwd()+os.sep+'perdidos')\n",
    "    if not os.path.isdir(os.getcwd()+os.sep+'perdidos'+os.sep+'covid'):\n",
    "        os.mkdir(os.getcwd()+os.sep+'perdidos'+os.sep+'covid')\n",
    "        if not os.path.isdir(os.getcwd()+os.sep+'perdidos'+os.sep+'otro'):\n",
    "            os.mkdir(os.getcwd()+os.sep+'perdidos'+os.sep+'otro')\n",
    "            \n",
    "            \n",
    "if not os.path.isdir(os.getcwd()+os.sep+'nuevas') :\n",
    "    os.mkdir(os.getcwd()+os.sep+'nuevas')\n",
    "    if not os.path.isdir(os.getcwd()+os.sep+'nuevas'+os.sep+'covid'):\n",
    "        os.mkdir(os.getcwd()+os.sep+'nuevas'+os.sep+'covid')\n",
    "        if not os.path.isdir(os.getcwd()+os.sep+'nuevas'+os.sep+'otro'):\n",
    "            os.mkdir(os.getcwd()+os.sep+'nuevas'+os.sep+'otro')\n",
    "            "
   ]
  },
  {
   "cell_type": "code",
   "execution_count": 5,
   "metadata": {},
   "outputs": [],
   "source": [
    "dimensiones=[1280,720]\n"
   ]
  },
  {
   "cell_type": "markdown",
   "metadata": {},
   "source": [
    "##### Movemos las imagenes"
   ]
  },
  {
   "cell_type": "code",
   "execution_count": 6,
   "metadata": {},
   "outputs": [],
   "source": [
    "\n",
    "foto=''\n",
    "destino=''\n",
    "ruta=carpeta+destino\n",
    "noEstanco=[]\n",
    "noEstanot=[]\n",
    "NombresEntrenoCo=[]\n",
    "NombresEntrenoOt=[]\n",
    "\n",
    "numcovid=0  #flag para equilibrar las muestras\n",
    "numvalco=0 #flag para coger muestras diferentes en prediccion covid\n",
    "numvalotro=0 #flag para coger muestras diferentes en prediccion otra enfermedad\n",
    "flag=0 #flag para no mover a las carpetas de images y que no aparezca en los dos directorios\n",
    "pacienteAnterior=0\n",
    "\n",
    "for i,r in dt.iterrows():\n",
    "    flag=0\n",
    "    foto=r['filename']\n",
    "    if r['finding'] == 'COVID-19': #si es covid\n",
    "        if numcovid<(len(otro)+10):\n",
    "            destino='covid'\n",
    "            numcovid+=1\n",
    "            \n",
    "        elif numvalco < 6 and r['patientid'] != pacienteAnterior: #ejemplos de covid para prediccion\n",
    "            if os.path.exists(ruta+os.sep+foto):\n",
    "                shutil.move(ruta+os.sep+foto,os.getcwd()+os.sep+'perdidos'+os.sep+'covid')\n",
    "                numvalco+=1\n",
    "                flag=1\n",
    "                noEstanco.append(foto)\n",
    "                \n",
    "    else: #Otra enfermedad\n",
    "        if numvalotro < 6 and r['patientid'] != pacienteAnterior:#ejemplos de  otra enfermedad para prediccion\n",
    "            if os.path.exists(ruta+os.sep+foto):\n",
    "                shutil.move(ruta+os.sep+foto,os.getcwd()+os.sep+'perdidos'+os.sep+'otro')\n",
    "                numvalotro+=1\n",
    "                flag=1\n",
    "                noEstanot.append(foto)\n",
    "        destino='otro'\n",
    "        \n",
    "    if os.path.exists(ruta+os.sep+foto) and flag!=1:\n",
    "        shutil.move(ruta+os.sep+foto,ruta+os.sep+destino)#+os.sep+destino\n",
    "        #para aumentar los datos\n",
    "        if destino=='covid':\n",
    "            NombresEntrenoCo.append(foto)\n",
    "        else:\n",
    "            NombresEntrenoOt.append(foto)\n",
    "    pacienteAnterior=r['patientid']\n",
    "    #print(ruta+os.sep+foto)\n",
    "    "
   ]
  },
  {
   "cell_type": "markdown",
   "metadata": {},
   "source": [
    "##### Aumentamos la caantidad de muestras que tenemos"
   ]
  },
  {
   "cell_type": "code",
   "execution_count": 7,
   "metadata": {},
   "outputs": [
    {
     "name": "stdout",
     "output_type": "stream",
     "text": [
      "Found 157 images belonging to 2 classes.\n"
     ]
    },
    {
     "ename": "ValueError",
     "evalue": "setting an array element with a sequence.",
     "output_type": "error",
     "traceback": [
      "\u001b[1;31m---------------------------------------------------------------------------\u001b[0m",
      "\u001b[1;31mTypeError\u001b[0m                                 Traceback (most recent call last)",
      "\u001b[1;31mTypeError\u001b[0m: float() argument must be a string or a number, not 'DirectoryIterator'",
      "\nThe above exception was the direct cause of the following exception:\n",
      "\u001b[1;31mValueError\u001b[0m                                Traceback (most recent call last)",
      "\u001b[1;32m<ipython-input-7-42d94f18d4d5>\u001b[0m in \u001b[0;36m<module>\u001b[1;34m\u001b[0m\n\u001b[0;32m     18\u001b[0m \u001b[1;31m#    imagen.next()\u001b[0m\u001b[1;33m\u001b[0m\u001b[1;33m\u001b[0m\u001b[1;33m\u001b[0m\u001b[0m\n\u001b[0;32m     19\u001b[0m \u001b[0mimagen\u001b[0m\u001b[1;33m.\u001b[0m\u001b[0mnext\u001b[0m\u001b[1;33m(\u001b[0m\u001b[1;33m)\u001b[0m\u001b[1;33m\u001b[0m\u001b[1;33m\u001b[0m\u001b[0m\n\u001b[1;32m---> 20\u001b[1;33m \u001b[0mentreno\u001b[0m\u001b[1;33m=\u001b[0m\u001b[0mdf\u001b[0m\u001b[1;33m.\u001b[0m\u001b[0mfit\u001b[0m\u001b[1;33m(\u001b[0m\u001b[0mimagen\u001b[0m\u001b[1;33m,\u001b[0m \u001b[0mrounds\u001b[0m\u001b[1;33m=\u001b[0m\u001b[1;36m4\u001b[0m\u001b[1;33m)\u001b[0m\u001b[1;33m\u001b[0m\u001b[1;33m\u001b[0m\u001b[0m\n\u001b[0m\u001b[0;32m     21\u001b[0m \u001b[1;31m#l=[]\u001b[0m\u001b[1;33m\u001b[0m\u001b[1;33m\u001b[0m\u001b[1;33m\u001b[0m\u001b[0m\n\u001b[0;32m     22\u001b[0m \u001b[1;31m#for j in range(len(NombresEntrenoCo)):\u001b[0m\u001b[1;33m\u001b[0m\u001b[1;33m\u001b[0m\u001b[1;33m\u001b[0m\u001b[0m\n",
      "\u001b[1;32m~\\anaconda3\\lib\\site-packages\\keras_preprocessing\\image\\image_data_generator.py\u001b[0m in \u001b[0;36mfit\u001b[1;34m(self, x, augment, rounds, seed)\u001b[0m\n\u001b[0;32m    931\u001b[0m             \u001b[0mseed\u001b[0m\u001b[1;33m:\u001b[0m \u001b[0mInt\u001b[0m \u001b[1;33m(\u001b[0m\u001b[0mdefault\u001b[0m\u001b[1;33m:\u001b[0m \u001b[1;32mNone\u001b[0m\u001b[1;33m)\u001b[0m\u001b[1;33m.\u001b[0m \u001b[0mRandom\u001b[0m \u001b[0mseed\u001b[0m\u001b[1;33m.\u001b[0m\u001b[1;33m\u001b[0m\u001b[1;33m\u001b[0m\u001b[0m\n\u001b[0;32m    932\u001b[0m        \"\"\"\n\u001b[1;32m--> 933\u001b[1;33m         \u001b[0mx\u001b[0m \u001b[1;33m=\u001b[0m \u001b[0mnp\u001b[0m\u001b[1;33m.\u001b[0m\u001b[0masarray\u001b[0m\u001b[1;33m(\u001b[0m\u001b[0mx\u001b[0m\u001b[1;33m,\u001b[0m \u001b[0mdtype\u001b[0m\u001b[1;33m=\u001b[0m\u001b[0mself\u001b[0m\u001b[1;33m.\u001b[0m\u001b[0mdtype\u001b[0m\u001b[1;33m)\u001b[0m\u001b[1;33m\u001b[0m\u001b[1;33m\u001b[0m\u001b[0m\n\u001b[0m\u001b[0;32m    934\u001b[0m         \u001b[1;32mif\u001b[0m \u001b[0mx\u001b[0m\u001b[1;33m.\u001b[0m\u001b[0mndim\u001b[0m \u001b[1;33m!=\u001b[0m \u001b[1;36m4\u001b[0m\u001b[1;33m:\u001b[0m\u001b[1;33m\u001b[0m\u001b[1;33m\u001b[0m\u001b[0m\n\u001b[0;32m    935\u001b[0m             raise ValueError('Input to `.fit()` should have rank 4. '\n",
      "\u001b[1;32m~\\anaconda3\\lib\\site-packages\\numpy\\core\\_asarray.py\u001b[0m in \u001b[0;36masarray\u001b[1;34m(a, dtype, order)\u001b[0m\n\u001b[0;32m     81\u001b[0m \u001b[1;33m\u001b[0m\u001b[0m\n\u001b[0;32m     82\u001b[0m     \"\"\"\n\u001b[1;32m---> 83\u001b[1;33m     \u001b[1;32mreturn\u001b[0m \u001b[0marray\u001b[0m\u001b[1;33m(\u001b[0m\u001b[0ma\u001b[0m\u001b[1;33m,\u001b[0m \u001b[0mdtype\u001b[0m\u001b[1;33m,\u001b[0m \u001b[0mcopy\u001b[0m\u001b[1;33m=\u001b[0m\u001b[1;32mFalse\u001b[0m\u001b[1;33m,\u001b[0m \u001b[0morder\u001b[0m\u001b[1;33m=\u001b[0m\u001b[0morder\u001b[0m\u001b[1;33m)\u001b[0m\u001b[1;33m\u001b[0m\u001b[1;33m\u001b[0m\u001b[0m\n\u001b[0m\u001b[0;32m     84\u001b[0m \u001b[1;33m\u001b[0m\u001b[0m\n\u001b[0;32m     85\u001b[0m \u001b[1;33m\u001b[0m\u001b[0m\n",
      "\u001b[1;31mValueError\u001b[0m: setting an array element with a sequence."
     ]
    }
   ],
   "source": [
    "\n",
    "aumento = keras.Sequential(\n",
    "  [\n",
    "    layers.experimental.preprocessing.RandomFlip(\"horizontal\", input_shape=(dimensiones[0],dimensiones[1],3)),\n",
    "    layers.experimental.preprocessing.RandomRotation(0.15),\n",
    "    layers.experimental.preprocessing.RandomZoom(0.15),\n",
    "  ]\n",
    ")\n",
    "\n",
    "\n",
    "nuevo=os.getcwd()+os.sep+'nuevas'\n",
    "df=image.ImageDataGenerator(rotation_range=10, width_shift_range=0.1, height_shift_range=0.1,shear_range=0.15, zoom_range=0.1,channel_shift_range = 10, horizontal_flip=True)\n",
    "imagen=df.flow_from_directory(carpeta, target_size=(dimensiones[0],dimensiones[1]), save_to_dir=nuevo,\n",
    "                                  class_mode=\"binary\",batch_size=32, seed=1234)\n",
    "#save_prefix='Nuevas',save_format='jpeg',\n",
    "\n",
    "imagen.next()\n",
    "entreno=df.fit(imagen, rounds=4)\n",
    "\n",
    "\n",
    "#l=[]\n",
    "#for j in range(len(NombresEntrenoCo)):\n",
    "#    for i in range(9):\n",
    "#        #carpeta+os.sep+'covid'+os.sep+NombresEntrenoCo[j]\n",
    "#        imagen=image.load_img(carpeta+os.sep+'covid'+os.sep+NombresEntrenoCo[j], grayscale=False, color_mode='rgb', target_size=(dimensiones[0],dimensiones[1]))\n",
    "#        imagen=image.img_to_array(imagen)\n",
    "#        imagen=np.array([imagen])\n",
    "#        df.flow(imagen,batch_size=5, save_to_dir=os.getcwd()+os.sep+\"jk\", save_format='jpg',shuffle=True,save_prefix='Nuevas')\n",
    "        #nueva = aumento(imagen)\n",
    "        #cv2.imwrite(carpeta+os.sep+\"covid\",nueva[0].numpy().astype(\"uint8\"))\n",
    "\n",
    "#for j in range(len(NombresEntrenoOt)):\n",
    "#    \n",
    "#    imagen=image.load_img(carpeta+os.sep+'otro'+os.sep+'otro'+os.sep+NombresEntrenoCo[j], grayscale=False, color_mode='rgb', target_size=(dimensiones[0],dimensiones[1]))\n",
    "#    imagen=image.img_to_array(imagen)\n",
    "#    imagen=np.array(imagen)\n",
    "#    imagen.next()\n",
    "#    #image = np.expand_dims(ndimage.imread(carpeta+os.sep+'otro'+os.sep+'otro'+os.sep+NombresEntrenoCo[j]), 0)\n",
    "#    df.fit(imagen)\n",
    "#    for x, val in zip(df.flow(imagen,save_to_dir=os.getcwd()+os.sep+\"nuevas\"+os.sep+\"covid\",save_prefix='Nueva',save_format='jpeg'),range(5)):\n",
    "#        pass\n",
    "    #df.flow(imagen,batch_size=3, save_to_dir=carpeta+os.sep+'otro', save_format='jpg',shuffle=True)\n",
    "\n",
    "\n",
    "#df.fit(image)\n",
    "\n",
    "pd= layers.ZeroPadding2D(padding=2)"
   ]
  },
  {
   "cell_type": "code",
   "execution_count": null,
   "metadata": {},
   "outputs": [],
   "source": [
    "len(imagen)"
   ]
  },
  {
   "cell_type": "markdown",
   "metadata": {},
   "source": [
    "##### Guardamos las imagenes en memoria"
   ]
  },
  {
   "cell_type": "code",
   "execution_count": null,
   "metadata": {},
   "outputs": [],
   "source": [
    "\n",
    "#entreno, val, test=image_dataset_from_directory(directory=\"images\", image_size=(dimensiones[0],dimensiones[1]), subset=\"training\", validation_split=0.2, seed=1234,\n",
    "#                                      labels='inferred')\n",
    "\n",
    "\n",
    "\n",
    "#entrenamiento\n",
    "#img_fit= image_dataset_from_directory(directory=\"images\", image_size=(dimensiones[0],dimensiones[1]), subset=\"training\", validation_split=0.2, seed=1234,\n",
    "#                                      labels='inferred')\n",
    "clases=img_fit.class_names\n",
    "\n",
    "#validadcion\n",
    "img_val=image_dataset_from_directory(directory=\"images\", image_size=(dimensiones[0],dimensiones[1]),subset=\"validation\",validation_split=0.2, seed=1234,\n",
    "                                      labels='inferred')\n",
    "clases=img_val.class_names\n",
    "\n",
    "#Prediccion\n",
    "img=image_dataset_from_directory(directory=\"perdidos\", image_size=(dimensiones[0],dimensiones[1]), \n",
    "                                      labels='inferred')\n",
    "\n",
    "#PARA MEJORAR EL RENDIMIENTO\n",
    "AUTOTUNE = tf.data.AUTOTUNE\n",
    "img_fit=img_fit.cache().prefetch(buffer_size=AUTOTUNE)\n",
    "img_val=img_val.cache().prefetch(buffer_size=AUTOTUNE)\n",
    "\n",
    "Normalizar= layers.experimental.preprocessing.Rescaling(1./255, input_shape=(dimensiones[0],dimensiones[1], 3))\n"
   ]
  },
  {
   "cell_type": "markdown",
   "metadata": {},
   "source": [
    "### CREACION DEL MODELO"
   ]
  },
  {
   "cell_type": "code",
   "execution_count": null,
   "metadata": {},
   "outputs": [],
   "source": [
    "pool=5  #CON UN POOL MÁS GRANDE SE REDUCEN LOS PESOS\n",
    "model= Sequential([\n",
    "    aumento,\n",
    "    Normalizar,\n",
    "    pd,\n",
    "    layers.Conv2D(filters=16,kernel_size=3, strides=1,activation='relu'),\n",
    "    layers.MaxPooling2D(pool_size=pool),\n",
    "    pd,\n",
    "    layers.Conv2D(filters=32,kernel_size=3, strides=1,activation='relu'),\n",
    "    layers.MaxPooling2D(pool_size=pool),\n",
    "    pd,\n",
    "    layers.Conv2D(filters=64,kernel_size=3, strides=1,activation='relu'),\n",
    "    layers.MaxPooling2D(pool_size=pool),\n",
    "    pd,\n",
    "    layers.Conv2D(filters=128,kernel_size=3, strides=1,activation='relu'),\n",
    "    layers.MaxPooling2D(pool_size=pool),\n",
    "    layers.Dropout(0.3),\n",
    "    layers.Flatten(),\n",
    "    Dense(500,'relu'),\n",
    "    Dense(1,'sigmoid')\n",
    "\n",
    "])\n",
    "\n",
    "model.summary()"
   ]
  },
  {
   "cell_type": "markdown",
   "metadata": {},
   "source": [
    "### ENTRENAMIENTO"
   ]
  },
  {
   "cell_type": "code",
   "execution_count": null,
   "metadata": {},
   "outputs": [],
   "source": [
    "opti= optimizers.Adam(learning_rate=0.05)\n",
    "\n",
    "model.compile(optimizer='adam', loss='categorical_crossentropy', metrics=['accuracy'])\n",
    "historico=model.fit(entreno, validation_data= img_val, epochs= 5, batch_size=12)"
   ]
  },
  {
   "cell_type": "code",
   "execution_count": null,
   "metadata": {},
   "outputs": [],
   "source": []
  },
  {
   "cell_type": "code",
   "execution_count": null,
   "metadata": {},
   "outputs": [],
   "source": [
    "rutas=[ os.getcwd()+os.sep+'perdidos'+os.sep+'covid'+os.sep ,os.getcwd()+os.sep+'perdidos'+os.sep+'otro'+os.sep]\n",
    "nombres=noEstanco+noEstanot\n",
    "num=1\n",
    "for i in range(len(rutas)):\n",
    "    for j in range(len(nombres)):\n",
    "        print(\"\\n\",nombres[j])\n",
    "        if os.path.exists(rutas[i]+nombres[j]): \n",
    "            \n",
    "            image = tf.keras.preprocessing.image.load_img(rutas[i]+nombres[j], target_size=(dimensiones[0],dimensiones[1]))\n",
    "            input_arr = keras.preprocessing.image.img_to_array(image)\n",
    "            input_arr = np.array([input_arr]) \n",
    "            prediccion = model.predict(input_arr)\n",
    "            \n",
    "            score = tf.nn.sigmoid(prediccion[0])\n",
    "            print(\n",
    "                \"La radiografia numero \",num, \" pertenece a la clase {} con {:.2f} de precision.\"\n",
    "                .format(clases[np.argmax(score)], 100 * np.max(score))\n",
    "            )\n",
    "        num+=1\n",
    "\n"
   ]
  },
  {
   "cell_type": "code",
   "execution_count": null,
   "metadata": {},
   "outputs": [],
   "source": [
    "nombres"
   ]
  }
 ],
 "metadata": {
  "kernelspec": {
   "display_name": "Python 3",
   "language": "python",
   "name": "python3"
  },
  "language_info": {
   "codemirror_mode": {
    "name": "ipython",
    "version": 3
   },
   "file_extension": ".py",
   "mimetype": "text/x-python",
   "name": "python",
   "nbconvert_exporter": "python",
   "pygments_lexer": "ipython3",
   "version": "3.8.5"
  }
 },
 "nbformat": 4,
 "nbformat_minor": 4
}
