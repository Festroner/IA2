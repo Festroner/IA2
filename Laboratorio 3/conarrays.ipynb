{
 "cells": [
  {
   "cell_type": "markdown",
   "metadata": {},
   "source": [
    "## Lectura de los datos"
   ]
  },
  {
   "cell_type": "markdown",
   "metadata": {},
   "source": [
    "#### Librerias"
   ]
  },
  {
   "cell_type": "code",
   "execution_count": 1,
   "metadata": {},
   "outputs": [],
   "source": [
    "import pandas as pd\n",
    "import numpy as np\n",
    "import keras_metrics\n",
    "import tensorflow as tf\n",
    "import shutil, os, sys\n",
    "import matplotlib.pyplot as plt\n",
    "\n",
    "\n",
    "\n",
    "from tensorflow import keras\n",
    "from tensorflow.keras.models import Sequential\n",
    "from tensorflow.keras.layers import Dense\n",
    "from tensorflow.keras import optimizers, layers\n",
    "from tensorflow.keras import utils as k\n",
    "from tensorflow.keras.callbacks import EarlyStopping\n",
    "from tensorflow.keras.preprocessing import image_dataset_from_directory,image\n",
    "\n",
    "\n"
   ]
  },
  {
   "cell_type": "markdown",
   "metadata": {},
   "source": [
    "#### Datos"
   ]
  },
  {
   "cell_type": "code",
   "execution_count": 2,
   "metadata": {},
   "outputs": [
    {
     "data": {
      "text/html": [
       "<div>\n",
       "<style scoped>\n",
       "    .dataframe tbody tr th:only-of-type {\n",
       "        vertical-align: middle;\n",
       "    }\n",
       "\n",
       "    .dataframe tbody tr th {\n",
       "        vertical-align: top;\n",
       "    }\n",
       "\n",
       "    .dataframe thead th {\n",
       "        text-align: right;\n",
       "    }\n",
       "</style>\n",
       "<table border=\"1\" class=\"dataframe\">\n",
       "  <thead>\n",
       "    <tr style=\"text-align: right;\">\n",
       "      <th></th>\n",
       "      <th>patientid</th>\n",
       "      <th>offset</th>\n",
       "      <th>sex</th>\n",
       "      <th>age</th>\n",
       "      <th>finding</th>\n",
       "      <th>survival</th>\n",
       "      <th>intubated</th>\n",
       "      <th>intubation_present</th>\n",
       "      <th>went_icu</th>\n",
       "      <th>in_icu</th>\n",
       "      <th>...</th>\n",
       "      <th>date</th>\n",
       "      <th>location</th>\n",
       "      <th>folder</th>\n",
       "      <th>filename</th>\n",
       "      <th>doi</th>\n",
       "      <th>url</th>\n",
       "      <th>license</th>\n",
       "      <th>clinical_notes</th>\n",
       "      <th>other_notes</th>\n",
       "      <th>Unnamed: 28</th>\n",
       "    </tr>\n",
       "  </thead>\n",
       "  <tbody>\n",
       "    <tr>\n",
       "      <th>0</th>\n",
       "      <td>2</td>\n",
       "      <td>0.0</td>\n",
       "      <td>M</td>\n",
       "      <td>65.0</td>\n",
       "      <td>COVID-19</td>\n",
       "      <td>Y</td>\n",
       "      <td>NaN</td>\n",
       "      <td>NaN</td>\n",
       "      <td>NaN</td>\n",
       "      <td>NaN</td>\n",
       "      <td>...</td>\n",
       "      <td>January 22, 2020</td>\n",
       "      <td>Cho Ray Hospital, Ho Chi Minh City, Vietnam</td>\n",
       "      <td>images</td>\n",
       "      <td>auntminnie-a-2020_01_28_23_51_6665_2020_01_28_...</td>\n",
       "      <td>10.1056/nejmc2001272</td>\n",
       "      <td>https://www.nejm.org/doi/full/10.1056/NEJMc200...</td>\n",
       "      <td>NaN</td>\n",
       "      <td>On January 22, 2020, a 65-year-old man with a ...</td>\n",
       "      <td>NaN</td>\n",
       "      <td>NaN</td>\n",
       "    </tr>\n",
       "  </tbody>\n",
       "</table>\n",
       "<p>1 rows × 29 columns</p>\n",
       "</div>"
      ],
      "text/plain": [
       "   patientid  offset sex   age   finding survival intubated  \\\n",
       "0          2     0.0   M  65.0  COVID-19        Y       NaN   \n",
       "\n",
       "  intubation_present went_icu in_icu  ...              date  \\\n",
       "0                NaN      NaN    NaN  ...  January 22, 2020   \n",
       "\n",
       "                                      location  folder  \\\n",
       "0  Cho Ray Hospital, Ho Chi Minh City, Vietnam  images   \n",
       "\n",
       "                                            filename                   doi  \\\n",
       "0  auntminnie-a-2020_01_28_23_51_6665_2020_01_28_...  10.1056/nejmc2001272   \n",
       "\n",
       "                                                 url  license  \\\n",
       "0  https://www.nejm.org/doi/full/10.1056/NEJMc200...      NaN   \n",
       "\n",
       "                                      clinical_notes other_notes Unnamed: 28  \n",
       "0  On January 22, 2020, a 65-year-old man with a ...         NaN         NaN  \n",
       "\n",
       "[1 rows x 29 columns]"
      ]
     },
     "execution_count": 2,
     "metadata": {},
     "output_type": "execute_result"
    }
   ],
   "source": [
    "\n",
    "file= 'metadata.csv'\n",
    "dt=pd.read_csv(file, sep=\",\")\n",
    "\n",
    "dt.head(1)"
   ]
  },
  {
   "cell_type": "markdown",
   "metadata": {},
   "source": [
    "### Preprocesamiento"
   ]
  },
  {
   "cell_type": "markdown",
   "metadata": {},
   "source": [
    "Vamos a ver en que proporcion encontramos las muestras de covid y las de otras enfermedades para que la red no se sobre entrene con un solo tipo de imagenes."
   ]
  },
  {
   "cell_type": "code",
   "execution_count": 3,
   "metadata": {},
   "outputs": [
    {
     "name": "stdout",
     "output_type": "stream",
     "text": [
      "Co:  296\n",
      "Otro:  76\n",
      "Proporcion de Covid:  79.56989247311827\n"
     ]
    }
   ],
   "source": [
    "covid=[]\n",
    "otro=[]\n",
    "\n",
    "for i,r in dt.iterrows():\n",
    "    if r['finding'] == 'COVID-19':\n",
    "        covid.append(r)\n",
    "    else:\n",
    "        otro.append(r)\n",
    "\n",
    "print(\"Co: \",len(covid) )\n",
    "print(\"Otro: \",len(otro) )\n",
    "print(\"Proporcion de Covid: \", len(covid)/(len(covid)+len(otro))*100)\n",
    "    \n"
   ]
  },
  {
   "cell_type": "markdown",
   "metadata": {},
   "source": [
    "Para que la funcion de keras: <i>image_dataset_from_directory</i> funcione para poder entrenar como queremos, separamos las fotos en dos capetas, una para covid y otra para el resto de enfermedades.\n",
    "\n",
    "Como hemos visto hay muchas más radiografias de covid que de las otras enfermedades así que vamos a igualar el numero de muestras para cada clase."
   ]
  },
  {
   "cell_type": "markdown",
   "metadata": {},
   "source": [
    "##### Creamos los directorios"
   ]
  },
  {
   "cell_type": "code",
   "execution_count": 4,
   "metadata": {},
   "outputs": [],
   "source": [
    "carpeta = os.getcwd()+os.sep+'images'\n",
    "\n",
    "\n",
    "#SEPARACION EN LA CARPETA IMAGES\n",
    "if not os.path.isdir(carpeta+os.sep+'covid') :\n",
    "    os.mkdir(carpeta+os.sep+'covid')\n",
    "#if not os.path.isdir(carpeta+os.sep+'covid'+os.sep+'covid'):\n",
    "#    os.mkdir(carpeta+os.sep+'covid'+os.sep+'covid')\n",
    "    \n",
    "if not os.path.isdir(carpeta+os.sep+'otro') :\n",
    "    os.mkdir(carpeta+os.sep+'otro')\n",
    "#if not os.path.isdir(carpeta+os.sep+'otro'+os.sep+'otro'):\n",
    "#    os.mkdir(carpeta+os.sep+'otro'+os.sep+'otro')\n",
    "        \n",
    "    \n",
    "#SEPARACION EN LA CARPETA PARA EL TEST\n",
    "if not os.path.isdir(os.getcwd()+os.sep+'test') :\n",
    "    os.mkdir(os.getcwd()+os.sep+'test')\n",
    "    if not os.path.isdir(os.getcwd()+os.sep+'test'+os.sep+'covid'):\n",
    "        os.mkdir(os.getcwd()+os.sep+'test'+os.sep+'covid')\n",
    "#    if not os.path.isdir(os.getcwd()+os.sep+'test'+os.sep+'covid'+os.sep+'covid'):\n",
    "#        os.mkdir(os.getcwd()+os.sep+'test'+os.sep+'covid'+os.sep+'covid')\n",
    "    if not os.path.isdir(os.getcwd()+os.sep+'test'+os.sep+'otro'):\n",
    "        os.mkdir(os.getcwd()+os.sep+'test'+os.sep+'otro')\n",
    "#    if not os.path.isdir(os.getcwd()+os.sep+'test'+os.sep+'otro'+os.sep+'otro'):\n",
    "#        os.mkdir(os.getcwd()+os.sep+'test'+os.sep+'otro'+os.sep+'otro')\n",
    "\n",
    "        \n",
    "#SEPARACION EN LA CARPETA PARA LA VALIDACION\n",
    "if not os.path.isdir(os.getcwd()+os.sep+'val') :\n",
    "    os.mkdir(os.getcwd()+os.sep+'val')\n",
    "    if not os.path.isdir(os.getcwd()+os.sep+'val'+os.sep+'covid'):\n",
    "        os.mkdir(os.getcwd()+os.sep+'val'+os.sep+'covid')\n",
    "#    if not os.path.isdir(os.getcwd()+os.sep+'val'+os.sep+'covid'+os.sep+'covid'):\n",
    "#        os.mkdir(os.getcwd()+os.sep+'val'+os.sep+'covid'+os.sep+'covid')\n",
    "    if not os.path.isdir(os.getcwd()+os.sep+'val'+os.sep+'otro'):\n",
    "        os.mkdir(os.getcwd()+os.sep+'val'+os.sep+'otro')\n",
    "#    if not os.path.isdir(os.getcwd()+os.sep+'val'+os.sep+'otro'+os.sep+'otro'):\n",
    "#        os.mkdir(os.getcwd()+os.sep+'val'+os.sep+'otro'+os.sep+'otro')\n",
    "\n",
    "\n",
    "#NUEVAS CARPETAS PARA ENTRENAMIENTO \n",
    "if not os.path.isdir(os.getcwd()+os.sep+'nuevas') :\n",
    "    os.mkdir(os.getcwd()+os.sep+'nuevas')\n",
    "    if not os.path.isdir(os.getcwd()+os.sep+'nuevas'+os.sep+'covid'):\n",
    "        os.mkdir(os.getcwd()+os.sep+'nuevas'+os.sep+'covid')\n",
    "        if not os.path.isdir(os.getcwd()+os.sep+'nuevas'+os.sep+'otro'):\n",
    "            os.mkdir(os.getcwd()+os.sep+'nuevas'+os.sep+'otro')\n",
    "            \n",
    "            \n",
    "#NUEVAS CARPETAS PARA TEST\n",
    "if not os.path.isdir(os.getcwd()+os.sep+'nuevasT') :\n",
    "    os.mkdir(os.getcwd()+os.sep+'nuevasT')\n",
    "    if not os.path.isdir(os.getcwd()+os.sep+'nuevasT'+os.sep+'covid'):\n",
    "        os.mkdir(os.getcwd()+os.sep+'nuevasT'+os.sep+'covid')\n",
    "        if not os.path.isdir(os.getcwd()+os.sep+'nuevasT'+os.sep+'otro'):\n",
    "            os.mkdir(os.getcwd()+os.sep+'nuevasT'+os.sep+'otro')\n",
    "            \n",
    "#NUEVAS CARPETAS PARA VALIDACION            \n",
    "if not os.path.isdir(os.getcwd()+os.sep+'nuevasV') :\n",
    "    os.mkdir(os.getcwd()+os.sep+'nuevasV')\n",
    "    if not os.path.isdir(os.getcwd()+os.sep+'nuevasV'+os.sep+'covid'):\n",
    "        os.mkdir(os.getcwd()+os.sep+'nuevasV'+os.sep+'covid')\n",
    "        if not os.path.isdir(os.getcwd()+os.sep+'nuevasV'+os.sep+'otro'):\n",
    "            os.mkdir(os.getcwd()+os.sep+'nuevasV'+os.sep+'otro')\n",
    "            "
   ]
  },
  {
   "cell_type": "code",
   "execution_count": 5,
   "metadata": {},
   "outputs": [],
   "source": [
    "dimensiones=[200,200]\n"
   ]
  },
  {
   "cell_type": "markdown",
   "metadata": {},
   "source": [
    "##### Movemos las imagenes"
   ]
  },
  {
   "cell_type": "code",
   "execution_count": 6,
   "metadata": {},
   "outputs": [],
   "source": [
    "\n",
    "foto=''\n",
    "destino=''\n",
    "ruta=carpeta+destino\n",
    "noEstanco=[]\n",
    "noEstanot=[]\n",
    "NombresEntrenoCo=[]\n",
    "NombresEntrenoOt=[]\n",
    "NombresValCo=[]\n",
    "NombresValOt=[]\n",
    "NombresTestCo=[]\n",
    "NombresTestOt=[]\n",
    "\n",
    "numcovid=0  #flag para equilibrar las muestras\n",
    "numValco=numTestco=0 #flag para coger muestras diferentes en test y prediccion covid\n",
    "numValotro=numTestotro=0 #flag para coger muestras diferentes en test y `prediccion otra enfermedad\n",
    "flag=0 #flag para no mover a las carpetas de images y que no aparezca en los dos directorios\n",
    "pacienteAnteriorC=0\n",
    "pacienteAnteriorO=0\n",
    "\n",
    "fotosCo=0\n",
    "fotosOt=0\n",
    "\n",
    "for i,r in dt.iterrows():\n",
    "    flag=0\n",
    "    foto=r['filename']\n",
    "    if r['finding'] == 'COVID-19': #si es covid\n",
    "        if numcovid<(len(otro)-10):\n",
    "            destino='covid'\n",
    "            numcovid+=1\n",
    "            \n",
    "        elif numTestco < 6 and r['patientid'] != pacienteAnteriorC: #ejemplos de covid para test\n",
    "            if os.path.exists(ruta+os.sep+foto):\n",
    "                shutil.move(ruta+os.sep+foto,'test'+os.sep+'covid')\n",
    "                NombresTestCo.append(r['filename'])\n",
    "                numTestco+=1\n",
    "                flag=1\n",
    "                noEstanco.append(foto)\n",
    "        elif numValco < 8:\n",
    "            if os.path.exists(ruta+os.sep+foto):\n",
    "                shutil.move(ruta+os.sep+foto,'val'+os.sep+'covid')\n",
    "                NombresValCo.append(r['filename'])\n",
    "                numValco+=1\n",
    "    else: #Otra enfermedad\n",
    "        if numTestotro < 6 and r['patientid'] != pacienteAnteriorO:#ejemplos de  otra enfermedad para prediccion\n",
    "            if os.path.exists(ruta+os.sep+foto):\n",
    "                shutil.move(ruta+os.sep+foto,'test'+os.sep+'otro')\n",
    "                NombresTestOt.append(r['filename'])\n",
    "                numTestotro+=1\n",
    "                flag=1\n",
    "                noEstanot.append(foto)\n",
    "                \n",
    "        elif numValotro < 8: #movemos 8 imagenes de otra enfermedad para validacion\n",
    "            if os.path.exists(ruta+os.sep+foto):\n",
    "                shutil.move(ruta+os.sep+foto,'val'+os.sep+'otro')\n",
    "                NombresValOt.append(r['filename'])\n",
    "                numValotro+=1\n",
    "        destino='otro'\n",
    "        \n",
    "    if os.path.exists(ruta+os.sep+foto) and flag!=1:\n",
    "        shutil.move(ruta+os.sep+foto,ruta+os.sep+destino)#+os.sep+destino\n",
    "        #para aumentar los datos\n",
    "        if destino=='covid':\n",
    "            NombresEntrenoCo.append(r['filename'])\n",
    "            fotosCo+=1\n",
    "        else:\n",
    "            fotosOt+=1\n",
    "            NombresEntrenoOt.append(r['filename'])\n",
    "    if r['finding'] == 'COVID-19':\n",
    "        pacienteAnteriorC=r['patientid']\n",
    "    else:\n",
    "        pacienteAnteriorO=r['patientid']\n",
    "    #print(ruta+os.sep+foto)\n",
    "    "
   ]
  },
  {
   "cell_type": "markdown",
   "metadata": {},
   "source": [
    "##### Aumentamos la caantidad de muestras que tenemos"
   ]
  },
  {
   "cell_type": "code",
   "execution_count": 7,
   "metadata": {},
   "outputs": [
    {
     "name": "stdout",
     "output_type": "stream",
     "text": [
      "Found 137 images belonging to 2 classes.\n",
      "Found 16 images belonging to 2 classes.\n",
      "Found 12 images belonging to 2 classes.\n"
     ]
    }
   ],
   "source": [
    "\n",
    "aumento = keras.Sequential(\n",
    "  [\n",
    "    layers.experimental.preprocessing.RandomFlip(\"horizontal\", input_shape=(dimensiones[0],dimensiones[1],3)),\n",
    "    layers.experimental.preprocessing.RandomRotation(0.1),\n",
    "    layers.experimental.preprocessing.RandomZoom(0.1),\n",
    "  ]\n",
    ")\n",
    "\n",
    "\n",
    "nuevo=os.getcwd()+os.sep+'nuevas'\n",
    "df=image.ImageDataGenerator(rotation_range=10, width_shift_range=0.08, height_shift_range=0.12,shear_range=0.12, zoom_range=0.08,channel_shift_range = 8, horizontal_flip=True)\n",
    "#resul=image.DirectoryIterator(directory=carpeta, image_data_generator=df,target_size=(dimensiones[0],dimensiones[1]), color_mode='rgb', subset='training'\n",
    "#                        class_mode='binary',batch_size=5)\n",
    "#print(len(resul))\n",
    "#imagen=df.flow_from_directory(carpeta, target_size=(dimensiones[0],dimensiones[1]), save_to_dir=nuevo, save_prefix='Nuevas', classes=['covid', 'otro'],class_mode=\"binary\",batch_size=1, seed=1234)\n",
    "#save_prefix='Nuevas',save_format='jpeg',\n",
    "\n",
    "\n",
    "#ENTRENAMIENTO\n",
    "Entreno=image.DirectoryIterator(directory=carpeta,image_data_generator=df,target_size=(dimensiones[0],dimensiones[1]), color_mode='rgb',\n",
    "                         batch_size=150,class_mode='categorical')\n",
    "#otr=image.DirectoryIterator(directory=carpeta+os.sep+'otro',image_data_generator=df,target_size=(dimensiones[0],dimensiones[1]), color_mode='rgb',\n",
    "#                        class_mode=None, batch_size=20,save_format='jpeg')\n",
    "\n",
    "#VALIDACION\n",
    "Validacion=image.DirectoryIterator(directory='val',image_data_generator=df,target_size=(dimensiones[0],dimensiones[1]), color_mode='rgb',\n",
    "                         batch_size=60,class_mode='categorical')\n",
    "#otrVal=image.DirectoryIterator(directory='val'+os.sep+'otro',image_data_generator=df,target_size=(dimensiones[0],dimensiones[1]), color_mode='rgb',\n",
    "#                        class_mode=None, batch_size=17,save_format='jpeg')\n",
    "\n",
    "#TEST\n",
    "Test=image.DirectoryIterator(directory='test',image_data_generator=df,target_size=(dimensiones[0],dimensiones[1]), color_mode='rgb',\n",
    "                         batch_size=30,class_mode='categorical')\n",
    "#Tot=image.DirectoryIterator(directory='test'+os.sep+'otro',image_data_generator=df,target_size=(dimensiones[0],dimensiones[1]), color_mode='rgb',\n",
    "#                        class_mode=None, batch_size=10,save_format='jpeg')\n",
    "\n",
    "\n",
    "#imagen.next()\n",
    "#entreno=df.fit(imagen, rounds=4)\n",
    "\n",
    "\n",
    "#l=[]\n",
    "#for j in range(len(NombresEntrenoCo)):\n",
    "#    for i in range(9):\n",
    "#        #carpeta+os.sep+'covid'+os.sep+NombresEntrenoCo[j]\n",
    "#        imagen=image.load_img(carpeta+os.sep+'covid'+os.sep+NombresEntrenoCo[j], grayscale=False, color_mode='rgb', target_size=(dimensiones[0],dimensiones[1]))\n",
    "#        imagen=image.img_to_array(imagen)\n",
    "#        imagen=np.array([imagen])\n",
    "#        df.flow(imagen,batch_size=5, save_to_dir=os.getcwd()+os.sep+\"jk\", save_format='jpg',shuffle=True,save_prefix='Nuevas')\n",
    "        #nueva = aumento(imagen)\n",
    "        #cv2.imwrite(carpeta+os.sep+\"covid\",nueva[0].numpy().astype(\"uint8\"))\n",
    "\n",
    "#for j in range(len(NombresEntrenoOt)):\n",
    "#    \n",
    "#    imagen=image.load_img(carpeta+os.sep+'otro'+os.sep+'otro'+os.sep+NombresEntrenoCo[j], grayscale=False, color_mode='rgb', target_size=(dimensiones[0],dimensiones[1]))\n",
    "#    imagen=image.img_to_array(imagen)\n",
    "#    imagen=np.array(imagen)\n",
    "#    imagen.next()\n",
    "#    #image = np.expand_dims(ndimage.imread(carpeta+os.sep+'otro'+os.sep+'otro'+os.sep+NombresEntrenoCo[j]), 0)\n",
    "#    df.fit(imagen)\n",
    "#    for x, val in zip(df.flow(imagen,save_to_dir=os.getcwd()+os.sep+\"nuevas\"+os.sep+\"covid\",save_prefix='Nueva',save_format='jpeg'),range(5)):\n",
    "#        pass\n",
    "    #df.flow(imagen,batch_size=3, save_to_dir=carpeta+os.sep+'otro', save_format='jpg',shuffle=True)\n",
    "\n",
    "\n",
    "#df.fit(image)\n",
    "\n",
    "pd= layers.ZeroPadding2D(padding=2)"
   ]
  },
  {
   "cell_type": "code",
   "execution_count": 8,
   "metadata": {},
   "outputs": [
    {
     "name": "stdout",
     "output_type": "stream",
     "text": [
      "0\n",
      "1\n",
      "2\n",
      "3\n",
      "4\n",
      "5\n",
      "6\n",
      "7\n",
      "8\n",
      "9\n",
      "10\n",
      "11\n",
      "12\n",
      "13\n",
      "14\n",
      "15\n",
      "16\n",
      "17\n",
      "18\n",
      "19\n",
      "20\n",
      "21\n",
      "22\n",
      "23\n",
      "24\n",
      "25\n",
      "26\n",
      "27\n",
      "28\n",
      "29\n",
      "30\n",
      "31\n",
      "32\n",
      "33\n",
      "34\n",
      "35\n",
      "36\n",
      "37\n",
      "38\n",
      "39\n",
      "40\n",
      "41\n",
      "42\n",
      "43\n",
      "44\n",
      "45\n",
      "46\n",
      "47\n",
      "48\n",
      "49\n",
      "50\n",
      "51\n",
      "52\n",
      "53\n",
      "54\n",
      "55\n",
      "56\n",
      "57\n",
      "58\n",
      "59\n",
      "60\n",
      "61\n",
      "62\n",
      "63\n",
      "64\n",
      "65\n",
      "66\n",
      "67\n",
      "68\n",
      "69\n",
      "70\n",
      "71\n",
      "72\n",
      "73\n",
      "74\n",
      "75\n",
      "76\n",
      "77\n",
      "78\n",
      "79\n"
     ]
    }
   ],
   "source": [
    "data_list = []\n",
    "batch_index = 0\n",
    "clE=[]\n",
    "for i in range(80):\n",
    "    \n",
    "    data = Entreno.next()\n",
    "    data_list.append(data[0])\n",
    "    clE.append(data[1])\n",
    "    print(i)\n",
    "    \n"
   ]
  },
  {
   "cell_type": "code",
   "execution_count": 9,
   "metadata": {},
   "outputs": [
    {
     "data": {
      "text/plain": [
       "200"
      ]
     },
     "execution_count": 9,
     "metadata": {},
     "output_type": "execute_result"
    }
   ],
   "source": [
    "Entr=[data_list,clE]\n",
    "len(Entr[0][49][0])"
   ]
  },
  {
   "cell_type": "code",
   "execution_count": 10,
   "metadata": {},
   "outputs": [
    {
     "name": "stdout",
     "output_type": "stream",
     "text": [
      "0\n",
      "1\n",
      "2\n",
      "3\n",
      "4\n",
      "5\n",
      "6\n",
      "7\n",
      "8\n",
      "9\n",
      "10\n",
      "11\n",
      "12\n",
      "13\n",
      "14\n",
      "15\n",
      "16\n",
      "17\n",
      "18\n",
      "19\n"
     ]
    }
   ],
   "source": [
    "data_listV = []\n",
    "batch_index = 0\n",
    "clE2=[]\n",
    "\n",
    "for i in range(20):\n",
    "    d = Validacion.next()\n",
    "    data_listV.append(d[0])\n",
    "    clE2.append(d[1])\n",
    "    print(i)"
   ]
  },
  {
   "cell_type": "code",
   "execution_count": 11,
   "metadata": {},
   "outputs": [],
   "source": [
    "Vali=[data_listV,clE2]"
   ]
  },
  {
   "cell_type": "code",
   "execution_count": 12,
   "metadata": {},
   "outputs": [
    {
     "name": "stdout",
     "output_type": "stream",
     "text": [
      "10960 10960\n",
      "320 320\n"
     ]
    }
   ],
   "source": [
    "#print(Entr[1][0])\n",
    "x_train=[]\n",
    "x_test=[]\n",
    "y_train=[]\n",
    "y_test=[] \n",
    "\n",
    "for i in range(len(Entr[0])):\n",
    "    for j in range(len(Entr[0][i])):\n",
    "        x_train.append(Entr[0][i][j])\n",
    "\n",
    "\n",
    "for j in range(len(Entr[1])):\n",
    "    for i in range(len(Entr[1][j])):\n",
    "        #print(Entr[1][0][i][0])\n",
    "        y_train.append(Entr[1][j][i][0])\n",
    "x_train=np.array(x_train)        \n",
    "y_train=np.array(y_train)\n",
    "\n",
    "\n",
    "for i in range(len(Vali[0])):\n",
    "    for j in range(len(Vali[0][i])):\n",
    "        x_test.append(Vali[0][i][j])\n",
    "\n",
    "\n",
    "for j in range(len(Vali[1])):\n",
    "    for i in range(len(Vali[1][j])):\n",
    "        #print(Entr[1][0][i][0])\n",
    "        y_test.append(Vali[1][j][i][0])\n",
    "\n",
    "x_test=np.array(x_test)\n",
    "y_test=np.array(y_test)\n",
    "\n",
    "print(len(y_train),len(x_train))\n",
    "print(len(y_test),len(x_test))"
   ]
  },
  {
   "cell_type": "markdown",
   "metadata": {},
   "source": [
    "### CREACION DEL MODELO"
   ]
  },
  {
   "cell_type": "code",
   "execution_count": 13,
   "metadata": {},
   "outputs": [
    {
     "name": "stdout",
     "output_type": "stream",
     "text": [
      "Model: \"sequential_1\"\n",
      "_________________________________________________________________\n",
      "Layer (type)                 Output Shape              Param #   \n",
      "=================================================================\n",
      "rescaling (Rescaling)        (None, 200, 200, 3)       0         \n",
      "_________________________________________________________________\n",
      "zero_padding2d_1 (ZeroPaddin (None, 210, 210, 3)       0         \n",
      "_________________________________________________________________\n",
      "conv2d (Conv2D)              (None, 105, 105, 16)      448       \n",
      "_________________________________________________________________\n",
      "max_pooling2d (MaxPooling2D) (None, 26, 26, 16)        0         \n",
      "_________________________________________________________________\n",
      "conv2d_1 (Conv2D)            (None, 26, 26, 32)        4640      \n",
      "_________________________________________________________________\n",
      "max_pooling2d_1 (MaxPooling2 (None, 6, 6, 32)          0         \n",
      "_________________________________________________________________\n",
      "conv2d_2 (Conv2D)            (None, 6, 6, 64)          18496     \n",
      "_________________________________________________________________\n",
      "max_pooling2d_2 (MaxPooling2 (None, 1, 1, 64)          0         \n",
      "_________________________________________________________________\n",
      "conv2d_3 (Conv2D)            (None, 1, 1, 128)         73856     \n",
      "_________________________________________________________________\n",
      "dropout (Dropout)            (None, 1, 1, 128)         0         \n",
      "_________________________________________________________________\n",
      "flatten (Flatten)            (None, 128)               0         \n",
      "_________________________________________________________________\n",
      "dense (Dense)                (None, 300)               38700     \n",
      "_________________________________________________________________\n",
      "dense_1 (Dense)              (None, 1)                 301       \n",
      "=================================================================\n",
      "Total params: 136,441\n",
      "Trainable params: 136,441\n",
      "Non-trainable params: 0\n",
      "_________________________________________________________________\n"
     ]
    }
   ],
   "source": [
    "Normalizar= layers.experimental.preprocessing.Rescaling(1./255, input_shape=(dimensiones[0],dimensiones[1], 3))\n",
    "pool= 4 #CON UN POOL MÁS GRANDE SE REDUCEN LOS PESOS\n",
    "pd= layers.ZeroPadding2D(padding=5) #PADDING\n",
    "model= Sequential([\n",
    "    #aumento,\n",
    "    Normalizar,\n",
    "    pd,\n",
    "    layers.Conv2D(filters=16,kernel_size=3,padding='same',activation='relu', strides=2,input_shape=(dimensiones[0],dimensiones[1], 3)),\n",
    "    layers.MaxPooling2D(pool_size=pool),\n",
    "    #layers.Dropout(0.05),\n",
    "    layers.Conv2D(filters=32,kernel_size=3,padding='same',activation='relu', strides=1),\n",
    "    layers.MaxPooling2D(pool_size=pool),\n",
    "    #pd,\n",
    "    #layers.Dropout(0.05),\n",
    "    layers.Conv2D(filters=64,kernel_size=3,padding='same',activation='relu', strides=1),\n",
    "    layers.MaxPooling2D(pool_size=pool),\n",
    "    #pd,\n",
    "    layers.Conv2D(filters=128,kernel_size=3,padding='same',activation='relu', strides=1),\n",
    "    #pd,\n",
    "    #layers.Conv2D(filters=256,kernel_size=5,padding='same',activation='relu', strides=1),\n",
    "    #layers.MaxPooling2D(pool_size=pool),\n",
    "    ##pd,\n",
    "    #layers.Conv2D(filters=512,kernel_size=5,padding='same',activation='relu', strides=1),\n",
    "    #layers.MaxPooling2D(pool_size=pool),\n",
    "    layers.Dropout(0.4),\n",
    "    layers.Flatten(),\n",
    "    Dense(300,'relu'),\n",
    "    #Dense(1000,'relu'),\n",
    "    Dense(1,'sigmoid')\n",
    "\n",
    "])\n",
    "\n",
    "model.summary()"
   ]
  },
  {
   "cell_type": "markdown",
   "metadata": {},
   "source": [
    "### ENTRENAMIENTO"
   ]
  },
  {
   "cell_type": "code",
   "execution_count": null,
   "metadata": {},
   "outputs": [
    {
     "name": "stdout",
     "output_type": "stream",
     "text": [
      "Epoch 1/15\n",
      "343/343 [==============================] - 41s 115ms/step - loss: 420.1282 - accuracy: 0.5246 - val_loss: 0.6933 - val_accuracy: 0.5000\n",
      "Epoch 2/15\n",
      "343/343 [==============================] - 37s 108ms/step - loss: 0.6899 - accuracy: 0.5425 - val_loss: 0.6969 - val_accuracy: 0.5000\n",
      "Epoch 3/15\n",
      "343/343 [==============================] - 37s 107ms/step - loss: 0.6926 - accuracy: 0.5288 - val_loss: 0.6945 - val_accuracy: 0.5000\n",
      "Epoch 4/15\n",
      "343/343 [==============================] - 36s 105ms/step - loss: 0.6941 - accuracy: 0.5168 - val_loss: 0.7221 - val_accuracy: 0.5000\n",
      "Epoch 5/15\n",
      "343/343 [==============================] - 39s 113ms/step - loss: 0.6930 - accuracy: 0.5378 - val_loss: 0.7046 - val_accuracy: 0.5000\n",
      "Epoch 6/15\n",
      "343/343 [==============================] - 39s 114ms/step - loss: 0.6925 - accuracy: 0.5288 - val_loss: 0.6936 - val_accuracy: 0.5000\n",
      "Epoch 7/15\n",
      "111/343 [========>.....................] - ETA: 24s - loss: 0.6889 - accuracy: 0.5638"
     ]
    }
   ],
   "source": [
    "opti= optimizers.Adam(learning_rate=0.2)#learning_rate=0.05,epsilon=0.8\n",
    "vueltas=15\n",
    "callback = tf.keras.callbacks.EarlyStopping(monitor='loss', patience=5, restore_best_weights=True)\n",
    "#Entrenamiento=np.array(Entreno)\n",
    "#Valida=np.array(Validacion)\n",
    "\n",
    "#y_train = np.asarray(Entr[1]).astype('float32').reshape((-1,1))\n",
    "#y_test = np.asarray(Vali[1]).astype('float32').reshape((-1,1))\n",
    "\n",
    "model.compile(optimizer=opti, loss='binary_crossentropy', metrics=['accuracy'])\n",
    "historico=model.fit(x=x_train,y=y_train, validation_data=(x_test,y_test) ,epochs= vueltas,shuffle=True, batch_size=32,use_multiprocessing=True)"
   ]
  },
  {
   "cell_type": "markdown",
   "metadata": {},
   "source": [
    "##### RESULTADOS DEL ENTRENAMIENTO SIN DATA AUGMENTATION"
   ]
  },
  {
   "cell_type": "code",
   "execution_count": null,
   "metadata": {},
   "outputs": [],
   "source": [
    "\n",
    "\n",
    "acc = historico.history['accuracy']\n",
    "val_acc = historico.history['val_accuracy']\n",
    "\n",
    "loss = historico.history['loss']\n",
    "val_loss = historico.history['val_loss']\n",
    "\n",
    "epochs_range = range(vueltas)\n",
    "\n",
    "plt.figure(figsize=(8, 8))\n",
    "plt.subplot(1, 2, 1)\n",
    "plt.plot(epochs_range, acc, label='Training Accuracy')\n",
    "plt.plot(epochs_range, val_acc, label='Validation Accuracy')\n",
    "plt.legend(loc='lower right')\n",
    "plt.title('Training and Validation Accuracy')\n",
    "\n",
    "plt.subplot(1, 2, 2)\n",
    "plt.plot(epochs_range, loss, label='Training Loss')\n",
    "plt.plot(epochs_range, val_loss, label='Validation Loss')\n",
    "plt.legend(loc='upper right')\n",
    "plt.title('Training and Validation Loss')\n",
    "plt.show()"
   ]
  },
  {
   "cell_type": "code",
   "execution_count": null,
   "metadata": {},
   "outputs": [],
   "source": [
    "#Con los datos aumentados\n",
    "\n",
    "#historicoNu=model.fit(resul, validation_data= img_val, epochs=vueltas)"
   ]
  },
  {
   "cell_type": "markdown",
   "metadata": {},
   "source": [
    "##### RESULTADOS DEL ENTRENAMIENTO CON LAS NUEVAS IMAGENES"
   ]
  },
  {
   "cell_type": "code",
   "execution_count": null,
   "metadata": {},
   "outputs": [],
   "source": [
    "data_listT = []\n",
    "clE3=[]\n",
    "for i in range(5):\n",
    "    \n",
    "    data = Test.next()\n",
    "    data_listT.append(data[0])\n",
    "    clE3.append(data[1])\n",
    "    print(i)  \n",
    "        \n"
   ]
  },
  {
   "cell_type": "code",
   "execution_count": null,
   "metadata": {},
   "outputs": [],
   "source": [
    "#ata_listT[0]"
   ]
  },
  {
   "cell_type": "code",
   "execution_count": null,
   "metadata": {},
   "outputs": [],
   "source": [
    "Predict=[data_listT,clE3]\n",
    "x_test=[]\n",
    "y_test=[]\n",
    "for i in range(len(Predict[0])):\n",
    "    for j in range(len(Predict[0][i])):\n",
    "        x_test.append(Predict[0][i][j])\n",
    "\n",
    "\n",
    "for j in range(len(Predict[1])):\n",
    "    for i in range(len(Predict[1][j])):\n",
    "        #print(Entr[1][0][i][0])\n",
    "        y_test.append(Predict[1][j][i][0])\n",
    "        \n",
    "\n",
    "x_test=np.array(x_test)\n",
    "tf.nn.sigmoid(model.predict(x_test))"
   ]
  },
  {
   "cell_type": "code",
   "execution_count": null,
   "metadata": {},
   "outputs": [],
   "source": [
    "tf.nn.sigmoid(x_test)\n",
    "\n"
   ]
  },
  {
   "cell_type": "code",
   "execution_count": null,
   "metadata": {},
   "outputs": [],
   "source": [
    "test_loss, test_acc = model.evaluate(np.array(x_test))"
   ]
  },
  {
   "cell_type": "code",
   "execution_count": null,
   "metadata": {},
   "outputs": [],
   "source": []
  }
 ],
 "metadata": {
  "kernelspec": {
   "display_name": "Python 3",
   "language": "python",
   "name": "python3"
  },
  "language_info": {
   "codemirror_mode": {
    "name": "ipython",
    "version": 3
   },
   "file_extension": ".py",
   "mimetype": "text/x-python",
   "name": "python",
   "nbconvert_exporter": "python",
   "pygments_lexer": "ipython3",
   "version": "3.8.5"
  }
 },
 "nbformat": 4,
 "nbformat_minor": 4
}
