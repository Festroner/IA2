{
 "cells": [
  {
   "cell_type": "markdown",
   "metadata": {},
   "source": [
    "## Lectura de los datos"
   ]
  },
  {
   "cell_type": "markdown",
   "metadata": {},
   "source": [
    "#### Librerias"
   ]
  },
  {
   "cell_type": "code",
   "execution_count": 27,
   "metadata": {},
   "outputs": [],
   "source": [
    "import pandas as pd\n",
    "import numpy as np\n",
    "import keras_metrics\n",
    "\n",
    "\n",
    "\n",
    "from tensorflow.keras.models import Sequential\n",
    "from tensorflow.keras.layers import Dense\n",
    "from tensorflow.keras import optimizers\n",
    "from tensorflow.keras import utils as k\n",
    "from tensorflow.keras.callbacks import EarlyStopping\n",
    "from tensorflow.keras.preprocessing import image_dataset_from_directory\n"
   ]
  },
  {
   "cell_type": "code",
   "execution_count": 30,
   "metadata": {},
   "outputs": [
    {
     "ename": "ValueError",
     "evalue": "If using `validation_split` and shuffling the data, you must provide a `seed` argument, to make sure that there is no overlap between the training and validation subset.",
     "output_type": "error",
     "traceback": [
      "\u001b[1;31m---------------------------------------------------------------------------\u001b[0m",
      "\u001b[1;31mValueError\u001b[0m                                Traceback (most recent call last)",
      "\u001b[1;32m<ipython-input-30-6b6d0c46a39a>\u001b[0m in \u001b[0;36m<module>\u001b[1;34m\u001b[0m\n\u001b[0;32m      2\u001b[0m \u001b[0mdt\u001b[0m\u001b[1;33m=\u001b[0m\u001b[0mpd\u001b[0m\u001b[1;33m.\u001b[0m\u001b[0mread_csv\u001b[0m\u001b[1;33m(\u001b[0m\u001b[0mfile\u001b[0m\u001b[1;33m,\u001b[0m \u001b[0msep\u001b[0m\u001b[1;33m=\u001b[0m\u001b[1;34m\",\"\u001b[0m\u001b[1;33m)\u001b[0m\u001b[1;33m\u001b[0m\u001b[1;33m\u001b[0m\u001b[0m\n\u001b[0;32m      3\u001b[0m \u001b[1;33m\u001b[0m\u001b[0m\n\u001b[1;32m----> 4\u001b[1;33m \u001b[0mimg_fit\u001b[0m\u001b[1;33m,\u001b[0m \u001b[0mimg_val\u001b[0m\u001b[1;33m=\u001b[0m \u001b[0mimage_dataset_from_directory\u001b[0m\u001b[1;33m(\u001b[0m\u001b[0mdirectory\u001b[0m\u001b[1;33m=\u001b[0m\u001b[1;34m\"images\"\u001b[0m\u001b[1;33m,\u001b[0m \u001b[0mimage_size\u001b[0m\u001b[1;33m=\u001b[0m\u001b[1;33m(\u001b[0m\u001b[1;36m256\u001b[0m\u001b[1;33m,\u001b[0m\u001b[1;36m256\u001b[0m\u001b[1;33m)\u001b[0m\u001b[1;33m,\u001b[0m \u001b[0msubset\u001b[0m\u001b[1;33m=\u001b[0m\u001b[1;34m\"training\"\u001b[0m\u001b[1;33m,\u001b[0m \u001b[0mvalidation_split\u001b[0m\u001b[1;33m=\u001b[0m\u001b[1;36m0.2\u001b[0m\u001b[1;33m)\u001b[0m\u001b[1;33m\u001b[0m\u001b[1;33m\u001b[0m\u001b[0m\n\u001b[0m\u001b[0;32m      5\u001b[0m \u001b[1;33m\u001b[0m\u001b[0m\n\u001b[0;32m      6\u001b[0m \u001b[0mdt\u001b[0m\u001b[1;33m.\u001b[0m\u001b[0mhead\u001b[0m\u001b[1;33m(\u001b[0m\u001b[1;36m1\u001b[0m\u001b[1;33m)\u001b[0m\u001b[1;33m\u001b[0m\u001b[1;33m\u001b[0m\u001b[0m\n",
      "\u001b[1;32m~\\anaconda3\\lib\\site-packages\\tensorflow\\python\\keras\\preprocessing\\image_dataset.py\u001b[0m in \u001b[0;36mimage_dataset_from_directory\u001b[1;34m(directory, labels, label_mode, class_names, color_mode, batch_size, image_size, shuffle, seed, validation_split, subset, interpolation, follow_links)\u001b[0m\n\u001b[0;32m    168\u001b[0m         'Received: %s' % (color_mode,))\n\u001b[0;32m    169\u001b[0m   \u001b[0minterpolation\u001b[0m \u001b[1;33m=\u001b[0m \u001b[0mimage_preprocessing\u001b[0m\u001b[1;33m.\u001b[0m\u001b[0mget_interpolation\u001b[0m\u001b[1;33m(\u001b[0m\u001b[0minterpolation\u001b[0m\u001b[1;33m)\u001b[0m\u001b[1;33m\u001b[0m\u001b[1;33m\u001b[0m\u001b[0m\n\u001b[1;32m--> 170\u001b[1;33m   dataset_utils.check_validation_split_arg(\n\u001b[0m\u001b[0;32m    171\u001b[0m       validation_split, subset, shuffle, seed)\n\u001b[0;32m    172\u001b[0m \u001b[1;33m\u001b[0m\u001b[0m\n",
      "\u001b[1;32m~\\anaconda3\\lib\\site-packages\\tensorflow\\python\\keras\\preprocessing\\dataset_utils.py\u001b[0m in \u001b[0;36mcheck_validation_split_arg\u001b[1;34m(validation_split, subset, shuffle, seed)\u001b[0m\n\u001b[0;32m    231\u001b[0m                      'or \"validation\", received: %s' % (subset,))\n\u001b[0;32m    232\u001b[0m   \u001b[1;32mif\u001b[0m \u001b[0mvalidation_split\u001b[0m \u001b[1;32mand\u001b[0m \u001b[0mshuffle\u001b[0m \u001b[1;32mand\u001b[0m \u001b[0mseed\u001b[0m \u001b[1;32mis\u001b[0m \u001b[1;32mNone\u001b[0m\u001b[1;33m:\u001b[0m\u001b[1;33m\u001b[0m\u001b[1;33m\u001b[0m\u001b[0m\n\u001b[1;32m--> 233\u001b[1;33m     raise ValueError(\n\u001b[0m\u001b[0;32m    234\u001b[0m         \u001b[1;34m'If using `validation_split` and shuffling the data, you must provide '\u001b[0m\u001b[1;33m\u001b[0m\u001b[1;33m\u001b[0m\u001b[0m\n\u001b[0;32m    235\u001b[0m         \u001b[1;34m'a `seed` argument, to make sure that there is no overlap between the '\u001b[0m\u001b[1;33m\u001b[0m\u001b[1;33m\u001b[0m\u001b[0m\n",
      "\u001b[1;31mValueError\u001b[0m: If using `validation_split` and shuffling the data, you must provide a `seed` argument, to make sure that there is no overlap between the training and validation subset."
     ]
    }
   ],
   "source": [
    "\n",
    "file= 'metadata.csv'\n",
    "dt=pd.read_csv(file, sep=\",\")\n",
    "\n",
    "img_fit, img_val= image_dataset_from_directory(directory=\"images\", image_size=(256,256), subset=\"training\", validation_split=0.2)\n",
    "\n",
    "dt.head(1)"
   ]
  },
  {
   "cell_type": "code",
   "execution_count": 17,
   "metadata": {},
   "outputs": [
    {
     "data": {
      "text/plain": [
       "patientid                   0\n",
       "offset                     96\n",
       "sex                        43\n",
       "age                        54\n",
       "finding                     0\n",
       "survival                  256\n",
       "intubated                 300\n",
       "intubation_present        295\n",
       "went_icu                  337\n",
       "in_icu                    365\n",
       "needed_supplemental_O2    360\n",
       "extubated                 349\n",
       "temperature               337\n",
       "pO2_saturation            328\n",
       "leukocyte_count           361\n",
       "neutrophil_count          370\n",
       "lymphocyte_count          362\n",
       "view                        0\n",
       "modality                    0\n",
       "date                       81\n",
       "location                  118\n",
       "folder                      0\n",
       "filename                    0\n",
       "doi                       268\n",
       "url                         0\n",
       "license                   166\n",
       "clinical_notes             10\n",
       "other_notes               138\n",
       "Unnamed: 28               368\n",
       "dtype: int64"
      ]
     },
     "execution_count": 17,
     "metadata": {},
     "output_type": "execute_result"
    }
   ],
   "source": [
    "dt.isnull().sum()\n"
   ]
  },
  {
   "cell_type": "markdown",
   "metadata": {},
   "source": [
    "### Preprocesamiento"
   ]
  },
  {
   "cell_type": "code",
   "execution_count": 24,
   "metadata": {},
   "outputs": [
    {
     "name": "stdout",
     "output_type": "stream",
     "text": [
      "Co:  296\n",
      "Otro:  76\n",
      "Proporcion de Covid:  79.56989247311827\n"
     ]
    },
    {
     "data": {
      "text/html": [
       "<div>\n",
       "<style scoped>\n",
       "    .dataframe tbody tr th:only-of-type {\n",
       "        vertical-align: middle;\n",
       "    }\n",
       "\n",
       "    .dataframe tbody tr th {\n",
       "        vertical-align: top;\n",
       "    }\n",
       "\n",
       "    .dataframe thead th {\n",
       "        text-align: right;\n",
       "    }\n",
       "</style>\n",
       "<table border=\"1\" class=\"dataframe\">\n",
       "  <thead>\n",
       "    <tr style=\"text-align: right;\">\n",
       "      <th></th>\n",
       "      <th>date</th>\n",
       "      <th>location</th>\n",
       "      <th>folder</th>\n",
       "      <th>filename</th>\n",
       "      <th>doi</th>\n",
       "      <th>url</th>\n",
       "      <th>license</th>\n",
       "      <th>clinical_notes</th>\n",
       "      <th>other_notes</th>\n",
       "      <th>Unnamed: 28</th>\n",
       "    </tr>\n",
       "  </thead>\n",
       "  <tbody>\n",
       "    <tr>\n",
       "      <th>0</th>\n",
       "      <td>January 22, 2020</td>\n",
       "      <td>Cho Ray Hospital, Ho Chi Minh City, Vietnam</td>\n",
       "      <td>images</td>\n",
       "      <td>auntminnie-a-2020_01_28_23_51_6665_2020_01_28_...</td>\n",
       "      <td>10.1056/nejmc2001272</td>\n",
       "      <td>https://www.nejm.org/doi/full/10.1056/NEJMc200...</td>\n",
       "      <td>NaN</td>\n",
       "      <td>On January 22, 2020, a 65-year-old man with a ...</td>\n",
       "      <td>NaN</td>\n",
       "      <td>NaN</td>\n",
       "    </tr>\n",
       "    <tr>\n",
       "      <th>1</th>\n",
       "      <td>January 25, 2020</td>\n",
       "      <td>Cho Ray Hospital, Ho Chi Minh City, Vietnam</td>\n",
       "      <td>images</td>\n",
       "      <td>auntminnie-b-2020_01_28_23_51_6665_2020_01_28_...</td>\n",
       "      <td>10.1056/nejmc2001272</td>\n",
       "      <td>https://www.nejm.org/doi/full/10.1056/NEJMc200...</td>\n",
       "      <td>NaN</td>\n",
       "      <td>On January 22, 2020, a 65-year-old man with a ...</td>\n",
       "      <td>NaN</td>\n",
       "      <td>NaN</td>\n",
       "    </tr>\n",
       "    <tr>\n",
       "      <th>2</th>\n",
       "      <td>January 27, 2020</td>\n",
       "      <td>Cho Ray Hospital, Ho Chi Minh City, Vietnam</td>\n",
       "      <td>images</td>\n",
       "      <td>auntminnie-c-2020_01_28_23_51_6665_2020_01_28_...</td>\n",
       "      <td>10.1056/nejmc2001272</td>\n",
       "      <td>https://www.nejm.org/doi/full/10.1056/NEJMc200...</td>\n",
       "      <td>NaN</td>\n",
       "      <td>On January 22, 2020, a 65-year-old man with a ...</td>\n",
       "      <td>NaN</td>\n",
       "      <td>NaN</td>\n",
       "    </tr>\n",
       "    <tr>\n",
       "      <th>3</th>\n",
       "      <td>January 28, 2020</td>\n",
       "      <td>Cho Ray Hospital, Ho Chi Minh City, Vietnam</td>\n",
       "      <td>images</td>\n",
       "      <td>auntminnie-d-2020_01_28_23_51_6665_2020_01_28_...</td>\n",
       "      <td>10.1056/nejmc2001272</td>\n",
       "      <td>https://www.nejm.org/doi/full/10.1056/NEJMc200...</td>\n",
       "      <td>NaN</td>\n",
       "      <td>On January 22, 2020, a 65-year-old man with a ...</td>\n",
       "      <td>NaN</td>\n",
       "      <td>NaN</td>\n",
       "    </tr>\n",
       "    <tr>\n",
       "      <th>4</th>\n",
       "      <td>January 25, 2020</td>\n",
       "      <td>Changhua Christian Hospital, Changhua City, Ta...</td>\n",
       "      <td>images</td>\n",
       "      <td>nejmc2001573_f1a.jpeg</td>\n",
       "      <td>10.1056/NEJMc2001573</td>\n",
       "      <td>https://www.nejm.org/doi/full/10.1056/NEJMc200...</td>\n",
       "      <td>NaN</td>\n",
       "      <td>diffuse infiltrates in the bilateral lower lungs</td>\n",
       "      <td>NaN</td>\n",
       "      <td>NaN</td>\n",
       "    </tr>\n",
       "  </tbody>\n",
       "</table>\n",
       "</div>"
      ],
      "text/plain": [
       "               date                                           location  \\\n",
       "0  January 22, 2020        Cho Ray Hospital, Ho Chi Minh City, Vietnam   \n",
       "1  January 25, 2020        Cho Ray Hospital, Ho Chi Minh City, Vietnam   \n",
       "2  January 27, 2020        Cho Ray Hospital, Ho Chi Minh City, Vietnam   \n",
       "3  January 28, 2020        Cho Ray Hospital, Ho Chi Minh City, Vietnam   \n",
       "4  January 25, 2020  Changhua Christian Hospital, Changhua City, Ta...   \n",
       "\n",
       "   folder                                           filename  \\\n",
       "0  images  auntminnie-a-2020_01_28_23_51_6665_2020_01_28_...   \n",
       "1  images  auntminnie-b-2020_01_28_23_51_6665_2020_01_28_...   \n",
       "2  images  auntminnie-c-2020_01_28_23_51_6665_2020_01_28_...   \n",
       "3  images  auntminnie-d-2020_01_28_23_51_6665_2020_01_28_...   \n",
       "4  images                              nejmc2001573_f1a.jpeg   \n",
       "\n",
       "                    doi                                                url  \\\n",
       "0  10.1056/nejmc2001272  https://www.nejm.org/doi/full/10.1056/NEJMc200...   \n",
       "1  10.1056/nejmc2001272  https://www.nejm.org/doi/full/10.1056/NEJMc200...   \n",
       "2  10.1056/nejmc2001272  https://www.nejm.org/doi/full/10.1056/NEJMc200...   \n",
       "3  10.1056/nejmc2001272  https://www.nejm.org/doi/full/10.1056/NEJMc200...   \n",
       "4  10.1056/NEJMc2001573  https://www.nejm.org/doi/full/10.1056/NEJMc200...   \n",
       "\n",
       "  license                                     clinical_notes other_notes  \\\n",
       "0     NaN  On January 22, 2020, a 65-year-old man with a ...         NaN   \n",
       "1     NaN  On January 22, 2020, a 65-year-old man with a ...         NaN   \n",
       "2     NaN  On January 22, 2020, a 65-year-old man with a ...         NaN   \n",
       "3     NaN  On January 22, 2020, a 65-year-old man with a ...         NaN   \n",
       "4     NaN   diffuse infiltrates in the bilateral lower lungs         NaN   \n",
       "\n",
       "  Unnamed: 28  \n",
       "0         NaN  \n",
       "1         NaN  \n",
       "2         NaN  \n",
       "3         NaN  \n",
       "4         NaN  "
      ]
     },
     "execution_count": 24,
     "metadata": {},
     "output_type": "execute_result"
    }
   ],
   "source": [
    "covid=[]\n",
    "otro=[]\n",
    "for i,r in dt.iterrows():\n",
    "    if r['finding'] == 'COVID-19':\n",
    "        covid.append(r)\n",
    "    else:\n",
    "        otro.append(r)\n",
    "        \n",
    "print(\"Co: \",len(covid) )\n",
    "print(\"Otro: \",len(otro) )\n",
    "print(\"Proporcion de Covid: \", len(covid)/(len(covid)+len(otro))*100)\n",
    "    \n",
    "datos= dt.iloc[:,1:19]\n",
    "extra=dt.iloc[:,19:]\n",
    "extra.head(5)"
   ]
  },
  {
   "cell_type": "markdown",
   "metadata": {},
   "source": [
    "##### Separacion de datos"
   ]
  },
  {
   "cell_type": "code",
   "execution_count": null,
   "metadata": {},
   "outputs": [],
   "source": [
    "#ENTRENAMIENTO, VALIDACION\n",
    "x_train, x_resto, y_train, y_resto= train_test_split(datos[209:], esperada[209:], test_size=0.2)\n",
    "x_test, x_pred, y_test, y_pred = train_test_split(x_resto, y_resto, test_size=0.5)\n",
    "print(len(x_train))\n",
    "\n",
    "\n",
    "x_in_train, x_in_resto,y_in_train,y_in_resto = train_test_split(datos[:209], esperada[:209], test_size=0.2)\n",
    "x_in_test, x_in_pred,y_in_test,y_in_pred = train_test_split(x_in_resto, y_in_resto, test_size=0.2)\n",
    "\n",
    "\n",
    "\n",
    "x_train=pd.concat([x_in_train, x_train], axis=0)\n",
    "x_test=pd.concat([x_in_test, x_test], axis=0)\n",
    "x_pred=pd.concat([x_in_pred, x_pred], axis=0)\n",
    "\n",
    "y_train=pd.concat([y_in_train, y_train], axis=0)\n",
    "y_test=pd.concat([y_in_test, y_test], axis=0)\n",
    "y_pred=pd.concat([y_in_pred, y_pred], axis=0)"
   ]
  }
 ],
 "metadata": {
  "kernelspec": {
   "display_name": "Python 3",
   "language": "python",
   "name": "python3"
  },
  "language_info": {
   "codemirror_mode": {
    "name": "ipython",
    "version": 3
   },
   "file_extension": ".py",
   "mimetype": "text/x-python",
   "name": "python",
   "nbconvert_exporter": "python",
   "pygments_lexer": "ipython3",
   "version": "3.8.5"
  }
 },
 "nbformat": 4,
 "nbformat_minor": 4
}
