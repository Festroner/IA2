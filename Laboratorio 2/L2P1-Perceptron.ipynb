{
 "cells": [
  {
   "cell_type": "code",
   "execution_count": 1,
   "metadata": {},
   "outputs": [],
   "source": [
    "import pandas as pd\n",
    "import numpy as np\n",
    "import random\n",
    "\n",
    "AND=[0,0,0,1]\n",
    "XOR=[0,1,1,0]\n",
    "entradas=np.array([[0,0],[0,1],[1,0],[1,1]])\n",
    "\n"
   ]
  },
  {
   "cell_type": "code",
   "execution_count": 2,
   "metadata": {},
   "outputs": [],
   "source": [
    "learning=0.1\n",
    "umbral=0.15\n"
   ]
  },
  {
   "cell_type": "code",
   "execution_count": 3,
   "metadata": {},
   "outputs": [
    {
     "name": "stdout",
     "output_type": "stream",
     "text": [
      "Iteraciones necesarias:  5\n",
      "Salidas obtenidas:  [0, 0, 0, 1]\n"
     ]
    }
   ],
   "source": [
    "pesos=[]\n",
    "pesos.append(random.uniform(-1, 1))\n",
    "pesos.append(random.uniform(-1, 1))\n",
    "\n",
    "learning=0.13\n",
    "umbral=0.2\n",
    "\n",
    "salidas=AND\n",
    "\n",
    "#en este vector guardaremos todas las salidas de la neurona para saber si hemos entrao en un bucle de resultados\n",
    "resultadosa=[0,0,0,0]\n",
    "resultadosb=[]\n",
    "y=i=e=0\n",
    "error=True\n",
    "v=0\n",
    "\n",
    "while error == True:\n",
    "    \n",
    "    \n",
    "    error=False\n",
    "    for i in range(4):\n",
    "        \n",
    "        #CALCULAMOS LA ENTRADA A LA NEURONA\n",
    "        s= pesos[0]*entradas[i][0] + pesos[1]*entradas[i][1]\n",
    "        \n",
    "        #VEMOS CUAL ES LA SALIDA DE ESTA\n",
    "        if s >= umbral:\n",
    "            y = 1\n",
    "        else:\n",
    "            y = 0\n",
    "        \n",
    "        e = salidas[i] - y #calculamos el error\n",
    "        \n",
    "        #if v%50==0:\n",
    "        #print(\"    Salida: \", y, \"   Error: \",e)\n",
    "        \n",
    "        #si hay error aplicamos el aprendizaje\n",
    "        if e != 0:\n",
    "            pesos = pesos + learning*e*entradas[i]\n",
    "            error=True\n",
    "        resultadosa[i]=y\n",
    "    \n",
    "    if resultadosa==salidas:\n",
    "        print(\"Iteraciones necesarias: \", v)\n",
    "        print(\"Salidas obtenidas: \", resultadosa)\n",
    "    \n",
    "    if salidas == XOR and v>20000:\n",
    "        print(\"Despues de 20 mil vueltas no ha sido capaz de separar con un hyperplano las salidas deseadas\")\n",
    "        break\n",
    "    v+=1\n",
    "    #print(\"Resultados A: \", resultadosa)\n",
    "    \n",
    "    "
   ]
  },
  {
   "cell_type": "code",
   "execution_count": null,
   "metadata": {},
   "outputs": [],
   "source": []
  }
 ],
 "metadata": {
  "kernelspec": {
   "display_name": "Python 3",
   "language": "python",
   "name": "python3"
  },
  "language_info": {
   "codemirror_mode": {
    "name": "ipython",
    "version": 3
   },
   "file_extension": ".py",
   "mimetype": "text/x-python",
   "name": "python",
   "nbconvert_exporter": "python",
   "pygments_lexer": "ipython3",
   "version": "3.8.5"
  }
 },
 "nbformat": 4,
 "nbformat_minor": 4
}
